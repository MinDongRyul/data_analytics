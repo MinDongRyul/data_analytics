{
 "cells": [
  {
   "cell_type": "code",
   "execution_count": 1,
   "id": "c64790b7",
   "metadata": {},
   "outputs": [],
   "source": [
    "import matplotlib.pyplot as plt"
   ]
  },
  {
   "cell_type": "code",
   "execution_count": 2,
   "id": "5d708721",
   "metadata": {},
   "outputs": [],
   "source": [
    "plt.rcParams['font.family'] = 'Malgun Gothic'\n",
    "plt.rcParams['axes.unicode_minus'] = False"
   ]
  },
  {
   "cell_type": "markdown",
   "id": "48ccac65",
   "metadata": {},
   "source": [
    "### 1) 막대차트(기본)"
   ]
  },
  {
   "cell_type": "code",
   "execution_count": 9,
   "id": "04c5cc10",
   "metadata": {},
   "outputs": [
    {
     "data": {
      "text/plain": [
       "<BarContainer object of 3 artists>"
      ]
     },
     "execution_count": 9,
     "metadata": {},
     "output_type": "execute_result"
    },
    {
     "data": {
      "image/png": "[encoded data removed]",
      "text/plain": [
       "<Figure size 432x288 with 1 Axes>"
      ]
     },
     "metadata": {
      "needs_background": "light"
     },
     "output_type": "display_data"
    }
   ],
   "source": [
    "lables = ['강백호','서태웅','정대만']\n",
    "values = [175,187,184]\n",
    "\n",
    "plt.bar(labels,values)"
   ]
  },
  {
   "cell_type": "markdown",
   "id": "72af0880",
   "metadata": {},
   "source": [
    "><b>색상</b>"
   ]
  },
  {
   "cell_type": "code",
   "execution_count": 10,
   "id": "72ff1a16",
   "metadata": {},
   "outputs": [
    {
     "data": {
      "text/plain": [
       "<BarContainer object of 3 artists>"
      ]
     },
     "execution_count": 10,
     "metadata": {},
     "output_type": "execute_result"
    },
    {
     "data": {
      "image/png": "[encoded data removed]",
      "text/plain": [
       "<Figure size 432x288 with 1 Axes>"
      ]
     },
     "metadata": {
      "needs_background": "light"
     },
     "output_type": "display_data"
    }
   ],
   "source": [
    "plt.bar(lables,values, color='r')"
   ]
  },
  {
   "cell_type": "code",
   "execution_count": 11,
   "id": "07cd2b12",
   "metadata": {},
   "outputs": [
    {
     "data": {
      "text/plain": [
       "<BarContainer object of 3 artists>"
      ]
     },
     "execution_count": 11,
     "metadata": {},
     "output_type": "execute_result"
    },
    {
     "data": {
      "image/png": "[encoded data removed]",
      "text/plain": [
       "<Figure size 432x288 with 1 Axes>"
      ]
     },
     "metadata": {
      "needs_background": "light"
     },
     "output_type": "display_data"
    }
   ],
   "source": [
    "colors=['r','g','b']\n",
    "\n",
    "plt.bar(lables,values, color=colors)"
   ]
  },
  {
   "cell_type": "code",
   "execution_count": 12,
   "id": "54017628",
   "metadata": {},
   "outputs": [
    {
     "data": {
      "text/plain": [
       "<BarContainer object of 3 artists>"
      ]
     },
     "execution_count": 12,
     "metadata": {},
     "output_type": "execute_result"
    },
    {
     "data": {
      "image/png": "[encoded data removed]",
      "text/plain": [
       "<Figure size 432x288 with 1 Axes>"
      ]
     },
     "metadata": {
      "needs_background": "light"
     },
     "output_type": "display_data"
    }
   ],
   "source": [
    "colors=['r','g','b']\n",
    "\n",
    "plt.bar(labels,values, color=colors, )"
   ]
  },
  {
   "cell_type": "markdown",
   "id": "ee51511e",
   "metadata": {},
   "source": [
    "><b>축 간격 조정</b>"
   ]
  },
  {
   "cell_type": "code",
   "execution_count": 13,
   "id": "f5112d69",
   "metadata": {},
   "outputs": [
    {
     "data": {
      "text/plain": [
       "(175.0, 190.0)"
      ]
     },
     "execution_count": 13,
     "metadata": {},
     "output_type": "execute_result"
    },
    {
     "data": {
      "image/png": "[encoded data removed]",
      "text/plain": [
       "<Figure size 432x288 with 1 Axes>"
      ]
     },
     "metadata": {
      "needs_background": "light"
     },
     "output_type": "display_data"
    }
   ],
   "source": [
    "lables = ['강백호','서태웅','정대만']\n",
    "values = [175,187,184]\n",
    "\n",
    "plt.bar(lables, values)\n",
    "plt.ylim(175,190)"
   ]
  },
  {
   "cell_type": "markdown",
   "id": "a9eab50f",
   "metadata": {},
   "source": [
    "><b>막대 너비 조정</b>"
   ]
  },
  {
   "cell_type": "code",
   "execution_count": null,
   "id": "d9975947",
   "metadata": {},
   "outputs": [],
   "source": []
  },
  {
   "cell_type": "markdown",
   "id": "a2d1da72",
   "metadata": {},
   "source": [
    "><b>축 레이블 rotation 설정</b>"
   ]
  },
  {
   "cell_type": "code",
   "execution_count": null,
   "id": "76a70b8a",
   "metadata": {},
   "outputs": [],
   "source": []
  },
  {
   "cell_type": "markdown",
   "id": "92c40883",
   "metadata": {},
   "source": [
    "><b>막대 </b>"
   ]
  },
  {
   "cell_type": "code",
   "execution_count": null,
   "id": "ec8cc9cf",
   "metadata": {},
   "outputs": [],
   "source": []
  },
  {
   "cell_type": "markdown",
   "id": "938fe322",
   "metadata": {},
   "source": [
    "### 2) 막대차트(심화)"
   ]
  },
  {
   "cell_type": "markdown",
   "id": "aa5dd4f3",
   "metadata": {},
   "source": [
    "**수평막대**"
   ]
  },
  {
   "cell_type": "code",
   "execution_count": null,
   "id": "9b62bc68",
   "metadata": {},
   "outputs": [],
   "source": []
  },
  {
   "cell_type": "code",
   "execution_count": null,
   "id": "de80614a",
   "metadata": {},
   "outputs": [],
   "source": []
  },
  {
   "cell_type": "markdown",
   "id": "b9db13a5",
   "metadata": {},
   "source": [
    "**막대 패턴**(https://matplotlib.org/stable/gallery/shapes_and_collections/hatch_style_reference.html)"
   ]
  },
  {
   "cell_type": "code",
   "execution_count": null,
   "id": "5415b4d4",
   "metadata": {},
   "outputs": [],
   "source": []
  },
  {
   "cell_type": "code",
   "execution_count": null,
   "id": "d6e0205c",
   "metadata": {},
   "outputs": [],
   "source": []
  },
  {
   "cell_type": "code",
   "execution_count": null,
   "id": "6b3c2762",
   "metadata": {},
   "outputs": [],
   "source": []
  }
 ],
 "metadata": {
  "kernelspec": {
   "display_name": "Python 3 (ipykernel)",
   "language": "python",
   "name": "python3"
  },
  "language_info": {
   "codemirror_mode": {
    "name": "ipython",
    "version": 3
   },
   "file_extension": ".py",
   "mimetype": "text/x-python",
   "name": "python",
   "nbconvert_exporter": "python",
   "pygments_lexer": "ipython3",
   "version": "3.9.12"
  }
 },
 "nbformat": 4,
 "nbformat_minor": 5
}
