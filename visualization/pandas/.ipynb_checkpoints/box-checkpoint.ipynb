{
 "cells": [
  {
   "cell_type": "markdown",
   "id": "156e39e2",
   "metadata": {},
   "source": [
    "### box plot(상자 그림)"
   ]
  },
  {
   "cell_type": "markdown",
   "id": "f5d6c25d",
   "metadata": {},
   "source": [
    "- 백분위 수 : 데이터를 백등분 한 것\n",
    "- 사분위 수 : 데이터를 4등분 한 것\n",
    "- 중위수 : 데이터의 정 가운데 순위에 해당하는 값.(관측치의 절반은 크거나 같고 나머지 - 절반은 작거나 같다.)\n",
    "- 제 3사분위 수 (Q3) : 중앙값 기준으로 상위 50% 중의 중앙값, 전체 데이터 중 상위 25%   에 해당하는 값\n",
    "- 제 1사분위 수 (Q1) : 중앙값 기준으로 하위 50% 중의 중앙값, 전체 데이터 중 하위 25     에 해당하는 값\n",
    "- 사분위 범위 수(IQR) : 데이터의 중간 50% (Q3 - Q1)"
   ]
  },
  {
   "cell_type": "code",
   "execution_count": 1,
   "id": "1285a0ee",
   "metadata": {},
   "outputs": [],
   "source": [
    "import pandas as pd\n",
    "import matplotlib.pyplot as plt\n",
    "import numpy as np\n",
    "\n",
    "plt.rcParams['font.family'] = 'Malgun Gothic'\n",
    "plt.rcParams['axes.unicode_minus'] = False"
   ]
  },
  {
   "cell_type": "code",
   "execution_count": null,
   "id": "def2a511",
   "metadata": {},
   "outputs": [],
   "source": []
  },
  {
   "cell_type": "code",
   "execution_count": 3,
   "id": "6d2026d2",
   "metadata": {},
   "outputs": [
    {
     "data": {
      "text/html": [
       "<div>\n",
       "<style scoped>\n",
       "    .dataframe tbody tr th:only-of-type {\n",
       "        vertical-align: middle;\n",
       "    }\n",
       "\n",
       "    .dataframe tbody tr th {\n",
       "        vertical-align: top;\n",
       "    }\n",
       "\n",
       "    .dataframe thead th {\n",
       "        text-align: right;\n",
       "    }\n",
       "</style>\n",
       "<table border=\"1\" class=\"dataframe\">\n",
       "  <thead>\n",
       "    <tr style=\"text-align: right;\">\n",
       "      <th></th>\n",
       "      <th>A</th>\n",
       "      <th>B</th>\n",
       "      <th>C</th>\n",
       "      <th>D</th>\n",
       "      <th>E</th>\n",
       "    </tr>\n",
       "  </thead>\n",
       "  <tbody>\n",
       "    <tr>\n",
       "      <th>0</th>\n",
       "      <td>0.786996</td>\n",
       "      <td>0.473013</td>\n",
       "      <td>0.491180</td>\n",
       "      <td>0.270643</td>\n",
       "      <td>0.727803</td>\n",
       "    </tr>\n",
       "    <tr>\n",
       "      <th>1</th>\n",
       "      <td>0.431931</td>\n",
       "      <td>0.349883</td>\n",
       "      <td>0.865523</td>\n",
       "      <td>0.209707</td>\n",
       "      <td>0.897450</td>\n",
       "    </tr>\n",
       "    <tr>\n",
       "      <th>2</th>\n",
       "      <td>0.747637</td>\n",
       "      <td>0.778264</td>\n",
       "      <td>0.918231</td>\n",
       "      <td>0.908481</td>\n",
       "      <td>0.952894</td>\n",
       "    </tr>\n",
       "    <tr>\n",
       "      <th>3</th>\n",
       "      <td>0.361185</td>\n",
       "      <td>0.144626</td>\n",
       "      <td>0.413071</td>\n",
       "      <td>0.979685</td>\n",
       "      <td>0.974178</td>\n",
       "    </tr>\n",
       "    <tr>\n",
       "      <th>4</th>\n",
       "      <td>0.563063</td>\n",
       "      <td>0.214949</td>\n",
       "      <td>0.499668</td>\n",
       "      <td>0.729533</td>\n",
       "      <td>0.345335</td>\n",
       "    </tr>\n",
       "    <tr>\n",
       "      <th>5</th>\n",
       "      <td>0.777512</td>\n",
       "      <td>0.431489</td>\n",
       "      <td>0.896189</td>\n",
       "      <td>0.845315</td>\n",
       "      <td>0.192704</td>\n",
       "    </tr>\n",
       "    <tr>\n",
       "      <th>6</th>\n",
       "      <td>0.670812</td>\n",
       "      <td>0.946578</td>\n",
       "      <td>0.163337</td>\n",
       "      <td>0.609876</td>\n",
       "      <td>0.138174</td>\n",
       "    </tr>\n",
       "    <tr>\n",
       "      <th>7</th>\n",
       "      <td>0.966640</td>\n",
       "      <td>0.611538</td>\n",
       "      <td>0.577724</td>\n",
       "      <td>0.446610</td>\n",
       "      <td>0.996321</td>\n",
       "    </tr>\n",
       "    <tr>\n",
       "      <th>8</th>\n",
       "      <td>0.217215</td>\n",
       "      <td>0.127698</td>\n",
       "      <td>0.154532</td>\n",
       "      <td>0.509011</td>\n",
       "      <td>0.948496</td>\n",
       "    </tr>\n",
       "    <tr>\n",
       "      <th>9</th>\n",
       "      <td>0.320958</td>\n",
       "      <td>0.975241</td>\n",
       "      <td>0.255025</td>\n",
       "      <td>0.087584</td>\n",
       "      <td>0.178157</td>\n",
       "    </tr>\n",
       "  </tbody>\n",
       "</table>\n",
       "</div>"
      ],
      "text/plain": [
       "          A         B         C         D         E\n",
       "0  0.786996  0.473013  0.491180  0.270643  0.727803\n",
       "1  0.431931  0.349883  0.865523  0.209707  0.897450\n",
       "2  0.747637  0.778264  0.918231  0.908481  0.952894\n",
       "3  0.361185  0.144626  0.413071  0.979685  0.974178\n",
       "4  0.563063  0.214949  0.499668  0.729533  0.345335\n",
       "5  0.777512  0.431489  0.896189  0.845315  0.192704\n",
       "6  0.670812  0.946578  0.163337  0.609876  0.138174\n",
       "7  0.966640  0.611538  0.577724  0.446610  0.996321\n",
       "8  0.217215  0.127698  0.154532  0.509011  0.948496\n",
       "9  0.320958  0.975241  0.255025  0.087584  0.178157"
      ]
     },
     "execution_count": 3,
     "metadata": {},
     "output_type": "execute_result"
    }
   ],
   "source": [
    "df = pd.DataFrame(np.random.rand(10,5), columns=list('ABCDE'))\n",
    "df"
   ]
  },
  {
   "cell_type": "code",
   "execution_count": 4,
   "id": "857d4bdd",
   "metadata": {},
   "outputs": [
    {
     "data": {
      "text/plain": [
       "<AxesSubplot:>"
      ]
     },
     "execution_count": 4,
     "metadata": {},
     "output_type": "execute_result"
    },
    {
     "data": {
      "image/png": "[encoded data removed]",
      "text/plain": [
       "<Figure size 432x288 with 1 Axes>"
      ]
     },
     "metadata": {
      "needs_background": "light"
     },
     "output_type": "display_data"
    }
   ],
   "source": [
    "df.plot.box()"
   ]
  },
  {
   "cell_type": "code",
   "execution_count": 5,
   "id": "f0019223",
   "metadata": {
    "scrolled": true
   },
   "outputs": [
    {
     "data": {
      "text/html": [
       "<div>\n",
       "<style scoped>\n",
       "    .dataframe tbody tr th:only-of-type {\n",
       "        vertical-align: middle;\n",
       "    }\n",
       "\n",
       "    .dataframe tbody tr th {\n",
       "        vertical-align: top;\n",
       "    }\n",
       "\n",
       "    .dataframe thead th {\n",
       "        text-align: right;\n",
       "    }\n",
       "</style>\n",
       "<table border=\"1\" class=\"dataframe\">\n",
       "  <thead>\n",
       "    <tr style=\"text-align: right;\">\n",
       "      <th></th>\n",
       "      <th>A</th>\n",
       "      <th>B</th>\n",
       "      <th>C</th>\n",
       "      <th>D</th>\n",
       "      <th>E</th>\n",
       "    </tr>\n",
       "  </thead>\n",
       "  <tbody>\n",
       "    <tr>\n",
       "      <th>count</th>\n",
       "      <td>10.000000</td>\n",
       "      <td>10.000000</td>\n",
       "      <td>10.000000</td>\n",
       "      <td>10.000000</td>\n",
       "      <td>10.000000</td>\n",
       "    </tr>\n",
       "    <tr>\n",
       "      <th>mean</th>\n",
       "      <td>0.584395</td>\n",
       "      <td>0.505328</td>\n",
       "      <td>0.523448</td>\n",
       "      <td>0.559644</td>\n",
       "      <td>0.635151</td>\n",
       "    </tr>\n",
       "    <tr>\n",
       "      <th>std</th>\n",
       "      <td>0.244111</td>\n",
       "      <td>0.314286</td>\n",
       "      <td>0.291809</td>\n",
       "      <td>0.308270</td>\n",
       "      <td>0.373794</td>\n",
       "    </tr>\n",
       "    <tr>\n",
       "      <th>min</th>\n",
       "      <td>0.217215</td>\n",
       "      <td>0.127698</td>\n",
       "      <td>0.154532</td>\n",
       "      <td>0.087584</td>\n",
       "      <td>0.138174</td>\n",
       "    </tr>\n",
       "    <tr>\n",
       "      <th>25%</th>\n",
       "      <td>0.378872</td>\n",
       "      <td>0.248683</td>\n",
       "      <td>0.294537</td>\n",
       "      <td>0.314635</td>\n",
       "      <td>0.230862</td>\n",
       "    </tr>\n",
       "    <tr>\n",
       "      <th>50%</th>\n",
       "      <td>0.616938</td>\n",
       "      <td>0.452251</td>\n",
       "      <td>0.495424</td>\n",
       "      <td>0.559443</td>\n",
       "      <td>0.812626</td>\n",
       "    </tr>\n",
       "    <tr>\n",
       "      <th>75%</th>\n",
       "      <td>0.770044</td>\n",
       "      <td>0.736582</td>\n",
       "      <td>0.793573</td>\n",
       "      <td>0.816369</td>\n",
       "      <td>0.951795</td>\n",
       "    </tr>\n",
       "    <tr>\n",
       "      <th>max</th>\n",
       "      <td>0.966640</td>\n",
       "      <td>0.975241</td>\n",
       "      <td>0.918231</td>\n",
       "      <td>0.979685</td>\n",
       "      <td>0.996321</td>\n",
       "    </tr>\n",
       "  </tbody>\n",
       "</table>\n",
       "</div>"
      ],
      "text/plain": [
       "               A          B          C          D          E\n",
       "count  10.000000  10.000000  10.000000  10.000000  10.000000\n",
       "mean    0.584395   0.505328   0.523448   0.559644   0.635151\n",
       "std     0.244111   0.314286   0.291809   0.308270   0.373794\n",
       "min     0.217215   0.127698   0.154532   0.087584   0.138174\n",
       "25%     0.378872   0.248683   0.294537   0.314635   0.230862\n",
       "50%     0.616938   0.452251   0.495424   0.559443   0.812626\n",
       "75%     0.770044   0.736582   0.793573   0.816369   0.951795\n",
       "max     0.966640   0.975241   0.918231   0.979685   0.996321"
      ]
     },
     "execution_count": 5,
     "metadata": {},
     "output_type": "execute_result"
    }
   ],
   "source": [
    "df.describe()"
   ]
  },
  {
   "cell_type": "code",
   "execution_count": null,
   "id": "7cf932d3",
   "metadata": {},
   "outputs": [],
   "source": []
  },
  {
   "cell_type": "code",
   "execution_count": 6,
   "id": "4b52439b",
   "metadata": {},
   "outputs": [
    {
     "data": {
      "text/plain": [
       "<AxesSubplot:>"
      ]
     },
     "execution_count": 6,
     "metadata": {},
     "output_type": "execute_result"
    },
    {
     "data": {
      "image/png": "[encoded data removed]",
      "text/plain": [
       "<Figure size 432x288 with 1 Axes>"
      ]
     },
     "metadata": {
      "needs_background": "light"
     },
     "output_type": "display_data"
    }
   ],
   "source": [
    "color = {'boxes':'DarkGreen','whiskers':'DarkOrange','medians':'DarkBlue','caps':'Gray'}\n",
    "\n",
    "df.plot.box(color=color, sym='r+')"
   ]
  },
  {
   "cell_type": "code",
   "execution_count": 7,
   "id": "ac87d96d",
   "metadata": {},
   "outputs": [
    {
     "data": {
      "text/plain": [
       "<AxesSubplot:>"
      ]
     },
     "execution_count": 7,
     "metadata": {},
     "output_type": "execute_result"
    },
    {
     "data": {
      "image/png": "[encoded data removed]",
      "text/plain": [
       "<Figure size 432x288 with 1 Axes>"
      ]
     },
     "metadata": {
      "needs_background": "light"
     },
     "output_type": "display_data"
    }
   ],
   "source": [
    "df.plot.box(color=color, sym='r+', vert = False)"
   ]
  },
  {
   "cell_type": "code",
   "execution_count": null,
   "id": "6c3154f0",
   "metadata": {},
   "outputs": [],
   "source": []
  },
  {
   "cell_type": "code",
   "execution_count": null,
   "id": "cd746298",
   "metadata": {},
   "outputs": [],
   "source": []
  },
  {
   "cell_type": "code",
   "execution_count": null,
   "id": "dda0eab6",
   "metadata": {},
   "outputs": [],
   "source": []
  }
 ],
 "metadata": {
  "kernelspec": {
   "display_name": "Python 3 (ipykernel)",
   "language": "python",
   "name": "python3"
  },
  "language_info": {
   "codemirror_mode": {
    "name": "ipython",
    "version": 3
   },
   "file_extension": ".py",
   "mimetype": "text/x-python",
   "name": "python",
   "nbconvert_exporter": "python",
   "pygments_lexer": "ipython3",
   "version": "3.9.12"
  }
 },
 "nbformat": 4,
 "nbformat_minor": 5
}
