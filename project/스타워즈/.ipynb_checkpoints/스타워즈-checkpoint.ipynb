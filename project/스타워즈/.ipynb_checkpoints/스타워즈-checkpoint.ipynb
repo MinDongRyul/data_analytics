{
 "cells": [
  {
   "cell_type": "markdown",
   "id": "3bc77a14",
   "metadata": {},
   "source": [
    "### 스타워즈"
   ]
  },
  {
   "cell_type": "markdown",
   "id": "df9ae69d",
   "metadata": {},
   "source": [
    "### 라이브 러리"
   ]
  },
  {
   "cell_type": "code",
   "execution_count": 47,
   "id": "7c84b3f4",
   "metadata": {},
   "outputs": [],
   "source": [
    "import pandas as pd\n",
    "import matplotlib.pyplot as plt\n",
    "import numpy as np\n",
    "import seaborn as sns\n",
    "\n",
    "plt.rcParams['font.family'] = 'Malgun Gothic'\n",
    "plt.rcParams['axes.unicode_minus'] = False"
   ]
  },
  {
   "cell_type": "code",
   "execution_count": 2,
   "id": "14792882",
   "metadata": {},
   "outputs": [],
   "source": [
    "import warnings\n",
    "warnings.simplefilter('ignore')"
   ]
  },
  {
   "cell_type": "markdown",
   "id": "0be6ca89",
   "metadata": {},
   "source": [
    "### 데이터 로드"
   ]
  },
  {
   "cell_type": "code",
   "execution_count": 3,
   "id": "917f3dee",
   "metadata": {
    "scrolled": false
   },
   "outputs": [
    {
     "data": {
      "text/html": [
       "<div>\n",
       "<style scoped>\n",
       "    .dataframe tbody tr th:only-of-type {\n",
       "        vertical-align: middle;\n",
       "    }\n",
       "\n",
       "    .dataframe tbody tr th {\n",
       "        vertical-align: top;\n",
       "    }\n",
       "\n",
       "    .dataframe thead th {\n",
       "        text-align: right;\n",
       "    }\n",
       "</style>\n",
       "<table border=\"1\" class=\"dataframe\">\n",
       "  <thead>\n",
       "    <tr style=\"text-align: right;\">\n",
       "      <th></th>\n",
       "      <th>name</th>\n",
       "      <th>height</th>\n",
       "      <th>mass</th>\n",
       "      <th>hair_color</th>\n",
       "      <th>skin_color</th>\n",
       "      <th>eye_color</th>\n",
       "      <th>birth_year</th>\n",
       "      <th>sex</th>\n",
       "      <th>gender</th>\n",
       "      <th>homeworld</th>\n",
       "      <th>species</th>\n",
       "    </tr>\n",
       "  </thead>\n",
       "  <tbody>\n",
       "    <tr>\n",
       "      <th>0</th>\n",
       "      <td>Luke Skywalker</td>\n",
       "      <td>172.0</td>\n",
       "      <td>77.0</td>\n",
       "      <td>blond</td>\n",
       "      <td>fair</td>\n",
       "      <td>blue</td>\n",
       "      <td>19.0</td>\n",
       "      <td>male</td>\n",
       "      <td>masculine</td>\n",
       "      <td>Tatooine</td>\n",
       "      <td>Human</td>\n",
       "    </tr>\n",
       "    <tr>\n",
       "      <th>1</th>\n",
       "      <td>C-3PO</td>\n",
       "      <td>167.0</td>\n",
       "      <td>75.0</td>\n",
       "      <td>NaN</td>\n",
       "      <td>gold</td>\n",
       "      <td>yellow</td>\n",
       "      <td>112.0</td>\n",
       "      <td>none</td>\n",
       "      <td>masculine</td>\n",
       "      <td>Tatooine</td>\n",
       "      <td>Droid</td>\n",
       "    </tr>\n",
       "    <tr>\n",
       "      <th>2</th>\n",
       "      <td>R2-D2</td>\n",
       "      <td>96.0</td>\n",
       "      <td>32.0</td>\n",
       "      <td>NaN</td>\n",
       "      <td>white, blue</td>\n",
       "      <td>red</td>\n",
       "      <td>33.0</td>\n",
       "      <td>none</td>\n",
       "      <td>masculine</td>\n",
       "      <td>Naboo</td>\n",
       "      <td>Droid</td>\n",
       "    </tr>\n",
       "    <tr>\n",
       "      <th>3</th>\n",
       "      <td>Darth Vader</td>\n",
       "      <td>202.0</td>\n",
       "      <td>136.0</td>\n",
       "      <td>none</td>\n",
       "      <td>white</td>\n",
       "      <td>yellow</td>\n",
       "      <td>41.9</td>\n",
       "      <td>male</td>\n",
       "      <td>masculine</td>\n",
       "      <td>Tatooine</td>\n",
       "      <td>Human</td>\n",
       "    </tr>\n",
       "    <tr>\n",
       "      <th>4</th>\n",
       "      <td>Leia Organa</td>\n",
       "      <td>150.0</td>\n",
       "      <td>49.0</td>\n",
       "      <td>brown</td>\n",
       "      <td>light</td>\n",
       "      <td>brown</td>\n",
       "      <td>19.0</td>\n",
       "      <td>female</td>\n",
       "      <td>feminine</td>\n",
       "      <td>Alderaan</td>\n",
       "      <td>Human</td>\n",
       "    </tr>\n",
       "  </tbody>\n",
       "</table>\n",
       "</div>"
      ],
      "text/plain": [
       "             name  height   mass hair_color   skin_color eye_color  \\\n",
       "0  Luke Skywalker   172.0   77.0      blond         fair      blue   \n",
       "1           C-3PO   167.0   75.0        NaN         gold    yellow   \n",
       "2           R2-D2    96.0   32.0        NaN  white, blue       red   \n",
       "3     Darth Vader   202.0  136.0       none        white    yellow   \n",
       "4     Leia Organa   150.0   49.0      brown        light     brown   \n",
       "\n",
       "   birth_year     sex     gender homeworld species  \n",
       "0        19.0    male  masculine  Tatooine   Human  \n",
       "1       112.0    none  masculine  Tatooine   Droid  \n",
       "2        33.0    none  masculine     Naboo   Droid  \n",
       "3        41.9    male  masculine  Tatooine   Human  \n",
       "4        19.0  female   feminine  Alderaan   Human  "
      ]
     },
     "execution_count": 3,
     "metadata": {},
     "output_type": "execute_result"
    }
   ],
   "source": [
    "starwars = pd.read_csv('../../data/dataset/Starwars.csv')\n",
    "starwars.head()"
   ]
  },
  {
   "cell_type": "markdown",
   "id": "725dcab6",
   "metadata": {},
   "source": [
    "### 데이터 탐색"
   ]
  },
  {
   "cell_type": "code",
   "execution_count": 4,
   "id": "4cdc3895",
   "metadata": {},
   "outputs": [
    {
     "name": "stdout",
     "output_type": "stream",
     "text": [
      "<class 'pandas.core.frame.DataFrame'>\n",
      "RangeIndex: 87 entries, 0 to 86\n",
      "Data columns (total 11 columns):\n",
      " #   Column      Non-Null Count  Dtype  \n",
      "---  ------      --------------  -----  \n",
      " 0   name        87 non-null     object \n",
      " 1   height      81 non-null     float64\n",
      " 2   mass        59 non-null     float64\n",
      " 3   hair_color  82 non-null     object \n",
      " 4   skin_color  87 non-null     object \n",
      " 5   eye_color   87 non-null     object \n",
      " 6   birth_year  43 non-null     float64\n",
      " 7   sex         83 non-null     object \n",
      " 8   gender      83 non-null     object \n",
      " 9   homeworld   77 non-null     object \n",
      " 10  species     83 non-null     object \n",
      "dtypes: float64(3), object(8)\n",
      "memory usage: 7.6+ KB\n"
     ]
    }
   ],
   "source": [
    "starwars.info()"
   ]
  },
  {
   "cell_type": "markdown",
   "id": "03938b9c",
   "metadata": {},
   "source": [
    "- name : 캐릭터 명\n",
    "- height : 키\n",
    "- mass : 몸무게\n",
    "- hair_color : 머리카락 색\n",
    "- skin_color : 피부 색\n",
    "- eye_color : 눈동자 색\n",
    "- birth_year : 출생년도\n",
    "- sex : 생물학적 성별\n",
    "- gender : 생물학적 성별\n",
    "- homeworld : 고향 \n",
    "- species : 종"
   ]
  },
  {
   "cell_type": "markdown",
   "id": "ecd59adc",
   "metadata": {},
   "source": [
    "- 범주형 변수 : 빈도(Frequency) 계산\n",
    "    - name, hair_color, skin_color, eye_color, sex, gender, homeworld, species\n",
    "\n",
    "- 연속형 변수 : 수치 계산 가능\n",
    "    - key, mass, birth_year"
   ]
  },
  {
   "cell_type": "code",
   "execution_count": 5,
   "id": "69d63f7b",
   "metadata": {},
   "outputs": [
    {
     "data": {
      "text/plain": [
       "(87, 11)"
      ]
     },
     "execution_count": 5,
     "metadata": {},
     "output_type": "execute_result"
    }
   ],
   "source": [
    "starwars.shape"
   ]
  },
  {
   "cell_type": "code",
   "execution_count": 6,
   "id": "21c67788",
   "metadata": {},
   "outputs": [
    {
     "data": {
      "text/html": [
       "<div>\n",
       "<style scoped>\n",
       "    .dataframe tbody tr th:only-of-type {\n",
       "        vertical-align: middle;\n",
       "    }\n",
       "\n",
       "    .dataframe tbody tr th {\n",
       "        vertical-align: top;\n",
       "    }\n",
       "\n",
       "    .dataframe thead th {\n",
       "        text-align: right;\n",
       "    }\n",
       "</style>\n",
       "<table border=\"1\" class=\"dataframe\">\n",
       "  <thead>\n",
       "    <tr style=\"text-align: right;\">\n",
       "      <th></th>\n",
       "      <th>height</th>\n",
       "      <th>mass</th>\n",
       "      <th>birth_year</th>\n",
       "    </tr>\n",
       "  </thead>\n",
       "  <tbody>\n",
       "    <tr>\n",
       "      <th>count</th>\n",
       "      <td>81.000000</td>\n",
       "      <td>59.000000</td>\n",
       "      <td>43.000000</td>\n",
       "    </tr>\n",
       "    <tr>\n",
       "      <th>mean</th>\n",
       "      <td>174.358025</td>\n",
       "      <td>97.311864</td>\n",
       "      <td>87.565116</td>\n",
       "    </tr>\n",
       "    <tr>\n",
       "      <th>std</th>\n",
       "      <td>34.770429</td>\n",
       "      <td>169.457163</td>\n",
       "      <td>154.691439</td>\n",
       "    </tr>\n",
       "    <tr>\n",
       "      <th>min</th>\n",
       "      <td>66.000000</td>\n",
       "      <td>15.000000</td>\n",
       "      <td>8.000000</td>\n",
       "    </tr>\n",
       "    <tr>\n",
       "      <th>25%</th>\n",
       "      <td>167.000000</td>\n",
       "      <td>55.600000</td>\n",
       "      <td>35.000000</td>\n",
       "    </tr>\n",
       "    <tr>\n",
       "      <th>50%</th>\n",
       "      <td>180.000000</td>\n",
       "      <td>79.000000</td>\n",
       "      <td>52.000000</td>\n",
       "    </tr>\n",
       "    <tr>\n",
       "      <th>75%</th>\n",
       "      <td>191.000000</td>\n",
       "      <td>84.500000</td>\n",
       "      <td>72.000000</td>\n",
       "    </tr>\n",
       "    <tr>\n",
       "      <th>max</th>\n",
       "      <td>264.000000</td>\n",
       "      <td>1358.000000</td>\n",
       "      <td>896.000000</td>\n",
       "    </tr>\n",
       "  </tbody>\n",
       "</table>\n",
       "</div>"
      ],
      "text/plain": [
       "           height         mass  birth_year\n",
       "count   81.000000    59.000000   43.000000\n",
       "mean   174.358025    97.311864   87.565116\n",
       "std     34.770429   169.457163  154.691439\n",
       "min     66.000000    15.000000    8.000000\n",
       "25%    167.000000    55.600000   35.000000\n",
       "50%    180.000000    79.000000   52.000000\n",
       "75%    191.000000    84.500000   72.000000\n",
       "max    264.000000  1358.000000  896.000000"
      ]
     },
     "execution_count": 6,
     "metadata": {},
     "output_type": "execute_result"
    }
   ],
   "source": [
    "starwars.describe()"
   ]
  },
  {
   "cell_type": "code",
   "execution_count": 7,
   "id": "609e11cf",
   "metadata": {},
   "outputs": [
    {
     "data": {
      "text/html": [
       "<div>\n",
       "<style scoped>\n",
       "    .dataframe tbody tr th:only-of-type {\n",
       "        vertical-align: middle;\n",
       "    }\n",
       "\n",
       "    .dataframe tbody tr th {\n",
       "        vertical-align: top;\n",
       "    }\n",
       "\n",
       "    .dataframe thead th {\n",
       "        text-align: right;\n",
       "    }\n",
       "</style>\n",
       "<table border=\"1\" class=\"dataframe\">\n",
       "  <thead>\n",
       "    <tr style=\"text-align: right;\">\n",
       "      <th></th>\n",
       "      <th>name</th>\n",
       "      <th>hair_color</th>\n",
       "      <th>skin_color</th>\n",
       "      <th>eye_color</th>\n",
       "      <th>sex</th>\n",
       "      <th>gender</th>\n",
       "      <th>homeworld</th>\n",
       "      <th>species</th>\n",
       "    </tr>\n",
       "  </thead>\n",
       "  <tbody>\n",
       "    <tr>\n",
       "      <th>count</th>\n",
       "      <td>87</td>\n",
       "      <td>82</td>\n",
       "      <td>87</td>\n",
       "      <td>87</td>\n",
       "      <td>83</td>\n",
       "      <td>83</td>\n",
       "      <td>77</td>\n",
       "      <td>83</td>\n",
       "    </tr>\n",
       "    <tr>\n",
       "      <th>unique</th>\n",
       "      <td>87</td>\n",
       "      <td>12</td>\n",
       "      <td>31</td>\n",
       "      <td>15</td>\n",
       "      <td>4</td>\n",
       "      <td>2</td>\n",
       "      <td>48</td>\n",
       "      <td>37</td>\n",
       "    </tr>\n",
       "    <tr>\n",
       "      <th>top</th>\n",
       "      <td>Luke Skywalker</td>\n",
       "      <td>none</td>\n",
       "      <td>fair</td>\n",
       "      <td>brown</td>\n",
       "      <td>male</td>\n",
       "      <td>masculine</td>\n",
       "      <td>Naboo</td>\n",
       "      <td>Human</td>\n",
       "    </tr>\n",
       "    <tr>\n",
       "      <th>freq</th>\n",
       "      <td>1</td>\n",
       "      <td>37</td>\n",
       "      <td>17</td>\n",
       "      <td>21</td>\n",
       "      <td>60</td>\n",
       "      <td>66</td>\n",
       "      <td>11</td>\n",
       "      <td>35</td>\n",
       "    </tr>\n",
       "  </tbody>\n",
       "</table>\n",
       "</div>"
      ],
      "text/plain": [
       "                  name hair_color skin_color eye_color   sex     gender  \\\n",
       "count               87         82         87        87    83         83   \n",
       "unique              87         12         31        15     4          2   \n",
       "top     Luke Skywalker       none       fair     brown  male  masculine   \n",
       "freq                 1         37         17        21    60         66   \n",
       "\n",
       "       homeworld species  \n",
       "count         77      83  \n",
       "unique        48      37  \n",
       "top        Naboo   Human  \n",
       "freq          11      35  "
      ]
     },
     "execution_count": 7,
     "metadata": {},
     "output_type": "execute_result"
    }
   ],
   "source": [
    "starwars.describe(include=object)"
   ]
  },
  {
   "cell_type": "markdown",
   "id": "a078e39b",
   "metadata": {},
   "source": [
    "#### 1) 범주형 컬럼 안에 들어있는 유니크한 값 확인"
   ]
  },
  {
   "cell_type": "code",
   "execution_count": 8,
   "id": "93c96f3f",
   "metadata": {},
   "outputs": [],
   "source": [
    "starwars.drop_duplicates(inplace=True)"
   ]
  },
  {
   "cell_type": "code",
   "execution_count": 9,
   "id": "19c0d947",
   "metadata": {},
   "outputs": [
    {
     "data": {
      "text/plain": [
       "array(['fair', 'gold', 'white, blue', 'white', 'light', 'white, red',\n",
       "       'unknown', 'green', 'green-tan, brown', 'pale', 'metal', 'dark',\n",
       "       'brown mottle', 'brown', 'grey', 'mottled green', 'orange',\n",
       "       'blue, grey', 'grey, red', 'red', 'blue', 'grey, green, yellow',\n",
       "       'yellow', 'tan', 'fair, green, yellow', 'grey, blue',\n",
       "       'silver, red', 'green, grey', 'red, blue, white', 'brown, white',\n",
       "       'none'], dtype=object)"
      ]
     },
     "execution_count": 9,
     "metadata": {},
     "output_type": "execute_result"
    }
   ],
   "source": [
    "starwars['skin_color'].unique()"
   ]
  },
  {
   "cell_type": "code",
   "execution_count": 10,
   "id": "3bcc4563",
   "metadata": {},
   "outputs": [
    {
     "data": {
      "text/plain": [
       "array(['blond', nan, 'none', 'brown', 'brown, grey', 'black',\n",
       "       'auburn, white', 'auburn, grey', 'white', 'grey', 'auburn',\n",
       "       'blonde', 'unknown'], dtype=object)"
      ]
     },
     "execution_count": 10,
     "metadata": {},
     "output_type": "execute_result"
    }
   ],
   "source": [
    "starwars['hair_color'].unique()"
   ]
  },
  {
   "cell_type": "code",
   "execution_count": 11,
   "id": "105a2f03",
   "metadata": {
    "scrolled": true
   },
   "outputs": [
    {
     "data": {
      "text/plain": [
       "array(['blue', 'yellow', 'red', 'brown', 'blue-gray', 'black', 'orange',\n",
       "       'hazel', 'pink', 'unknown', 'red, blue', 'gold', 'green, yellow',\n",
       "       'white', 'dark'], dtype=object)"
      ]
     },
     "execution_count": 11,
     "metadata": {},
     "output_type": "execute_result"
    }
   ],
   "source": [
    "starwars['eye_color'].unique()"
   ]
  },
  {
   "cell_type": "code",
   "execution_count": 12,
   "id": "edc52759",
   "metadata": {},
   "outputs": [
    {
     "data": {
      "text/plain": [
       "array(['masculine', 'feminine', nan], dtype=object)"
      ]
     },
     "execution_count": 12,
     "metadata": {},
     "output_type": "execute_result"
    }
   ],
   "source": [
    "starwars['gender'].unique()"
   ]
  },
  {
   "cell_type": "code",
   "execution_count": 13,
   "id": "a25d99df",
   "metadata": {},
   "outputs": [
    {
     "data": {
      "text/plain": [
       "array(['male', 'none', 'female', 'hermaphroditic', nan], dtype=object)"
      ]
     },
     "execution_count": 13,
     "metadata": {},
     "output_type": "execute_result"
    }
   ],
   "source": [
    "starwars['sex'].unique()"
   ]
  },
  {
   "cell_type": "code",
   "execution_count": 14,
   "id": "547f5ceb",
   "metadata": {},
   "outputs": [
    {
     "data": {
      "text/plain": [
       "array(['Tatooine', 'Naboo', 'Alderaan', 'Stewjon', 'Eriadu', 'Kashyyyk',\n",
       "       'Corellia', 'Rodia', 'Nal Hutta', 'Bestine IV', nan, 'Kamino',\n",
       "       'Trandosha', 'Socorro', 'Bespin', 'Mon Cala', 'Chandrila', 'Endor',\n",
       "       'Sullust', 'Cato Neimoidia', 'Coruscant', 'Toydaria', 'Malastare',\n",
       "       'Dathomir', 'Ryloth', 'Vulpter', 'Troiken', 'Tund', 'Haruun Kal',\n",
       "       'Cerea', 'Glee Anselm', 'Iridonia', 'Iktotch', 'Quermia', 'Dorin',\n",
       "       'Champala', 'Geonosis', 'Mirial', 'Serenno', 'Concord Dawn',\n",
       "       'Zolan', 'Ojom', 'Aleen Minor', 'Skako', 'Muunilinst', 'Shili',\n",
       "       'Kalee', 'Umbara', 'Utapau'], dtype=object)"
      ]
     },
     "execution_count": 14,
     "metadata": {},
     "output_type": "execute_result"
    }
   ],
   "source": [
    "starwars['homeworld'].unique()"
   ]
  },
  {
   "cell_type": "code",
   "execution_count": 15,
   "id": "f1797beb",
   "metadata": {},
   "outputs": [
    {
     "data": {
      "text/plain": [
       "array(['Human', 'Droid', 'Wookiee', 'Rodian', 'Hutt', \"Yoda's species\",\n",
       "       'Trandoshan', 'Mon Calamari', 'Ewok', 'Sullustan', 'Neimodian',\n",
       "       'Gungan', nan, 'Toydarian', 'Dug', 'Zabrak', \"Twi'lek\",\n",
       "       'Vulptereen', 'Xexto', 'Toong', 'Cerean', 'Nautolan', 'Tholothian',\n",
       "       'Iktotchi', 'Quermian', 'Kel Dor', 'Chagrian', 'Geonosian',\n",
       "       'Mirialan', 'Clawdite', 'Besalisk', 'Kaminoan', 'Aleena',\n",
       "       'Skakoan', 'Muun', 'Togruta', 'Kaleesh', \"Pau'an\"], dtype=object)"
      ]
     },
     "execution_count": 15,
     "metadata": {},
     "output_type": "execute_result"
    }
   ],
   "source": [
    "starwars['species'].unique()"
   ]
  },
  {
   "cell_type": "markdown",
   "id": "e6a52ff1",
   "metadata": {},
   "source": [
    "- 범주가 적을 수록 범주별 그래프를 그리기 쉬움(sex, gender)"
   ]
  },
  {
   "cell_type": "markdown",
   "id": "8d49edf2",
   "metadata": {},
   "source": [
    "#### 어떤 컬럼에 NaN값이 있는지 확인"
   ]
  },
  {
   "cell_type": "code",
   "execution_count": 16,
   "id": "d2eb9932",
   "metadata": {},
   "outputs": [
    {
     "data": {
      "text/plain": [
       "name           0\n",
       "height         6\n",
       "mass          28\n",
       "hair_color     5\n",
       "skin_color     0\n",
       "eye_color      0\n",
       "birth_year    44\n",
       "sex            4\n",
       "gender         4\n",
       "homeworld     10\n",
       "species        4\n",
       "dtype: int64"
      ]
     },
     "execution_count": 16,
     "metadata": {},
     "output_type": "execute_result"
    }
   ],
   "source": [
    "starwars.isnull().sum()"
   ]
  },
  {
   "cell_type": "markdown",
   "id": "bb72d571",
   "metadata": {},
   "source": [
    "#### 총 데이터 갯수"
   ]
  },
  {
   "cell_type": "code",
   "execution_count": 17,
   "id": "794236f0",
   "metadata": {
    "scrolled": true
   },
   "outputs": [
    {
     "data": {
      "text/plain": [
       "957"
      ]
     },
     "execution_count": 17,
     "metadata": {},
     "output_type": "execute_result"
    }
   ],
   "source": [
    "total = starwars.shape[0] * starwars.shape[1]\n",
    "total"
   ]
  },
  {
   "cell_type": "markdown",
   "id": "34a81801",
   "metadata": {},
   "source": [
    "#### 총 결측치 비율"
   ]
  },
  {
   "cell_type": "code",
   "execution_count": 18,
   "id": "11465c70",
   "metadata": {},
   "outputs": [
    {
     "name": "stdout",
     "output_type": "stream",
     "text": [
      "총 결측치 수 : 105, 결측치 비율 : 10.97%\n"
     ]
    }
   ],
   "source": [
    "# 총 결측치\n",
    "ratio = (starwars.isnull().sum().sum() * 100) / total\n",
    "print('총 결측치 수 : {}, 결측치 비율 : {:.2f}%'.format(starwars.isnull().sum().sum(), ratio))"
   ]
  },
  {
   "cell_type": "markdown",
   "id": "982137e2",
   "metadata": {},
   "source": [
    "#### 스타워즈에 등장하는 전제 인물의 숫자"
   ]
  },
  {
   "cell_type": "code",
   "execution_count": 19,
   "id": "3f65b5c0",
   "metadata": {},
   "outputs": [
    {
     "data": {
      "text/plain": [
       "87"
      ]
     },
     "execution_count": 19,
     "metadata": {},
     "output_type": "execute_result"
    }
   ],
   "source": [
    "# starwars['name'].nunique()\n",
    "len(starwars.drop_duplicates('name'))"
   ]
  },
  {
   "cell_type": "markdown",
   "id": "b6ac86d9",
   "metadata": {},
   "source": [
    "#### 스타워즈에 등장하는 종족 숫자"
   ]
  },
  {
   "cell_type": "code",
   "execution_count": 20,
   "id": "8699a0dd",
   "metadata": {
    "scrolled": true
   },
   "outputs": [
    {
     "data": {
      "text/plain": [
       "37"
      ]
     },
     "execution_count": 20,
     "metadata": {},
     "output_type": "execute_result"
    }
   ],
   "source": [
    "starwars['species'].nunique()\n",
    "# len(starwars.drop_duplicates('species'))"
   ]
  },
  {
   "cell_type": "markdown",
   "id": "3526ec1f",
   "metadata": {},
   "source": [
    "#### 데이터 전처리"
   ]
  },
  {
   "cell_type": "code",
   "execution_count": 21,
   "id": "b402b82c",
   "metadata": {},
   "outputs": [
    {
     "data": {
      "text/plain": [
       "name           0\n",
       "height         6\n",
       "mass          28\n",
       "hair_color     5\n",
       "skin_color     0\n",
       "eye_color      0\n",
       "birth_year    44\n",
       "sex            4\n",
       "gender         4\n",
       "homeworld     10\n",
       "species        4\n",
       "dtype: int64"
      ]
     },
     "execution_count": 21,
     "metadata": {},
     "output_type": "execute_result"
    }
   ],
   "source": [
    "starwars.isnull().sum()"
   ]
  },
  {
   "cell_type": "markdown",
   "id": "3a966c45",
   "metadata": {},
   "source": [
    "#### 1) NaN 처리\n",
    "\n",
    "- drop\n",
    "- fillna"
   ]
  },
  {
   "cell_type": "code",
   "execution_count": 22,
   "id": "04e9ddc1",
   "metadata": {
    "scrolled": true
   },
   "outputs": [],
   "source": [
    "# height mass 컬럼의 NaN ==> 0 으로 채우기\n",
    "\n",
    "starwars['height'].fillna(0,inplace=True)\n",
    "starwars['mass'].fillna(0,inplace=True)"
   ]
  },
  {
   "cell_type": "code",
   "execution_count": 23,
   "id": "91483c1d",
   "metadata": {},
   "outputs": [
    {
     "data": {
      "text/html": [
       "<div>\n",
       "<style scoped>\n",
       "    .dataframe tbody tr th:only-of-type {\n",
       "        vertical-align: middle;\n",
       "    }\n",
       "\n",
       "    .dataframe tbody tr th {\n",
       "        vertical-align: top;\n",
       "    }\n",
       "\n",
       "    .dataframe thead th {\n",
       "        text-align: right;\n",
       "    }\n",
       "</style>\n",
       "<table border=\"1\" class=\"dataframe\">\n",
       "  <thead>\n",
       "    <tr style=\"text-align: right;\">\n",
       "      <th></th>\n",
       "      <th>name</th>\n",
       "      <th>height</th>\n",
       "      <th>mass</th>\n",
       "      <th>hair_color</th>\n",
       "      <th>skin_color</th>\n",
       "      <th>eye_color</th>\n",
       "      <th>birth_year</th>\n",
       "      <th>sex</th>\n",
       "      <th>gender</th>\n",
       "      <th>homeworld</th>\n",
       "      <th>species</th>\n",
       "    </tr>\n",
       "  </thead>\n",
       "  <tbody>\n",
       "    <tr>\n",
       "      <th>0</th>\n",
       "      <td>Luke Skywalker</td>\n",
       "      <td>172.0</td>\n",
       "      <td>77.0</td>\n",
       "      <td>blond</td>\n",
       "      <td>fair</td>\n",
       "      <td>blue</td>\n",
       "      <td>19.0</td>\n",
       "      <td>male</td>\n",
       "      <td>masculine</td>\n",
       "      <td>Tatooine</td>\n",
       "      <td>Human</td>\n",
       "    </tr>\n",
       "    <tr>\n",
       "      <th>1</th>\n",
       "      <td>C-3PO</td>\n",
       "      <td>167.0</td>\n",
       "      <td>75.0</td>\n",
       "      <td>NaN</td>\n",
       "      <td>gold</td>\n",
       "      <td>yellow</td>\n",
       "      <td>112.0</td>\n",
       "      <td>none</td>\n",
       "      <td>masculine</td>\n",
       "      <td>Tatooine</td>\n",
       "      <td>Droid</td>\n",
       "    </tr>\n",
       "    <tr>\n",
       "      <th>2</th>\n",
       "      <td>R2-D2</td>\n",
       "      <td>96.0</td>\n",
       "      <td>32.0</td>\n",
       "      <td>NaN</td>\n",
       "      <td>white, blue</td>\n",
       "      <td>red</td>\n",
       "      <td>33.0</td>\n",
       "      <td>none</td>\n",
       "      <td>masculine</td>\n",
       "      <td>Naboo</td>\n",
       "      <td>Droid</td>\n",
       "    </tr>\n",
       "    <tr>\n",
       "      <th>3</th>\n",
       "      <td>Darth Vader</td>\n",
       "      <td>202.0</td>\n",
       "      <td>136.0</td>\n",
       "      <td>none</td>\n",
       "      <td>white</td>\n",
       "      <td>yellow</td>\n",
       "      <td>41.9</td>\n",
       "      <td>male</td>\n",
       "      <td>masculine</td>\n",
       "      <td>Tatooine</td>\n",
       "      <td>Human</td>\n",
       "    </tr>\n",
       "    <tr>\n",
       "      <th>4</th>\n",
       "      <td>Leia Organa</td>\n",
       "      <td>150.0</td>\n",
       "      <td>49.0</td>\n",
       "      <td>brown</td>\n",
       "      <td>light</td>\n",
       "      <td>brown</td>\n",
       "      <td>19.0</td>\n",
       "      <td>female</td>\n",
       "      <td>feminine</td>\n",
       "      <td>Alderaan</td>\n",
       "      <td>Human</td>\n",
       "    </tr>\n",
       "    <tr>\n",
       "      <th>...</th>\n",
       "      <td>...</td>\n",
       "      <td>...</td>\n",
       "      <td>...</td>\n",
       "      <td>...</td>\n",
       "      <td>...</td>\n",
       "      <td>...</td>\n",
       "      <td>...</td>\n",
       "      <td>...</td>\n",
       "      <td>...</td>\n",
       "      <td>...</td>\n",
       "      <td>...</td>\n",
       "    </tr>\n",
       "    <tr>\n",
       "      <th>82</th>\n",
       "      <td>Rey</td>\n",
       "      <td>0.0</td>\n",
       "      <td>0.0</td>\n",
       "      <td>brown</td>\n",
       "      <td>light</td>\n",
       "      <td>hazel</td>\n",
       "      <td>NaN</td>\n",
       "      <td>female</td>\n",
       "      <td>feminine</td>\n",
       "      <td>NaN</td>\n",
       "      <td>Human</td>\n",
       "    </tr>\n",
       "    <tr>\n",
       "      <th>83</th>\n",
       "      <td>Poe Dameron</td>\n",
       "      <td>0.0</td>\n",
       "      <td>0.0</td>\n",
       "      <td>brown</td>\n",
       "      <td>light</td>\n",
       "      <td>brown</td>\n",
       "      <td>NaN</td>\n",
       "      <td>male</td>\n",
       "      <td>masculine</td>\n",
       "      <td>NaN</td>\n",
       "      <td>Human</td>\n",
       "    </tr>\n",
       "    <tr>\n",
       "      <th>84</th>\n",
       "      <td>BB8</td>\n",
       "      <td>0.0</td>\n",
       "      <td>0.0</td>\n",
       "      <td>none</td>\n",
       "      <td>none</td>\n",
       "      <td>black</td>\n",
       "      <td>NaN</td>\n",
       "      <td>none</td>\n",
       "      <td>masculine</td>\n",
       "      <td>NaN</td>\n",
       "      <td>Droid</td>\n",
       "    </tr>\n",
       "    <tr>\n",
       "      <th>85</th>\n",
       "      <td>Captain Phasma</td>\n",
       "      <td>0.0</td>\n",
       "      <td>0.0</td>\n",
       "      <td>unknown</td>\n",
       "      <td>unknown</td>\n",
       "      <td>unknown</td>\n",
       "      <td>NaN</td>\n",
       "      <td>NaN</td>\n",
       "      <td>NaN</td>\n",
       "      <td>NaN</td>\n",
       "      <td>NaN</td>\n",
       "    </tr>\n",
       "    <tr>\n",
       "      <th>86</th>\n",
       "      <td>Padm? Amidala</td>\n",
       "      <td>165.0</td>\n",
       "      <td>45.0</td>\n",
       "      <td>brown</td>\n",
       "      <td>light</td>\n",
       "      <td>brown</td>\n",
       "      <td>46.0</td>\n",
       "      <td>female</td>\n",
       "      <td>feminine</td>\n",
       "      <td>Naboo</td>\n",
       "      <td>Human</td>\n",
       "    </tr>\n",
       "  </tbody>\n",
       "</table>\n",
       "<p>87 rows × 11 columns</p>\n",
       "</div>"
      ],
      "text/plain": [
       "              name  height   mass hair_color   skin_color eye_color  \\\n",
       "0   Luke Skywalker   172.0   77.0      blond         fair      blue   \n",
       "1            C-3PO   167.0   75.0        NaN         gold    yellow   \n",
       "2            R2-D2    96.0   32.0        NaN  white, blue       red   \n",
       "3      Darth Vader   202.0  136.0       none        white    yellow   \n",
       "4      Leia Organa   150.0   49.0      brown        light     brown   \n",
       "..             ...     ...    ...        ...          ...       ...   \n",
       "82             Rey     0.0    0.0      brown        light     hazel   \n",
       "83     Poe Dameron     0.0    0.0      brown        light     brown   \n",
       "84             BB8     0.0    0.0       none         none     black   \n",
       "85  Captain Phasma     0.0    0.0    unknown      unknown   unknown   \n",
       "86   Padm? Amidala   165.0   45.0      brown        light     brown   \n",
       "\n",
       "    birth_year     sex     gender homeworld species  \n",
       "0         19.0    male  masculine  Tatooine   Human  \n",
       "1        112.0    none  masculine  Tatooine   Droid  \n",
       "2         33.0    none  masculine     Naboo   Droid  \n",
       "3         41.9    male  masculine  Tatooine   Human  \n",
       "4         19.0  female   feminine  Alderaan   Human  \n",
       "..         ...     ...        ...       ...     ...  \n",
       "82         NaN  female   feminine       NaN   Human  \n",
       "83         NaN    male  masculine       NaN   Human  \n",
       "84         NaN    none  masculine       NaN   Droid  \n",
       "85         NaN     NaN        NaN       NaN     NaN  \n",
       "86        46.0  female   feminine     Naboo   Human  \n",
       "\n",
       "[87 rows x 11 columns]"
      ]
     },
     "execution_count": 23,
     "metadata": {},
     "output_type": "execute_result"
    }
   ],
   "source": [
    "starwars"
   ]
  },
  {
   "cell_type": "code",
   "execution_count": 24,
   "id": "b8284d5e",
   "metadata": {},
   "outputs": [
    {
     "data": {
      "text/plain": [
       "name           0\n",
       "height         0\n",
       "mass           0\n",
       "hair_color     5\n",
       "skin_color     0\n",
       "eye_color      0\n",
       "birth_year    44\n",
       "sex            4\n",
       "gender         4\n",
       "homeworld     10\n",
       "species        4\n",
       "dtype: int64"
      ]
     },
     "execution_count": 24,
     "metadata": {},
     "output_type": "execute_result"
    }
   ],
   "source": [
    "starwars.isnull().sum()"
   ]
  },
  {
   "cell_type": "code",
   "execution_count": 25,
   "id": "86fd5276",
   "metadata": {},
   "outputs": [
    {
     "data": {
      "text/plain": [
       "array(['male', 'none', 'female', 'hermaphroditic', nan], dtype=object)"
      ]
     },
     "execution_count": 25,
     "metadata": {},
     "output_type": "execute_result"
    }
   ],
   "source": [
    "starwars['sex'].unique()"
   ]
  },
  {
   "cell_type": "code",
   "execution_count": 26,
   "id": "b6254031",
   "metadata": {},
   "outputs": [
    {
     "data": {
      "text/html": [
       "<div>\n",
       "<style scoped>\n",
       "    .dataframe tbody tr th:only-of-type {\n",
       "        vertical-align: middle;\n",
       "    }\n",
       "\n",
       "    .dataframe tbody tr th {\n",
       "        vertical-align: top;\n",
       "    }\n",
       "\n",
       "    .dataframe thead th {\n",
       "        text-align: right;\n",
       "    }\n",
       "</style>\n",
       "<table border=\"1\" class=\"dataframe\">\n",
       "  <thead>\n",
       "    <tr style=\"text-align: right;\">\n",
       "      <th></th>\n",
       "      <th>name</th>\n",
       "      <th>height</th>\n",
       "      <th>mass</th>\n",
       "      <th>hair_color</th>\n",
       "      <th>skin_color</th>\n",
       "      <th>eye_color</th>\n",
       "      <th>birth_year</th>\n",
       "      <th>sex</th>\n",
       "      <th>gender</th>\n",
       "      <th>homeworld</th>\n",
       "      <th>species</th>\n",
       "    </tr>\n",
       "  </thead>\n",
       "  <tbody>\n",
       "    <tr>\n",
       "      <th>1</th>\n",
       "      <td>C-3PO</td>\n",
       "      <td>167.0</td>\n",
       "      <td>75.0</td>\n",
       "      <td>NaN</td>\n",
       "      <td>gold</td>\n",
       "      <td>yellow</td>\n",
       "      <td>112.0</td>\n",
       "      <td>none</td>\n",
       "      <td>masculine</td>\n",
       "      <td>Tatooine</td>\n",
       "      <td>Droid</td>\n",
       "    </tr>\n",
       "    <tr>\n",
       "      <th>2</th>\n",
       "      <td>R2-D2</td>\n",
       "      <td>96.0</td>\n",
       "      <td>32.0</td>\n",
       "      <td>NaN</td>\n",
       "      <td>white, blue</td>\n",
       "      <td>red</td>\n",
       "      <td>33.0</td>\n",
       "      <td>none</td>\n",
       "      <td>masculine</td>\n",
       "      <td>Naboo</td>\n",
       "      <td>Droid</td>\n",
       "    </tr>\n",
       "    <tr>\n",
       "      <th>7</th>\n",
       "      <td>R5-D4</td>\n",
       "      <td>97.0</td>\n",
       "      <td>32.0</td>\n",
       "      <td>NaN</td>\n",
       "      <td>white, red</td>\n",
       "      <td>red</td>\n",
       "      <td>NaN</td>\n",
       "      <td>none</td>\n",
       "      <td>masculine</td>\n",
       "      <td>Tatooine</td>\n",
       "      <td>Droid</td>\n",
       "    </tr>\n",
       "    <tr>\n",
       "      <th>21</th>\n",
       "      <td>IG-88</td>\n",
       "      <td>200.0</td>\n",
       "      <td>140.0</td>\n",
       "      <td>none</td>\n",
       "      <td>metal</td>\n",
       "      <td>red</td>\n",
       "      <td>15.0</td>\n",
       "      <td>none</td>\n",
       "      <td>masculine</td>\n",
       "      <td>NaN</td>\n",
       "      <td>Droid</td>\n",
       "    </tr>\n",
       "    <tr>\n",
       "      <th>72</th>\n",
       "      <td>R4-P17</td>\n",
       "      <td>96.0</td>\n",
       "      <td>0.0</td>\n",
       "      <td>none</td>\n",
       "      <td>silver, red</td>\n",
       "      <td>red, blue</td>\n",
       "      <td>NaN</td>\n",
       "      <td>none</td>\n",
       "      <td>feminine</td>\n",
       "      <td>NaN</td>\n",
       "      <td>Droid</td>\n",
       "    </tr>\n",
       "    <tr>\n",
       "      <th>84</th>\n",
       "      <td>BB8</td>\n",
       "      <td>0.0</td>\n",
       "      <td>0.0</td>\n",
       "      <td>none</td>\n",
       "      <td>none</td>\n",
       "      <td>black</td>\n",
       "      <td>NaN</td>\n",
       "      <td>none</td>\n",
       "      <td>masculine</td>\n",
       "      <td>NaN</td>\n",
       "      <td>Droid</td>\n",
       "    </tr>\n",
       "  </tbody>\n",
       "</table>\n",
       "</div>"
      ],
      "text/plain": [
       "      name  height   mass hair_color   skin_color  eye_color  birth_year  \\\n",
       "1    C-3PO   167.0   75.0        NaN         gold     yellow       112.0   \n",
       "2    R2-D2    96.0   32.0        NaN  white, blue        red        33.0   \n",
       "7    R5-D4    97.0   32.0        NaN   white, red        red         NaN   \n",
       "21   IG-88   200.0  140.0       none        metal        red        15.0   \n",
       "72  R4-P17    96.0    0.0       none  silver, red  red, blue         NaN   \n",
       "84     BB8     0.0    0.0       none         none      black         NaN   \n",
       "\n",
       "     sex     gender homeworld species  \n",
       "1   none  masculine  Tatooine   Droid  \n",
       "2   none  masculine     Naboo   Droid  \n",
       "7   none  masculine  Tatooine   Droid  \n",
       "21  none  masculine       NaN   Droid  \n",
       "72  none   feminine       NaN   Droid  \n",
       "84  none  masculine       NaN   Droid  "
      ]
     },
     "execution_count": 26,
     "metadata": {},
     "output_type": "execute_result"
    }
   ],
   "source": [
    "starwars[starwars['sex'] == 'none'] # starwars['sex'](np.nan일 ) == np.nan (안됨)"
   ]
  },
  {
   "cell_type": "code",
   "execution_count": 27,
   "id": "871abbdd",
   "metadata": {},
   "outputs": [
    {
     "data": {
      "text/html": [
       "<div>\n",
       "<style scoped>\n",
       "    .dataframe tbody tr th:only-of-type {\n",
       "        vertical-align: middle;\n",
       "    }\n",
       "\n",
       "    .dataframe tbody tr th {\n",
       "        vertical-align: top;\n",
       "    }\n",
       "\n",
       "    .dataframe thead th {\n",
       "        text-align: right;\n",
       "    }\n",
       "</style>\n",
       "<table border=\"1\" class=\"dataframe\">\n",
       "  <thead>\n",
       "    <tr style=\"text-align: right;\">\n",
       "      <th></th>\n",
       "      <th>name</th>\n",
       "      <th>height</th>\n",
       "      <th>mass</th>\n",
       "      <th>hair_color</th>\n",
       "      <th>skin_color</th>\n",
       "      <th>eye_color</th>\n",
       "      <th>birth_year</th>\n",
       "      <th>sex</th>\n",
       "      <th>gender</th>\n",
       "      <th>homeworld</th>\n",
       "      <th>species</th>\n",
       "    </tr>\n",
       "  </thead>\n",
       "  <tbody>\n",
       "    <tr>\n",
       "      <th>36</th>\n",
       "      <td>Ric Oli?</td>\n",
       "      <td>183.0</td>\n",
       "      <td>0.0</td>\n",
       "      <td>brown</td>\n",
       "      <td>fair</td>\n",
       "      <td>blue</td>\n",
       "      <td>NaN</td>\n",
       "      <td>NaN</td>\n",
       "      <td>NaN</td>\n",
       "      <td>Naboo</td>\n",
       "      <td>NaN</td>\n",
       "    </tr>\n",
       "    <tr>\n",
       "      <th>39</th>\n",
       "      <td>Quarsh Panaka</td>\n",
       "      <td>183.0</td>\n",
       "      <td>0.0</td>\n",
       "      <td>black</td>\n",
       "      <td>dark</td>\n",
       "      <td>brown</td>\n",
       "      <td>62.0</td>\n",
       "      <td>NaN</td>\n",
       "      <td>NaN</td>\n",
       "      <td>Naboo</td>\n",
       "      <td>NaN</td>\n",
       "    </tr>\n",
       "    <tr>\n",
       "      <th>79</th>\n",
       "      <td>Sly Moore</td>\n",
       "      <td>178.0</td>\n",
       "      <td>48.0</td>\n",
       "      <td>none</td>\n",
       "      <td>pale</td>\n",
       "      <td>white</td>\n",
       "      <td>NaN</td>\n",
       "      <td>NaN</td>\n",
       "      <td>NaN</td>\n",
       "      <td>Umbara</td>\n",
       "      <td>NaN</td>\n",
       "    </tr>\n",
       "    <tr>\n",
       "      <th>85</th>\n",
       "      <td>Captain Phasma</td>\n",
       "      <td>0.0</td>\n",
       "      <td>0.0</td>\n",
       "      <td>unknown</td>\n",
       "      <td>unknown</td>\n",
       "      <td>unknown</td>\n",
       "      <td>NaN</td>\n",
       "      <td>NaN</td>\n",
       "      <td>NaN</td>\n",
       "      <td>NaN</td>\n",
       "      <td>NaN</td>\n",
       "    </tr>\n",
       "  </tbody>\n",
       "</table>\n",
       "</div>"
      ],
      "text/plain": [
       "              name  height  mass hair_color skin_color eye_color  birth_year  \\\n",
       "36        Ric Oli?   183.0   0.0      brown       fair      blue         NaN   \n",
       "39   Quarsh Panaka   183.0   0.0      black       dark     brown        62.0   \n",
       "79       Sly Moore   178.0  48.0       none       pale     white         NaN   \n",
       "85  Captain Phasma     0.0   0.0    unknown    unknown   unknown         NaN   \n",
       "\n",
       "    sex gender homeworld species  \n",
       "36  NaN    NaN     Naboo     NaN  \n",
       "39  NaN    NaN     Naboo     NaN  \n",
       "79  NaN    NaN    Umbara     NaN  \n",
       "85  NaN    NaN       NaN     NaN  "
      ]
     },
     "execution_count": 27,
     "metadata": {},
     "output_type": "execute_result"
    }
   ],
   "source": [
    "starwars[starwars['sex'].isnull()] # starwars['sex'](np.nan일 때) == np.nan (안됨)"
   ]
  },
  {
   "cell_type": "markdown",
   "id": "853cc6ce",
   "metadata": {},
   "source": [
    "#### sex == none 인 경우 sex 컬럼의 값을  'robot' 변경"
   ]
  },
  {
   "cell_type": "code",
   "execution_count": 28,
   "id": "d099ea5f",
   "metadata": {},
   "outputs": [],
   "source": [
    "starwars.loc[starwars['sex'] == 'none','sex'] = 'robot'\n",
    "# df.columns.str.replace('2022년06월_계_','')"
   ]
  },
  {
   "cell_type": "code",
   "execution_count": 29,
   "id": "5db930af",
   "metadata": {},
   "outputs": [
    {
     "data": {
      "text/plain": [
       "array(['male', 'robot', 'female', 'hermaphroditic', nan], dtype=object)"
      ]
     },
     "execution_count": 29,
     "metadata": {},
     "output_type": "execute_result"
    }
   ],
   "source": [
    "starwars['sex'].unique()"
   ]
  },
  {
   "cell_type": "markdown",
   "id": "63cbaa6f",
   "metadata": {},
   "source": [
    "### EDA & Visualization"
   ]
  },
  {
   "cell_type": "markdown",
   "id": "12aae629",
   "metadata": {},
   "source": [
    "#### 1) 스타워즈 캐릭터의 성별 비율 알아보기"
   ]
  },
  {
   "cell_type": "code",
   "execution_count": 30,
   "id": "dba60d57",
   "metadata": {},
   "outputs": [
    {
     "name": "stdout",
     "output_type": "stream",
     "text": [
      "['male' 'robot' 'female' 'hermaphroditic' nan]\n",
      "4\n",
      "male              60\n",
      "female            16\n",
      "robot              6\n",
      "hermaphroditic     1\n",
      "Name: sex, dtype: int64\n"
     ]
    }
   ],
   "source": [
    "print(starwars['sex'].unique()) # sex 컬럼에 들어있는 값(중복 값 제거) 확인\n",
    "print(starwars['sex'].nunique())\n",
    "print(starwars['sex'].value_counts()) # 각 요소? 들의 합?"
   ]
  },
  {
   "cell_type": "code",
   "execution_count": 31,
   "id": "081dd9c8",
   "metadata": {
    "scrolled": true
   },
   "outputs": [
    {
     "name": "stdout",
     "output_type": "stream",
     "text": [
      "masculine    66\n",
      "feminine     17\n",
      "Name: gender, dtype: int64\n"
     ]
    },
    {
     "data": {
      "text/plain": [
       "0     masculine\n",
       "1     masculine\n",
       "2     masculine\n",
       "3     masculine\n",
       "4      feminine\n",
       "        ...    \n",
       "82     feminine\n",
       "83    masculine\n",
       "84    masculine\n",
       "85          NaN\n",
       "86     feminine\n",
       "Name: gender, Length: 87, dtype: object"
      ]
     },
     "execution_count": 31,
     "metadata": {},
     "output_type": "execute_result"
    }
   ],
   "source": [
    "print(starwars['gender'].value_counts())\n",
    "starwars['gender']"
   ]
  },
  {
   "cell_type": "markdown",
   "id": "decfe09b",
   "metadata": {},
   "source": [
    "#### 성별 파이차트 작성"
   ]
  },
  {
   "cell_type": "code",
   "execution_count": 32,
   "id": "1a8d4b52",
   "metadata": {},
   "outputs": [
    {
     "data": {
      "text/plain": [
       "Text(0, 0.5, '')"
      ]
     },
     "execution_count": 32,
     "metadata": {},
     "output_type": "execute_result"
    },
    {
     "data": {
      "image/png": "[encoded data removed]",
      "text/plain": [
       "<Figure size 720x720 with 1 Axes>"
      ]
     },
     "metadata": {},
     "output_type": "display_data"
    }
   ],
   "source": [
    "ax = starwars['gender'].value_counts().plot.pie(autopct='%.1f%%', figsize=(10,10), shadow=True)\n",
    "ax.set_title('Starwars : Gender', size=18)\n",
    "ax.set_ylabel('')"
   ]
  },
  {
   "cell_type": "code",
   "execution_count": 33,
   "id": "b0237dfa",
   "metadata": {
    "scrolled": true
   },
   "outputs": [
    {
     "data": {
      "image/png": "[encoded data removed]",
      "text/plain": [
       "<Figure size 432x288 with 1 Axes>"
      ]
     },
     "metadata": {},
     "output_type": "display_data"
    }
   ],
   "source": [
    "labels = ['masculine','feminine']\n",
    "plt.title('gender')\n",
    "plt.pie(starwars['gender'].value_counts(),labels=labels, autopct= '%.1f%%')\n",
    "\n",
    "# plt.pie(starwars['sex'].value_counts(), labels = starwars['sex'].unique()[:-1], autopct='%.1f%%')\n",
    "plt.show()"
   ]
  },
  {
   "cell_type": "code",
   "execution_count": 49,
   "id": "e8e46a34",
   "metadata": {},
   "outputs": [
    {
     "data": {
      "text/plain": [
       "<AxesSubplot:xlabel='count', ylabel='sex'>"
      ]
     },
     "execution_count": 49,
     "metadata": {},
     "output_type": "execute_result"
    },
    {
     "data": {
      "image/png": "[encoded data removed]",
      "text/plain": [
       "<Figure size 432x288 with 1 Axes>"
      ]
     },
     "metadata": {
      "needs_background": "light"
     },
     "output_type": "display_data"
    }
   ],
   "source": [
    "# starwars['sex'] 이용해서 성별 차트 작성(countplot)\n",
    "\n",
    "sns.countplot(data=starwars, y='sex')"
   ]
  },
  {
   "cell_type": "markdown",
   "id": "931760fc",
   "metadata": {},
   "source": [
    "#### 2) 스타워즈 캐릭터의 성별에 따른 신장의 분포 알아보기"
   ]
  },
  {
   "cell_type": "code",
   "execution_count": 34,
   "id": "6a48a689",
   "metadata": {
    "scrolled": false
   },
   "outputs": [
    {
     "data": {
      "text/plain": [
       "count     87.000000\n",
       "mean     162.333333\n",
       "std       55.671726\n",
       "min        0.000000\n",
       "25%      164.000000\n",
       "50%      178.000000\n",
       "75%      190.500000\n",
       "max      264.000000\n",
       "Name: height, dtype: float64"
      ]
     },
     "execution_count": 34,
     "metadata": {},
     "output_type": "execute_result"
    }
   ],
   "source": [
    "starwars['height'].describe()"
   ]
  },
  {
   "cell_type": "code",
   "execution_count": 35,
   "id": "81d78c86",
   "metadata": {},
   "outputs": [
    {
     "name": "stdout",
     "output_type": "stream",
     "text": [
      "왜도 : -1.760878\n",
      "첨도 : 2.927697\n"
     ]
    }
   ],
   "source": [
    "print('왜도 : %f' % starwars['height'].skew())\n",
    "print('첨도 : %f' % starwars['height'].kurt())"
   ]
  },
  {
   "cell_type": "code",
   "execution_count": 54,
   "id": "aecea78e",
   "metadata": {},
   "outputs": [
    {
     "data": {
      "text/plain": [
       "<matplotlib.legend.Legend at 0x2dff7365730>"
      ]
     },
     "execution_count": 54,
     "metadata": {},
     "output_type": "execute_result"
    },
    {
     "data": {
      "image/png": "[encoded data removed]",
      "text/plain": [
       "<Figure size 1152x360 with 2 Axes>"
      ]
     },
     "metadata": {},
     "output_type": "display_data"
    }
   ],
   "source": [
    "plt.style.use('seaborn')\n",
    "flg, ax = plt.subplots(1,2,figsize=(16,5))\n",
    "\n",
    "sns.histplot(starwars[starwars['sex'] == 'male']['height'], ax=ax[0], kde=True, stat='density', color='red')\n",
    "sns.histplot(starwars[starwars['sex'] == 'female']['height'], ax=ax[0], kde=True, stat='density', color='blue')\n",
    "sns.histplot(starwars[starwars['sex'] == 'robot']['height'], ax=ax[0], kde=True, stat='density')\n",
    "ax[0].legend(['male','female','robot'])\n",
    "\n",
    "# kdeplot : 확률분포를 부드럽게 그려줄\n",
    "sns.kdeplot(starwars[starwars['gender'] == 'masculine']['height'],ax=ax[1])\n",
    "sns.kdeplot(starwars[starwars['gender'] == 'feminine']['height'],ax=ax[1])\n",
    "ax[1].legend(['male','female'])"
   ]
  },
  {
   "cell_type": "code",
   "execution_count": null,
   "id": "4b090c3c",
   "metadata": {},
   "outputs": [],
   "source": []
  },
  {
   "cell_type": "code",
   "execution_count": null,
   "id": "55c0a409",
   "metadata": {},
   "outputs": [],
   "source": []
  },
  {
   "cell_type": "markdown",
   "id": "f60be1ae",
   "metadata": {},
   "source": [
    "#### 3) 가장 무거운 캐릭터와 가장 가벼운 캐릭터 알아보기\n",
    "\n",
    "- 가장 가벼운 캐릭터 구하기(단, 0은 아닌)"
   ]
  },
  {
   "cell_type": "code",
   "execution_count": 36,
   "id": "4a17c14a",
   "metadata": {
    "scrolled": true
   },
   "outputs": [
    {
     "data": {
      "text/html": [
       "<div>\n",
       "<style scoped>\n",
       "    .dataframe tbody tr th:only-of-type {\n",
       "        vertical-align: middle;\n",
       "    }\n",
       "\n",
       "    .dataframe tbody tr th {\n",
       "        vertical-align: top;\n",
       "    }\n",
       "\n",
       "    .dataframe thead th {\n",
       "        text-align: right;\n",
       "    }\n",
       "</style>\n",
       "<table border=\"1\" class=\"dataframe\">\n",
       "  <thead>\n",
       "    <tr style=\"text-align: right;\">\n",
       "      <th></th>\n",
       "      <th>name</th>\n",
       "      <th>height</th>\n",
       "      <th>mass</th>\n",
       "      <th>hair_color</th>\n",
       "      <th>skin_color</th>\n",
       "      <th>eye_color</th>\n",
       "      <th>birth_year</th>\n",
       "      <th>sex</th>\n",
       "      <th>gender</th>\n",
       "      <th>homeworld</th>\n",
       "      <th>species</th>\n",
       "    </tr>\n",
       "  </thead>\n",
       "  <tbody>\n",
       "    <tr>\n",
       "      <th>0</th>\n",
       "      <td>Luke Skywalker</td>\n",
       "      <td>172.0</td>\n",
       "      <td>77.0</td>\n",
       "      <td>blond</td>\n",
       "      <td>fair</td>\n",
       "      <td>blue</td>\n",
       "      <td>19.0</td>\n",
       "      <td>male</td>\n",
       "      <td>masculine</td>\n",
       "      <td>Tatooine</td>\n",
       "      <td>Human</td>\n",
       "    </tr>\n",
       "    <tr>\n",
       "      <th>1</th>\n",
       "      <td>C-3PO</td>\n",
       "      <td>167.0</td>\n",
       "      <td>75.0</td>\n",
       "      <td>NaN</td>\n",
       "      <td>gold</td>\n",
       "      <td>yellow</td>\n",
       "      <td>112.0</td>\n",
       "      <td>robot</td>\n",
       "      <td>masculine</td>\n",
       "      <td>Tatooine</td>\n",
       "      <td>Droid</td>\n",
       "    </tr>\n",
       "    <tr>\n",
       "      <th>2</th>\n",
       "      <td>R2-D2</td>\n",
       "      <td>96.0</td>\n",
       "      <td>32.0</td>\n",
       "      <td>NaN</td>\n",
       "      <td>white, blue</td>\n",
       "      <td>red</td>\n",
       "      <td>33.0</td>\n",
       "      <td>robot</td>\n",
       "      <td>masculine</td>\n",
       "      <td>Naboo</td>\n",
       "      <td>Droid</td>\n",
       "    </tr>\n",
       "    <tr>\n",
       "      <th>3</th>\n",
       "      <td>Darth Vader</td>\n",
       "      <td>202.0</td>\n",
       "      <td>136.0</td>\n",
       "      <td>none</td>\n",
       "      <td>white</td>\n",
       "      <td>yellow</td>\n",
       "      <td>41.9</td>\n",
       "      <td>male</td>\n",
       "      <td>masculine</td>\n",
       "      <td>Tatooine</td>\n",
       "      <td>Human</td>\n",
       "    </tr>\n",
       "    <tr>\n",
       "      <th>4</th>\n",
       "      <td>Leia Organa</td>\n",
       "      <td>150.0</td>\n",
       "      <td>49.0</td>\n",
       "      <td>brown</td>\n",
       "      <td>light</td>\n",
       "      <td>brown</td>\n",
       "      <td>19.0</td>\n",
       "      <td>female</td>\n",
       "      <td>feminine</td>\n",
       "      <td>Alderaan</td>\n",
       "      <td>Human</td>\n",
       "    </tr>\n",
       "    <tr>\n",
       "      <th>5</th>\n",
       "      <td>Owen Lars</td>\n",
       "      <td>178.0</td>\n",
       "      <td>120.0</td>\n",
       "      <td>brown, grey</td>\n",
       "      <td>light</td>\n",
       "      <td>blue</td>\n",
       "      <td>52.0</td>\n",
       "      <td>male</td>\n",
       "      <td>masculine</td>\n",
       "      <td>Tatooine</td>\n",
       "      <td>Human</td>\n",
       "    </tr>\n",
       "    <tr>\n",
       "      <th>6</th>\n",
       "      <td>Beru Whitesun lars</td>\n",
       "      <td>165.0</td>\n",
       "      <td>75.0</td>\n",
       "      <td>brown</td>\n",
       "      <td>light</td>\n",
       "      <td>blue</td>\n",
       "      <td>47.0</td>\n",
       "      <td>female</td>\n",
       "      <td>feminine</td>\n",
       "      <td>Tatooine</td>\n",
       "      <td>Human</td>\n",
       "    </tr>\n",
       "    <tr>\n",
       "      <th>7</th>\n",
       "      <td>R5-D4</td>\n",
       "      <td>97.0</td>\n",
       "      <td>32.0</td>\n",
       "      <td>NaN</td>\n",
       "      <td>white, red</td>\n",
       "      <td>red</td>\n",
       "      <td>NaN</td>\n",
       "      <td>robot</td>\n",
       "      <td>masculine</td>\n",
       "      <td>Tatooine</td>\n",
       "      <td>Droid</td>\n",
       "    </tr>\n",
       "    <tr>\n",
       "      <th>8</th>\n",
       "      <td>Biggs Darklighter</td>\n",
       "      <td>183.0</td>\n",
       "      <td>84.0</td>\n",
       "      <td>black</td>\n",
       "      <td>light</td>\n",
       "      <td>brown</td>\n",
       "      <td>24.0</td>\n",
       "      <td>male</td>\n",
       "      <td>masculine</td>\n",
       "      <td>Tatooine</td>\n",
       "      <td>Human</td>\n",
       "    </tr>\n",
       "    <tr>\n",
       "      <th>9</th>\n",
       "      <td>Obi-Wan Kenobi</td>\n",
       "      <td>182.0</td>\n",
       "      <td>77.0</td>\n",
       "      <td>auburn, white</td>\n",
       "      <td>fair</td>\n",
       "      <td>blue-gray</td>\n",
       "      <td>57.0</td>\n",
       "      <td>male</td>\n",
       "      <td>masculine</td>\n",
       "      <td>Stewjon</td>\n",
       "      <td>Human</td>\n",
       "    </tr>\n",
       "    <tr>\n",
       "      <th>10</th>\n",
       "      <td>Anakin Skywalker</td>\n",
       "      <td>188.0</td>\n",
       "      <td>84.0</td>\n",
       "      <td>blond</td>\n",
       "      <td>fair</td>\n",
       "      <td>blue</td>\n",
       "      <td>41.9</td>\n",
       "      <td>male</td>\n",
       "      <td>masculine</td>\n",
       "      <td>Tatooine</td>\n",
       "      <td>Human</td>\n",
       "    </tr>\n",
       "    <tr>\n",
       "      <th>12</th>\n",
       "      <td>Chewbacca</td>\n",
       "      <td>228.0</td>\n",
       "      <td>112.0</td>\n",
       "      <td>brown</td>\n",
       "      <td>unknown</td>\n",
       "      <td>blue</td>\n",
       "      <td>200.0</td>\n",
       "      <td>male</td>\n",
       "      <td>masculine</td>\n",
       "      <td>Kashyyyk</td>\n",
       "      <td>Wookiee</td>\n",
       "    </tr>\n",
       "    <tr>\n",
       "      <th>13</th>\n",
       "      <td>Han Solo</td>\n",
       "      <td>180.0</td>\n",
       "      <td>80.0</td>\n",
       "      <td>brown</td>\n",
       "      <td>fair</td>\n",
       "      <td>brown</td>\n",
       "      <td>29.0</td>\n",
       "      <td>male</td>\n",
       "      <td>masculine</td>\n",
       "      <td>Corellia</td>\n",
       "      <td>Human</td>\n",
       "    </tr>\n",
       "    <tr>\n",
       "      <th>14</th>\n",
       "      <td>Greedo</td>\n",
       "      <td>173.0</td>\n",
       "      <td>74.0</td>\n",
       "      <td>NaN</td>\n",
       "      <td>green</td>\n",
       "      <td>black</td>\n",
       "      <td>44.0</td>\n",
       "      <td>male</td>\n",
       "      <td>masculine</td>\n",
       "      <td>Rodia</td>\n",
       "      <td>Rodian</td>\n",
       "    </tr>\n",
       "    <tr>\n",
       "      <th>15</th>\n",
       "      <td>Jabba Desilijic Tiure</td>\n",
       "      <td>175.0</td>\n",
       "      <td>1358.0</td>\n",
       "      <td>NaN</td>\n",
       "      <td>green-tan, brown</td>\n",
       "      <td>orange</td>\n",
       "      <td>600.0</td>\n",
       "      <td>hermaphroditic</td>\n",
       "      <td>masculine</td>\n",
       "      <td>Nal Hutta</td>\n",
       "      <td>Hutt</td>\n",
       "    </tr>\n",
       "    <tr>\n",
       "      <th>16</th>\n",
       "      <td>Wedge Antilles</td>\n",
       "      <td>170.0</td>\n",
       "      <td>77.0</td>\n",
       "      <td>brown</td>\n",
       "      <td>fair</td>\n",
       "      <td>hazel</td>\n",
       "      <td>21.0</td>\n",
       "      <td>male</td>\n",
       "      <td>masculine</td>\n",
       "      <td>Corellia</td>\n",
       "      <td>Human</td>\n",
       "    </tr>\n",
       "    <tr>\n",
       "      <th>17</th>\n",
       "      <td>Jek Tono Porkins</td>\n",
       "      <td>180.0</td>\n",
       "      <td>110.0</td>\n",
       "      <td>brown</td>\n",
       "      <td>fair</td>\n",
       "      <td>blue</td>\n",
       "      <td>NaN</td>\n",
       "      <td>male</td>\n",
       "      <td>masculine</td>\n",
       "      <td>Bestine IV</td>\n",
       "      <td>Human</td>\n",
       "    </tr>\n",
       "    <tr>\n",
       "      <th>18</th>\n",
       "      <td>Yoda</td>\n",
       "      <td>66.0</td>\n",
       "      <td>17.0</td>\n",
       "      <td>white</td>\n",
       "      <td>green</td>\n",
       "      <td>brown</td>\n",
       "      <td>896.0</td>\n",
       "      <td>male</td>\n",
       "      <td>masculine</td>\n",
       "      <td>NaN</td>\n",
       "      <td>Yoda's species</td>\n",
       "    </tr>\n",
       "    <tr>\n",
       "      <th>19</th>\n",
       "      <td>Palpatine</td>\n",
       "      <td>170.0</td>\n",
       "      <td>75.0</td>\n",
       "      <td>grey</td>\n",
       "      <td>pale</td>\n",
       "      <td>yellow</td>\n",
       "      <td>82.0</td>\n",
       "      <td>male</td>\n",
       "      <td>masculine</td>\n",
       "      <td>Naboo</td>\n",
       "      <td>Human</td>\n",
       "    </tr>\n",
       "    <tr>\n",
       "      <th>20</th>\n",
       "      <td>Boba Fett</td>\n",
       "      <td>183.0</td>\n",
       "      <td>78.2</td>\n",
       "      <td>black</td>\n",
       "      <td>fair</td>\n",
       "      <td>brown</td>\n",
       "      <td>31.5</td>\n",
       "      <td>male</td>\n",
       "      <td>masculine</td>\n",
       "      <td>Kamino</td>\n",
       "      <td>Human</td>\n",
       "    </tr>\n",
       "    <tr>\n",
       "      <th>21</th>\n",
       "      <td>IG-88</td>\n",
       "      <td>200.0</td>\n",
       "      <td>140.0</td>\n",
       "      <td>none</td>\n",
       "      <td>metal</td>\n",
       "      <td>red</td>\n",
       "      <td>15.0</td>\n",
       "      <td>robot</td>\n",
       "      <td>masculine</td>\n",
       "      <td>NaN</td>\n",
       "      <td>Droid</td>\n",
       "    </tr>\n",
       "    <tr>\n",
       "      <th>22</th>\n",
       "      <td>Bossk</td>\n",
       "      <td>190.0</td>\n",
       "      <td>113.0</td>\n",
       "      <td>none</td>\n",
       "      <td>green</td>\n",
       "      <td>red</td>\n",
       "      <td>53.0</td>\n",
       "      <td>male</td>\n",
       "      <td>masculine</td>\n",
       "      <td>Trandosha</td>\n",
       "      <td>Trandoshan</td>\n",
       "    </tr>\n",
       "    <tr>\n",
       "      <th>23</th>\n",
       "      <td>Lando Calrissian</td>\n",
       "      <td>177.0</td>\n",
       "      <td>79.0</td>\n",
       "      <td>black</td>\n",
       "      <td>dark</td>\n",
       "      <td>brown</td>\n",
       "      <td>31.0</td>\n",
       "      <td>male</td>\n",
       "      <td>masculine</td>\n",
       "      <td>Socorro</td>\n",
       "      <td>Human</td>\n",
       "    </tr>\n",
       "    <tr>\n",
       "      <th>24</th>\n",
       "      <td>Lobot</td>\n",
       "      <td>175.0</td>\n",
       "      <td>79.0</td>\n",
       "      <td>none</td>\n",
       "      <td>light</td>\n",
       "      <td>blue</td>\n",
       "      <td>37.0</td>\n",
       "      <td>male</td>\n",
       "      <td>masculine</td>\n",
       "      <td>Bespin</td>\n",
       "      <td>Human</td>\n",
       "    </tr>\n",
       "    <tr>\n",
       "      <th>25</th>\n",
       "      <td>Ackbar</td>\n",
       "      <td>180.0</td>\n",
       "      <td>83.0</td>\n",
       "      <td>none</td>\n",
       "      <td>brown mottle</td>\n",
       "      <td>orange</td>\n",
       "      <td>41.0</td>\n",
       "      <td>male</td>\n",
       "      <td>masculine</td>\n",
       "      <td>Mon Cala</td>\n",
       "      <td>Mon Calamari</td>\n",
       "    </tr>\n",
       "    <tr>\n",
       "      <th>28</th>\n",
       "      <td>Wicket Systri Warrick</td>\n",
       "      <td>88.0</td>\n",
       "      <td>20.0</td>\n",
       "      <td>brown</td>\n",
       "      <td>brown</td>\n",
       "      <td>brown</td>\n",
       "      <td>8.0</td>\n",
       "      <td>male</td>\n",
       "      <td>masculine</td>\n",
       "      <td>Endor</td>\n",
       "      <td>Ewok</td>\n",
       "    </tr>\n",
       "    <tr>\n",
       "      <th>29</th>\n",
       "      <td>Nien Nunb</td>\n",
       "      <td>160.0</td>\n",
       "      <td>68.0</td>\n",
       "      <td>none</td>\n",
       "      <td>grey</td>\n",
       "      <td>black</td>\n",
       "      <td>NaN</td>\n",
       "      <td>male</td>\n",
       "      <td>masculine</td>\n",
       "      <td>Sullust</td>\n",
       "      <td>Sullustan</td>\n",
       "    </tr>\n",
       "    <tr>\n",
       "      <th>30</th>\n",
       "      <td>Qui-Gon Jinn</td>\n",
       "      <td>193.0</td>\n",
       "      <td>89.0</td>\n",
       "      <td>brown</td>\n",
       "      <td>fair</td>\n",
       "      <td>blue</td>\n",
       "      <td>92.0</td>\n",
       "      <td>male</td>\n",
       "      <td>masculine</td>\n",
       "      <td>NaN</td>\n",
       "      <td>Human</td>\n",
       "    </tr>\n",
       "    <tr>\n",
       "      <th>31</th>\n",
       "      <td>Nute Gunray</td>\n",
       "      <td>191.0</td>\n",
       "      <td>90.0</td>\n",
       "      <td>none</td>\n",
       "      <td>mottled green</td>\n",
       "      <td>red</td>\n",
       "      <td>NaN</td>\n",
       "      <td>male</td>\n",
       "      <td>masculine</td>\n",
       "      <td>Cato Neimoidia</td>\n",
       "      <td>Neimodian</td>\n",
       "    </tr>\n",
       "    <tr>\n",
       "      <th>33</th>\n",
       "      <td>Jar Jar Binks</td>\n",
       "      <td>196.0</td>\n",
       "      <td>66.0</td>\n",
       "      <td>none</td>\n",
       "      <td>orange</td>\n",
       "      <td>orange</td>\n",
       "      <td>52.0</td>\n",
       "      <td>male</td>\n",
       "      <td>masculine</td>\n",
       "      <td>Naboo</td>\n",
       "      <td>Gungan</td>\n",
       "    </tr>\n",
       "    <tr>\n",
       "      <th>34</th>\n",
       "      <td>Roos Tarpals</td>\n",
       "      <td>224.0</td>\n",
       "      <td>82.0</td>\n",
       "      <td>none</td>\n",
       "      <td>grey</td>\n",
       "      <td>orange</td>\n",
       "      <td>NaN</td>\n",
       "      <td>male</td>\n",
       "      <td>masculine</td>\n",
       "      <td>Naboo</td>\n",
       "      <td>Gungan</td>\n",
       "    </tr>\n",
       "    <tr>\n",
       "      <th>38</th>\n",
       "      <td>Sebulba</td>\n",
       "      <td>112.0</td>\n",
       "      <td>40.0</td>\n",
       "      <td>none</td>\n",
       "      <td>grey, red</td>\n",
       "      <td>orange</td>\n",
       "      <td>NaN</td>\n",
       "      <td>male</td>\n",
       "      <td>masculine</td>\n",
       "      <td>Malastare</td>\n",
       "      <td>Dug</td>\n",
       "    </tr>\n",
       "    <tr>\n",
       "      <th>41</th>\n",
       "      <td>Darth Maul</td>\n",
       "      <td>175.0</td>\n",
       "      <td>80.0</td>\n",
       "      <td>none</td>\n",
       "      <td>red</td>\n",
       "      <td>yellow</td>\n",
       "      <td>54.0</td>\n",
       "      <td>male</td>\n",
       "      <td>masculine</td>\n",
       "      <td>Dathomir</td>\n",
       "      <td>Zabrak</td>\n",
       "    </tr>\n",
       "    <tr>\n",
       "      <th>43</th>\n",
       "      <td>Ayla Secura</td>\n",
       "      <td>178.0</td>\n",
       "      <td>55.0</td>\n",
       "      <td>none</td>\n",
       "      <td>blue</td>\n",
       "      <td>hazel</td>\n",
       "      <td>48.0</td>\n",
       "      <td>female</td>\n",
       "      <td>feminine</td>\n",
       "      <td>Ryloth</td>\n",
       "      <td>Twi'lek</td>\n",
       "    </tr>\n",
       "    <tr>\n",
       "      <th>44</th>\n",
       "      <td>Dud Bolt</td>\n",
       "      <td>94.0</td>\n",
       "      <td>45.0</td>\n",
       "      <td>none</td>\n",
       "      <td>blue, grey</td>\n",
       "      <td>yellow</td>\n",
       "      <td>NaN</td>\n",
       "      <td>male</td>\n",
       "      <td>masculine</td>\n",
       "      <td>Vulpter</td>\n",
       "      <td>Vulptereen</td>\n",
       "    </tr>\n",
       "    <tr>\n",
       "      <th>46</th>\n",
       "      <td>Ben Quadinaros</td>\n",
       "      <td>163.0</td>\n",
       "      <td>65.0</td>\n",
       "      <td>none</td>\n",
       "      <td>grey, green, yellow</td>\n",
       "      <td>orange</td>\n",
       "      <td>NaN</td>\n",
       "      <td>male</td>\n",
       "      <td>masculine</td>\n",
       "      <td>Tund</td>\n",
       "      <td>Toong</td>\n",
       "    </tr>\n",
       "    <tr>\n",
       "      <th>47</th>\n",
       "      <td>Mace Windu</td>\n",
       "      <td>188.0</td>\n",
       "      <td>84.0</td>\n",
       "      <td>none</td>\n",
       "      <td>dark</td>\n",
       "      <td>brown</td>\n",
       "      <td>72.0</td>\n",
       "      <td>male</td>\n",
       "      <td>masculine</td>\n",
       "      <td>Haruun Kal</td>\n",
       "      <td>Human</td>\n",
       "    </tr>\n",
       "    <tr>\n",
       "      <th>48</th>\n",
       "      <td>Ki-Adi-Mundi</td>\n",
       "      <td>198.0</td>\n",
       "      <td>82.0</td>\n",
       "      <td>white</td>\n",
       "      <td>pale</td>\n",
       "      <td>yellow</td>\n",
       "      <td>92.0</td>\n",
       "      <td>male</td>\n",
       "      <td>masculine</td>\n",
       "      <td>Cerea</td>\n",
       "      <td>Cerean</td>\n",
       "    </tr>\n",
       "    <tr>\n",
       "      <th>49</th>\n",
       "      <td>Kit Fisto</td>\n",
       "      <td>196.0</td>\n",
       "      <td>87.0</td>\n",
       "      <td>none</td>\n",
       "      <td>green</td>\n",
       "      <td>black</td>\n",
       "      <td>NaN</td>\n",
       "      <td>male</td>\n",
       "      <td>masculine</td>\n",
       "      <td>Glee Anselm</td>\n",
       "      <td>Nautolan</td>\n",
       "    </tr>\n",
       "    <tr>\n",
       "      <th>51</th>\n",
       "      <td>Adi Gallia</td>\n",
       "      <td>184.0</td>\n",
       "      <td>50.0</td>\n",
       "      <td>none</td>\n",
       "      <td>dark</td>\n",
       "      <td>blue</td>\n",
       "      <td>NaN</td>\n",
       "      <td>female</td>\n",
       "      <td>feminine</td>\n",
       "      <td>Coruscant</td>\n",
       "      <td>Tholothian</td>\n",
       "    </tr>\n",
       "    <tr>\n",
       "      <th>54</th>\n",
       "      <td>Plo Koon</td>\n",
       "      <td>188.0</td>\n",
       "      <td>80.0</td>\n",
       "      <td>none</td>\n",
       "      <td>orange</td>\n",
       "      <td>black</td>\n",
       "      <td>22.0</td>\n",
       "      <td>male</td>\n",
       "      <td>masculine</td>\n",
       "      <td>Dorin</td>\n",
       "      <td>Kel Dor</td>\n",
       "    </tr>\n",
       "    <tr>\n",
       "      <th>56</th>\n",
       "      <td>Gregar Typho</td>\n",
       "      <td>185.0</td>\n",
       "      <td>85.0</td>\n",
       "      <td>black</td>\n",
       "      <td>dark</td>\n",
       "      <td>brown</td>\n",
       "      <td>NaN</td>\n",
       "      <td>male</td>\n",
       "      <td>masculine</td>\n",
       "      <td>Naboo</td>\n",
       "      <td>Human</td>\n",
       "    </tr>\n",
       "    <tr>\n",
       "      <th>59</th>\n",
       "      <td>Poggle the Lesser</td>\n",
       "      <td>183.0</td>\n",
       "      <td>80.0</td>\n",
       "      <td>none</td>\n",
       "      <td>green</td>\n",
       "      <td>yellow</td>\n",
       "      <td>NaN</td>\n",
       "      <td>male</td>\n",
       "      <td>masculine</td>\n",
       "      <td>Geonosis</td>\n",
       "      <td>Geonosian</td>\n",
       "    </tr>\n",
       "    <tr>\n",
       "      <th>60</th>\n",
       "      <td>Luminara Unduli</td>\n",
       "      <td>170.0</td>\n",
       "      <td>56.2</td>\n",
       "      <td>black</td>\n",
       "      <td>yellow</td>\n",
       "      <td>blue</td>\n",
       "      <td>58.0</td>\n",
       "      <td>female</td>\n",
       "      <td>feminine</td>\n",
       "      <td>Mirial</td>\n",
       "      <td>Mirialan</td>\n",
       "    </tr>\n",
       "    <tr>\n",
       "      <th>61</th>\n",
       "      <td>Barriss Offee</td>\n",
       "      <td>166.0</td>\n",
       "      <td>50.0</td>\n",
       "      <td>black</td>\n",
       "      <td>yellow</td>\n",
       "      <td>blue</td>\n",
       "      <td>40.0</td>\n",
       "      <td>female</td>\n",
       "      <td>feminine</td>\n",
       "      <td>Mirial</td>\n",
       "      <td>Mirialan</td>\n",
       "    </tr>\n",
       "    <tr>\n",
       "      <th>63</th>\n",
       "      <td>Dooku</td>\n",
       "      <td>193.0</td>\n",
       "      <td>80.0</td>\n",
       "      <td>white</td>\n",
       "      <td>fair</td>\n",
       "      <td>brown</td>\n",
       "      <td>102.0</td>\n",
       "      <td>male</td>\n",
       "      <td>masculine</td>\n",
       "      <td>Serenno</td>\n",
       "      <td>Human</td>\n",
       "    </tr>\n",
       "    <tr>\n",
       "      <th>65</th>\n",
       "      <td>Jango Fett</td>\n",
       "      <td>183.0</td>\n",
       "      <td>79.0</td>\n",
       "      <td>black</td>\n",
       "      <td>tan</td>\n",
       "      <td>brown</td>\n",
       "      <td>66.0</td>\n",
       "      <td>male</td>\n",
       "      <td>masculine</td>\n",
       "      <td>Concord Dawn</td>\n",
       "      <td>Human</td>\n",
       "    </tr>\n",
       "    <tr>\n",
       "      <th>66</th>\n",
       "      <td>Zam Wesell</td>\n",
       "      <td>168.0</td>\n",
       "      <td>55.0</td>\n",
       "      <td>blonde</td>\n",
       "      <td>fair, green, yellow</td>\n",
       "      <td>yellow</td>\n",
       "      <td>NaN</td>\n",
       "      <td>female</td>\n",
       "      <td>feminine</td>\n",
       "      <td>Zolan</td>\n",
       "      <td>Clawdite</td>\n",
       "    </tr>\n",
       "    <tr>\n",
       "      <th>67</th>\n",
       "      <td>Dexter Jettster</td>\n",
       "      <td>198.0</td>\n",
       "      <td>102.0</td>\n",
       "      <td>none</td>\n",
       "      <td>brown</td>\n",
       "      <td>yellow</td>\n",
       "      <td>NaN</td>\n",
       "      <td>male</td>\n",
       "      <td>masculine</td>\n",
       "      <td>Ojom</td>\n",
       "      <td>Besalisk</td>\n",
       "    </tr>\n",
       "    <tr>\n",
       "      <th>68</th>\n",
       "      <td>Lama Su</td>\n",
       "      <td>229.0</td>\n",
       "      <td>88.0</td>\n",
       "      <td>none</td>\n",
       "      <td>grey</td>\n",
       "      <td>black</td>\n",
       "      <td>NaN</td>\n",
       "      <td>male</td>\n",
       "      <td>masculine</td>\n",
       "      <td>Kamino</td>\n",
       "      <td>Kaminoan</td>\n",
       "    </tr>\n",
       "    <tr>\n",
       "      <th>71</th>\n",
       "      <td>Ratts Tyerell</td>\n",
       "      <td>79.0</td>\n",
       "      <td>15.0</td>\n",
       "      <td>none</td>\n",
       "      <td>grey, blue</td>\n",
       "      <td>unknown</td>\n",
       "      <td>NaN</td>\n",
       "      <td>male</td>\n",
       "      <td>masculine</td>\n",
       "      <td>Aleen Minor</td>\n",
       "      <td>Aleena</td>\n",
       "    </tr>\n",
       "    <tr>\n",
       "      <th>73</th>\n",
       "      <td>Wat Tambor</td>\n",
       "      <td>193.0</td>\n",
       "      <td>48.0</td>\n",
       "      <td>none</td>\n",
       "      <td>green, grey</td>\n",
       "      <td>unknown</td>\n",
       "      <td>NaN</td>\n",
       "      <td>male</td>\n",
       "      <td>masculine</td>\n",
       "      <td>Skako</td>\n",
       "      <td>Skakoan</td>\n",
       "    </tr>\n",
       "    <tr>\n",
       "      <th>75</th>\n",
       "      <td>Shaak Ti</td>\n",
       "      <td>178.0</td>\n",
       "      <td>57.0</td>\n",
       "      <td>none</td>\n",
       "      <td>red, blue, white</td>\n",
       "      <td>black</td>\n",
       "      <td>NaN</td>\n",
       "      <td>female</td>\n",
       "      <td>feminine</td>\n",
       "      <td>Shili</td>\n",
       "      <td>Togruta</td>\n",
       "    </tr>\n",
       "    <tr>\n",
       "      <th>76</th>\n",
       "      <td>Grievous</td>\n",
       "      <td>216.0</td>\n",
       "      <td>159.0</td>\n",
       "      <td>none</td>\n",
       "      <td>brown, white</td>\n",
       "      <td>green, yellow</td>\n",
       "      <td>NaN</td>\n",
       "      <td>male</td>\n",
       "      <td>masculine</td>\n",
       "      <td>Kalee</td>\n",
       "      <td>Kaleesh</td>\n",
       "    </tr>\n",
       "    <tr>\n",
       "      <th>77</th>\n",
       "      <td>Tarfful</td>\n",
       "      <td>234.0</td>\n",
       "      <td>136.0</td>\n",
       "      <td>brown</td>\n",
       "      <td>brown</td>\n",
       "      <td>blue</td>\n",
       "      <td>NaN</td>\n",
       "      <td>male</td>\n",
       "      <td>masculine</td>\n",
       "      <td>Kashyyyk</td>\n",
       "      <td>Wookiee</td>\n",
       "    </tr>\n",
       "    <tr>\n",
       "      <th>78</th>\n",
       "      <td>Raymus Antilles</td>\n",
       "      <td>188.0</td>\n",
       "      <td>79.0</td>\n",
       "      <td>brown</td>\n",
       "      <td>light</td>\n",
       "      <td>brown</td>\n",
       "      <td>NaN</td>\n",
       "      <td>male</td>\n",
       "      <td>masculine</td>\n",
       "      <td>Alderaan</td>\n",
       "      <td>Human</td>\n",
       "    </tr>\n",
       "    <tr>\n",
       "      <th>79</th>\n",
       "      <td>Sly Moore</td>\n",
       "      <td>178.0</td>\n",
       "      <td>48.0</td>\n",
       "      <td>none</td>\n",
       "      <td>pale</td>\n",
       "      <td>white</td>\n",
       "      <td>NaN</td>\n",
       "      <td>NaN</td>\n",
       "      <td>NaN</td>\n",
       "      <td>Umbara</td>\n",
       "      <td>NaN</td>\n",
       "    </tr>\n",
       "    <tr>\n",
       "      <th>80</th>\n",
       "      <td>Tion Medon</td>\n",
       "      <td>206.0</td>\n",
       "      <td>80.0</td>\n",
       "      <td>none</td>\n",
       "      <td>grey</td>\n",
       "      <td>black</td>\n",
       "      <td>NaN</td>\n",
       "      <td>male</td>\n",
       "      <td>masculine</td>\n",
       "      <td>Utapau</td>\n",
       "      <td>Pau'an</td>\n",
       "    </tr>\n",
       "    <tr>\n",
       "      <th>86</th>\n",
       "      <td>Padm? Amidala</td>\n",
       "      <td>165.0</td>\n",
       "      <td>45.0</td>\n",
       "      <td>brown</td>\n",
       "      <td>light</td>\n",
       "      <td>brown</td>\n",
       "      <td>46.0</td>\n",
       "      <td>female</td>\n",
       "      <td>feminine</td>\n",
       "      <td>Naboo</td>\n",
       "      <td>Human</td>\n",
       "    </tr>\n",
       "  </tbody>\n",
       "</table>\n",
       "</div>"
      ],
      "text/plain": [
       "                     name  height    mass     hair_color           skin_color  \\\n",
       "0          Luke Skywalker   172.0    77.0          blond                 fair   \n",
       "1                   C-3PO   167.0    75.0            NaN                 gold   \n",
       "2                   R2-D2    96.0    32.0            NaN          white, blue   \n",
       "3             Darth Vader   202.0   136.0           none                white   \n",
       "4             Leia Organa   150.0    49.0          brown                light   \n",
       "5               Owen Lars   178.0   120.0    brown, grey                light   \n",
       "6      Beru Whitesun lars   165.0    75.0          brown                light   \n",
       "7                   R5-D4    97.0    32.0            NaN           white, red   \n",
       "8       Biggs Darklighter   183.0    84.0          black                light   \n",
       "9          Obi-Wan Kenobi   182.0    77.0  auburn, white                 fair   \n",
       "10       Anakin Skywalker   188.0    84.0          blond                 fair   \n",
       "12              Chewbacca   228.0   112.0          brown              unknown   \n",
       "13               Han Solo   180.0    80.0          brown                 fair   \n",
       "14                 Greedo   173.0    74.0            NaN                green   \n",
       "15  Jabba Desilijic Tiure   175.0  1358.0            NaN     green-tan, brown   \n",
       "16         Wedge Antilles   170.0    77.0          brown                 fair   \n",
       "17       Jek Tono Porkins   180.0   110.0          brown                 fair   \n",
       "18                   Yoda    66.0    17.0          white                green   \n",
       "19              Palpatine   170.0    75.0           grey                 pale   \n",
       "20              Boba Fett   183.0    78.2          black                 fair   \n",
       "21                  IG-88   200.0   140.0           none                metal   \n",
       "22                  Bossk   190.0   113.0           none                green   \n",
       "23       Lando Calrissian   177.0    79.0          black                 dark   \n",
       "24                  Lobot   175.0    79.0           none                light   \n",
       "25                 Ackbar   180.0    83.0           none         brown mottle   \n",
       "28  Wicket Systri Warrick    88.0    20.0          brown                brown   \n",
       "29              Nien Nunb   160.0    68.0           none                 grey   \n",
       "30           Qui-Gon Jinn   193.0    89.0          brown                 fair   \n",
       "31            Nute Gunray   191.0    90.0           none        mottled green   \n",
       "33          Jar Jar Binks   196.0    66.0           none               orange   \n",
       "34           Roos Tarpals   224.0    82.0           none                 grey   \n",
       "38                Sebulba   112.0    40.0           none            grey, red   \n",
       "41             Darth Maul   175.0    80.0           none                  red   \n",
       "43            Ayla Secura   178.0    55.0           none                 blue   \n",
       "44               Dud Bolt    94.0    45.0           none           blue, grey   \n",
       "46         Ben Quadinaros   163.0    65.0           none  grey, green, yellow   \n",
       "47             Mace Windu   188.0    84.0           none                 dark   \n",
       "48           Ki-Adi-Mundi   198.0    82.0          white                 pale   \n",
       "49              Kit Fisto   196.0    87.0           none                green   \n",
       "51             Adi Gallia   184.0    50.0           none                 dark   \n",
       "54               Plo Koon   188.0    80.0           none               orange   \n",
       "56           Gregar Typho   185.0    85.0          black                 dark   \n",
       "59      Poggle the Lesser   183.0    80.0           none                green   \n",
       "60        Luminara Unduli   170.0    56.2          black               yellow   \n",
       "61          Barriss Offee   166.0    50.0          black               yellow   \n",
       "63                  Dooku   193.0    80.0          white                 fair   \n",
       "65             Jango Fett   183.0    79.0          black                  tan   \n",
       "66             Zam Wesell   168.0    55.0         blonde  fair, green, yellow   \n",
       "67        Dexter Jettster   198.0   102.0           none                brown   \n",
       "68                Lama Su   229.0    88.0           none                 grey   \n",
       "71          Ratts Tyerell    79.0    15.0           none           grey, blue   \n",
       "73             Wat Tambor   193.0    48.0           none          green, grey   \n",
       "75               Shaak Ti   178.0    57.0           none     red, blue, white   \n",
       "76               Grievous   216.0   159.0           none         brown, white   \n",
       "77                Tarfful   234.0   136.0          brown                brown   \n",
       "78        Raymus Antilles   188.0    79.0          brown                light   \n",
       "79              Sly Moore   178.0    48.0           none                 pale   \n",
       "80             Tion Medon   206.0    80.0           none                 grey   \n",
       "86          Padm? Amidala   165.0    45.0          brown                light   \n",
       "\n",
       "        eye_color  birth_year             sex     gender       homeworld  \\\n",
       "0            blue        19.0            male  masculine        Tatooine   \n",
       "1          yellow       112.0           robot  masculine        Tatooine   \n",
       "2             red        33.0           robot  masculine           Naboo   \n",
       "3          yellow        41.9            male  masculine        Tatooine   \n",
       "4           brown        19.0          female   feminine        Alderaan   \n",
       "5            blue        52.0            male  masculine        Tatooine   \n",
       "6            blue        47.0          female   feminine        Tatooine   \n",
       "7             red         NaN           robot  masculine        Tatooine   \n",
       "8           brown        24.0            male  masculine        Tatooine   \n",
       "9       blue-gray        57.0            male  masculine         Stewjon   \n",
       "10           blue        41.9            male  masculine        Tatooine   \n",
       "12           blue       200.0            male  masculine        Kashyyyk   \n",
       "13          brown        29.0            male  masculine        Corellia   \n",
       "14          black        44.0            male  masculine           Rodia   \n",
       "15         orange       600.0  hermaphroditic  masculine       Nal Hutta   \n",
       "16          hazel        21.0            male  masculine        Corellia   \n",
       "17           blue         NaN            male  masculine      Bestine IV   \n",
       "18          brown       896.0            male  masculine             NaN   \n",
       "19         yellow        82.0            male  masculine           Naboo   \n",
       "20          brown        31.5            male  masculine          Kamino   \n",
       "21            red        15.0           robot  masculine             NaN   \n",
       "22            red        53.0            male  masculine       Trandosha   \n",
       "23          brown        31.0            male  masculine         Socorro   \n",
       "24           blue        37.0            male  masculine          Bespin   \n",
       "25         orange        41.0            male  masculine        Mon Cala   \n",
       "28          brown         8.0            male  masculine           Endor   \n",
       "29          black         NaN            male  masculine         Sullust   \n",
       "30           blue        92.0            male  masculine             NaN   \n",
       "31            red         NaN            male  masculine  Cato Neimoidia   \n",
       "33         orange        52.0            male  masculine           Naboo   \n",
       "34         orange         NaN            male  masculine           Naboo   \n",
       "38         orange         NaN            male  masculine       Malastare   \n",
       "41         yellow        54.0            male  masculine        Dathomir   \n",
       "43          hazel        48.0          female   feminine          Ryloth   \n",
       "44         yellow         NaN            male  masculine         Vulpter   \n",
       "46         orange         NaN            male  masculine            Tund   \n",
       "47          brown        72.0            male  masculine      Haruun Kal   \n",
       "48         yellow        92.0            male  masculine           Cerea   \n",
       "49          black         NaN            male  masculine     Glee Anselm   \n",
       "51           blue         NaN          female   feminine       Coruscant   \n",
       "54          black        22.0            male  masculine           Dorin   \n",
       "56          brown         NaN            male  masculine           Naboo   \n",
       "59         yellow         NaN            male  masculine        Geonosis   \n",
       "60           blue        58.0          female   feminine          Mirial   \n",
       "61           blue        40.0          female   feminine          Mirial   \n",
       "63          brown       102.0            male  masculine         Serenno   \n",
       "65          brown        66.0            male  masculine    Concord Dawn   \n",
       "66         yellow         NaN          female   feminine           Zolan   \n",
       "67         yellow         NaN            male  masculine            Ojom   \n",
       "68          black         NaN            male  masculine          Kamino   \n",
       "71        unknown         NaN            male  masculine     Aleen Minor   \n",
       "73        unknown         NaN            male  masculine           Skako   \n",
       "75          black         NaN          female   feminine           Shili   \n",
       "76  green, yellow         NaN            male  masculine           Kalee   \n",
       "77           blue         NaN            male  masculine        Kashyyyk   \n",
       "78          brown         NaN            male  masculine        Alderaan   \n",
       "79          white         NaN             NaN        NaN          Umbara   \n",
       "80          black         NaN            male  masculine          Utapau   \n",
       "86          brown        46.0          female   feminine           Naboo   \n",
       "\n",
       "           species  \n",
       "0            Human  \n",
       "1            Droid  \n",
       "2            Droid  \n",
       "3            Human  \n",
       "4            Human  \n",
       "5            Human  \n",
       "6            Human  \n",
       "7            Droid  \n",
       "8            Human  \n",
       "9            Human  \n",
       "10           Human  \n",
       "12         Wookiee  \n",
       "13           Human  \n",
       "14          Rodian  \n",
       "15            Hutt  \n",
       "16           Human  \n",
       "17           Human  \n",
       "18  Yoda's species  \n",
       "19           Human  \n",
       "20           Human  \n",
       "21           Droid  \n",
       "22      Trandoshan  \n",
       "23           Human  \n",
       "24           Human  \n",
       "25    Mon Calamari  \n",
       "28            Ewok  \n",
       "29       Sullustan  \n",
       "30           Human  \n",
       "31       Neimodian  \n",
       "33          Gungan  \n",
       "34          Gungan  \n",
       "38             Dug  \n",
       "41          Zabrak  \n",
       "43         Twi'lek  \n",
       "44      Vulptereen  \n",
       "46           Toong  \n",
       "47           Human  \n",
       "48          Cerean  \n",
       "49        Nautolan  \n",
       "51      Tholothian  \n",
       "54         Kel Dor  \n",
       "56           Human  \n",
       "59       Geonosian  \n",
       "60        Mirialan  \n",
       "61        Mirialan  \n",
       "63           Human  \n",
       "65           Human  \n",
       "66        Clawdite  \n",
       "67        Besalisk  \n",
       "68        Kaminoan  \n",
       "71          Aleena  \n",
       "73         Skakoan  \n",
       "75         Togruta  \n",
       "76         Kaleesh  \n",
       "77         Wookiee  \n",
       "78           Human  \n",
       "79             NaN  \n",
       "80          Pau'an  \n",
       "86           Human  "
      ]
     },
     "execution_count": 36,
     "metadata": {},
     "output_type": "execute_result"
    }
   ],
   "source": [
    "starwars[starwars['mass'] != 0].sort_values('mass').head(1)\n",
    "df1 = starwars[starwars['mass'] != 0]\n",
    "df1"
   ]
  },
  {
   "cell_type": "code",
   "execution_count": 37,
   "id": "ed8acf2b",
   "metadata": {},
   "outputs": [
    {
     "data": {
      "text/plain": [
       "15.0"
      ]
     },
     "execution_count": 37,
     "metadata": {},
     "output_type": "execute_result"
    }
   ],
   "source": [
    "min(df1['mass'])"
   ]
  },
  {
   "cell_type": "code",
   "execution_count": 38,
   "id": "f7788e89",
   "metadata": {},
   "outputs": [
    {
     "data": {
      "text/plain": [
       "1358.0"
      ]
     },
     "execution_count": 38,
     "metadata": {},
     "output_type": "execute_result"
    }
   ],
   "source": [
    "max(df1['mass'])"
   ]
  },
  {
   "cell_type": "code",
   "execution_count": 39,
   "id": "ae998931",
   "metadata": {},
   "outputs": [
    {
     "data": {
      "text/plain": [
       "array(['Ratts Tyerell'], dtype=object)"
      ]
     },
     "execution_count": 39,
     "metadata": {},
     "output_type": "execute_result"
    }
   ],
   "source": [
    "df1[df1['mass'] == min(df1['mass'])]['name'].values"
   ]
  },
  {
   "cell_type": "code",
   "execution_count": 40,
   "id": "1b6f7c35",
   "metadata": {},
   "outputs": [
    {
     "data": {
      "text/plain": [
       "array(['Jabba Desilijic Tiure'], dtype=object)"
      ]
     },
     "execution_count": 40,
     "metadata": {},
     "output_type": "execute_result"
    }
   ],
   "source": [
    "df1[df1['mass'] == max(df1['mass'])]['name'].values"
   ]
  },
  {
   "cell_type": "code",
   "execution_count": 41,
   "id": "81b97069",
   "metadata": {},
   "outputs": [
    {
     "name": "stdout",
     "output_type": "stream",
     "text": [
      "['Ratts Tyerell']의 몸무게가 15.0로 가장 가볍다. \n",
      "['Jabba Desilijic Tiure']의 몸무게가 1358.0로 가장 무겁다. \n"
     ]
    }
   ],
   "source": [
    "print(\"{}의 몸무게가 {}로 가장 가볍다. \".format(df1[df1['mass'] == min(df1['mass'])]['name'].values, min(df1['mass'])))\n",
    "print(\"{}의 몸무게가 {}로 가장 무겁다. \".format(df1[df1['mass'] == max(df1['mass'])]['name'].values, max(df1['mass'])))"
   ]
  },
  {
   "cell_type": "markdown",
   "id": "c2d2d6f1",
   "metadata": {},
   "source": [
    "#### 4) 스타워즈 캐릭터의 종족간 몸무게 비교"
   ]
  },
  {
   "cell_type": "code",
   "execution_count": 42,
   "id": "f31f252b",
   "metadata": {},
   "outputs": [
    {
     "data": {
      "text/html": [
       "<div>\n",
       "<style scoped>\n",
       "    .dataframe tbody tr th:only-of-type {\n",
       "        vertical-align: middle;\n",
       "    }\n",
       "\n",
       "    .dataframe tbody tr th {\n",
       "        vertical-align: top;\n",
       "    }\n",
       "\n",
       "    .dataframe thead th {\n",
       "        text-align: right;\n",
       "    }\n",
       "</style>\n",
       "<table border=\"1\" class=\"dataframe\">\n",
       "  <thead>\n",
       "    <tr style=\"text-align: right;\">\n",
       "      <th></th>\n",
       "      <th>mass</th>\n",
       "    </tr>\n",
       "    <tr>\n",
       "      <th>species</th>\n",
       "      <th></th>\n",
       "    </tr>\n",
       "  </thead>\n",
       "  <tbody>\n",
       "    <tr>\n",
       "      <th>Aleena</th>\n",
       "      <td>15.0</td>\n",
       "    </tr>\n",
       "    <tr>\n",
       "      <th>Besalisk</th>\n",
       "      <td>102.0</td>\n",
       "    </tr>\n",
       "    <tr>\n",
       "      <th>Cerean</th>\n",
       "      <td>82.0</td>\n",
       "    </tr>\n",
       "  </tbody>\n",
       "</table>\n",
       "</div>"
      ],
      "text/plain": [
       "           mass\n",
       "species        \n",
       "Aleena     15.0\n",
       "Besalisk  102.0\n",
       "Cerean     82.0"
      ]
     },
     "execution_count": 42,
     "metadata": {},
     "output_type": "execute_result"
    }
   ],
   "source": [
    "weight = starwars[['species','mass']].groupby('species').mean()\n",
    "weight.head(3)"
   ]
  },
  {
   "cell_type": "code",
   "execution_count": 43,
   "id": "3b9260ac",
   "metadata": {},
   "outputs": [],
   "source": [
    "# 몸무게 많은 순으로 상위 10개 종족의 평균 몸무게 그래프 작성"
   ]
  },
  {
   "cell_type": "code",
   "execution_count": 44,
   "id": "5514d991",
   "metadata": {
    "scrolled": true
   },
   "outputs": [
    {
     "data": {
      "text/html": [
       "<div>\n",
       "<style scoped>\n",
       "    .dataframe tbody tr th:only-of-type {\n",
       "        vertical-align: middle;\n",
       "    }\n",
       "\n",
       "    .dataframe tbody tr th {\n",
       "        vertical-align: top;\n",
       "    }\n",
       "\n",
       "    .dataframe thead th {\n",
       "        text-align: right;\n",
       "    }\n",
       "</style>\n",
       "<table border=\"1\" class=\"dataframe\">\n",
       "  <thead>\n",
       "    <tr style=\"text-align: right;\">\n",
       "      <th></th>\n",
       "      <th>mass</th>\n",
       "    </tr>\n",
       "    <tr>\n",
       "      <th>species</th>\n",
       "      <th></th>\n",
       "    </tr>\n",
       "  </thead>\n",
       "  <tbody>\n",
       "    <tr>\n",
       "      <th>Hutt</th>\n",
       "      <td>1358.0</td>\n",
       "    </tr>\n",
       "    <tr>\n",
       "      <th>Kaleesh</th>\n",
       "      <td>159.0</td>\n",
       "    </tr>\n",
       "    <tr>\n",
       "      <th>Wookiee</th>\n",
       "      <td>124.0</td>\n",
       "    </tr>\n",
       "    <tr>\n",
       "      <th>Trandoshan</th>\n",
       "      <td>113.0</td>\n",
       "    </tr>\n",
       "    <tr>\n",
       "      <th>Besalisk</th>\n",
       "      <td>102.0</td>\n",
       "    </tr>\n",
       "    <tr>\n",
       "      <th>Neimodian</th>\n",
       "      <td>90.0</td>\n",
       "    </tr>\n",
       "    <tr>\n",
       "      <th>Nautolan</th>\n",
       "      <td>87.0</td>\n",
       "    </tr>\n",
       "    <tr>\n",
       "      <th>Mon Calamari</th>\n",
       "      <td>83.0</td>\n",
       "    </tr>\n",
       "    <tr>\n",
       "      <th>Cerean</th>\n",
       "      <td>82.0</td>\n",
       "    </tr>\n",
       "    <tr>\n",
       "      <th>Pau'an</th>\n",
       "      <td>80.0</td>\n",
       "    </tr>\n",
       "  </tbody>\n",
       "</table>\n",
       "</div>"
      ],
      "text/plain": [
       "                mass\n",
       "species             \n",
       "Hutt          1358.0\n",
       "Kaleesh        159.0\n",
       "Wookiee        124.0\n",
       "Trandoshan     113.0\n",
       "Besalisk       102.0\n",
       "Neimodian       90.0\n",
       "Nautolan        87.0\n",
       "Mon Calamari    83.0\n",
       "Cerean          82.0\n",
       "Pau'an          80.0"
      ]
     },
     "execution_count": 44,
     "metadata": {},
     "output_type": "execute_result"
    }
   ],
   "source": [
    "weight_sort = weight.sort_values('mass', ascending=False)\n",
    "weight_sort.head(10)"
   ]
  },
  {
   "cell_type": "code",
   "execution_count": 45,
   "id": "fc86ef8f",
   "metadata": {},
   "outputs": [
    {
     "data": {
      "text/plain": [
       "<AxesSubplot:xlabel='species'>"
      ]
     },
     "execution_count": 45,
     "metadata": {},
     "output_type": "execute_result"
    },
    {
     "data": {
      "image/png": "[encoded data removed]",
      "text/plain": [
       "<Figure size 720x360 with 1 Axes>"
      ]
     },
     "metadata": {
      "needs_background": "light"
     },
     "output_type": "display_data"
    }
   ],
   "source": [
    "weight_sort.iloc[:10].plot.bar(color='r',rot=0,figsize=(10,5))"
   ]
  },
  {
   "cell_type": "markdown",
   "id": "10a58c6b",
   "metadata": {},
   "source": [
    "#### 5) 스타워즈 캐릭터의 몸무게 - 키 상관관계"
   ]
  },
  {
   "cell_type": "markdown",
   "id": "266f254c",
   "metadata": {},
   "source": [
    "- 몸무게가 1358, 0인 캐릭터 제외"
   ]
  },
  {
   "cell_type": "code",
   "execution_count": 55,
   "id": "1f65499f",
   "metadata": {},
   "outputs": [
    {
     "data": {
      "text/plain": [
       "(87, 11)"
      ]
     },
     "execution_count": 55,
     "metadata": {},
     "output_type": "execute_result"
    }
   ],
   "source": [
    "starwars.shape"
   ]
  },
  {
   "cell_type": "code",
   "execution_count": 56,
   "id": "056f465b",
   "metadata": {},
   "outputs": [],
   "source": [
    "out1 = ~starwars['species'].isin(['Hutt'])"
   ]
  },
  {
   "cell_type": "code",
   "execution_count": 57,
   "id": "bbe0a8aa",
   "metadata": {},
   "outputs": [],
   "source": [
    "out2 = ~starwars['mass'].isin([0.0])"
   ]
  },
  {
   "cell_type": "code",
   "execution_count": 59,
   "id": "eea0344e",
   "metadata": {},
   "outputs": [
    {
     "data": {
      "text/plain": [
       "(58, 11)"
      ]
     },
     "execution_count": 59,
     "metadata": {},
     "output_type": "execute_result"
    }
   ],
   "source": [
    "starwars.loc[out1 & out2].shape"
   ]
  },
  {
   "cell_type": "code",
   "execution_count": 60,
   "id": "8f9f7a10",
   "metadata": {},
   "outputs": [
    {
     "data": {
      "text/plain": [
       "<AxesSubplot:xlabel='height', ylabel='mass'>"
      ]
     },
     "execution_count": 60,
     "metadata": {},
     "output_type": "execute_result"
    },
    {
     "data": {
      "image/png": "[encoded data removed]",
      "text/plain": [
       "<Figure size 576x396 with 1 Axes>"
      ]
     },
     "metadata": {},
     "output_type": "display_data"
    }
   ],
   "source": [
    "sns.regplot(data=starwars.loc[out1 & out2], x='height', y='mass')"
   ]
  },
  {
   "cell_type": "code",
   "execution_count": 62,
   "id": "cbc01531",
   "metadata": {},
   "outputs": [
    {
     "data": {
      "text/plain": [
       "<seaborn.axisgrid.FacetGrid at 0x2dff7f00280>"
      ]
     },
     "execution_count": 62,
     "metadata": {},
     "output_type": "execute_result"
    },
    {
     "data": {
      "image/png": "[encoded data removed]",
      "text/plain": [
       "<Figure size 441.375x360 with 1 Axes>"
      ]
     },
     "metadata": {},
     "output_type": "display_data"
    }
   ],
   "source": [
    "sns.lmplot(data=starwars.loc[out1 & out2], x='height', y='mass', hue='gender')"
   ]
  },
  {
   "cell_type": "code",
   "execution_count": null,
   "id": "a725f807",
   "metadata": {},
   "outputs": [],
   "source": []
  },
  {
   "cell_type": "code",
   "execution_count": null,
   "id": "566875c4",
   "metadata": {},
   "outputs": [],
   "source": []
  },
  {
   "cell_type": "code",
   "execution_count": null,
   "id": "35332f03",
   "metadata": {},
   "outputs": [],
   "source": []
  },
  {
   "cell_type": "code",
   "execution_count": null,
   "id": "c6c33206",
   "metadata": {},
   "outputs": [],
   "source": []
  }
 ],
 "metadata": {
  "kernelspec": {
   "display_name": "Python 3 (ipykernel)",
   "language": "python",
   "name": "python3"
  },
  "language_info": {
   "codemirror_mode": {
    "name": "ipython",
    "version": 3
   },
   "file_extension": ".py",
   "mimetype": "text/x-python",
   "name": "python",
   "nbconvert_exporter": "python",
   "pygments_lexer": "ipython3",
   "version": "3.9.12"
  }
 },
 "nbformat": 4,
 "nbformat_minor": 5
}
