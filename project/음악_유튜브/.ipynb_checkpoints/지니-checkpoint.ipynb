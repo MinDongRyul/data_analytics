{
 "cells": [
  {
   "cell_type": "code",
   "execution_count": 24,
   "id": "37f53018",
   "metadata": {},
   "outputs": [],
   "source": [
    "from selenium import webdriver\n",
    "from bs4 import BeautifulSoup\n",
    "from selenium.webdriver.common.by import By\n",
    "\n",
    "import time"
   ]
  },
  {
   "cell_type": "code",
   "execution_count": 25,
   "id": "8547527e",
   "metadata": {
    "scrolled": true
   },
   "outputs": [
    {
     "name": "stderr",
     "output_type": "stream",
     "text": [
      "C:\\Users\\MDR\\AppData\\Local\\Temp\\ipykernel_10328\\1815862781.py:3: DeprecationWarning: executable_path has been deprecated, please pass in a Service object\n",
      "  browser = webdriver.Chrome('../../chromedriver.exe')\n"
     ]
    }
   ],
   "source": [
    "url = 'https://www.genie.co.kr/chart/top200?ditc=D&ymd=20220705&hh=09&rtm=Y&pg=1'\n",
    "\n",
    "browser = webdriver.Chrome('../../chromedriver.exe')\n",
    "browser.get(url)\n",
    "\n",
    "time.sleep(5)"
   ]
  },
  {
   "cell_type": "markdown",
   "id": "c9468363",
   "metadata": {},
   "source": [
    "## 1~50위 정보 추출"
   ]
  },
  {
   "cell_type": "code",
   "execution_count": 22,
   "id": "a45d1612",
   "metadata": {
    "scrolled": true
   },
   "outputs": [
    {
     "name": "stdout",
     "output_type": "stream",
     "text": [
      "1 LOVE DIVE IVE (아이브)\n",
      "2 That That (Prod. & Feat. SUGA of BTS) 싸이 (Psy)\n",
      "3 TOMBOY (여자)아이들\n",
      "4 POP! 나연 (TWICE)\n",
      "5 사랑인가 봐 멜로망스 (MeloMance)\n",
      "6 나의 X에게 경서\n",
      "7 사랑은 늘 도망가 임영웅\n",
      "8 우리들의 블루스 임영웅\n",
      "9 정이라고 하자 (Feat. 10CM) BIG Naughty (서동현)\n",
      "10 없었던 일로 헤이즈 (Heize)\n",
      "11 LOVE me BE'O (비오)\n",
      "12 Yet To Come 방탄소년단\n",
      "13 다시 만날 수 있을까 임영웅\n",
      "14 봄여름가을겨울 (Still Life) BIGBANG (빅뱅)\n",
      "15 이제 나만 믿어요 임영웅\n",
      "16 무지개 임영웅\n",
      "17 신호등 이무진\n",
      "18 취중고백 김민석 (멜로망스)\n",
      "19 아버지 임영웅\n",
      "20 Feel My Rhythm Red Velvet (레드벨벳)\n",
      "21 FEARLESS LE SSERAFIM (르세라핌)\n",
      "22 A bientot 임영웅\n",
      "23 손이 참 곱던 그대 임영웅\n",
      "24 내가 아니라도 주호\n",
      "25 사랑해 진짜 임영웅\n",
      "26 MY BAG (여자)아이들\n",
      "27 ELEVEN IVE (아이브)\n",
      "28 사랑역 임영웅\n",
      "29 다정히 내 이름을 부르면 경서예지 & 전건호\n",
      "30 연애편지 임영웅\n",
      "31 보금자리 임영웅\n",
      "32 사랑해요 그대를 임영웅\n",
      "33 그라데이션 10CM\n",
      "34 Left and Right (Feat. Jung Kook of BTS) Charlie Puth & 정국 & 방탄소년단\n",
      "35 인생찬가 임영웅\n",
      "36 That's Hilarious Charlie Puth\n",
      "37 Weekend 태연 (TAEYEON)\n",
      "38 Stay The Kid LAROI & Justin Bieber\n",
      "39 팡파레 다비치\n",
      "40 아무래도 난 주시크 (Joosiq)\n",
      "41 GANADARA (Feat. 아이유) 박재범\n",
      "42 Dynamite 방탄소년단\n",
      "43 ZOOM 제시\n",
      "44 듣고 싶을까 MSG워너비 (M.O.M)\n",
      "45 언제나 사랑해 케이시 (Kassy)\n",
      "46 INVU 태연 (TAEYEON)\n",
      "47 Butter 방탄소년단\n",
      "48 늦은 밤 헤어지긴 너무 아쉬워 케이시 (Kassy)\n",
      "49 해요 (2022) #안녕\n",
      "50 Permission to Dance 방탄소년단\n"
     ]
    }
   ],
   "source": [
    "genie_list = []\n",
    "\n",
    "soup = BeautifulSoup(browser.page_source, 'lxml')\n",
    "\n",
    "songs = soup.select('table > tbody > tr')\n",
    "\n",
    "for idx, song in enumerate(songs):\n",
    "    title = song.select_one('a.title').text.strip()\n",
    "    singer = song.select_one('a.artist').text\n",
    "    print(idx+1, title, singer)\n",
    "    \n",
    "    ginie_list.append(['지니',idx+1, title, singer])"
   ]
  },
  {
   "cell_type": "markdown",
   "id": "a7aaa0b0",
   "metadata": {},
   "source": [
    "## 1~100위 추출"
   ]
  },
  {
   "cell_type": "code",
   "execution_count": 74,
   "id": "45553a8e",
   "metadata": {
    "scrolled": false
   },
   "outputs": [
    {
     "name": "stderr",
     "output_type": "stream",
     "text": [
      "C:\\Users\\MDR\\AppData\\Local\\Temp\\ipykernel_10328\\3637009032.py:3: DeprecationWarning: executable_path has been deprecated, please pass in a Service object\n",
      "  browser = webdriver.Chrome('../../chromedriver.exe')\n"
     ]
    },
    {
     "name": "stdout",
     "output_type": "stream",
     "text": [
      "============ Current Page : 1\n",
      "1 LOVE DIVE IVE (아이브)\n",
      "2 TOMBOY (여자)아이들\n",
      "3 That That (Prod. & Feat. SUGA of BTS) 싸이 (Psy)\n",
      "4 사랑은 늘 도망가 임영웅\n",
      "5 우리들의 블루스 임영웅\n",
      "6 POP! 나연 (TWICE)\n",
      "7 사랑인가 봐 멜로망스 (MeloMance)\n",
      "8 나의 X에게 경서\n",
      "9 LOVE me BE'O (비오)\n",
      "10 정이라고 하자 (Feat. 10CM) BIG Naughty (서동현)\n",
      "11 다시 만날 수 있을까 임영웅\n",
      "12 Yet To Come 방탄소년단\n",
      "13 없었던 일로 헤이즈 (Heize)\n",
      "14 봄여름가을겨울 (Still Life) BIGBANG (빅뱅)\n",
      "15 이제 나만 믿어요 임영웅\n",
      "16 취중고백 김민석 (멜로망스)\n",
      "17 신호등 이무진\n",
      "18 무지개 임영웅\n",
      "19 FEARLESS LE SSERAFIM (르세라핌)\n",
      "20 아버지 임영웅\n",
      "21 다정히 내 이름을 부르면 경서예지 & 전건호\n",
      "22 Feel My Rhythm Red Velvet (레드벨벳)\n",
      "23 A bientot 임영웅\n",
      "24 GANADARA (Feat. 아이유) 박재범\n",
      "25 손이 참 곱던 그대 임영웅\n",
      "26 사랑해 진짜 임영웅\n",
      "27 사랑역 임영웅\n",
      "28 내가 아니라도 주호\n",
      "29 연애편지 임영웅\n",
      "30 보금자리 임영웅\n",
      "31 MY BAG (여자)아이들\n",
      "32 사랑해요 그대를 임영웅\n",
      "33 Left and Right (Feat. Jung Kook of BTS) Charlie Puth & 정국 & 방탄소년단\n",
      "34 인생찬가 임영웅\n",
      "35 팡파레 다비치\n",
      "36 ELEVEN IVE (아이브)\n",
      "37 그라데이션 10CM\n",
      "38 That's Hilarious Charlie Puth\n",
      "39 Stay The Kid LAROI & Justin Bieber\n",
      "40 아무래도 난 주시크 (Joosiq)\n",
      "41 Dynamite 방탄소년단\n",
      "42 듣고 싶을까 MSG워너비 (M.O.M)\n",
      "43 Butter 방탄소년단\n",
      "44 ZOOM 제시\n",
      "45 INVU 태연 (TAEYEON)\n",
      "46 Permission to Dance 방탄소년단\n",
      "47 My Universe Coldplay & 방탄소년단\n",
      "48 Next Level aespa\n",
      "49 해요 (2022) #안녕\n",
      "50 너의 모든 순간 성시경\n",
      "============ Current Page : 2\n",
      "51 흔들리는 꽃들 속에서 네 샴푸향이 느껴진거야 장범준\n",
      "52 에잇 (Prod. & Feat. SUGA of BTS) 아이유 (IU)\n",
      "53 Celeb 싸이 (Psy)\n",
      "54 늦은 밤 헤어지긴 너무 아쉬워 케이시 (Kassy)\n",
      "55 회전목마 (Feat. Zion.T & 원슈타인) (Prod. by Slom) sokodomo\n",
      "56 Every Second Mina Okabe\n",
      "57 Bad Habits Ed Sheeran\n",
      "58 Loving You Girl (Feat. Hkeem) Peder Elias\n",
      "59 Stronger (What Doesn't Kill You) Kelly Clarkson\n",
      "60 Weekend 태연 (TAEYEON)\n",
      "61 작은 것들을 위한 시 (Boy With Luv) (Feat. Halsey) 방탄소년단\n",
      "62 너를 생각해 주시크 (Joosiq)\n",
      "63 롤린 (Rollin') 브레이브걸스 (Brave girls)\n",
      "64 OHAYO MY NIGHT 디핵 (D-Hack) & PATEKO\n",
      "65 바라만 본다 MSG워너비 (M.O.M)\n",
      "66 strawberry moon 아이유 (IU)\n",
      "67 리무진 (Feat. MINO) (Prod. by GRAY) BE'O (비오)\n",
      "68 언제나 사랑해 케이시 (Kassy)\n",
      "69 19금\n",
      "                                        \n",
      "                                        \n",
      "                                        \n",
      "                                            \n",
      "                                                abcdefu GAYLE\n",
      "70 모든 날, 모든 순간 (Every day, Every Moment) 폴킴\n",
      "71 고백하는 취한밤에 (Prod. by 2soo) 임재현\n",
      "72 내 손을 잡아 아이유 (IU)\n",
      "73 봄날 방탄소년단\n",
      "74 2002 Anne-Marie\n",
      "75 문득 BE'O (비오)\n",
      "76 만개 (Prod. 신지후) 김호중\n",
      "77 With you 지민 & 하성운\n",
      "78 라일락 아이유 (IU)\n",
      "79 스물다섯, 스물하나 자우림\n",
      "80 나보다 더 사랑해요 김호중\n",
      "81 Celebrity 아이유 (IU)\n",
      "82 HOT 세븐틴 (SEVENTEEN)\n",
      "83 선물 멜로망스 (MeloMance)\n",
      "84 호랑수월가 탑현\n",
      "85 고백 멜로망스 (MeloMance)\n",
      "86 그 하루 (Feat. 반하나) 주호\n",
      "87 밤하늘의 별을 (2020) 경서\n",
      "88 살았소 김호중\n",
      "89 At My Worst Pink Sweat$\n",
      "90 헤픈 우연 헤이즈 (Heize)\n",
      "91 우산이 없어요 김호중\n",
      "92 Counting Stars (Feat. Beenzino) BE'O (비오)\n",
      "93 빛이 나는 사람 김호중\n",
      "94 Blueming 아이유 (IU)\n",
      "95 Tiny Riot Sam Ryder\n",
      "96 찰나가 영원이 될 때 (The Eternal Moment) 마크툽 (Maktub)\n",
      "97 퇴근길 김호중\n",
      "98 감동이야 (Feat. 성시경) 싸이 (Psy)\n",
      "99 Off My Face Justin Bieber\n",
      "100 Dun Dun Dance 오마이걸 (OH MY GIRL)\n"
     ]
    }
   ],
   "source": [
    "url = 'https://www.genie.co.kr/chart/top200?ditc=D&ymd=20220705&hh=09&rtm=Y&pg=1'\n",
    "\n",
    "browser = webdriver.Chrome('../../chromedriver.exe')\n",
    "browser.get(url)\n",
    "\n",
    "time.sleep(3)\n",
    "\n",
    "# 현재 페이지, 크롤링할 페이지 개수\n",
    "cur_page, target_crawl_num = 1,2\n",
    "\n",
    "# 순위\n",
    "idx = 1\n",
    "\n",
    "# 리스트 생성\n",
    "genie_list = []\n",
    "\n",
    "while cur_page <= target_crawl_num:\n",
    "    \n",
    "    soup = BeautifulSoup(browser.page_source, 'lxml')\n",
    "    \n",
    "    songs = soup.select('table > tbody > tr')\n",
    "\n",
    "    print('============ Current Page : {}'.format(cur_page))\n",
    "    \n",
    "    for song in songs:\n",
    "        title = song.select_one('a.title').text.strip()\n",
    "        singer = song.select_one('a.artist').text\n",
    "        print(idx, title, singer)\n",
    "    \n",
    "        genie_list.append(['지니',idx, title, singer])\n",
    "        idx += 1\n",
    "    \n",
    "    cur_page += 1\n",
    "    \n",
    "    # soup 제거\n",
    "    del soup\n",
    "    \n",
    "    # 51 ~ 100위 클릭\n",
    "    browser.find_element(By.CSS_SELECTOR,'div.rank-page-nav > a:nth-child(2)').click()"
   ]
  },
  {
   "cell_type": "code",
   "execution_count": 49,
   "id": "66fd7fee",
   "metadata": {
    "scrolled": false
   },
   "outputs": [
    {
     "data": {
      "text/plain": [
       "['지니',\n",
       " 69,\n",
       " '19금\\n                                        \\n                                        \\n                                        \\n                                            \\n                                                abcdefu',\n",
       " 'GAYLE']"
      ]
     },
     "execution_count": 49,
     "metadata": {},
     "output_type": "execute_result"
    }
   ],
   "source": [
    "ginie_list[68]"
   ]
  },
  {
   "cell_type": "code",
   "execution_count": 51,
   "id": "688c690a",
   "metadata": {},
   "outputs": [
    {
     "ename": "NameError",
     "evalue": "name 'genie_list' is not defined",
     "output_type": "error",
     "traceback": [
      "\u001b[1;31m---------------------------------------------------------------------------\u001b[0m",
      "\u001b[1;31mNameError\u001b[0m                                 Traceback (most recent call last)",
      "Input \u001b[1;32mIn [51]\u001b[0m, in \u001b[0;36m<cell line: 1>\u001b[1;34m()\u001b[0m\n\u001b[1;32m----> 1\u001b[0m \u001b[38;5;28;01mdel\u001b[39;00m genie_list\n",
      "\u001b[1;31mNameError\u001b[0m: name 'genie_list' is not defined"
     ]
    }
   ],
   "source": [
    "del genie_list"
   ]
  },
  {
   "cell_type": "markdown",
   "id": "2cdfe665",
   "metadata": {},
   "source": [
    "### 정적 크롤링(requests + BeautifulSoup)"
   ]
  },
  {
   "cell_type": "code",
   "execution_count": 60,
   "id": "51b5105e",
   "metadata": {},
   "outputs": [],
   "source": [
    "import requests"
   ]
  },
  {
   "cell_type": "code",
   "execution_count": 67,
   "id": "4fcfac78",
   "metadata": {
    "scrolled": true
   },
   "outputs": [
    {
     "name": "stdout",
     "output_type": "stream",
     "text": [
      "1 LOVE DIVE IVE (아이브)\n",
      "2 TOMBOY (여자)아이들\n",
      "3 That That (Prod. & Feat. SUGA of BTS) 싸이 (Psy)\n",
      "4 사랑은 늘 도망가 임영웅\n",
      "5 우리들의 블루스 임영웅\n",
      "6 POP! 나연 (TWICE)\n",
      "7 사랑인가 봐 멜로망스 (MeloMance)\n",
      "8 나의 X에게 경서\n",
      "9 LOVE me BE'O (비오)\n",
      "10 정이라고 하자 (Feat. 10CM) BIG Naughty (서동현)\n",
      "11 다시 만날 수 있을까 임영웅\n",
      "12 Yet To Come 방탄소년단\n",
      "13 없었던 일로 헤이즈 (Heize)\n",
      "14 봄여름가을겨울 (Still Life) BIGBANG (빅뱅)\n",
      "15 이제 나만 믿어요 임영웅\n",
      "16 취중고백 김민석 (멜로망스)\n",
      "17 신호등 이무진\n",
      "18 무지개 임영웅\n",
      "19 FEARLESS LE SSERAFIM (르세라핌)\n",
      "20 아버지 임영웅\n",
      "21 다정히 내 이름을 부르면 경서예지 & 전건호\n",
      "22 Feel My Rhythm Red Velvet (레드벨벳)\n",
      "23 A bientot 임영웅\n",
      "24 GANADARA (Feat. 아이유) 박재범\n",
      "25 손이 참 곱던 그대 임영웅\n",
      "26 사랑해 진짜 임영웅\n",
      "27 사랑역 임영웅\n",
      "28 내가 아니라도 주호\n",
      "29 연애편지 임영웅\n",
      "30 보금자리 임영웅\n",
      "31 MY BAG (여자)아이들\n",
      "32 사랑해요 그대를 임영웅\n",
      "33 Left and Right (Feat. Jung Kook of BTS) Charlie Puth & 정국 & 방탄소년단\n",
      "34 인생찬가 임영웅\n",
      "35 팡파레 다비치\n",
      "36 ELEVEN IVE (아이브)\n",
      "37 그라데이션 10CM\n",
      "38 That's Hilarious Charlie Puth\n",
      "39 Stay The Kid LAROI & Justin Bieber\n",
      "40 아무래도 난 주시크 (Joosiq)\n",
      "41 Dynamite 방탄소년단\n",
      "42 듣고 싶을까 MSG워너비 (M.O.M)\n",
      "43 Butter 방탄소년단\n",
      "44 ZOOM 제시\n",
      "45 INVU 태연 (TAEYEON)\n",
      "46 Permission to Dance 방탄소년단\n",
      "47 My Universe Coldplay & 방탄소년단\n",
      "48 Next Level aespa\n",
      "49 해요 (2022) #안녕\n",
      "50 너의 모든 순간 성시경\n",
      "51 흔들리는 꽃들 속에서 네 샴푸향이 느껴진거야 장범준\n",
      "52 에잇 (Prod. & Feat. SUGA of BTS) 아이유 (IU)\n",
      "53 Celeb 싸이 (Psy)\n",
      "54 늦은 밤 헤어지긴 너무 아쉬워 케이시 (Kassy)\n",
      "55 회전목마 (Feat. Zion.T & 원슈타인) (Prod. by Slom) sokodomo\n",
      "56 Every Second Mina Okabe\n",
      "57 Bad Habits Ed Sheeran\n",
      "58 Loving You Girl (Feat. Hkeem) Peder Elias\n",
      "59 Stronger (What Doesn't Kill You) Kelly Clarkson\n",
      "60 Weekend 태연 (TAEYEON)\n",
      "61 작은 것들을 위한 시 (Boy With Luv) (Feat. Halsey) 방탄소년단\n",
      "62 너를 생각해 주시크 (Joosiq)\n",
      "63 롤린 (Rollin') 브레이브걸스 (Brave girls)\n",
      "64 OHAYO MY NIGHT 디핵 (D-Hack) & PATEKO\n",
      "65 바라만 본다 MSG워너비 (M.O.M)\n",
      "66 strawberry moon 아이유 (IU)\n",
      "67 리무진 (Feat. MINO) (Prod. by GRAY) BE'O (비오)\n",
      "68 언제나 사랑해 케이시 (Kassy)\n",
      "69 19금\n",
      "                                        \n",
      "                                        \n",
      "                                        \n",
      "                                            \n",
      "                                                abcdefu GAYLE\n",
      "70 모든 날, 모든 순간 (Every day, Every Moment) 폴킴\n",
      "71 고백하는 취한밤에 (Prod. by 2soo) 임재현\n",
      "72 내 손을 잡아 아이유 (IU)\n",
      "73 봄날 방탄소년단\n",
      "74 2002 Anne-Marie\n",
      "75 문득 BE'O (비오)\n",
      "76 만개 (Prod. 신지후) 김호중\n",
      "77 With you 지민 & 하성운\n",
      "78 라일락 아이유 (IU)\n",
      "79 스물다섯, 스물하나 자우림\n",
      "80 나보다 더 사랑해요 김호중\n",
      "81 Celebrity 아이유 (IU)\n",
      "82 HOT 세븐틴 (SEVENTEEN)\n",
      "83 선물 멜로망스 (MeloMance)\n",
      "84 호랑수월가 탑현\n",
      "85 고백 멜로망스 (MeloMance)\n",
      "86 그 하루 (Feat. 반하나) 주호\n",
      "87 밤하늘의 별을 (2020) 경서\n",
      "88 살았소 김호중\n",
      "89 At My Worst Pink Sweat$\n",
      "90 헤픈 우연 헤이즈 (Heize)\n",
      "91 우산이 없어요 김호중\n",
      "92 Counting Stars (Feat. Beenzino) BE'O (비오)\n",
      "93 빛이 나는 사람 김호중\n",
      "94 Blueming 아이유 (IU)\n",
      "95 Tiny Riot Sam Ryder\n",
      "96 찰나가 영원이 될 때 (The Eternal Moment) 마크툽 (Maktub)\n",
      "97 퇴근길 김호중\n",
      "98 감동이야 (Feat. 성시경) 싸이 (Psy)\n",
      "99 Off My Face Justin Bieber\n",
      "100 Dun Dun Dance 오마이걸 (OH MY GIRL)\n"
     ]
    }
   ],
   "source": [
    "# url = https://www.genie.co.kr/chart/top200?ditc=D&ymd=20220705&hh=09&rtm=Y&pg=1\n",
    "# url = https://www.genie.co.kr/chart/top200?ditc=D&ymd=20220705&hh=09&rtm=Y&pg=2\n",
    "genie_list = []\n",
    "idx = 1\n",
    "\n",
    "headers = {'user-agent':'Mozilla/5.0 (Windows NT 10.0; Win64; x64) AppleWebKit/537.36 (KHTML, like Gecko) Chrome/102.0.5005.141 Whale/3.15.136.29 Safari/537.36'}\n",
    "\n",
    "for num in range(1,3):\n",
    "    \n",
    "    url = 'https://www.genie.co.kr/chart/top200?ditc=D&ymd=20220705&hh=09&rtm=Y&pg={}'.format(num)\n",
    "    \n",
    "    res = requests.get(url, headers=headers)\n",
    "\n",
    "    soup = BeautifulSoup(res.text, 'lxml')\n",
    "    \n",
    "    songs = soup.select('table.list-wrap > tbody > tr')\n",
    "    \n",
    "    for song in songs:\n",
    "        title = song.select_one('a.title').text.strip()\n",
    "        singer = song.select_one('a.artist').text\n",
    "        \n",
    "        print(idx, title, singer)\n",
    "    \n",
    "        genie_list.append(['지니',idx, title, singer])\n",
    "        \n",
    "        idx += 1\n",
    "        \n",
    "    # soup 제거\n",
    "    del soup\n",
    "    \n",
    "    # 51 ~ 100위 클릭\n",
    "    browser.find_element(By.CSS_SELECTOR,'div.rank-page-nav > a:nth-child(2)').click()"
   ]
  },
  {
   "cell_type": "code",
   "execution_count": 72,
   "id": "6fc89849",
   "metadata": {},
   "outputs": [],
   "source": [
    "del genie_list"
   ]
  },
  {
   "cell_type": "code",
   "execution_count": 73,
   "id": "74e5d843",
   "metadata": {},
   "outputs": [
    {
     "ename": "NameError",
     "evalue": "name 'genie_list' is not defined",
     "output_type": "error",
     "traceback": [
      "\u001b[1;31m---------------------------------------------------------------------------\u001b[0m",
      "\u001b[1;31mNameError\u001b[0m                                 Traceback (most recent call last)",
      "Input \u001b[1;32mIn [73]\u001b[0m, in \u001b[0;36m<cell line: 1>\u001b[1;34m()\u001b[0m\n\u001b[1;32m----> 1\u001b[0m \u001b[43mgenie_list\u001b[49m[\u001b[38;5;241m0\u001b[39m]\n",
      "\u001b[1;31mNameError\u001b[0m: name 'genie_list' is not defined"
     ]
    }
   ],
   "source": [
    "genie_list[0]"
   ]
  },
  {
   "cell_type": "code",
   "execution_count": null,
   "id": "15dd62ea",
   "metadata": {},
   "outputs": [],
   "source": []
  },
  {
   "cell_type": "markdown",
   "id": "8990b7ba",
   "metadata": {},
   "source": [
    "## 크롤링 결과 엑셀 저장"
   ]
  },
  {
   "cell_type": "code",
   "execution_count": 54,
   "id": "e1714a47",
   "metadata": {},
   "outputs": [],
   "source": [
    "import pandas as pd"
   ]
  },
  {
   "cell_type": "code",
   "execution_count": 75,
   "id": "97ca0766",
   "metadata": {},
   "outputs": [
    {
     "data": {
      "text/html": [
       "<div>\n",
       "<style scoped>\n",
       "    .dataframe tbody tr th:only-of-type {\n",
       "        vertical-align: middle;\n",
       "    }\n",
       "\n",
       "    .dataframe tbody tr th {\n",
       "        vertical-align: top;\n",
       "    }\n",
       "\n",
       "    .dataframe thead th {\n",
       "        text-align: right;\n",
       "    }\n",
       "</style>\n",
       "<table border=\"1\" class=\"dataframe\">\n",
       "  <thead>\n",
       "    <tr style=\"text-align: right;\">\n",
       "      <th></th>\n",
       "      <th>서비스</th>\n",
       "      <th>순위</th>\n",
       "      <th>타이틀</th>\n",
       "      <th>가수</th>\n",
       "    </tr>\n",
       "  </thead>\n",
       "  <tbody>\n",
       "    <tr>\n",
       "      <th>0</th>\n",
       "      <td>지니</td>\n",
       "      <td>1</td>\n",
       "      <td>LOVE DIVE</td>\n",
       "      <td>IVE (아이브)</td>\n",
       "    </tr>\n",
       "    <tr>\n",
       "      <th>1</th>\n",
       "      <td>지니</td>\n",
       "      <td>2</td>\n",
       "      <td>TOMBOY</td>\n",
       "      <td>(여자)아이들</td>\n",
       "    </tr>\n",
       "    <tr>\n",
       "      <th>2</th>\n",
       "      <td>지니</td>\n",
       "      <td>3</td>\n",
       "      <td>That That (Prod. &amp; Feat. SUGA of BTS)</td>\n",
       "      <td>싸이 (Psy)</td>\n",
       "    </tr>\n",
       "    <tr>\n",
       "      <th>3</th>\n",
       "      <td>지니</td>\n",
       "      <td>4</td>\n",
       "      <td>사랑은 늘 도망가</td>\n",
       "      <td>임영웅</td>\n",
       "    </tr>\n",
       "    <tr>\n",
       "      <th>4</th>\n",
       "      <td>지니</td>\n",
       "      <td>5</td>\n",
       "      <td>우리들의 블루스</td>\n",
       "      <td>임영웅</td>\n",
       "    </tr>\n",
       "  </tbody>\n",
       "</table>\n",
       "</div>"
      ],
      "text/plain": [
       "  서비스  순위                                    타이틀         가수\n",
       "0  지니   1                              LOVE DIVE  IVE (아이브)\n",
       "1  지니   2                                 TOMBOY    (여자)아이들\n",
       "2  지니   3  That That (Prod. & Feat. SUGA of BTS)   싸이 (Psy)\n",
       "3  지니   4                              사랑은 늘 도망가        임영웅\n",
       "4  지니   5                               우리들의 블루스        임영웅"
      ]
     },
     "execution_count": 75,
     "metadata": {},
     "output_type": "execute_result"
    }
   ],
   "source": [
    "colums = ['서비스','순위','타이틀','가수']\n",
    "df = pd.DataFrame(genie_list, columns=colums)\n",
    "df.head()"
   ]
  },
  {
   "cell_type": "code",
   "execution_count": 76,
   "id": "bef218ab",
   "metadata": {},
   "outputs": [],
   "source": [
    "df.to_excel('../../data/dataset/genie.xlsx', index=False)"
   ]
  },
  {
   "cell_type": "markdown",
   "id": "83000c07",
   "metadata": {},
   "source": [
    "### 수집된 음악 파일 통합"
   ]
  },
  {
   "cell_type": "markdown",
   "id": "748fefb0",
   "metadata": {},
   "source": [
    "#### 1) 세 개의 엑셀 파일 읽어와서 하나의 데이터 프레임으로 생성"
   ]
  },
  {
   "cell_type": "code",
   "execution_count": 77,
   "id": "8d47c15f",
   "metadata": {},
   "outputs": [
    {
     "name": "stdout",
     "output_type": "stream",
     "text": [
      "  서비스  순위                            타이틀       가수\n",
      "0  벅스   1  Future Perfect (Pass the MIC)  ENHYPEN\n",
      "1  벅스   2        TFW (That Feeling When)  ENHYPEN\n",
      "2  벅스   3                          그라데이션     10CM\n",
      "  서비스  순위                                    타이틀         가수\n",
      "0  지니   1                              LOVE DIVE  IVE (아이브)\n",
      "1  지니   2                                 TOMBOY    (여자)아이들\n",
      "2  지니   3  That That (Prod. & Feat. SUGA of BTS)   싸이 (Psy)\n",
      "  서비스  순위                                    타이틀         가수\n",
      "0  멜론   1                              LOVE DIVE  IVE (아이브)\n",
      "1  멜론   2  That That (prod. & feat. SUGA of BTS)   싸이 (PSY)\n",
      "2  멜론   3                                 TOMBOY    (여자)아이들\n"
     ]
    }
   ],
   "source": [
    "excel_files=['../../data/dataset/bugs.xlsx','../../data/dataset/genie.xlsx','../../data/dataset/melon.xlsx']\n",
    "\n",
    "music_df = pd.DataFrame()\n",
    "\n",
    "for file in excel_files:\n",
    "    music = pd.read_excel(file)\n",
    "    \n",
    "    music_df = pd.concat([music_df, music])"
   ]
  },
  {
   "cell_type": "code",
   "execution_count": null,
   "id": "688a0aed",
   "metadata": {},
   "outputs": [],
   "source": []
  },
  {
   "cell_type": "code",
   "execution_count": null,
   "id": "9967b8ac",
   "metadata": {},
   "outputs": [],
   "source": []
  },
  {
   "cell_type": "code",
   "execution_count": null,
   "id": "31c19c8a",
   "metadata": {},
   "outputs": [],
   "source": []
  },
  {
   "cell_type": "code",
   "execution_count": null,
   "id": "df93eaba",
   "metadata": {},
   "outputs": [],
   "source": []
  }
 ],
 "metadata": {
  "kernelspec": {
   "display_name": "Python 3 (ipykernel)",
   "language": "python",
   "name": "python3"
  },
  "language_info": {
   "codemirror_mode": {
    "name": "ipython",
    "version": 3
   },
   "file_extension": ".py",
   "mimetype": "text/x-python",
   "name": "python",
   "nbconvert_exporter": "python",
   "pygments_lexer": "ipython3",
   "version": "3.9.12"
  }
 },
 "nbformat": 4,
 "nbformat_minor": 5
}
