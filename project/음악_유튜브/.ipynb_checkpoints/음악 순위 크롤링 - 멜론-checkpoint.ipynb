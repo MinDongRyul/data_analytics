{
 "cells": [
  {
   "cell_type": "markdown",
   "id": "a9e0784a",
   "metadata": {},
   "source": [
    "### 멜론, 벅스, 지니 음악 순위 크롤링\n",
    "\n",
    "- 각 음악 사이트의 크롤링 정보를 엑셀로 저장\n",
    "- 저장된 정보를 읽어온 후 3개의 데이터 합치기"
   ]
  },
  {
   "cell_type": "markdown",
   "id": "5ba28a5f",
   "metadata": {},
   "source": [
    "#### 1) 셀레니움 드라이버 로드"
   ]
  },
  {
   "cell_type": "code",
   "execution_count": 2,
   "id": "64143048",
   "metadata": {},
   "outputs": [],
   "source": [
    "from selenium import webdriver\n",
    "from bs4 import BeautifulSoup\n",
    "import time"
   ]
  },
  {
   "cell_type": "code",
   "execution_count": 7,
   "id": "9812b0dc",
   "metadata": {
    "scrolled": true
   },
   "outputs": [
    {
     "name": "stderr",
     "output_type": "stream",
     "text": [
      "C:\\Users\\MDR\\AppData\\Local\\Temp\\ipykernel_14312\\2771081924.py:3: DeprecationWarning: executable_path has been deprecated, please pass in a Service object\n",
      "  browser = webdriver.Chrome('../../chromedriver.exe')\n"
     ]
    }
   ],
   "source": [
    "url = 'https://www.melon.com/chart/index.htm'\n",
    "\n",
    "browser = webdriver.Chrome('../../chromedriver.exe')\n",
    "browser.get(url)\n",
    "\n",
    "time.sleep(5)\n",
    "\n",
    "soup = BeautifulSoup(browser.page_source, 'lxml')"
   ]
  },
  {
   "cell_type": "markdown",
   "id": "043f40ce",
   "metadata": {},
   "source": [
    "### 멜론 음악 정보 가져오기"
   ]
  },
  {
   "cell_type": "markdown",
   "id": "3ab69fd4",
   "metadata": {},
   "source": [
    "- 순위, 노래명, 가수명"
   ]
  },
  {
   "cell_type": "code",
   "execution_count": 28,
   "id": "974ff796",
   "metadata": {
    "scrolled": true
   },
   "outputs": [
    {
     "name": "stdout",
     "output_type": "stream",
     "text": [
      "1 LOVE DIVE IVE (아이브)\n",
      "2 That That (prod. & feat. SUGA of BTS) 싸이 (PSY)\n",
      "3 TOMBOY (여자)아이들\n",
      "4 정이라고 하자 (Feat. 10CM) BIG Naughty (서동현)\n",
      "5 사랑인가 봐 멜로망스\n",
      "6 나의 X에게 경서\n",
      "7 사랑은 늘 도망가 임영웅\n",
      "8 POP! 나연 (TWICE)\n",
      "9 우리들의 블루스 임영웅\n",
      "10 Yet To Come 방탄소년단\n",
      "11 봄여름가을겨울 (Still Life) BIGBANG (빅뱅)\n",
      "12 LOVE me BE'O (비오)\n",
      "13 다시 만날 수 있을까 임영웅\n",
      "14 FEARLESS LE SSERAFIM (르세라핌)\n",
      "15 취중고백 김민석 (멜로망스)\n",
      "16 Feel My Rhythm Red Velvet (레드벨벳)\n",
      "17 Left and Right (Feat. Jung Kook of BTS) Charlie Puth, 정국, 방탄소년단\n",
      "18 내가 아니라도 주호\n",
      "19 무지개 임영웅\n",
      "20 이제 나만 믿어요 임영웅\n",
      "21 Dynamite 방탄소년단\n",
      "22 신호등 이무진\n",
      "23 ELEVEN IVE (아이브)\n",
      "24 아버지 임영웅\n",
      "25 아무래도 난 주시크 (Joosiq)\n",
      "26 Butter 방탄소년단\n",
      "27 다정히 내 이름을 부르면 경서예지, 전건호\n",
      "28 GANADARA (Feat. 아이유) 박재범\n",
      "29 손이 참 곱던 그대 임영웅\n",
      "30 A bientot 임영웅\n",
      "31 MY BAG (여자)아이들\n",
      "32 사랑해 진짜 임영웅\n",
      "33 Permission to Dance 방탄소년단\n",
      "34 인생찬가 임영웅\n",
      "35 연애편지 임영웅\n",
      "36 STAY The Kid LAROI, Justin Bieber\n",
      "37 INVU 태연 (TAEYEON)\n",
      "38 늦은 밤 헤어지긴 너무 아쉬워 케이시 (Kassy)\n",
      "39 That's Hilarious Charlie Puth\n",
      "40 사랑역 임영웅\n",
      "41 듣고 싶을까 MSG워너비(M.O.M)\n",
      "42 보금자리 임영웅\n",
      "43 사랑해요 그대를 임영웅\n",
      "44 Weekend 태연 (TAEYEON)\n",
      "45 그라데이션 10CM\n",
      "46 Next Level aespa\n",
      "47 고백하는 취한밤에 (Prod. 2soo) 임재현\n",
      "48 봄날 방탄소년단\n",
      "49 너의 모든 순간 성시경\n",
      "50 ZOOM 제시 (Jessi)\n",
      "51 SMILEY (Feat. BIBI) YENA (최예나)\n",
      "52 너를 생각해 주시크 (Joosiq)\n",
      "53 My Universe Coldplay, 방탄소년단\n",
      "54 회전목마 (Feat. Zion.T, 원슈타인) (Prod. Slom) sokodomo\n",
      "55 HOT 세븐틴\n",
      "56 팡파레 다비치\n",
      "57 드라마 아이유\n",
      "58 낭만교향곡 (Feat. CHANGMO, 박재범) BIG Naughty (서동현)\n",
      "59 With you 지민, 하성운\n",
      "60 언제나 사랑해 케이시 (Kassy)\n",
      "61 내 손을 잡아 아이유\n",
      "62 Born Singer 방탄소년단\n",
      "63 Love story 볼빨간사춘기\n",
      "64 없었던 일로 헤이즈 (Heize)\n",
      "65 리무진 (Feat. MINO) (Prod. GRAY) BE'O (비오)\n",
      "66 작은 것들을 위한 시 (Boy With Luv) (Feat. Halsey) 방탄소년단\n",
      "67 strawberry moon 아이유\n",
      "68 바라만 본다 MSG워너비(M.O.M)\n",
      "69 모든 날, 모든 순간 (Every day, Every Moment) 폴킴\n",
      "70 OHAYO MY NIGHT 디핵 (D-Hack), PATEKO (파테코)\n",
      "71 해요 (2022) #안녕\n",
      "72 라일락 아이유\n",
      "73 밤하늘의 별을(2020) 경서\n",
      "74 Off My Face Justin Bieber\n",
      "75 롤린 (Rollin') 브레이브걸스\n",
      "76 스물다섯, 스물하나 자우림\n",
      "77 눈이 오잖아(Feat.헤이즈) 이무진\n",
      "78 달려라 방탄 방탄소년단\n",
      "79 Celebrity 아이유\n",
      "80 그 하루(feat.반하나) 주호\n",
      "81 사이렌 Remix (Feat. UNEDUCATED KID, Paul Blanco) 호미들\n",
      "82 Blueming 아이유\n",
      "83 Dun Dun Dance 오마이걸 (OH MY GIRL)\n",
      "84 RUN2U STAYC(스테이씨)\n",
      "85 문득 BE'O (비오)\n",
      "86 Bad Habits Ed Sheeran\n",
      "87 고백 멜로망스\n",
      "88 Savage aespa\n",
      "89 호랑수월가 탑현\n",
      "90 For Youth 방탄소년단\n",
      "91 어떻게 이별까지 사랑하겠어, 널 사랑하는 거지 AKMU (악뮤)\n",
      "92 헤픈 우연 헤이즈 (Heize)\n",
      "93 Life′s Too Short (English Ver.) aespa\n",
      "94 Darl+ing 세븐틴\n",
      "95 Beatbox NCT DREAM\n",
      "96 미친 것처럼 V.O.S\n",
      "97 MORE j-hope\n",
      "98 Counting Stars (Feat. Beenzino) BE'O (비오)\n",
      "99 찰나가 영원이 될 때 (The Eternal Moment) 마크툽 (MAKTUB)\n",
      "100 Seoul 볼빨간사춘기\n"
     ]
    }
   ],
   "source": [
    "melon_list = []\n",
    "\n",
    "music = soup.select('.rank01')\n",
    "artist = soup.select('.rank02 > .checkEllipsis')\n",
    "\n",
    "for idx, music in enumerate(music):\n",
    "    # 제목\n",
    "    title = music.text.strip()\n",
    "\n",
    "    print(idx + 1, title,artist[idx].text.strip())\n",
    "    \n",
    "    melon_list.append(['멜론',idx + 1, title,artist[idx].text.strip()])\n",
    "\n",
    "# songs = soup.select('table > tbody > tr')\n",
    "# print(songs[0])"
   ]
  },
  {
   "cell_type": "markdown",
   "id": "4deddb4a",
   "metadata": {},
   "source": [
    "### 크롤링 결과 엑셀 저장"
   ]
  },
  {
   "cell_type": "code",
   "execution_count": 31,
   "id": "d73698f4",
   "metadata": {},
   "outputs": [],
   "source": [
    "import pandas as pd"
   ]
  },
  {
   "cell_type": "code",
   "execution_count": 32,
   "id": "652df32b",
   "metadata": {},
   "outputs": [
    {
     "data": {
      "text/html": [
       "<div>\n",
       "<style scoped>\n",
       "    .dataframe tbody tr th:only-of-type {\n",
       "        vertical-align: middle;\n",
       "    }\n",
       "\n",
       "    .dataframe tbody tr th {\n",
       "        vertical-align: top;\n",
       "    }\n",
       "\n",
       "    .dataframe thead th {\n",
       "        text-align: right;\n",
       "    }\n",
       "</style>\n",
       "<table border=\"1\" class=\"dataframe\">\n",
       "  <thead>\n",
       "    <tr style=\"text-align: right;\">\n",
       "      <th></th>\n",
       "      <th>서비스</th>\n",
       "      <th>순위</th>\n",
       "      <th>타이틀</th>\n",
       "      <th>가수</th>\n",
       "    </tr>\n",
       "  </thead>\n",
       "  <tbody>\n",
       "    <tr>\n",
       "      <th>0</th>\n",
       "      <td>멜론</td>\n",
       "      <td>1</td>\n",
       "      <td>LOVE DIVE</td>\n",
       "      <td>IVE (아이브)</td>\n",
       "    </tr>\n",
       "    <tr>\n",
       "      <th>1</th>\n",
       "      <td>멜론</td>\n",
       "      <td>2</td>\n",
       "      <td>That That (prod. &amp; feat. SUGA of BTS)</td>\n",
       "      <td>싸이 (PSY)</td>\n",
       "    </tr>\n",
       "    <tr>\n",
       "      <th>2</th>\n",
       "      <td>멜론</td>\n",
       "      <td>3</td>\n",
       "      <td>TOMBOY</td>\n",
       "      <td>(여자)아이들</td>\n",
       "    </tr>\n",
       "    <tr>\n",
       "      <th>3</th>\n",
       "      <td>멜론</td>\n",
       "      <td>4</td>\n",
       "      <td>정이라고 하자 (Feat. 10CM)</td>\n",
       "      <td>BIG Naughty (서동현)</td>\n",
       "    </tr>\n",
       "    <tr>\n",
       "      <th>4</th>\n",
       "      <td>멜론</td>\n",
       "      <td>5</td>\n",
       "      <td>사랑인가 봐</td>\n",
       "      <td>멜로망스</td>\n",
       "    </tr>\n",
       "    <tr>\n",
       "      <th>...</th>\n",
       "      <td>...</td>\n",
       "      <td>...</td>\n",
       "      <td>...</td>\n",
       "      <td>...</td>\n",
       "    </tr>\n",
       "    <tr>\n",
       "      <th>95</th>\n",
       "      <td>멜론</td>\n",
       "      <td>96</td>\n",
       "      <td>미친 것처럼</td>\n",
       "      <td>V.O.S</td>\n",
       "    </tr>\n",
       "    <tr>\n",
       "      <th>96</th>\n",
       "      <td>멜론</td>\n",
       "      <td>97</td>\n",
       "      <td>MORE</td>\n",
       "      <td>j-hope</td>\n",
       "    </tr>\n",
       "    <tr>\n",
       "      <th>97</th>\n",
       "      <td>멜론</td>\n",
       "      <td>98</td>\n",
       "      <td>Counting Stars (Feat. Beenzino)</td>\n",
       "      <td>BE'O (비오)</td>\n",
       "    </tr>\n",
       "    <tr>\n",
       "      <th>98</th>\n",
       "      <td>멜론</td>\n",
       "      <td>99</td>\n",
       "      <td>찰나가 영원이 될 때 (The Eternal Moment)</td>\n",
       "      <td>마크툽 (MAKTUB)</td>\n",
       "    </tr>\n",
       "    <tr>\n",
       "      <th>99</th>\n",
       "      <td>멜론</td>\n",
       "      <td>100</td>\n",
       "      <td>Seoul</td>\n",
       "      <td>볼빨간사춘기</td>\n",
       "    </tr>\n",
       "  </tbody>\n",
       "</table>\n",
       "<p>100 rows × 4 columns</p>\n",
       "</div>"
      ],
      "text/plain": [
       "   서비스   순위                                    타이틀                 가수\n",
       "0   멜론    1                              LOVE DIVE          IVE (아이브)\n",
       "1   멜론    2  That That (prod. & feat. SUGA of BTS)           싸이 (PSY)\n",
       "2   멜론    3                                 TOMBOY            (여자)아이들\n",
       "3   멜론    4                   정이라고 하자 (Feat. 10CM)  BIG Naughty (서동현)\n",
       "4   멜론    5                                 사랑인가 봐               멜로망스\n",
       "..  ..  ...                                    ...                ...\n",
       "95  멜론   96                                 미친 것처럼              V.O.S\n",
       "96  멜론   97                                   MORE             j-hope\n",
       "97  멜론   98        Counting Stars (Feat. Beenzino)          BE'O (비오)\n",
       "98  멜론   99       찰나가 영원이 될 때 (The Eternal Moment)       마크툽 (MAKTUB)\n",
       "99  멜론  100                                  Seoul             볼빨간사춘기\n",
       "\n",
       "[100 rows x 4 columns]"
      ]
     },
     "execution_count": 32,
     "metadata": {},
     "output_type": "execute_result"
    }
   ],
   "source": [
    "columns = ['서비스','순위','타이틀','가수']\n",
    "df = pd.DataFrame(melon_list, columns=columns)\n",
    "df"
   ]
  },
  {
   "cell_type": "code",
   "execution_count": 33,
   "id": "1411938b",
   "metadata": {},
   "outputs": [],
   "source": [
    "df.to_excel('../../data/dataset/melon.xlsx', index=False)"
   ]
  },
  {
   "cell_type": "code",
   "execution_count": null,
   "id": "1171263f",
   "metadata": {},
   "outputs": [],
   "source": []
  }
 ],
 "metadata": {
  "kernelspec": {
   "display_name": "Python 3 (ipykernel)",
   "language": "python",
   "name": "python3"
  },
  "language_info": {
   "codemirror_mode": {
    "name": "ipython",
    "version": 3
   },
   "file_extension": ".py",
   "mimetype": "text/x-python",
   "name": "python",
   "nbconvert_exporter": "python",
   "pygments_lexer": "ipython3",
   "version": "3.9.12"
  }
 },
 "nbformat": 4,
 "nbformat_minor": 5
}
