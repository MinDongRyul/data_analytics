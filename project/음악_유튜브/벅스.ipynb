{
 "cells": [
  {
   "cell_type": "code",
   "execution_count": 1,
   "id": "17185d18",
   "metadata": {},
   "outputs": [],
   "source": [
    "from selenium import webdriver\n",
    "from bs4 import BeautifulSoup\n",
    "import time"
   ]
  },
  {
   "cell_type": "code",
   "execution_count": 2,
   "id": "9517f778",
   "metadata": {},
   "outputs": [],
   "source": [
    "url = 'https://music.bugs.co.kr/chart'"
   ]
  },
  {
   "cell_type": "code",
   "execution_count": 3,
   "id": "fb26158e",
   "metadata": {},
   "outputs": [
    {
     "name": "stderr",
     "output_type": "stream",
     "text": [
      "C:\\Users\\MDR\\AppData\\Local\\Temp\\ipykernel_2524\\1974433363.py:1: DeprecationWarning: executable_path has been deprecated, please pass in a Service object\n",
      "  browser = webdriver.Chrome('../../chromedriver.exe')\n"
     ]
    }
   ],
   "source": [
    "browser = webdriver.Chrome('../../chromedriver.exe')\n",
    "browser.get(url)\n",
    "\n",
    "time.sleep(5)\n",
    "\n",
    "soup = BeautifulSoup(browser.page_source, 'lxml')"
   ]
  },
  {
   "cell_type": "markdown",
   "id": "dc00b91f",
   "metadata": {},
   "source": [
    "### 벅스 음악 정보 가져오기\n",
    "- 순위, 노래 제목, 가수 이름 "
   ]
  },
  {
   "cell_type": "code",
   "execution_count": 28,
   "id": "7ac7465c",
   "metadata": {
    "scrolled": false
   },
   "outputs": [
    {
     "data": {
      "text/plain": [
       "100"
      ]
     },
     "execution_count": 28,
     "metadata": {},
     "output_type": "execute_result"
    }
   ],
   "source": [
    "songs = soup.select('#CHARTrealtime > table > tbody > tr')\n",
    "\n",
    "len(songs)"
   ]
  },
  {
   "cell_type": "code",
   "execution_count": 34,
   "id": "b2152055",
   "metadata": {
    "scrolled": true
   },
   "outputs": [
    {
     "name": "stdout",
     "output_type": "stream",
     "text": [
      "1 Future Perfect (Pass the MIC) ENHYPEN\n",
      "2 TFW (That Feeling When) ENHYPEN\n",
      "3 그라데이션 10CM\n",
      "4 SHOUT OUT ENHYPEN\n",
      "5 POP! 나연 (TWICE)\n",
      "6 열이올라요 (Heart Burn) 선미\n",
      "7 LOVE DIVE IVE (아이브)\n",
      "8 없었던 일로 헤이즈(Heize)\n",
      "9 Left and Right (Feat. Jung Kook of BTS) Charlie Puth(찰리 푸스)\n",
      "10 Stay This Way 프로미스나인\n",
      "11 ParadoXXX Invasion ENHYPEN\n",
      "12 TOMBOY (여자)아이들\n",
      "13 정이라고 하자 (Feat. 10CM) BIG Naughty (서동현)\n",
      "14 참고사항 이무진\n",
      "15 That That (prod. & feat. SUGA of BTS) 싸이 (PSY)\n",
      "16 Yet To Come 방탄소년단\n",
      "17 FEARLESS LE SSERAFIM (르세라핌)\n",
      "18 Life′s Too Short (English Ver.) aespa\n",
      "19 I Don′t Lie (Feat. 기리보이) 헤이즈(Heize)\n",
      "20 나의 X에게 경서\n",
      "21 도깨비불 (Illusion) aespa\n",
      "22 팡파레 다비치\n",
      "23 사랑인가 봐 멜로망스(MeloMance)\n",
      "24 WALK THE LINE ENHYPEN\n",
      "25 도둑놈 (Feat. 민니 of (여자)아이들) 헤이즈(Heize)\n",
      "26 거리마다 (Feat. I.M of 몬스타엑스) 헤이즈(Heize)\n",
      "27 Foreshadow ENHYPEN\n",
      "28 어쩌면 우리 (Feat. 죠지) 헤이즈(Heize)\n",
      "29 Drive 미연 ((여자)아이들)\n",
      "30 Feel My Rhythm Red Velvet (레드벨벳)\n",
      "31 어마어마해 WSG워너비\n",
      "32 아무래도 난 주시크 (Joosiq)\n",
      "33 That's Hilarious Charlie Puth(찰리 푸스)\n",
      "34 ELEVEN IVE (아이브)\n",
      "35 LOVE me BE'O (비오)\n",
      "36 One More Time 폴킴(Paul Kim)\n",
      "37 MY BAG (여자)아이들\n",
      "38 I Ain't Worried OneRepublic(원리퍼블릭)\n",
      "39 봄여름가을겨울 (Still Life) BIGBANG (빅뱅)\n",
      "40 늦은 밤 헤어지긴 너무 아쉬워 케이시\n",
      "41 Love is 홀로 헤이즈(Heize)\n",
      "42 Love story 볼빨간사춘기\n",
      "43 널 만나고 헤이즈(Heize)\n",
      "44 다정히 내 이름을 부르면 경서예지\n",
      "45 신호등 이무진\n",
      "46 여행자 헤이즈(Heize)\n",
      "47 슈퍼카 헤이즈(Heize)\n",
      "48 러브 쉿! 조유리\n",
      "49 물고기 백예린 (Yerin Baek)\n",
      "50 Seoul 볼빨간사춘기\n",
      "51 INVU 태연 (TAEYEON)\n",
      "52 Cheese 프로미스나인\n",
      "53 내가 아니라도 주호\n",
      "54 취중고백 김민석 (멜로망스)\n",
      "55 Rewind 프로미스나인\n",
      "56 SMILEY (Feat. BIBI) YENA (최예나)\n",
      "57 Next Level aespa\n",
      "58 Blind Letter 프로미스나인\n",
      "59 말리지 마 (여자)아이들\n",
      "60 RUN2U STAYC(스테이씨)\n",
      "61 Weekend 태연 (TAEYEON)\n",
      "62 GANADARA (Feat. 아이유) 박재범\n",
      "63 STAY The Kid LAROI\n",
      "64 고백하는 취한밤에 (Prod. 2soo) 임재현\n",
      "65 봄 to 러브 10CM\n",
      "66 World's Smallest Violin AJR\n",
      "67 마지막 너의 인사 헤이즈(Heize)\n",
      "68 Happy Song 멜로망스(MeloMance)\n",
      "69 strawberry moon 아이유(IU)\n",
      "70 밤하늘의 별을... (1992) 양정승(Kiroy Y)\n",
      "71 HOT 세븐틴(SEVENTEEN)\n",
      "72 About Time 헤이즈(Heize)\n",
      "73 드라마 아이유(IU)\n",
      "74 Beatbox NCT DREAM\n",
      "75 낭만교향곡 (Feat. CHANGMO, 박재범) BIG Naughty (서동현)\n",
      "76 듣고 싶을까 MSG워너비(M.O.M)\n",
      "77 너의 모든 순간 성시경\n",
      "78 Off My Face Justin Bieber(저스틴 비버)\n",
      "79 NO PROBLEM (Feat. 필릭스 of Stray Kids) 나연 (TWICE)\n",
      "80 Dun Dun Dance 오마이걸(OH MY GIRL)\n",
      "81 Flip That 이달의 소녀\n",
      "82 너를 생각해 주시크 (Joosiq)\n",
      "83 감동이야 (feat. 성시경) 싸이 (PSY)\n",
      "84 Up And 프로미스나인\n",
      "85 ZOOM 제시(Jessi)\n",
      "86 우리들의 블루스 임영웅\n",
      "87 비 오는 날 듣기 좋은 노래 윤하(Younha/ユンナ)\n",
      "88 Dynamite 방탄소년단\n",
      "89 사랑은 늘 도망가 임영웅\n",
      "90 Celeb 싸이 (PSY)\n",
      "91 YOU AND I WSG워너비 조별경연 (대청봉)\n",
      "92 초대 멜로망스(MeloMance)\n",
      "93 라일락 아이유(IU)\n",
      "94 모든 날, 모든 순간 (Every day, Every Moment) 폴킴(Paul Kim)\n",
      "95 Light Switch Charlie Puth(찰리 푸스)\n",
      "96 Up! Kep1er (케플러)\n",
      "97 Blueming 아이유(IU)\n",
      "98 내 곁에 태연 (TAEYEON)\n",
      "99 Celebrity 아이유(IU)\n",
      "100 BOOM 이민혁 (HUTA)\n"
     ]
    }
   ],
   "source": [
    "bugs_list = []\n",
    "\n",
    "for idx, song in enumerate(songs):\n",
    "    title = song.select_one('p.title > a').text\n",
    "    singer = song.select_one('p.artist > a').text\n",
    "    \n",
    "    print(idx + 1, title, singer)\n",
    "    \n",
    "    bugs_list.append(['벅스',idx + 1, title, singer])"
   ]
  },
  {
   "cell_type": "code",
   "execution_count": 35,
   "id": "e9f8d650",
   "metadata": {},
   "outputs": [
    {
     "data": {
      "text/plain": [
       "['벅스', 1, 'Future Perfect (Pass the MIC)', 'ENHYPEN']"
      ]
     },
     "execution_count": 35,
     "metadata": {},
     "output_type": "execute_result"
    }
   ],
   "source": [
    "bugs_list[0]"
   ]
  },
  {
   "cell_type": "markdown",
   "id": "ad049d11",
   "metadata": {},
   "source": [
    "### 크롤링 결과 엑셀 저장"
   ]
  },
  {
   "cell_type": "code",
   "execution_count": 36,
   "id": "06da7bd4",
   "metadata": {},
   "outputs": [],
   "source": [
    "import pandas as pd"
   ]
  },
  {
   "cell_type": "code",
   "execution_count": 41,
   "id": "bc07a31e",
   "metadata": {},
   "outputs": [
    {
     "data": {
      "text/html": [
       "<div>\n",
       "<style scoped>\n",
       "    .dataframe tbody tr th:only-of-type {\n",
       "        vertical-align: middle;\n",
       "    }\n",
       "\n",
       "    .dataframe tbody tr th {\n",
       "        vertical-align: top;\n",
       "    }\n",
       "\n",
       "    .dataframe thead th {\n",
       "        text-align: right;\n",
       "    }\n",
       "</style>\n",
       "<table border=\"1\" class=\"dataframe\">\n",
       "  <thead>\n",
       "    <tr style=\"text-align: right;\">\n",
       "      <th></th>\n",
       "      <th>서비스</th>\n",
       "      <th>순위</th>\n",
       "      <th>타이틀</th>\n",
       "      <th>가수</th>\n",
       "    </tr>\n",
       "  </thead>\n",
       "  <tbody>\n",
       "    <tr>\n",
       "      <th>0</th>\n",
       "      <td>벅스</td>\n",
       "      <td>1</td>\n",
       "      <td>Future Perfect (Pass the MIC)</td>\n",
       "      <td>ENHYPEN</td>\n",
       "    </tr>\n",
       "    <tr>\n",
       "      <th>1</th>\n",
       "      <td>벅스</td>\n",
       "      <td>2</td>\n",
       "      <td>TFW (That Feeling When)</td>\n",
       "      <td>ENHYPEN</td>\n",
       "    </tr>\n",
       "    <tr>\n",
       "      <th>2</th>\n",
       "      <td>벅스</td>\n",
       "      <td>3</td>\n",
       "      <td>그라데이션</td>\n",
       "      <td>10CM</td>\n",
       "    </tr>\n",
       "    <tr>\n",
       "      <th>3</th>\n",
       "      <td>벅스</td>\n",
       "      <td>4</td>\n",
       "      <td>SHOUT OUT</td>\n",
       "      <td>ENHYPEN</td>\n",
       "    </tr>\n",
       "    <tr>\n",
       "      <th>4</th>\n",
       "      <td>벅스</td>\n",
       "      <td>5</td>\n",
       "      <td>POP!</td>\n",
       "      <td>나연 (TWICE)</td>\n",
       "    </tr>\n",
       "  </tbody>\n",
       "</table>\n",
       "</div>"
      ],
      "text/plain": [
       "  서비스  순위                            타이틀          가수\n",
       "0  벅스   1  Future Perfect (Pass the MIC)     ENHYPEN\n",
       "1  벅스   2        TFW (That Feeling When)     ENHYPEN\n",
       "2  벅스   3                          그라데이션        10CM\n",
       "3  벅스   4                      SHOUT OUT     ENHYPEN\n",
       "4  벅스   5                           POP!  나연 (TWICE)"
      ]
     },
     "execution_count": 41,
     "metadata": {},
     "output_type": "execute_result"
    }
   ],
   "source": [
    "columns = ['서비스','순위','타이틀','가수']\n",
    "df = pd.DataFrame(bugs_list, columns=columns)\n",
    "df.head()"
   ]
  },
  {
   "cell_type": "code",
   "execution_count": 39,
   "id": "0b9f7e76",
   "metadata": {},
   "outputs": [],
   "source": [
    "df.to_excel('../../data/dataset/bugs.xlsx', index=False)"
   ]
  },
  {
   "cell_type": "code",
   "execution_count": null,
   "id": "3a25330a",
   "metadata": {},
   "outputs": [],
   "source": []
  }
 ],
 "metadata": {
  "kernelspec": {
   "display_name": "Python 3 (ipykernel)",
   "language": "python",
   "name": "python3"
  },
  "language_info": {
   "codemirror_mode": {
    "name": "ipython",
    "version": 3
   },
   "file_extension": ".py",
   "mimetype": "text/x-python",
   "name": "python",
   "nbconvert_exporter": "python",
   "pygments_lexer": "ipython3",
   "version": "3.9.12"
  }
 },
 "nbformat": 4,
 "nbformat_minor": 5
}
