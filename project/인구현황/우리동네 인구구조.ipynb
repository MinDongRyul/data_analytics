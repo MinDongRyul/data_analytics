{
 "cells": [
  {
   "cell_type": "code",
   "execution_count": 1,
   "id": "b4fbea1d",
   "metadata": {},
   "outputs": [],
   "source": [
    "import pandas as pd\n",
    "import matplotlib.pyplot as plt\n",
    "import numpy as np\n",
    "\n",
    "plt.rcParams['font.family'] = 'Malgun Gothic'\n",
    "plt.rcParams['axes.unicode_minus'] = False"
   ]
  },
  {
   "cell_type": "code",
   "execution_count": 2,
   "id": "42bdc093",
   "metadata": {},
   "outputs": [],
   "source": [
    "import warnings\n",
    "warnings.simplefilter('ignore')"
   ]
  },
  {
   "cell_type": "markdown",
   "id": "66437392",
   "metadata": {},
   "source": [
    "데이터 로드"
   ]
  },
  {
   "cell_type": "code",
   "execution_count": 3,
   "id": "9acfb089",
   "metadata": {},
   "outputs": [
    {
     "data": {
      "text/html": [
       "<div>\n",
       "<style scoped>\n",
       "    .dataframe tbody tr th:only-of-type {\n",
       "        vertical-align: middle;\n",
       "    }\n",
       "\n",
       "    .dataframe tbody tr th {\n",
       "        vertical-align: top;\n",
       "    }\n",
       "\n",
       "    .dataframe thead th {\n",
       "        text-align: right;\n",
       "    }\n",
       "</style>\n",
       "<table border=\"1\" class=\"dataframe\">\n",
       "  <thead>\n",
       "    <tr style=\"text-align: right;\">\n",
       "      <th></th>\n",
       "      <th>행정구역</th>\n",
       "      <th>2022년06월_계_총인구수</th>\n",
       "      <th>2022년06월_계_연령구간인구수</th>\n",
       "      <th>2022년06월_계_0~9세</th>\n",
       "      <th>2022년06월_계_10~19세</th>\n",
       "      <th>2022년06월_계_20~29세</th>\n",
       "      <th>2022년06월_계_30~39세</th>\n",
       "      <th>2022년06월_계_40~49세</th>\n",
       "      <th>2022년06월_계_50~59세</th>\n",
       "      <th>2022년06월_계_60~69세</th>\n",
       "      <th>2022년06월_계_70~79세</th>\n",
       "      <th>2022년06월_계_80~89세</th>\n",
       "      <th>2022년06월_계_90~99세</th>\n",
       "      <th>2022년06월_계_100세 이상</th>\n",
       "    </tr>\n",
       "  </thead>\n",
       "  <tbody>\n",
       "    <tr>\n",
       "      <th>0</th>\n",
       "      <td>서울특별시  (1100000000)</td>\n",
       "      <td>9494807</td>\n",
       "      <td>9494807</td>\n",
       "      <td>564739</td>\n",
       "      <td>752985</td>\n",
       "      <td>1412722</td>\n",
       "      <td>1430728</td>\n",
       "      <td>1470923</td>\n",
       "      <td>1507380</td>\n",
       "      <td>1290741</td>\n",
       "      <td>710430</td>\n",
       "      <td>309902</td>\n",
       "      <td>42531</td>\n",
       "      <td>1726</td>\n",
       "    </tr>\n",
       "    <tr>\n",
       "      <th>1</th>\n",
       "      <td>서울특별시 종로구 (1111000000)</td>\n",
       "      <td>143624</td>\n",
       "      <td>143624</td>\n",
       "      <td>6703</td>\n",
       "      <td>10176</td>\n",
       "      <td>22674</td>\n",
       "      <td>19363</td>\n",
       "      <td>20540</td>\n",
       "      <td>24745</td>\n",
       "      <td>20405</td>\n",
       "      <td>11637</td>\n",
       "      <td>6390</td>\n",
       "      <td>951</td>\n",
       "      <td>40</td>\n",
       "    </tr>\n",
       "    <tr>\n",
       "      <th>2</th>\n",
       "      <td>서울특별시 종로구 청운효자동(1111051500)</td>\n",
       "      <td>11803</td>\n",
       "      <td>11803</td>\n",
       "      <td>696</td>\n",
       "      <td>1135</td>\n",
       "      <td>1501</td>\n",
       "      <td>1538</td>\n",
       "      <td>2072</td>\n",
       "      <td>1905</td>\n",
       "      <td>1405</td>\n",
       "      <td>934</td>\n",
       "      <td>547</td>\n",
       "      <td>67</td>\n",
       "      <td>3</td>\n",
       "    </tr>\n",
       "    <tr>\n",
       "      <th>3</th>\n",
       "      <td>서울특별시 종로구 사직동(1111053000)</td>\n",
       "      <td>9310</td>\n",
       "      <td>9310</td>\n",
       "      <td>535</td>\n",
       "      <td>664</td>\n",
       "      <td>1168</td>\n",
       "      <td>1472</td>\n",
       "      <td>1436</td>\n",
       "      <td>1543</td>\n",
       "      <td>1204</td>\n",
       "      <td>710</td>\n",
       "      <td>489</td>\n",
       "      <td>88</td>\n",
       "      <td>1</td>\n",
       "    </tr>\n",
       "    <tr>\n",
       "      <th>4</th>\n",
       "      <td>서울특별시 종로구 삼청동(1111054000)</td>\n",
       "      <td>2386</td>\n",
       "      <td>2386</td>\n",
       "      <td>91</td>\n",
       "      <td>167</td>\n",
       "      <td>294</td>\n",
       "      <td>294</td>\n",
       "      <td>341</td>\n",
       "      <td>370</td>\n",
       "      <td>407</td>\n",
       "      <td>238</td>\n",
       "      <td>153</td>\n",
       "      <td>28</td>\n",
       "      <td>3</td>\n",
       "    </tr>\n",
       "  </tbody>\n",
       "</table>\n",
       "</div>"
      ],
      "text/plain": [
       "                          행정구역  2022년06월_계_총인구수  2022년06월_계_연령구간인구수  \\\n",
       "0          서울특별시  (1100000000)          9494807             9494807   \n",
       "1       서울특별시 종로구 (1111000000)           143624              143624   \n",
       "2  서울특별시 종로구 청운효자동(1111051500)            11803               11803   \n",
       "3    서울특별시 종로구 사직동(1111053000)             9310                9310   \n",
       "4    서울특별시 종로구 삼청동(1111054000)             2386                2386   \n",
       "\n",
       "   2022년06월_계_0~9세  2022년06월_계_10~19세  2022년06월_계_20~29세  2022년06월_계_30~39세  \\\n",
       "0           564739             752985            1412722            1430728   \n",
       "1             6703              10176              22674              19363   \n",
       "2              696               1135               1501               1538   \n",
       "3              535                664               1168               1472   \n",
       "4               91                167                294                294   \n",
       "\n",
       "   2022년06월_계_40~49세  2022년06월_계_50~59세  2022년06월_계_60~69세  2022년06월_계_70~79세  \\\n",
       "0            1470923            1507380            1290741             710430   \n",
       "1              20540              24745              20405              11637   \n",
       "2               2072               1905               1405                934   \n",
       "3               1436               1543               1204                710   \n",
       "4                341                370                407                238   \n",
       "\n",
       "   2022년06월_계_80~89세  2022년06월_계_90~99세  2022년06월_계_100세 이상  \n",
       "0             309902              42531                1726  \n",
       "1               6390                951                  40  \n",
       "2                547                 67                   3  \n",
       "3                489                 88                   1  \n",
       "4                153                 28                   3  "
      ]
     },
     "execution_count": 3,
     "metadata": {},
     "output_type": "execute_result"
    }
   ],
   "source": [
    "df = pd.read_csv('../../data/dataset/202206_202206_연령별인구현황_월간.csv', encoding='cp949',thousands=',')\n",
    "df.head()"
   ]
  },
  {
   "cell_type": "markdown",
   "id": "c9e02c30",
   "metadata": {},
   "source": [
    "### 데이터 탐색"
   ]
  },
  {
   "cell_type": "code",
   "execution_count": null,
   "id": "bc739e99",
   "metadata": {
    "scrolled": true
   },
   "outputs": [],
   "source": [
    "df.info()"
   ]
  },
  {
   "cell_type": "code",
   "execution_count": null,
   "id": "75f87437",
   "metadata": {},
   "outputs": [],
   "source": [
    "df.shape"
   ]
  },
  {
   "cell_type": "code",
   "execution_count": null,
   "id": "9b65d20b",
   "metadata": {},
   "outputs": [],
   "source": [
    "df.describe()"
   ]
  },
  {
   "cell_type": "code",
   "execution_count": null,
   "id": "877d671c",
   "metadata": {},
   "outputs": [],
   "source": [
    "df.describe(include=object)"
   ]
  },
  {
   "cell_type": "code",
   "execution_count": null,
   "id": "e54bbc61",
   "metadata": {},
   "outputs": [],
   "source": [
    "df.isnull().sum()"
   ]
  },
  {
   "cell_type": "markdown",
   "id": "91b5e69b",
   "metadata": {},
   "source": [
    "### 데이터 전처리"
   ]
  },
  {
   "cell_type": "markdown",
   "id": "41a454b2",
   "metadata": {},
   "source": [
    "#### 1. 필요없는 컬럼 제거 - 총인구수, 연령구간인구수 삭제"
   ]
  },
  {
   "cell_type": "code",
   "execution_count": 4,
   "id": "a78a2ad4",
   "metadata": {
    "scrolled": true
   },
   "outputs": [
    {
     "data": {
      "text/html": [
       "<div>\n",
       "<style scoped>\n",
       "    .dataframe tbody tr th:only-of-type {\n",
       "        vertical-align: middle;\n",
       "    }\n",
       "\n",
       "    .dataframe tbody tr th {\n",
       "        vertical-align: top;\n",
       "    }\n",
       "\n",
       "    .dataframe thead th {\n",
       "        text-align: right;\n",
       "    }\n",
       "</style>\n",
       "<table border=\"1\" class=\"dataframe\">\n",
       "  <thead>\n",
       "    <tr style=\"text-align: right;\">\n",
       "      <th></th>\n",
       "      <th>행정구역</th>\n",
       "      <th>2022년06월_계_0~9세</th>\n",
       "      <th>2022년06월_계_10~19세</th>\n",
       "      <th>2022년06월_계_20~29세</th>\n",
       "      <th>2022년06월_계_30~39세</th>\n",
       "      <th>2022년06월_계_40~49세</th>\n",
       "      <th>2022년06월_계_50~59세</th>\n",
       "      <th>2022년06월_계_60~69세</th>\n",
       "      <th>2022년06월_계_70~79세</th>\n",
       "      <th>2022년06월_계_80~89세</th>\n",
       "      <th>2022년06월_계_90~99세</th>\n",
       "      <th>2022년06월_계_100세 이상</th>\n",
       "    </tr>\n",
       "  </thead>\n",
       "  <tbody>\n",
       "    <tr>\n",
       "      <th>0</th>\n",
       "      <td>서울특별시  (1100000000)</td>\n",
       "      <td>564739</td>\n",
       "      <td>752985</td>\n",
       "      <td>1412722</td>\n",
       "      <td>1430728</td>\n",
       "      <td>1470923</td>\n",
       "      <td>1507380</td>\n",
       "      <td>1290741</td>\n",
       "      <td>710430</td>\n",
       "      <td>309902</td>\n",
       "      <td>42531</td>\n",
       "      <td>1726</td>\n",
       "    </tr>\n",
       "    <tr>\n",
       "      <th>1</th>\n",
       "      <td>서울특별시 종로구 (1111000000)</td>\n",
       "      <td>6703</td>\n",
       "      <td>10176</td>\n",
       "      <td>22674</td>\n",
       "      <td>19363</td>\n",
       "      <td>20540</td>\n",
       "      <td>24745</td>\n",
       "      <td>20405</td>\n",
       "      <td>11637</td>\n",
       "      <td>6390</td>\n",
       "      <td>951</td>\n",
       "      <td>40</td>\n",
       "    </tr>\n",
       "    <tr>\n",
       "      <th>2</th>\n",
       "      <td>서울특별시 종로구 청운효자동(1111051500)</td>\n",
       "      <td>696</td>\n",
       "      <td>1135</td>\n",
       "      <td>1501</td>\n",
       "      <td>1538</td>\n",
       "      <td>2072</td>\n",
       "      <td>1905</td>\n",
       "      <td>1405</td>\n",
       "      <td>934</td>\n",
       "      <td>547</td>\n",
       "      <td>67</td>\n",
       "      <td>3</td>\n",
       "    </tr>\n",
       "    <tr>\n",
       "      <th>3</th>\n",
       "      <td>서울특별시 종로구 사직동(1111053000)</td>\n",
       "      <td>535</td>\n",
       "      <td>664</td>\n",
       "      <td>1168</td>\n",
       "      <td>1472</td>\n",
       "      <td>1436</td>\n",
       "      <td>1543</td>\n",
       "      <td>1204</td>\n",
       "      <td>710</td>\n",
       "      <td>489</td>\n",
       "      <td>88</td>\n",
       "      <td>1</td>\n",
       "    </tr>\n",
       "    <tr>\n",
       "      <th>4</th>\n",
       "      <td>서울특별시 종로구 삼청동(1111054000)</td>\n",
       "      <td>91</td>\n",
       "      <td>167</td>\n",
       "      <td>294</td>\n",
       "      <td>294</td>\n",
       "      <td>341</td>\n",
       "      <td>370</td>\n",
       "      <td>407</td>\n",
       "      <td>238</td>\n",
       "      <td>153</td>\n",
       "      <td>28</td>\n",
       "      <td>3</td>\n",
       "    </tr>\n",
       "    <tr>\n",
       "      <th>...</th>\n",
       "      <td>...</td>\n",
       "      <td>...</td>\n",
       "      <td>...</td>\n",
       "      <td>...</td>\n",
       "      <td>...</td>\n",
       "      <td>...</td>\n",
       "      <td>...</td>\n",
       "      <td>...</td>\n",
       "      <td>...</td>\n",
       "      <td>...</td>\n",
       "      <td>...</td>\n",
       "      <td>...</td>\n",
       "    </tr>\n",
       "    <tr>\n",
       "      <th>3862</th>\n",
       "      <td>제주특별자치도 서귀포시 서홍동(5013058000)</td>\n",
       "      <td>1236</td>\n",
       "      <td>1466</td>\n",
       "      <td>1244</td>\n",
       "      <td>1267</td>\n",
       "      <td>2023</td>\n",
       "      <td>1701</td>\n",
       "      <td>1230</td>\n",
       "      <td>716</td>\n",
       "      <td>327</td>\n",
       "      <td>42</td>\n",
       "      <td>2</td>\n",
       "    </tr>\n",
       "    <tr>\n",
       "      <th>3863</th>\n",
       "      <td>제주특별자치도 서귀포시 대륜동(5013059000)</td>\n",
       "      <td>1550</td>\n",
       "      <td>1393</td>\n",
       "      <td>1427</td>\n",
       "      <td>2172</td>\n",
       "      <td>2775</td>\n",
       "      <td>2420</td>\n",
       "      <td>2017</td>\n",
       "      <td>1062</td>\n",
       "      <td>511</td>\n",
       "      <td>77</td>\n",
       "      <td>7</td>\n",
       "    </tr>\n",
       "    <tr>\n",
       "      <th>3864</th>\n",
       "      <td>제주특별자치도 서귀포시 대천동(5013060000)</td>\n",
       "      <td>1557</td>\n",
       "      <td>1275</td>\n",
       "      <td>1385</td>\n",
       "      <td>1996</td>\n",
       "      <td>2484</td>\n",
       "      <td>2080</td>\n",
       "      <td>1620</td>\n",
       "      <td>904</td>\n",
       "      <td>430</td>\n",
       "      <td>67</td>\n",
       "      <td>4</td>\n",
       "    </tr>\n",
       "    <tr>\n",
       "      <th>3865</th>\n",
       "      <td>제주특별자치도 서귀포시 중문동(5013061000)</td>\n",
       "      <td>986</td>\n",
       "      <td>1188</td>\n",
       "      <td>1354</td>\n",
       "      <td>1684</td>\n",
       "      <td>2108</td>\n",
       "      <td>2010</td>\n",
       "      <td>1461</td>\n",
       "      <td>848</td>\n",
       "      <td>509</td>\n",
       "      <td>66</td>\n",
       "      <td>3</td>\n",
       "    </tr>\n",
       "    <tr>\n",
       "      <th>3866</th>\n",
       "      <td>제주특별자치도 서귀포시 예래동(5013062000)</td>\n",
       "      <td>218</td>\n",
       "      <td>248</td>\n",
       "      <td>467</td>\n",
       "      <td>422</td>\n",
       "      <td>522</td>\n",
       "      <td>705</td>\n",
       "      <td>650</td>\n",
       "      <td>377</td>\n",
       "      <td>262</td>\n",
       "      <td>47</td>\n",
       "      <td>1</td>\n",
       "    </tr>\n",
       "  </tbody>\n",
       "</table>\n",
       "<p>3867 rows × 12 columns</p>\n",
       "</div>"
      ],
      "text/plain": [
       "                              행정구역  2022년06월_계_0~9세  2022년06월_계_10~19세  \\\n",
       "0              서울특별시  (1100000000)           564739             752985   \n",
       "1           서울특별시 종로구 (1111000000)             6703              10176   \n",
       "2      서울특별시 종로구 청운효자동(1111051500)              696               1135   \n",
       "3        서울특별시 종로구 사직동(1111053000)              535                664   \n",
       "4        서울특별시 종로구 삼청동(1111054000)               91                167   \n",
       "...                            ...              ...                ...   \n",
       "3862  제주특별자치도 서귀포시 서홍동(5013058000)             1236               1466   \n",
       "3863  제주특별자치도 서귀포시 대륜동(5013059000)             1550               1393   \n",
       "3864  제주특별자치도 서귀포시 대천동(5013060000)             1557               1275   \n",
       "3865  제주특별자치도 서귀포시 중문동(5013061000)              986               1188   \n",
       "3866  제주특별자치도 서귀포시 예래동(5013062000)              218                248   \n",
       "\n",
       "      2022년06월_계_20~29세  2022년06월_계_30~39세  2022년06월_계_40~49세  \\\n",
       "0               1412722            1430728            1470923   \n",
       "1                 22674              19363              20540   \n",
       "2                  1501               1538               2072   \n",
       "3                  1168               1472               1436   \n",
       "4                   294                294                341   \n",
       "...                 ...                ...                ...   \n",
       "3862               1244               1267               2023   \n",
       "3863               1427               2172               2775   \n",
       "3864               1385               1996               2484   \n",
       "3865               1354               1684               2108   \n",
       "3866                467                422                522   \n",
       "\n",
       "      2022년06월_계_50~59세  2022년06월_계_60~69세  2022년06월_계_70~79세  \\\n",
       "0               1507380            1290741             710430   \n",
       "1                 24745              20405              11637   \n",
       "2                  1905               1405                934   \n",
       "3                  1543               1204                710   \n",
       "4                   370                407                238   \n",
       "...                 ...                ...                ...   \n",
       "3862               1701               1230                716   \n",
       "3863               2420               2017               1062   \n",
       "3864               2080               1620                904   \n",
       "3865               2010               1461                848   \n",
       "3866                705                650                377   \n",
       "\n",
       "      2022년06월_계_80~89세  2022년06월_계_90~99세  2022년06월_계_100세 이상  \n",
       "0                309902              42531                1726  \n",
       "1                  6390                951                  40  \n",
       "2                   547                 67                   3  \n",
       "3                   489                 88                   1  \n",
       "4                   153                 28                   3  \n",
       "...                 ...                ...                 ...  \n",
       "3862                327                 42                   2  \n",
       "3863                511                 77                   7  \n",
       "3864                430                 67                   4  \n",
       "3865                509                 66                   3  \n",
       "3866                262                 47                   1  \n",
       "\n",
       "[3867 rows x 12 columns]"
      ]
     },
     "execution_count": 4,
     "metadata": {},
     "output_type": "execute_result"
    }
   ],
   "source": [
    "df = df.drop('2022년06월_계_총인구수',axis=1)\n",
    "df = df.drop('2022년06월_계_연령구간인구수',axis=1)\n",
    "df"
   ]
  },
  {
   "cell_type": "code",
   "execution_count": 5,
   "id": "8c8b5f4e",
   "metadata": {
    "scrolled": false
   },
   "outputs": [
    {
     "data": {
      "text/html": [
       "<div>\n",
       "<style scoped>\n",
       "    .dataframe tbody tr th:only-of-type {\n",
       "        vertical-align: middle;\n",
       "    }\n",
       "\n",
       "    .dataframe tbody tr th {\n",
       "        vertical-align: top;\n",
       "    }\n",
       "\n",
       "    .dataframe thead th {\n",
       "        text-align: right;\n",
       "    }\n",
       "</style>\n",
       "<table border=\"1\" class=\"dataframe\">\n",
       "  <thead>\n",
       "    <tr style=\"text-align: right;\">\n",
       "      <th></th>\n",
       "      <th>행정구역</th>\n",
       "      <th>2022년06월_계_0~9세</th>\n",
       "      <th>2022년06월_계_10~19세</th>\n",
       "      <th>2022년06월_계_20~29세</th>\n",
       "      <th>2022년06월_계_30~39세</th>\n",
       "      <th>2022년06월_계_40~49세</th>\n",
       "      <th>2022년06월_계_50~59세</th>\n",
       "      <th>2022년06월_계_60~69세</th>\n",
       "      <th>2022년06월_계_70~79세</th>\n",
       "      <th>2022년06월_계_80~89세</th>\n",
       "      <th>2022년06월_계_90~99세</th>\n",
       "      <th>2022년06월_계_100세 이상</th>\n",
       "    </tr>\n",
       "  </thead>\n",
       "  <tbody>\n",
       "    <tr>\n",
       "      <th>0</th>\n",
       "      <td>서울특별시  (1100000000)</td>\n",
       "      <td>564739</td>\n",
       "      <td>752985</td>\n",
       "      <td>1412722</td>\n",
       "      <td>1430728</td>\n",
       "      <td>1470923</td>\n",
       "      <td>1507380</td>\n",
       "      <td>1290741</td>\n",
       "      <td>710430</td>\n",
       "      <td>309902</td>\n",
       "      <td>42531</td>\n",
       "      <td>1726</td>\n",
       "    </tr>\n",
       "    <tr>\n",
       "      <th>1</th>\n",
       "      <td>서울특별시 종로구 (1111000000)</td>\n",
       "      <td>6703</td>\n",
       "      <td>10176</td>\n",
       "      <td>22674</td>\n",
       "      <td>19363</td>\n",
       "      <td>20540</td>\n",
       "      <td>24745</td>\n",
       "      <td>20405</td>\n",
       "      <td>11637</td>\n",
       "      <td>6390</td>\n",
       "      <td>951</td>\n",
       "      <td>40</td>\n",
       "    </tr>\n",
       "  </tbody>\n",
       "</table>\n",
       "</div>"
      ],
      "text/plain": [
       "                     행정구역  2022년06월_계_0~9세  2022년06월_계_10~19세  \\\n",
       "0     서울특별시  (1100000000)           564739             752985   \n",
       "1  서울특별시 종로구 (1111000000)             6703              10176   \n",
       "\n",
       "   2022년06월_계_20~29세  2022년06월_계_30~39세  2022년06월_계_40~49세  2022년06월_계_50~59세  \\\n",
       "0            1412722            1430728            1470923            1507380   \n",
       "1              22674              19363              20540              24745   \n",
       "\n",
       "   2022년06월_계_60~69세  2022년06월_계_70~79세  2022년06월_계_80~89세  2022년06월_계_90~99세  \\\n",
       "0            1290741             710430             309902              42531   \n",
       "1              20405              11637               6390                951   \n",
       "\n",
       "   2022년06월_계_100세 이상  \n",
       "0                1726  \n",
       "1                  40  "
      ]
     },
     "execution_count": 5,
     "metadata": {},
     "output_type": "execute_result"
    }
   ],
   "source": [
    "df.head(2)"
   ]
  },
  {
   "cell_type": "markdown",
   "id": "999b1854",
   "metadata": {},
   "source": [
    "#### 2. 컬럼명 변경 - 2022년 06월 계 제거"
   ]
  },
  {
   "cell_type": "code",
   "execution_count": 6,
   "id": "dade8f15",
   "metadata": {},
   "outputs": [],
   "source": [
    "# df.columns.str.replace('2022년06월_계_','')\n",
    "for column in df.columns:\n",
    "    if '2022년06월_계_' in column:\n",
    "        column1 = column.replace('2022년06월_계_','')\n",
    "        df.rename(columns={column:column1}, inplace=True)"
   ]
  },
  {
   "cell_type": "code",
   "execution_count": 7,
   "id": "1f8a5776",
   "metadata": {
    "scrolled": true
   },
   "outputs": [
    {
     "data": {
      "text/html": [
       "<div>\n",
       "<style scoped>\n",
       "    .dataframe tbody tr th:only-of-type {\n",
       "        vertical-align: middle;\n",
       "    }\n",
       "\n",
       "    .dataframe tbody tr th {\n",
       "        vertical-align: top;\n",
       "    }\n",
       "\n",
       "    .dataframe thead th {\n",
       "        text-align: right;\n",
       "    }\n",
       "</style>\n",
       "<table border=\"1\" class=\"dataframe\">\n",
       "  <thead>\n",
       "    <tr style=\"text-align: right;\">\n",
       "      <th></th>\n",
       "      <th>행정구역</th>\n",
       "      <th>0~9세</th>\n",
       "      <th>10~19세</th>\n",
       "      <th>20~29세</th>\n",
       "      <th>30~39세</th>\n",
       "      <th>40~49세</th>\n",
       "      <th>50~59세</th>\n",
       "      <th>60~69세</th>\n",
       "      <th>70~79세</th>\n",
       "      <th>80~89세</th>\n",
       "      <th>90~99세</th>\n",
       "      <th>100세 이상</th>\n",
       "    </tr>\n",
       "  </thead>\n",
       "  <tbody>\n",
       "    <tr>\n",
       "      <th>0</th>\n",
       "      <td>서울특별시  (1100000000)</td>\n",
       "      <td>564739</td>\n",
       "      <td>752985</td>\n",
       "      <td>1412722</td>\n",
       "      <td>1430728</td>\n",
       "      <td>1470923</td>\n",
       "      <td>1507380</td>\n",
       "      <td>1290741</td>\n",
       "      <td>710430</td>\n",
       "      <td>309902</td>\n",
       "      <td>42531</td>\n",
       "      <td>1726</td>\n",
       "    </tr>\n",
       "    <tr>\n",
       "      <th>1</th>\n",
       "      <td>서울특별시 종로구 (1111000000)</td>\n",
       "      <td>6703</td>\n",
       "      <td>10176</td>\n",
       "      <td>22674</td>\n",
       "      <td>19363</td>\n",
       "      <td>20540</td>\n",
       "      <td>24745</td>\n",
       "      <td>20405</td>\n",
       "      <td>11637</td>\n",
       "      <td>6390</td>\n",
       "      <td>951</td>\n",
       "      <td>40</td>\n",
       "    </tr>\n",
       "  </tbody>\n",
       "</table>\n",
       "</div>"
      ],
      "text/plain": [
       "                     행정구역    0~9세  10~19세   20~29세   30~39세   40~49세   50~59세  \\\n",
       "0     서울특별시  (1100000000)  564739  752985  1412722  1430728  1470923  1507380   \n",
       "1  서울특별시 종로구 (1111000000)    6703   10176    22674    19363    20540    24745   \n",
       "\n",
       "    60~69세  70~79세  80~89세  90~99세  100세 이상  \n",
       "0  1290741  710430  309902   42531     1726  \n",
       "1    20405   11637    6390     951       40  "
      ]
     },
     "execution_count": 7,
     "metadata": {},
     "output_type": "execute_result"
    }
   ],
   "source": [
    "df.head(2)"
   ]
  },
  {
   "cell_type": "markdown",
   "id": "93bc1c02",
   "metadata": {},
   "source": [
    "### 종로구 평창동 인구 구조"
   ]
  },
  {
   "cell_type": "markdown",
   "id": "b07ea768",
   "metadata": {},
   "source": [
    "#### 1) 종로구 평창동 찾기"
   ]
  },
  {
   "cell_type": "code",
   "execution_count": null,
   "id": "49871fe3",
   "metadata": {},
   "outputs": [],
   "source": [
    "df.iloc[6]"
   ]
  },
  {
   "cell_type": "code",
   "execution_count": null,
   "id": "cfe2fa6f",
   "metadata": {},
   "outputs": [],
   "source": [
    "df[df['행정구역'] == '서울특별시 종로구 평창동(1111056000)']"
   ]
  },
  {
   "cell_type": "code",
   "execution_count": null,
   "id": "6a9ce2a6",
   "metadata": {},
   "outputs": [],
   "source": [
    "df[df['행정구역'].str.contains('평창동')]"
   ]
  },
  {
   "cell_type": "code",
   "execution_count": null,
   "id": "c88873b8",
   "metadata": {},
   "outputs": [],
   "source": []
  },
  {
   "cell_type": "markdown",
   "id": "c477ee3b",
   "metadata": {},
   "source": [
    "#### 행정구역 인덱스 설정"
   ]
  },
  {
   "cell_type": "code",
   "execution_count": 55,
   "id": "ecbd449a",
   "metadata": {},
   "outputs": [],
   "source": [
    "df.set_index('행정구역', inplace=True)"
   ]
  },
  {
   "cell_type": "code",
   "execution_count": 9,
   "id": "3d15aee4",
   "metadata": {},
   "outputs": [
    {
     "data": {
      "text/html": [
       "<div>\n",
       "<style scoped>\n",
       "    .dataframe tbody tr th:only-of-type {\n",
       "        vertical-align: middle;\n",
       "    }\n",
       "\n",
       "    .dataframe tbody tr th {\n",
       "        vertical-align: top;\n",
       "    }\n",
       "\n",
       "    .dataframe thead th {\n",
       "        text-align: right;\n",
       "    }\n",
       "</style>\n",
       "<table border=\"1\" class=\"dataframe\">\n",
       "  <thead>\n",
       "    <tr style=\"text-align: right;\">\n",
       "      <th></th>\n",
       "      <th>0~9세</th>\n",
       "      <th>10~19세</th>\n",
       "      <th>20~29세</th>\n",
       "      <th>30~39세</th>\n",
       "      <th>40~49세</th>\n",
       "      <th>50~59세</th>\n",
       "      <th>60~69세</th>\n",
       "      <th>70~79세</th>\n",
       "      <th>80~89세</th>\n",
       "      <th>90~99세</th>\n",
       "      <th>100세 이상</th>\n",
       "    </tr>\n",
       "    <tr>\n",
       "      <th>행정구역</th>\n",
       "      <th></th>\n",
       "      <th></th>\n",
       "      <th></th>\n",
       "      <th></th>\n",
       "      <th></th>\n",
       "      <th></th>\n",
       "      <th></th>\n",
       "      <th></th>\n",
       "      <th></th>\n",
       "      <th></th>\n",
       "      <th></th>\n",
       "    </tr>\n",
       "  </thead>\n",
       "  <tbody>\n",
       "    <tr>\n",
       "      <th>서울특별시  (1100000000)</th>\n",
       "      <td>564739</td>\n",
       "      <td>752985</td>\n",
       "      <td>1412722</td>\n",
       "      <td>1430728</td>\n",
       "      <td>1470923</td>\n",
       "      <td>1507380</td>\n",
       "      <td>1290741</td>\n",
       "      <td>710430</td>\n",
       "      <td>309902</td>\n",
       "      <td>42531</td>\n",
       "      <td>1726</td>\n",
       "    </tr>\n",
       "  </tbody>\n",
       "</table>\n",
       "</div>"
      ],
      "text/plain": [
       "                       0~9세  10~19세   20~29세   30~39세   40~49세   50~59세  \\\n",
       "행정구역                                                                      \n",
       "서울특별시  (1100000000)  564739  752985  1412722  1430728  1470923  1507380   \n",
       "\n",
       "                      60~69세  70~79세  80~89세  90~99세  100세 이상  \n",
       "행정구역                                                           \n",
       "서울특별시  (1100000000)  1290741  710430  309902   42531     1726  "
      ]
     },
     "execution_count": 9,
     "metadata": {},
     "output_type": "execute_result"
    }
   ],
   "source": [
    "df.head(1)"
   ]
  },
  {
   "cell_type": "code",
   "execution_count": 10,
   "id": "ae695a4a",
   "metadata": {},
   "outputs": [
    {
     "data": {
      "text/plain": [
       "Index(['서울특별시  (1100000000)', '서울특별시 종로구 (1111000000)',\n",
       "       '서울특별시 종로구 청운효자동(1111051500)', '서울특별시 종로구 사직동(1111053000)',\n",
       "       '서울특별시 종로구 삼청동(1111054000)', '서울특별시 종로구 부암동(1111055000)',\n",
       "       '서울특별시 종로구 평창동(1111056000)', '서울특별시 종로구 무악동(1111057000)',\n",
       "       '서울특별시 종로구 교남동(1111058000)', '서울특별시 종로구 가회동(1111060000)',\n",
       "       ...\n",
       "       '제주특별자치도 서귀포시 중앙동(5013053000)', '제주특별자치도 서귀포시 천지동(5013054000)',\n",
       "       '제주특별자치도 서귀포시 효돈동(5013055000)', '제주특별자치도 서귀포시 영천동(5013056000)',\n",
       "       '제주특별자치도 서귀포시 동홍동(5013057000)', '제주특별자치도 서귀포시 서홍동(5013058000)',\n",
       "       '제주특별자치도 서귀포시 대륜동(5013059000)', '제주특별자치도 서귀포시 대천동(5013060000)',\n",
       "       '제주특별자치도 서귀포시 중문동(5013061000)', '제주특별자치도 서귀포시 예래동(5013062000)'],\n",
       "      dtype='object', name='행정구역', length=3867)"
      ]
     },
     "execution_count": 10,
     "metadata": {},
     "output_type": "execute_result"
    }
   ],
   "source": [
    "# 전체 인덱스\n",
    "\n",
    "df.index"
   ]
  },
  {
   "cell_type": "code",
   "execution_count": 11,
   "id": "fd12fa0c",
   "metadata": {},
   "outputs": [
    {
     "data": {
      "text/html": [
       "<div>\n",
       "<style scoped>\n",
       "    .dataframe tbody tr th:only-of-type {\n",
       "        vertical-align: middle;\n",
       "    }\n",
       "\n",
       "    .dataframe tbody tr th {\n",
       "        vertical-align: top;\n",
       "    }\n",
       "\n",
       "    .dataframe thead th {\n",
       "        text-align: right;\n",
       "    }\n",
       "</style>\n",
       "<table border=\"1\" class=\"dataframe\">\n",
       "  <thead>\n",
       "    <tr style=\"text-align: right;\">\n",
       "      <th></th>\n",
       "      <th>0~9세</th>\n",
       "      <th>10~19세</th>\n",
       "      <th>20~29세</th>\n",
       "      <th>30~39세</th>\n",
       "      <th>40~49세</th>\n",
       "      <th>50~59세</th>\n",
       "      <th>60~69세</th>\n",
       "      <th>70~79세</th>\n",
       "      <th>80~89세</th>\n",
       "      <th>90~99세</th>\n",
       "      <th>100세 이상</th>\n",
       "    </tr>\n",
       "    <tr>\n",
       "      <th>행정구역</th>\n",
       "      <th></th>\n",
       "      <th></th>\n",
       "      <th></th>\n",
       "      <th></th>\n",
       "      <th></th>\n",
       "      <th></th>\n",
       "      <th></th>\n",
       "      <th></th>\n",
       "      <th></th>\n",
       "      <th></th>\n",
       "      <th></th>\n",
       "    </tr>\n",
       "  </thead>\n",
       "  <tbody>\n",
       "    <tr>\n",
       "      <th>서울특별시 종로구 평창동(1111056000)</th>\n",
       "      <td>1137</td>\n",
       "      <td>1543</td>\n",
       "      <td>2258</td>\n",
       "      <td>2146</td>\n",
       "      <td>2661</td>\n",
       "      <td>3256</td>\n",
       "      <td>2695</td>\n",
       "      <td>1323</td>\n",
       "      <td>785</td>\n",
       "      <td>151</td>\n",
       "      <td>8</td>\n",
       "    </tr>\n",
       "  </tbody>\n",
       "</table>\n",
       "</div>"
      ],
      "text/plain": [
       "                           0~9세  10~19세  20~29세  30~39세  40~49세  50~59세  \\\n",
       "행정구역                                                                      \n",
       "서울특별시 종로구 평창동(1111056000)  1137    1543    2258    2146    2661    3256   \n",
       "\n",
       "                           60~69세  70~79세  80~89세  90~99세  100세 이상  \n",
       "행정구역                                                                \n",
       "서울특별시 종로구 평창동(1111056000)    2695    1323     785     151        8  "
      ]
     },
     "execution_count": 11,
     "metadata": {},
     "output_type": "execute_result"
    }
   ],
   "source": [
    "df[df.index.str.contains('평창동')]"
   ]
  },
  {
   "cell_type": "markdown",
   "id": "04ff7b8c",
   "metadata": {},
   "source": [
    "#### 행정구역 인덱스 해제"
   ]
  },
  {
   "cell_type": "code",
   "execution_count": 12,
   "id": "2907d0e7",
   "metadata": {
    "scrolled": false
   },
   "outputs": [
    {
     "data": {
      "text/html": [
       "<div>\n",
       "<style scoped>\n",
       "    .dataframe tbody tr th:only-of-type {\n",
       "        vertical-align: middle;\n",
       "    }\n",
       "\n",
       "    .dataframe tbody tr th {\n",
       "        vertical-align: top;\n",
       "    }\n",
       "\n",
       "    .dataframe thead th {\n",
       "        text-align: right;\n",
       "    }\n",
       "</style>\n",
       "<table border=\"1\" class=\"dataframe\">\n",
       "  <thead>\n",
       "    <tr style=\"text-align: right;\">\n",
       "      <th></th>\n",
       "      <th>행정구역</th>\n",
       "      <th>0~9세</th>\n",
       "      <th>10~19세</th>\n",
       "      <th>20~29세</th>\n",
       "      <th>30~39세</th>\n",
       "      <th>40~49세</th>\n",
       "      <th>50~59세</th>\n",
       "      <th>60~69세</th>\n",
       "      <th>70~79세</th>\n",
       "      <th>80~89세</th>\n",
       "      <th>90~99세</th>\n",
       "      <th>100세 이상</th>\n",
       "    </tr>\n",
       "  </thead>\n",
       "  <tbody>\n",
       "    <tr>\n",
       "      <th>0</th>\n",
       "      <td>서울특별시  (1100000000)</td>\n",
       "      <td>564739</td>\n",
       "      <td>752985</td>\n",
       "      <td>1412722</td>\n",
       "      <td>1430728</td>\n",
       "      <td>1470923</td>\n",
       "      <td>1507380</td>\n",
       "      <td>1290741</td>\n",
       "      <td>710430</td>\n",
       "      <td>309902</td>\n",
       "      <td>42531</td>\n",
       "      <td>1726</td>\n",
       "    </tr>\n",
       "  </tbody>\n",
       "</table>\n",
       "</div>"
      ],
      "text/plain": [
       "                  행정구역    0~9세  10~19세   20~29세   30~39세   40~49세   50~59세  \\\n",
       "0  서울특별시  (1100000000)  564739  752985  1412722  1430728  1470923  1507380   \n",
       "\n",
       "    60~69세  70~79세  80~89세  90~99세  100세 이상  \n",
       "0  1290741  710430  309902   42531     1726  "
      ]
     },
     "execution_count": 12,
     "metadata": {},
     "output_type": "execute_result"
    }
   ],
   "source": [
    "df.reset_index(inplace=True)\n",
    "df.head(1)"
   ]
  },
  {
   "cell_type": "code",
   "execution_count": 13,
   "id": "7dab788d",
   "metadata": {},
   "outputs": [
    {
     "data": {
      "text/html": [
       "<div>\n",
       "<style scoped>\n",
       "    .dataframe tbody tr th:only-of-type {\n",
       "        vertical-align: middle;\n",
       "    }\n",
       "\n",
       "    .dataframe tbody tr th {\n",
       "        vertical-align: top;\n",
       "    }\n",
       "\n",
       "    .dataframe thead th {\n",
       "        text-align: right;\n",
       "    }\n",
       "</style>\n",
       "<table border=\"1\" class=\"dataframe\">\n",
       "  <thead>\n",
       "    <tr style=\"text-align: right;\">\n",
       "      <th></th>\n",
       "      <th>행정구역</th>\n",
       "      <th>0~9세</th>\n",
       "      <th>10~19세</th>\n",
       "      <th>20~29세</th>\n",
       "      <th>30~39세</th>\n",
       "      <th>40~49세</th>\n",
       "      <th>50~59세</th>\n",
       "      <th>60~69세</th>\n",
       "      <th>70~79세</th>\n",
       "      <th>80~89세</th>\n",
       "      <th>90~99세</th>\n",
       "      <th>100세 이상</th>\n",
       "    </tr>\n",
       "  </thead>\n",
       "  <tbody>\n",
       "    <tr>\n",
       "      <th>6</th>\n",
       "      <td>서울특별시 종로구 평창동(1111056000)</td>\n",
       "      <td>1137</td>\n",
       "      <td>1543</td>\n",
       "      <td>2258</td>\n",
       "      <td>2146</td>\n",
       "      <td>2661</td>\n",
       "      <td>3256</td>\n",
       "      <td>2695</td>\n",
       "      <td>1323</td>\n",
       "      <td>785</td>\n",
       "      <td>151</td>\n",
       "      <td>8</td>\n",
       "    </tr>\n",
       "  </tbody>\n",
       "</table>\n",
       "</div>"
      ],
      "text/plain": [
       "                        행정구역  0~9세  10~19세  20~29세  30~39세  40~49세  50~59세  \\\n",
       "6  서울특별시 종로구 평창동(1111056000)  1137    1543    2258    2146    2661    3256   \n",
       "\n",
       "   60~69세  70~79세  80~89세  90~99세  100세 이상  \n",
       "6    2695    1323     785     151        8  "
      ]
     },
     "execution_count": 13,
     "metadata": {},
     "output_type": "execute_result"
    }
   ],
   "source": [
    "dong = df[df['행정구역'].str.contains('평창동')]\n",
    "dong"
   ]
  },
  {
   "cell_type": "markdown",
   "id": "2989e3d0",
   "metadata": {},
   "source": [
    "#### 1) 평창동_df 에서 행정구역 컬럼 제거"
   ]
  },
  {
   "cell_type": "code",
   "execution_count": 14,
   "id": "4c5de6b7",
   "metadata": {},
   "outputs": [],
   "source": [
    "dong.drop(columns='행정구역',inplace=True)"
   ]
  },
  {
   "cell_type": "markdown",
   "id": "5ff57b28",
   "metadata": {},
   "source": [
    "#### 2) 행/열 변경 : T or transpose()"
   ]
  },
  {
   "cell_type": "code",
   "execution_count": 16,
   "id": "1e201275",
   "metadata": {
    "scrolled": true
   },
   "outputs": [
    {
     "data": {
      "text/html": [
       "<div>\n",
       "<style scoped>\n",
       "    .dataframe tbody tr th:only-of-type {\n",
       "        vertical-align: middle;\n",
       "    }\n",
       "\n",
       "    .dataframe tbody tr th {\n",
       "        vertical-align: top;\n",
       "    }\n",
       "\n",
       "    .dataframe thead th {\n",
       "        text-align: right;\n",
       "    }\n",
       "</style>\n",
       "<table border=\"1\" class=\"dataframe\">\n",
       "  <thead>\n",
       "    <tr style=\"text-align: right;\">\n",
       "      <th></th>\n",
       "      <th>6</th>\n",
       "    </tr>\n",
       "  </thead>\n",
       "  <tbody>\n",
       "    <tr>\n",
       "      <th>0~9세</th>\n",
       "      <td>1137</td>\n",
       "    </tr>\n",
       "    <tr>\n",
       "      <th>10~19세</th>\n",
       "      <td>1543</td>\n",
       "    </tr>\n",
       "    <tr>\n",
       "      <th>20~29세</th>\n",
       "      <td>2258</td>\n",
       "    </tr>\n",
       "    <tr>\n",
       "      <th>30~39세</th>\n",
       "      <td>2146</td>\n",
       "    </tr>\n",
       "    <tr>\n",
       "      <th>40~49세</th>\n",
       "      <td>2661</td>\n",
       "    </tr>\n",
       "    <tr>\n",
       "      <th>50~59세</th>\n",
       "      <td>3256</td>\n",
       "    </tr>\n",
       "    <tr>\n",
       "      <th>60~69세</th>\n",
       "      <td>2695</td>\n",
       "    </tr>\n",
       "    <tr>\n",
       "      <th>70~79세</th>\n",
       "      <td>1323</td>\n",
       "    </tr>\n",
       "    <tr>\n",
       "      <th>80~89세</th>\n",
       "      <td>785</td>\n",
       "    </tr>\n",
       "    <tr>\n",
       "      <th>90~99세</th>\n",
       "      <td>151</td>\n",
       "    </tr>\n",
       "    <tr>\n",
       "      <th>100세 이상</th>\n",
       "      <td>8</td>\n",
       "    </tr>\n",
       "  </tbody>\n",
       "</table>\n",
       "</div>"
      ],
      "text/plain": [
       "            6\n",
       "0~9세     1137\n",
       "10~19세   1543\n",
       "20~29세   2258\n",
       "30~39세   2146\n",
       "40~49세   2661\n",
       "50~59세   3256\n",
       "60~69세   2695\n",
       "70~79세   1323\n",
       "80~89세    785\n",
       "90~99세    151\n",
       "100세 이상     8"
      ]
     },
     "execution_count": 16,
     "metadata": {},
     "output_type": "execute_result"
    }
   ],
   "source": [
    "dong.T"
   ]
  },
  {
   "cell_type": "code",
   "execution_count": 17,
   "id": "1d9ef264",
   "metadata": {
    "scrolled": true
   },
   "outputs": [
    {
     "ename": "KeyError",
     "evalue": "\"['index'] not found in axis\"",
     "output_type": "error",
     "traceback": [
      "\u001b[1;31m---------------------------------------------------------------------------\u001b[0m",
      "\u001b[1;31mKeyError\u001b[0m                                  Traceback (most recent call last)",
      "Input \u001b[1;32mIn [17]\u001b[0m, in \u001b[0;36m<cell line: 1>\u001b[1;34m()\u001b[0m\n\u001b[1;32m----> 1\u001b[0m \u001b[43mdong\u001b[49m\u001b[38;5;241;43m.\u001b[39;49m\u001b[43mdrop\u001b[49m\u001b[43m(\u001b[49m\u001b[43mcolumns\u001b[49m\u001b[38;5;241;43m=\u001b[39;49m\u001b[38;5;124;43m'\u001b[39;49m\u001b[38;5;124;43mindex\u001b[39;49m\u001b[38;5;124;43m'\u001b[39;49m\u001b[43m,\u001b[49m\u001b[43minplace\u001b[49m\u001b[38;5;241;43m=\u001b[39;49m\u001b[38;5;28;43;01mTrue\u001b[39;49;00m\u001b[43m)\u001b[49m\n",
      "File \u001b[1;32m~\\anaconda3\\lib\\site-packages\\pandas\\util\\_decorators.py:311\u001b[0m, in \u001b[0;36mdeprecate_nonkeyword_arguments.<locals>.decorate.<locals>.wrapper\u001b[1;34m(*args, **kwargs)\u001b[0m\n\u001b[0;32m    305\u001b[0m \u001b[38;5;28;01mif\u001b[39;00m \u001b[38;5;28mlen\u001b[39m(args) \u001b[38;5;241m>\u001b[39m num_allow_args:\n\u001b[0;32m    306\u001b[0m     warnings\u001b[38;5;241m.\u001b[39mwarn(\n\u001b[0;32m    307\u001b[0m         msg\u001b[38;5;241m.\u001b[39mformat(arguments\u001b[38;5;241m=\u001b[39marguments),\n\u001b[0;32m    308\u001b[0m         \u001b[38;5;167;01mFutureWarning\u001b[39;00m,\n\u001b[0;32m    309\u001b[0m         stacklevel\u001b[38;5;241m=\u001b[39mstacklevel,\n\u001b[0;32m    310\u001b[0m     )\n\u001b[1;32m--> 311\u001b[0m \u001b[38;5;28;01mreturn\u001b[39;00m func(\u001b[38;5;241m*\u001b[39margs, \u001b[38;5;241m*\u001b[39m\u001b[38;5;241m*\u001b[39mkwargs)\n",
      "File \u001b[1;32m~\\anaconda3\\lib\\site-packages\\pandas\\core\\frame.py:4954\u001b[0m, in \u001b[0;36mDataFrame.drop\u001b[1;34m(self, labels, axis, index, columns, level, inplace, errors)\u001b[0m\n\u001b[0;32m   4806\u001b[0m \u001b[38;5;129m@deprecate_nonkeyword_arguments\u001b[39m(version\u001b[38;5;241m=\u001b[39m\u001b[38;5;28;01mNone\u001b[39;00m, allowed_args\u001b[38;5;241m=\u001b[39m[\u001b[38;5;124m\"\u001b[39m\u001b[38;5;124mself\u001b[39m\u001b[38;5;124m\"\u001b[39m, \u001b[38;5;124m\"\u001b[39m\u001b[38;5;124mlabels\u001b[39m\u001b[38;5;124m\"\u001b[39m])\n\u001b[0;32m   4807\u001b[0m \u001b[38;5;28;01mdef\u001b[39;00m \u001b[38;5;21mdrop\u001b[39m(\n\u001b[0;32m   4808\u001b[0m     \u001b[38;5;28mself\u001b[39m,\n\u001b[1;32m   (...)\u001b[0m\n\u001b[0;32m   4815\u001b[0m     errors: \u001b[38;5;28mstr\u001b[39m \u001b[38;5;241m=\u001b[39m \u001b[38;5;124m\"\u001b[39m\u001b[38;5;124mraise\u001b[39m\u001b[38;5;124m\"\u001b[39m,\n\u001b[0;32m   4816\u001b[0m ):\n\u001b[0;32m   4817\u001b[0m     \u001b[38;5;124;03m\"\"\"\u001b[39;00m\n\u001b[0;32m   4818\u001b[0m \u001b[38;5;124;03m    Drop specified labels from rows or columns.\u001b[39;00m\n\u001b[0;32m   4819\u001b[0m \n\u001b[1;32m   (...)\u001b[0m\n\u001b[0;32m   4952\u001b[0m \u001b[38;5;124;03m            weight  1.0     0.8\u001b[39;00m\n\u001b[0;32m   4953\u001b[0m \u001b[38;5;124;03m    \"\"\"\u001b[39;00m\n\u001b[1;32m-> 4954\u001b[0m     \u001b[38;5;28;01mreturn\u001b[39;00m \u001b[38;5;28;43msuper\u001b[39;49m\u001b[43m(\u001b[49m\u001b[43m)\u001b[49m\u001b[38;5;241;43m.\u001b[39;49m\u001b[43mdrop\u001b[49m\u001b[43m(\u001b[49m\n\u001b[0;32m   4955\u001b[0m \u001b[43m        \u001b[49m\u001b[43mlabels\u001b[49m\u001b[38;5;241;43m=\u001b[39;49m\u001b[43mlabels\u001b[49m\u001b[43m,\u001b[49m\n\u001b[0;32m   4956\u001b[0m \u001b[43m        \u001b[49m\u001b[43maxis\u001b[49m\u001b[38;5;241;43m=\u001b[39;49m\u001b[43maxis\u001b[49m\u001b[43m,\u001b[49m\n\u001b[0;32m   4957\u001b[0m \u001b[43m        \u001b[49m\u001b[43mindex\u001b[49m\u001b[38;5;241;43m=\u001b[39;49m\u001b[43mindex\u001b[49m\u001b[43m,\u001b[49m\n\u001b[0;32m   4958\u001b[0m \u001b[43m        \u001b[49m\u001b[43mcolumns\u001b[49m\u001b[38;5;241;43m=\u001b[39;49m\u001b[43mcolumns\u001b[49m\u001b[43m,\u001b[49m\n\u001b[0;32m   4959\u001b[0m \u001b[43m        \u001b[49m\u001b[43mlevel\u001b[49m\u001b[38;5;241;43m=\u001b[39;49m\u001b[43mlevel\u001b[49m\u001b[43m,\u001b[49m\n\u001b[0;32m   4960\u001b[0m \u001b[43m        \u001b[49m\u001b[43minplace\u001b[49m\u001b[38;5;241;43m=\u001b[39;49m\u001b[43minplace\u001b[49m\u001b[43m,\u001b[49m\n\u001b[0;32m   4961\u001b[0m \u001b[43m        \u001b[49m\u001b[43merrors\u001b[49m\u001b[38;5;241;43m=\u001b[39;49m\u001b[43merrors\u001b[49m\u001b[43m,\u001b[49m\n\u001b[0;32m   4962\u001b[0m \u001b[43m    \u001b[49m\u001b[43m)\u001b[49m\n",
      "File \u001b[1;32m~\\anaconda3\\lib\\site-packages\\pandas\\core\\generic.py:4267\u001b[0m, in \u001b[0;36mNDFrame.drop\u001b[1;34m(self, labels, axis, index, columns, level, inplace, errors)\u001b[0m\n\u001b[0;32m   4265\u001b[0m \u001b[38;5;28;01mfor\u001b[39;00m axis, labels \u001b[38;5;129;01min\u001b[39;00m axes\u001b[38;5;241m.\u001b[39mitems():\n\u001b[0;32m   4266\u001b[0m     \u001b[38;5;28;01mif\u001b[39;00m labels \u001b[38;5;129;01mis\u001b[39;00m \u001b[38;5;129;01mnot\u001b[39;00m \u001b[38;5;28;01mNone\u001b[39;00m:\n\u001b[1;32m-> 4267\u001b[0m         obj \u001b[38;5;241m=\u001b[39m \u001b[43mobj\u001b[49m\u001b[38;5;241;43m.\u001b[39;49m\u001b[43m_drop_axis\u001b[49m\u001b[43m(\u001b[49m\u001b[43mlabels\u001b[49m\u001b[43m,\u001b[49m\u001b[43m \u001b[49m\u001b[43maxis\u001b[49m\u001b[43m,\u001b[49m\u001b[43m \u001b[49m\u001b[43mlevel\u001b[49m\u001b[38;5;241;43m=\u001b[39;49m\u001b[43mlevel\u001b[49m\u001b[43m,\u001b[49m\u001b[43m \u001b[49m\u001b[43merrors\u001b[49m\u001b[38;5;241;43m=\u001b[39;49m\u001b[43merrors\u001b[49m\u001b[43m)\u001b[49m\n\u001b[0;32m   4269\u001b[0m \u001b[38;5;28;01mif\u001b[39;00m inplace:\n\u001b[0;32m   4270\u001b[0m     \u001b[38;5;28mself\u001b[39m\u001b[38;5;241m.\u001b[39m_update_inplace(obj)\n",
      "File \u001b[1;32m~\\anaconda3\\lib\\site-packages\\pandas\\core\\generic.py:4311\u001b[0m, in \u001b[0;36mNDFrame._drop_axis\u001b[1;34m(self, labels, axis, level, errors, consolidate, only_slice)\u001b[0m\n\u001b[0;32m   4309\u001b[0m         new_axis \u001b[38;5;241m=\u001b[39m axis\u001b[38;5;241m.\u001b[39mdrop(labels, level\u001b[38;5;241m=\u001b[39mlevel, errors\u001b[38;5;241m=\u001b[39merrors)\n\u001b[0;32m   4310\u001b[0m     \u001b[38;5;28;01melse\u001b[39;00m:\n\u001b[1;32m-> 4311\u001b[0m         new_axis \u001b[38;5;241m=\u001b[39m \u001b[43maxis\u001b[49m\u001b[38;5;241;43m.\u001b[39;49m\u001b[43mdrop\u001b[49m\u001b[43m(\u001b[49m\u001b[43mlabels\u001b[49m\u001b[43m,\u001b[49m\u001b[43m \u001b[49m\u001b[43merrors\u001b[49m\u001b[38;5;241;43m=\u001b[39;49m\u001b[43merrors\u001b[49m\u001b[43m)\u001b[49m\n\u001b[0;32m   4312\u001b[0m     indexer \u001b[38;5;241m=\u001b[39m axis\u001b[38;5;241m.\u001b[39mget_indexer(new_axis)\n\u001b[0;32m   4314\u001b[0m \u001b[38;5;66;03m# Case for non-unique axis\u001b[39;00m\n\u001b[0;32m   4315\u001b[0m \u001b[38;5;28;01melse\u001b[39;00m:\n",
      "File \u001b[1;32m~\\anaconda3\\lib\\site-packages\\pandas\\core\\indexes\\base.py:6644\u001b[0m, in \u001b[0;36mIndex.drop\u001b[1;34m(self, labels, errors)\u001b[0m\n\u001b[0;32m   6642\u001b[0m \u001b[38;5;28;01mif\u001b[39;00m mask\u001b[38;5;241m.\u001b[39many():\n\u001b[0;32m   6643\u001b[0m     \u001b[38;5;28;01mif\u001b[39;00m errors \u001b[38;5;241m!=\u001b[39m \u001b[38;5;124m\"\u001b[39m\u001b[38;5;124mignore\u001b[39m\u001b[38;5;124m\"\u001b[39m:\n\u001b[1;32m-> 6644\u001b[0m         \u001b[38;5;28;01mraise\u001b[39;00m \u001b[38;5;167;01mKeyError\u001b[39;00m(\u001b[38;5;124mf\u001b[39m\u001b[38;5;124m\"\u001b[39m\u001b[38;5;132;01m{\u001b[39;00m\u001b[38;5;28mlist\u001b[39m(labels[mask])\u001b[38;5;132;01m}\u001b[39;00m\u001b[38;5;124m not found in axis\u001b[39m\u001b[38;5;124m\"\u001b[39m)\n\u001b[0;32m   6645\u001b[0m     indexer \u001b[38;5;241m=\u001b[39m indexer[\u001b[38;5;241m~\u001b[39mmask]\n\u001b[0;32m   6646\u001b[0m \u001b[38;5;28;01mreturn\u001b[39;00m \u001b[38;5;28mself\u001b[39m\u001b[38;5;241m.\u001b[39mdelete(indexer)\n",
      "\u001b[1;31mKeyError\u001b[0m: \"['index'] not found in axis\""
     ]
    }
   ],
   "source": [
    "dong.drop(columns='index',inplace=True)"
   ]
  },
  {
   "cell_type": "code",
   "execution_count": 21,
   "id": "30373a28",
   "metadata": {
    "scrolled": true
   },
   "outputs": [
    {
     "data": {
      "text/html": [
       "<div>\n",
       "<style scoped>\n",
       "    .dataframe tbody tr th:only-of-type {\n",
       "        vertical-align: middle;\n",
       "    }\n",
       "\n",
       "    .dataframe tbody tr th {\n",
       "        vertical-align: top;\n",
       "    }\n",
       "\n",
       "    .dataframe thead th {\n",
       "        text-align: right;\n",
       "    }\n",
       "</style>\n",
       "<table border=\"1\" class=\"dataframe\">\n",
       "  <thead>\n",
       "    <tr style=\"text-align: right;\">\n",
       "      <th></th>\n",
       "      <th>인구수</th>\n",
       "    </tr>\n",
       "  </thead>\n",
       "  <tbody>\n",
       "    <tr>\n",
       "      <th>0~9세</th>\n",
       "      <td>1137</td>\n",
       "    </tr>\n",
       "    <tr>\n",
       "      <th>10~19세</th>\n",
       "      <td>1543</td>\n",
       "    </tr>\n",
       "    <tr>\n",
       "      <th>20~29세</th>\n",
       "      <td>2258</td>\n",
       "    </tr>\n",
       "    <tr>\n",
       "      <th>30~39세</th>\n",
       "      <td>2146</td>\n",
       "    </tr>\n",
       "    <tr>\n",
       "      <th>40~49세</th>\n",
       "      <td>2661</td>\n",
       "    </tr>\n",
       "    <tr>\n",
       "      <th>50~59세</th>\n",
       "      <td>3256</td>\n",
       "    </tr>\n",
       "    <tr>\n",
       "      <th>60~69세</th>\n",
       "      <td>2695</td>\n",
       "    </tr>\n",
       "    <tr>\n",
       "      <th>70~79세</th>\n",
       "      <td>1323</td>\n",
       "    </tr>\n",
       "    <tr>\n",
       "      <th>80~89세</th>\n",
       "      <td>785</td>\n",
       "    </tr>\n",
       "    <tr>\n",
       "      <th>90~99세</th>\n",
       "      <td>151</td>\n",
       "    </tr>\n",
       "    <tr>\n",
       "      <th>100세 이상</th>\n",
       "      <td>8</td>\n",
       "    </tr>\n",
       "  </tbody>\n",
       "</table>\n",
       "</div>"
      ],
      "text/plain": [
       "          인구수\n",
       "0~9세     1137\n",
       "10~19세   1543\n",
       "20~29세   2258\n",
       "30~39세   2146\n",
       "40~49세   2661\n",
       "50~59세   3256\n",
       "60~69세   2695\n",
       "70~79세   1323\n",
       "80~89세    785\n",
       "90~99세    151\n",
       "100세 이상     8"
      ]
     },
     "execution_count": 21,
     "metadata": {},
     "output_type": "execute_result"
    }
   ],
   "source": [
    "dong.T"
   ]
  },
  {
   "cell_type": "code",
   "execution_count": 23,
   "id": "caf8f483",
   "metadata": {},
   "outputs": [],
   "source": [
    "dong = dong.T"
   ]
  },
  {
   "cell_type": "code",
   "execution_count": 25,
   "id": "df97ad55",
   "metadata": {
    "scrolled": false
   },
   "outputs": [
    {
     "data": {
      "text/html": [
       "<div>\n",
       "<style scoped>\n",
       "    .dataframe tbody tr th:only-of-type {\n",
       "        vertical-align: middle;\n",
       "    }\n",
       "\n",
       "    .dataframe tbody tr th {\n",
       "        vertical-align: top;\n",
       "    }\n",
       "\n",
       "    .dataframe thead th {\n",
       "        text-align: right;\n",
       "    }\n",
       "</style>\n",
       "<table border=\"1\" class=\"dataframe\">\n",
       "  <thead>\n",
       "    <tr style=\"text-align: right;\">\n",
       "      <th></th>\n",
       "      <th>0~9세</th>\n",
       "      <th>10~19세</th>\n",
       "      <th>20~29세</th>\n",
       "      <th>30~39세</th>\n",
       "      <th>40~49세</th>\n",
       "      <th>50~59세</th>\n",
       "      <th>60~69세</th>\n",
       "      <th>70~79세</th>\n",
       "      <th>80~89세</th>\n",
       "      <th>90~99세</th>\n",
       "      <th>100세 이상</th>\n",
       "    </tr>\n",
       "  </thead>\n",
       "  <tbody>\n",
       "    <tr>\n",
       "      <th>인구수</th>\n",
       "      <td>1137</td>\n",
       "      <td>1543</td>\n",
       "      <td>2258</td>\n",
       "      <td>2146</td>\n",
       "      <td>2661</td>\n",
       "      <td>3256</td>\n",
       "      <td>2695</td>\n",
       "      <td>1323</td>\n",
       "      <td>785</td>\n",
       "      <td>151</td>\n",
       "      <td>8</td>\n",
       "    </tr>\n",
       "  </tbody>\n",
       "</table>\n",
       "</div>"
      ],
      "text/plain": [
       "     0~9세  10~19세  20~29세  30~39세  40~49세  50~59세  60~69세  70~79세  80~89세  \\\n",
       "인구수  1137    1543    2258    2146    2661    3256    2695    1323     785   \n",
       "\n",
       "     90~99세  100세 이상  \n",
       "인구수     151        8  "
      ]
     },
     "execution_count": 25,
     "metadata": {},
     "output_type": "execute_result"
    }
   ],
   "source": [
    "dong.T"
   ]
  },
  {
   "cell_type": "markdown",
   "id": "6ed570ca",
   "metadata": {},
   "source": [
    "#### 3) 컬럼명 변경 : 인구수"
   ]
  },
  {
   "cell_type": "code",
   "execution_count": 26,
   "id": "e6cc0c31",
   "metadata": {
    "scrolled": false
   },
   "outputs": [
    {
     "data": {
      "text/html": [
       "<div>\n",
       "<style scoped>\n",
       "    .dataframe tbody tr th:only-of-type {\n",
       "        vertical-align: middle;\n",
       "    }\n",
       "\n",
       "    .dataframe tbody tr th {\n",
       "        vertical-align: top;\n",
       "    }\n",
       "\n",
       "    .dataframe thead th {\n",
       "        text-align: right;\n",
       "    }\n",
       "</style>\n",
       "<table border=\"1\" class=\"dataframe\">\n",
       "  <thead>\n",
       "    <tr style=\"text-align: right;\">\n",
       "      <th></th>\n",
       "      <th>인구수</th>\n",
       "    </tr>\n",
       "  </thead>\n",
       "  <tbody>\n",
       "    <tr>\n",
       "      <th>0~9세</th>\n",
       "      <td>1137</td>\n",
       "    </tr>\n",
       "    <tr>\n",
       "      <th>10~19세</th>\n",
       "      <td>1543</td>\n",
       "    </tr>\n",
       "    <tr>\n",
       "      <th>20~29세</th>\n",
       "      <td>2258</td>\n",
       "    </tr>\n",
       "    <tr>\n",
       "      <th>30~39세</th>\n",
       "      <td>2146</td>\n",
       "    </tr>\n",
       "    <tr>\n",
       "      <th>40~49세</th>\n",
       "      <td>2661</td>\n",
       "    </tr>\n",
       "    <tr>\n",
       "      <th>50~59세</th>\n",
       "      <td>3256</td>\n",
       "    </tr>\n",
       "    <tr>\n",
       "      <th>60~69세</th>\n",
       "      <td>2695</td>\n",
       "    </tr>\n",
       "    <tr>\n",
       "      <th>70~79세</th>\n",
       "      <td>1323</td>\n",
       "    </tr>\n",
       "    <tr>\n",
       "      <th>80~89세</th>\n",
       "      <td>785</td>\n",
       "    </tr>\n",
       "    <tr>\n",
       "      <th>90~99세</th>\n",
       "      <td>151</td>\n",
       "    </tr>\n",
       "    <tr>\n",
       "      <th>100세 이상</th>\n",
       "      <td>8</td>\n",
       "    </tr>\n",
       "  </tbody>\n",
       "</table>\n",
       "</div>"
      ],
      "text/plain": [
       "          인구수\n",
       "0~9세     1137\n",
       "10~19세   1543\n",
       "20~29세   2258\n",
       "30~39세   2146\n",
       "40~49세   2661\n",
       "50~59세   3256\n",
       "60~69세   2695\n",
       "70~79세   1323\n",
       "80~89세    785\n",
       "90~99세    151\n",
       "100세 이상     8"
      ]
     },
     "execution_count": 26,
     "metadata": {},
     "output_type": "execute_result"
    }
   ],
   "source": [
    "dong"
   ]
  },
  {
   "cell_type": "code",
   "execution_count": 76,
   "id": "904d8602",
   "metadata": {},
   "outputs": [
    {
     "ename": "AttributeError",
     "evalue": "'str' object has no attribute 'rename'",
     "output_type": "error",
     "traceback": [
      "\u001b[1;31m---------------------------------------------------------------------------\u001b[0m",
      "\u001b[1;31mAttributeError\u001b[0m                            Traceback (most recent call last)",
      "Input \u001b[1;32mIn [76]\u001b[0m, in \u001b[0;36m<cell line: 2>\u001b[1;34m()\u001b[0m\n\u001b[0;32m      1\u001b[0m \u001b[38;5;66;03m# 인덱스 일때\u001b[39;00m\n\u001b[1;32m----> 2\u001b[0m \u001b[43mdong\u001b[49m\u001b[38;5;241;43m.\u001b[39;49m\u001b[43mrename\u001b[49m(index\u001b[38;5;241m=\u001b[39m{\u001b[38;5;241m6\u001b[39m:\u001b[38;5;124m'\u001b[39m\u001b[38;5;124m인구수\u001b[39m\u001b[38;5;124m'\u001b[39m},inplace\u001b[38;5;241m=\u001b[39m\u001b[38;5;28;01mTrue\u001b[39;00m)\n",
      "\u001b[1;31mAttributeError\u001b[0m: 'str' object has no attribute 'rename'"
     ]
    }
   ],
   "source": [
    "# 인덱스일 때\n",
    "dong.rename(index={6:'인구수'},inplace=True)\n",
    "# 컬럼일 때\n",
    "dong.rename(column={6:'인구수'},inplace=True)"
   ]
  },
  {
   "cell_type": "markdown",
   "id": "9ea74f41",
   "metadata": {},
   "source": [
    "#### 4) 선차트"
   ]
  },
  {
   "cell_type": "markdown",
   "id": "8bff0cca",
   "metadata": {},
   "source": [
    "#### - matplotlib"
   ]
  },
  {
   "cell_type": "code",
   "execution_count": 28,
   "id": "a4a90752",
   "metadata": {},
   "outputs": [
    {
     "data": {
      "text/plain": [
       "[<matplotlib.lines.Line2D at 0x19e37f9fe80>]"
      ]
     },
     "execution_count": 28,
     "metadata": {},
     "output_type": "execute_result"
    },
    {
     "data": {
      "image/png": "[encoded data removed]",
      "text/plain": [
       "<Figure size 432x288 with 1 Axes>"
      ]
     },
     "metadata": {
      "needs_background": "light"
     },
     "output_type": "display_data"
    }
   ],
   "source": [
    "plt.plot(dong['인구수'])"
   ]
  },
  {
   "cell_type": "markdown",
   "id": "8d1e8ff2",
   "metadata": {},
   "source": [
    "#### - pandas"
   ]
  },
  {
   "cell_type": "code",
   "execution_count": 37,
   "id": "1265c092",
   "metadata": {
    "scrolled": false
   },
   "outputs": [
    {
     "data": {
      "text/plain": [
       "Text(0.5, 1.0, '평창동 2022년 6월 기준')"
      ]
     },
     "execution_count": 37,
     "metadata": {},
     "output_type": "execute_result"
    },
    {
     "data": {
      "image/png": "[encoded data removed]",
      "text/plain": [
       "<Figure size 648x432 with 1 Axes>"
      ]
     },
     "metadata": {
      "needs_background": "light"
     },
     "output_type": "display_data"
    }
   ],
   "source": [
    "dong.plot(figsize=(9,6))\n",
    "plt.title('평창동 2022년 6월 기준',fontsize=18)"
   ]
  },
  {
   "cell_type": "markdown",
   "id": "e17d5eec",
   "metadata": {},
   "source": [
    "#### 5) 막대차트"
   ]
  },
  {
   "cell_type": "markdown",
   "id": "e9bfe5e1",
   "metadata": {},
   "source": [
    "#### - matplotlib"
   ]
  },
  {
   "cell_type": "code",
   "execution_count": 33,
   "id": "e155628f",
   "metadata": {
    "scrolled": false
   },
   "outputs": [
    {
     "data": {
      "text/plain": [
       "<BarContainer object of 11 artists>"
      ]
     },
     "execution_count": 33,
     "metadata": {},
     "output_type": "execute_result"
    },
    {
     "data": {
      "image/png": "[encoded data removed]",
      "text/plain": [
       "<Figure size 648x432 with 1 Axes>"
      ]
     },
     "metadata": {
      "needs_background": "light"
     },
     "output_type": "display_data"
    }
   ],
   "source": [
    "plt.figure(figsize=(9,6))\n",
    "plt.title('평창동 2022년 6월 기준',fontsize=18)\n",
    "plt.bar(x=dong.index, height=dong['인구수'])"
   ]
  },
  {
   "cell_type": "code",
   "execution_count": 39,
   "id": "dc173c79",
   "metadata": {},
   "outputs": [
    {
     "data": {
      "text/plain": [
       "<matplotlib.legend.Legend at 0x19e3ae94190>"
      ]
     },
     "execution_count": 39,
     "metadata": {},
     "output_type": "execute_result"
    },
    {
     "data": {
      "image/png": "[encoded data removed]",
      "text/plain": [
       "<Figure size 648x432 with 1 Axes>"
      ]
     },
     "metadata": {
      "needs_background": "light"
     },
     "output_type": "display_data"
    }
   ],
   "source": [
    "plt.figure(figsize=(9,6))\n",
    "plt.title('평창동 2022년 6월 기준',fontsize=18)\n",
    "plt.barh(dong.index,dong['인구수'], color='lightblue',label='인구수')\n",
    "plt.legend()"
   ]
  },
  {
   "cell_type": "markdown",
   "id": "6b54841c",
   "metadata": {},
   "source": [
    "#### - pandas"
   ]
  },
  {
   "cell_type": "code",
   "execution_count": 43,
   "id": "5936b6b3",
   "metadata": {
    "scrolled": false
   },
   "outputs": [
    {
     "data": {
      "text/plain": [
       "<AxesSubplot:>"
      ]
     },
     "execution_count": 43,
     "metadata": {},
     "output_type": "execute_result"
    },
    {
     "data": {
      "image/png": "[encoded data removed]",
      "text/plain": [
       "<Figure size 648x432 with 1 Axes>"
      ]
     },
     "metadata": {
      "needs_background": "light"
     },
     "output_type": "display_data"
    }
   ],
   "source": [
    "dong.plot.bar(figsize=(9,6),rot=0)"
   ]
  },
  {
   "cell_type": "code",
   "execution_count": 44,
   "id": "d95041d8",
   "metadata": {},
   "outputs": [
    {
     "data": {
      "text/plain": [
       "<AxesSubplot:>"
      ]
     },
     "execution_count": 44,
     "metadata": {},
     "output_type": "execute_result"
    },
    {
     "data": {
      "image/png": "[encoded data removed]",
      "text/plain": [
       "<Figure size 648x432 with 1 Axes>"
      ]
     },
     "metadata": {
      "needs_background": "light"
     },
     "output_type": "display_data"
    }
   ],
   "source": [
    "dong.plot.barh(figsize=(9,6),rot=0)"
   ]
  },
  {
   "cell_type": "code",
   "execution_count": null,
   "id": "c8ab1ee1",
   "metadata": {},
   "outputs": [],
   "source": []
  },
  {
   "cell_type": "markdown",
   "id": "232a80f9",
   "metadata": {},
   "source": [
    "# 우리동네 인구구조 알아보기"
   ]
  },
  {
   "cell_type": "markdown",
   "id": "5f494a5a",
   "metadata": {},
   "source": [
    "### 1) 사용자로부터 동네 입력받기"
   ]
  },
  {
   "cell_type": "code",
   "execution_count": 77,
   "id": "fb6c018e",
   "metadata": {},
   "outputs": [
    {
     "name": "stdout",
     "output_type": "stream",
     "text": [
      "인구구조가 궁금한 지역을 입력해 주세요 : 을지로동\n"
     ]
    }
   ],
   "source": [
    "input_dong = input('인구구조가 궁금한 지역을 입력해 주세요 : ')"
   ]
  },
  {
   "cell_type": "markdown",
   "id": "bcd22d35",
   "metadata": {},
   "source": [
    "#### 2) 사용자가 입력한 동을 찾아 새로운 데이터프레임으로 생성"
   ]
  },
  {
   "cell_type": "code",
   "execution_count": 78,
   "id": "f71bf3a4",
   "metadata": {},
   "outputs": [],
   "source": [
    "df.reset_index(inplace=True)"
   ]
  },
  {
   "cell_type": "code",
   "execution_count": 79,
   "id": "6d922f73",
   "metadata": {
    "scrolled": false
   },
   "outputs": [
    {
     "data": {
      "text/html": [
       "<div>\n",
       "<style scoped>\n",
       "    .dataframe tbody tr th:only-of-type {\n",
       "        vertical-align: middle;\n",
       "    }\n",
       "\n",
       "    .dataframe tbody tr th {\n",
       "        vertical-align: top;\n",
       "    }\n",
       "\n",
       "    .dataframe thead th {\n",
       "        text-align: right;\n",
       "    }\n",
       "</style>\n",
       "<table border=\"1\" class=\"dataframe\">\n",
       "  <thead>\n",
       "    <tr style=\"text-align: right;\">\n",
       "      <th></th>\n",
       "      <th>level_0</th>\n",
       "      <th>index</th>\n",
       "      <th>행정구역</th>\n",
       "      <th>0~9세</th>\n",
       "      <th>10~19세</th>\n",
       "      <th>20~29세</th>\n",
       "      <th>30~39세</th>\n",
       "      <th>40~49세</th>\n",
       "      <th>50~59세</th>\n",
       "      <th>60~69세</th>\n",
       "      <th>70~79세</th>\n",
       "      <th>80~89세</th>\n",
       "      <th>90~99세</th>\n",
       "      <th>100세 이상</th>\n",
       "    </tr>\n",
       "  </thead>\n",
       "  <tbody>\n",
       "    <tr>\n",
       "      <th>26</th>\n",
       "      <td>26</td>\n",
       "      <td>26</td>\n",
       "      <td>서울특별시 중구 을지로동(1114060500)</td>\n",
       "      <td>34</td>\n",
       "      <td>39</td>\n",
       "      <td>239</td>\n",
       "      <td>321</td>\n",
       "      <td>183</td>\n",
       "      <td>269</td>\n",
       "      <td>368</td>\n",
       "      <td>190</td>\n",
       "      <td>80</td>\n",
       "      <td>14</td>\n",
       "      <td>0</td>\n",
       "    </tr>\n",
       "  </tbody>\n",
       "</table>\n",
       "</div>"
      ],
      "text/plain": [
       "    level_0  index                       행정구역  0~9세  10~19세  20~29세  30~39세  \\\n",
       "26       26     26  서울특별시 중구 을지로동(1114060500)    34      39     239     321   \n",
       "\n",
       "    40~49세  50~59세  60~69세  70~79세  80~89세  90~99세  100세 이상  \n",
       "26     183     269     368     190      80      14        0  "
      ]
     },
     "execution_count": 79,
     "metadata": {},
     "output_type": "execute_result"
    }
   ],
   "source": [
    "my_dong = df[df['행정구역'].str.contains(input_dong)]\n",
    "my_dong"
   ]
  },
  {
   "cell_type": "markdown",
   "id": "46e2b086",
   "metadata": {},
   "source": [
    "#### 3) 시각화"
   ]
  },
  {
   "cell_type": "code",
   "execution_count": 83,
   "id": "441767e6",
   "metadata": {},
   "outputs": [],
   "source": [
    "# 컬럼을 인덱스로 설정\n",
    "my_dong.set_index('행정구역',inplace=True)"
   ]
  },
  {
   "cell_type": "code",
   "execution_count": 84,
   "id": "d04f25f9",
   "metadata": {},
   "outputs": [
    {
     "data": {
      "text/html": [
       "<div>\n",
       "<style scoped>\n",
       "    .dataframe tbody tr th:only-of-type {\n",
       "        vertical-align: middle;\n",
       "    }\n",
       "\n",
       "    .dataframe tbody tr th {\n",
       "        vertical-align: top;\n",
       "    }\n",
       "\n",
       "    .dataframe thead th {\n",
       "        text-align: right;\n",
       "    }\n",
       "</style>\n",
       "<table border=\"1\" class=\"dataframe\">\n",
       "  <thead>\n",
       "    <tr style=\"text-align: right;\">\n",
       "      <th></th>\n",
       "      <th>0~9세</th>\n",
       "      <th>10~19세</th>\n",
       "      <th>20~29세</th>\n",
       "      <th>30~39세</th>\n",
       "      <th>40~49세</th>\n",
       "      <th>50~59세</th>\n",
       "      <th>60~69세</th>\n",
       "      <th>70~79세</th>\n",
       "      <th>80~89세</th>\n",
       "      <th>90~99세</th>\n",
       "      <th>100세 이상</th>\n",
       "    </tr>\n",
       "    <tr>\n",
       "      <th>행정구역</th>\n",
       "      <th></th>\n",
       "      <th></th>\n",
       "      <th></th>\n",
       "      <th></th>\n",
       "      <th></th>\n",
       "      <th></th>\n",
       "      <th></th>\n",
       "      <th></th>\n",
       "      <th></th>\n",
       "      <th></th>\n",
       "      <th></th>\n",
       "    </tr>\n",
       "  </thead>\n",
       "  <tbody>\n",
       "    <tr>\n",
       "      <th>서울특별시 중구 을지로동(1114060500)</th>\n",
       "      <td>34</td>\n",
       "      <td>39</td>\n",
       "      <td>239</td>\n",
       "      <td>321</td>\n",
       "      <td>183</td>\n",
       "      <td>269</td>\n",
       "      <td>368</td>\n",
       "      <td>190</td>\n",
       "      <td>80</td>\n",
       "      <td>14</td>\n",
       "      <td>0</td>\n",
       "    </tr>\n",
       "  </tbody>\n",
       "</table>\n",
       "</div>"
      ],
      "text/plain": [
       "                           0~9세  10~19세  20~29세  30~39세  40~49세  50~59세  \\\n",
       "행정구역                                                                      \n",
       "서울특별시 중구 을지로동(1114060500)    34      39     239     321     183     269   \n",
       "\n",
       "                           60~69세  70~79세  80~89세  90~99세  100세 이상  \n",
       "행정구역                                                                \n",
       "서울특별시 중구 을지로동(1114060500)     368     190      80      14        0  "
      ]
     },
     "execution_count": 84,
     "metadata": {},
     "output_type": "execute_result"
    }
   ],
   "source": [
    "my_dong"
   ]
  },
  {
   "cell_type": "code",
   "execution_count": 85,
   "id": "c46ba260",
   "metadata": {
    "scrolled": true
   },
   "outputs": [
    {
     "data": {
      "text/html": [
       "<div>\n",
       "<style scoped>\n",
       "    .dataframe tbody tr th:only-of-type {\n",
       "        vertical-align: middle;\n",
       "    }\n",
       "\n",
       "    .dataframe tbody tr th {\n",
       "        vertical-align: top;\n",
       "    }\n",
       "\n",
       "    .dataframe thead th {\n",
       "        text-align: right;\n",
       "    }\n",
       "</style>\n",
       "<table border=\"1\" class=\"dataframe\">\n",
       "  <thead>\n",
       "    <tr style=\"text-align: right;\">\n",
       "      <th>행정구역</th>\n",
       "      <th>서울특별시 중구 을지로동(1114060500)</th>\n",
       "    </tr>\n",
       "  </thead>\n",
       "  <tbody>\n",
       "    <tr>\n",
       "      <th>0~9세</th>\n",
       "      <td>34</td>\n",
       "    </tr>\n",
       "    <tr>\n",
       "      <th>10~19세</th>\n",
       "      <td>39</td>\n",
       "    </tr>\n",
       "    <tr>\n",
       "      <th>20~29세</th>\n",
       "      <td>239</td>\n",
       "    </tr>\n",
       "    <tr>\n",
       "      <th>30~39세</th>\n",
       "      <td>321</td>\n",
       "    </tr>\n",
       "    <tr>\n",
       "      <th>40~49세</th>\n",
       "      <td>183</td>\n",
       "    </tr>\n",
       "    <tr>\n",
       "      <th>50~59세</th>\n",
       "      <td>269</td>\n",
       "    </tr>\n",
       "    <tr>\n",
       "      <th>60~69세</th>\n",
       "      <td>368</td>\n",
       "    </tr>\n",
       "    <tr>\n",
       "      <th>70~79세</th>\n",
       "      <td>190</td>\n",
       "    </tr>\n",
       "    <tr>\n",
       "      <th>80~89세</th>\n",
       "      <td>80</td>\n",
       "    </tr>\n",
       "    <tr>\n",
       "      <th>90~99세</th>\n",
       "      <td>14</td>\n",
       "    </tr>\n",
       "    <tr>\n",
       "      <th>100세 이상</th>\n",
       "      <td>0</td>\n",
       "    </tr>\n",
       "  </tbody>\n",
       "</table>\n",
       "</div>"
      ],
      "text/plain": [
       "행정구역     서울특별시 중구 을지로동(1114060500)\n",
       "0~9세                            34\n",
       "10~19세                          39\n",
       "20~29세                         239\n",
       "30~39세                         321\n",
       "40~49세                         183\n",
       "50~59세                         269\n",
       "60~69세                         368\n",
       "70~79세                         190\n",
       "80~89세                          80\n",
       "90~99세                          14\n",
       "100세 이상                          0"
      ]
     },
     "execution_count": 85,
     "metadata": {},
     "output_type": "execute_result"
    }
   ],
   "source": [
    "my_dong = my_dong.T"
   ]
  },
  {
   "cell_type": "code",
   "execution_count": 105,
   "id": "714123fd",
   "metadata": {},
   "outputs": [
    {
     "data": {
      "text/html": [
       "<div>\n",
       "<style scoped>\n",
       "    .dataframe tbody tr th:only-of-type {\n",
       "        vertical-align: middle;\n",
       "    }\n",
       "\n",
       "    .dataframe tbody tr th {\n",
       "        vertical-align: top;\n",
       "    }\n",
       "\n",
       "    .dataframe thead th {\n",
       "        text-align: right;\n",
       "    }\n",
       "</style>\n",
       "<table border=\"1\" class=\"dataframe\">\n",
       "  <thead>\n",
       "    <tr style=\"text-align: right;\">\n",
       "      <th>행정구역</th>\n",
       "      <th>인구수</th>\n",
       "    </tr>\n",
       "  </thead>\n",
       "  <tbody>\n",
       "    <tr>\n",
       "      <th>0~9세</th>\n",
       "      <td>34</td>\n",
       "    </tr>\n",
       "    <tr>\n",
       "      <th>10~19세</th>\n",
       "      <td>39</td>\n",
       "    </tr>\n",
       "    <tr>\n",
       "      <th>20~29세</th>\n",
       "      <td>239</td>\n",
       "    </tr>\n",
       "    <tr>\n",
       "      <th>30~39세</th>\n",
       "      <td>321</td>\n",
       "    </tr>\n",
       "    <tr>\n",
       "      <th>40~49세</th>\n",
       "      <td>183</td>\n",
       "    </tr>\n",
       "    <tr>\n",
       "      <th>50~59세</th>\n",
       "      <td>269</td>\n",
       "    </tr>\n",
       "    <tr>\n",
       "      <th>60~69세</th>\n",
       "      <td>368</td>\n",
       "    </tr>\n",
       "    <tr>\n",
       "      <th>70~79세</th>\n",
       "      <td>190</td>\n",
       "    </tr>\n",
       "    <tr>\n",
       "      <th>80~89세</th>\n",
       "      <td>80</td>\n",
       "    </tr>\n",
       "    <tr>\n",
       "      <th>90~99세</th>\n",
       "      <td>14</td>\n",
       "    </tr>\n",
       "    <tr>\n",
       "      <th>100세 이상</th>\n",
       "      <td>0</td>\n",
       "    </tr>\n",
       "  </tbody>\n",
       "</table>\n",
       "</div>"
      ],
      "text/plain": [
       "행정구역     인구수\n",
       "0~9세      34\n",
       "10~19세    39\n",
       "20~29세   239\n",
       "30~39세   321\n",
       "40~49세   183\n",
       "50~59세   269\n",
       "60~69세   368\n",
       "70~79세   190\n",
       "80~89세    80\n",
       "90~99세    14\n",
       "100세 이상    0"
      ]
     },
     "execution_count": 105,
     "metadata": {},
     "output_type": "execute_result"
    }
   ],
   "source": [
    "my_dong"
   ]
  },
  {
   "cell_type": "code",
   "execution_count": 108,
   "id": "98f3c3a1",
   "metadata": {},
   "outputs": [
    {
     "data": {
      "text/plain": [
       "0~9세        34\n",
       "10~19세      39\n",
       "20~29세     239\n",
       "30~39세     321\n",
       "40~49세     183\n",
       "50~59세     269\n",
       "60~69세     368\n",
       "70~79세     190\n",
       "80~89세      80\n",
       "90~99세      14\n",
       "100세 이상      0\n",
       "Name: 인구수, dtype: int64"
      ]
     },
     "execution_count": 108,
     "metadata": {},
     "output_type": "execute_result"
    }
   ],
   "source": [
    "# 컬럼명 변경\n",
    "\n",
    "my_dong.rename(columns={\"서울특별시 중구 을지로동(1114060500)\":'인구수'},inplace=True)\n",
    "my_dong['인구수']"
   ]
  },
  {
   "cell_type": "markdown",
   "id": "f6dcd7ee",
   "metadata": {},
   "source": [
    "#### pandas 로 했으니까 뒤에 x,y축을 주지 않아도 된다.\n",
    "\n",
    "#### plt로 해준다면 x,y축을 줘야한다 : plt.bar(my_dong.index, my_dong['인구수']"
   ]
  },
  {
   "cell_type": "code",
   "execution_count": 111,
   "id": "e232e391",
   "metadata": {
    "scrolled": true
   },
   "outputs": [
    {
     "data": {
      "text/plain": [
       "<AxesSubplot:title={'center':'2022년 6월 을지로동 나이별 인구 수'}>"
      ]
     },
     "execution_count": 111,
     "metadata": {},
     "output_type": "execute_result"
    },
    {
     "data": {
      "image/png": "[encoded data removed]",
      "text/plain": [
       "<Figure size 864x360 with 1 Axes>"
      ]
     },
     "metadata": {
      "needs_background": "light"
     },
     "output_type": "display_data"
    }
   ],
   "source": [
    "my_dong.plot.bar(title='2022년 6월 ' + input_dong +' 나이별 인구 수', figsize=(12,5),rot=0)"
   ]
  },
  {
   "cell_type": "markdown",
   "id": "59b0e821",
   "metadata": {},
   "source": [
    "#### 원차트\n"
   ]
  },
  {
   "cell_type": "code",
   "execution_count": 112,
   "id": "f402b56c",
   "metadata": {},
   "outputs": [
    {
     "data": {
      "text/html": [
       "<div>\n",
       "<style scoped>\n",
       "    .dataframe tbody tr th:only-of-type {\n",
       "        vertical-align: middle;\n",
       "    }\n",
       "\n",
       "    .dataframe tbody tr th {\n",
       "        vertical-align: top;\n",
       "    }\n",
       "\n",
       "    .dataframe thead th {\n",
       "        text-align: right;\n",
       "    }\n",
       "</style>\n",
       "<table border=\"1\" class=\"dataframe\">\n",
       "  <thead>\n",
       "    <tr style=\"text-align: right;\">\n",
       "      <th>행정구역</th>\n",
       "      <th>인구수</th>\n",
       "    </tr>\n",
       "  </thead>\n",
       "  <tbody>\n",
       "    <tr>\n",
       "      <th>0~9세</th>\n",
       "      <td>34</td>\n",
       "    </tr>\n",
       "    <tr>\n",
       "      <th>10~19세</th>\n",
       "      <td>39</td>\n",
       "    </tr>\n",
       "    <tr>\n",
       "      <th>20~29세</th>\n",
       "      <td>239</td>\n",
       "    </tr>\n",
       "    <tr>\n",
       "      <th>30~39세</th>\n",
       "      <td>321</td>\n",
       "    </tr>\n",
       "    <tr>\n",
       "      <th>40~49세</th>\n",
       "      <td>183</td>\n",
       "    </tr>\n",
       "    <tr>\n",
       "      <th>50~59세</th>\n",
       "      <td>269</td>\n",
       "    </tr>\n",
       "    <tr>\n",
       "      <th>60~69세</th>\n",
       "      <td>368</td>\n",
       "    </tr>\n",
       "    <tr>\n",
       "      <th>70~79세</th>\n",
       "      <td>190</td>\n",
       "    </tr>\n",
       "    <tr>\n",
       "      <th>80~89세</th>\n",
       "      <td>80</td>\n",
       "    </tr>\n",
       "    <tr>\n",
       "      <th>90~99세</th>\n",
       "      <td>14</td>\n",
       "    </tr>\n",
       "    <tr>\n",
       "      <th>100세 이상</th>\n",
       "      <td>0</td>\n",
       "    </tr>\n",
       "  </tbody>\n",
       "</table>\n",
       "</div>"
      ],
      "text/plain": [
       "행정구역     인구수\n",
       "0~9세      34\n",
       "10~19세    39\n",
       "20~29세   239\n",
       "30~39세   321\n",
       "40~49세   183\n",
       "50~59세   269\n",
       "60~69세   368\n",
       "70~79세   190\n",
       "80~89세    80\n",
       "90~99세    14\n",
       "100세 이상    0"
      ]
     },
     "execution_count": 112,
     "metadata": {},
     "output_type": "execute_result"
    }
   ],
   "source": [
    "my_dong"
   ]
  },
  {
   "cell_type": "markdown",
   "id": "770adbe9",
   "metadata": {},
   "source": [
    "#### matplotlib"
   ]
  },
  {
   "cell_type": "code",
   "execution_count": 142,
   "id": "b0fd016d",
   "metadata": {
    "scrolled": false
   },
   "outputs": [
    {
     "data": {
      "image/png": "[encoded data removed]",
      "text/plain": [
       "<Figure size 1080x720 with 1 Axes>"
      ]
     },
     "metadata": {},
     "output_type": "display_data"
    }
   ],
   "source": [
    "# index.to_list()[:-1] 맨뒤에 리스트 빼기\n",
    "plt.figure(figsize=(15,10))\n",
    "values = my_dong['인구수']\n",
    "labels = my_dong.index\n",
    "# plt.pie(values, labels=labels,autopct='%.1f%%')\n",
    "\n",
    "wegdeprops = {'width':0.8,'edgecolor':'w','linewidth':5}\n",
    "explode = [0.05, 0.05, 0, 0, 0, 0, 0.05, 0, 0, 0]\n",
    "\n",
    "plt.pie(x = my_dong.iloc[0:10,0], labels = my_dong.index.to_list()[:-1], \n",
    "        autopct='%.1f%%', explode=explode, startangle=90, counterclock=False)\n",
    "plt.title('2022년 6월 '+input_dong+' 나이별 인구 수')\n",
    "plt.legend(loc=(1.2,0.3), title='연령별')\n",
    "\n",
    "plt.show()"
   ]
  },
  {
   "cell_type": "markdown",
   "id": "0a589499",
   "metadata": {},
   "source": [
    "#### pandas"
   ]
  },
  {
   "cell_type": "code",
   "execution_count": 131,
   "id": "fd949968",
   "metadata": {
    "scrolled": false
   },
   "outputs": [
    {
     "data": {
      "text/plain": [
       "array([<AxesSubplot:ylabel='인구수'>], dtype=object)"
      ]
     },
     "execution_count": 131,
     "metadata": {},
     "output_type": "execute_result"
    },
    {
     "data": {
      "image/png": "[encoded data removed]",
      "text/plain": [
       "<Figure size 1080x720 with 1 Axes>"
      ]
     },
     "metadata": {},
     "output_type": "display_data"
    }
   ],
   "source": [
    "my_dong.plot.pie(subplots=True,autopct='%.1f%%', figsize=(15,10))"
   ]
  },
  {
   "cell_type": "code",
   "execution_count": null,
   "id": "09580439",
   "metadata": {},
   "outputs": [],
   "source": []
  },
  {
   "cell_type": "code",
   "execution_count": null,
   "id": "6db0329b",
   "metadata": {},
   "outputs": [],
   "source": []
  },
  {
   "cell_type": "code",
   "execution_count": null,
   "id": "3066efaa",
   "metadata": {},
   "outputs": [],
   "source": []
  },
  {
   "cell_type": "code",
   "execution_count": null,
   "id": "0edea855",
   "metadata": {},
   "outputs": [],
   "source": []
  }
 ],
 "metadata": {
  "kernelspec": {
   "display_name": "Python 3 (ipykernel)",
   "language": "python",
   "name": "python3"
  },
  "language_info": {
   "codemirror_mode": {
    "name": "ipython",
    "version": 3
   },
   "file_extension": ".py",
   "mimetype": "text/x-python",
   "name": "python",
   "nbconvert_exporter": "python",
   "pygments_lexer": "ipython3",
   "version": "3.9.12"
  }
 },
 "nbformat": 4,
 "nbformat_minor": 5
}
