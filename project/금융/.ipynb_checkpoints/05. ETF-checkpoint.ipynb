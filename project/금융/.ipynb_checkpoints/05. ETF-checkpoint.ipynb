{
 "cells": [
  {
   "cell_type": "code",
   "execution_count": 1,
   "id": "671d6fbc",
   "metadata": {},
   "outputs": [],
   "source": [
    "import pandas as pd\n",
    "from bs4 import BeautifulSoup\n",
    "import requests\n",
    "import numpy as np"
   ]
  },
  {
   "cell_type": "markdown",
   "id": "5521099e",
   "metadata": {},
   "source": [
    "## 데이터 수집"
   ]
  },
  {
   "cell_type": "code",
   "execution_count": 2,
   "id": "6ffda4e5",
   "metadata": {},
   "outputs": [],
   "source": [
    "url = 'https://finance.naver.com/api/sise/etfItemList.nhn?etfType=0&targetColumn=market_sum&sortOrder=desc'"
   ]
  },
  {
   "cell_type": "code",
   "execution_count": 3,
   "id": "18329356",
   "metadata": {},
   "outputs": [],
   "source": [
    "headers = {'user-agent':'Mozilla/5.0 (Windows NT 10.0; Win64; x64) AppleWebKit/537.36 (KHTML, like Gecko) Chrome/102.0.5005.141 Whale/3.15.136.29 Safari/537.36'}\n",
    "\n",
    "res = requests.get(url, headers=headers)"
   ]
  },
  {
   "cell_type": "code",
   "execution_count": 6,
   "id": "693bc1b2",
   "metadata": {},
   "outputs": [
    {
     "data": {
      "text/plain": [
       "593"
      ]
     },
     "execution_count": 6,
     "metadata": {},
     "output_type": "execute_result"
    }
   ],
   "source": [
    "etfItemList = res.json()['result']['etfItemList']\n",
    "len(etfItemList)"
   ]
  },
  {
   "cell_type": "markdown",
   "id": "f4e0b35c",
   "metadata": {},
   "source": [
    "## 데이터 프레임 변환"
   ]
  },
  {
   "cell_type": "code",
   "execution_count": 7,
   "id": "4bbbc67d",
   "metadata": {},
   "outputs": [
    {
     "data": {
      "text/html": [
       "<div>\n",
       "<style scoped>\n",
       "    .dataframe tbody tr th:only-of-type {\n",
       "        vertical-align: middle;\n",
       "    }\n",
       "\n",
       "    .dataframe tbody tr th {\n",
       "        vertical-align: top;\n",
       "    }\n",
       "\n",
       "    .dataframe thead th {\n",
       "        text-align: right;\n",
       "    }\n",
       "</style>\n",
       "<table border=\"1\" class=\"dataframe\">\n",
       "  <thead>\n",
       "    <tr style=\"text-align: right;\">\n",
       "      <th></th>\n",
       "      <th>itemcode</th>\n",
       "      <th>etfTabCode</th>\n",
       "      <th>itemname</th>\n",
       "      <th>nowVal</th>\n",
       "      <th>risefall</th>\n",
       "      <th>changeVal</th>\n",
       "      <th>changeRate</th>\n",
       "      <th>nav</th>\n",
       "      <th>threeMonthEarnRate</th>\n",
       "      <th>quant</th>\n",
       "      <th>amonut</th>\n",
       "      <th>marketSum</th>\n",
       "    </tr>\n",
       "  </thead>\n",
       "  <tbody>\n",
       "    <tr>\n",
       "      <th>0</th>\n",
       "      <td>069500</td>\n",
       "      <td>1</td>\n",
       "      <td>KODEX 200</td>\n",
       "      <td>31425</td>\n",
       "      <td>5</td>\n",
       "      <td>-155</td>\n",
       "      <td>-0.49</td>\n",
       "      <td>31510.0</td>\n",
       "      <td>-10.6016</td>\n",
       "      <td>2100418</td>\n",
       "      <td>65964</td>\n",
       "      <td>52118</td>\n",
       "    </tr>\n",
       "    <tr>\n",
       "      <th>1</th>\n",
       "      <td>371460</td>\n",
       "      <td>4</td>\n",
       "      <td>TIGER 차이나전기차SOLACTIVE</td>\n",
       "      <td>17125</td>\n",
       "      <td>5</td>\n",
       "      <td>-365</td>\n",
       "      <td>-2.09</td>\n",
       "      <td>17176.0</td>\n",
       "      <td>32.8018</td>\n",
       "      <td>6904743</td>\n",
       "      <td>119235</td>\n",
       "      <td>37908</td>\n",
       "    </tr>\n",
       "    <tr>\n",
       "      <th>2</th>\n",
       "      <td>122630</td>\n",
       "      <td>3</td>\n",
       "      <td>KODEX 레버리지</td>\n",
       "      <td>14780</td>\n",
       "      <td>5</td>\n",
       "      <td>-150</td>\n",
       "      <td>-1.00</td>\n",
       "      <td>14837.0</td>\n",
       "      <td>-21.4418</td>\n",
       "      <td>20353741</td>\n",
       "      <td>300394</td>\n",
       "      <td>24128</td>\n",
       "    </tr>\n",
       "    <tr>\n",
       "      <th>3</th>\n",
       "      <td>133690</td>\n",
       "      <td>4</td>\n",
       "      <td>TIGER 미국나스닥100</td>\n",
       "      <td>69990</td>\n",
       "      <td>5</td>\n",
       "      <td>-1230</td>\n",
       "      <td>-1.73</td>\n",
       "      <td>69780.0</td>\n",
       "      <td>-6.4225</td>\n",
       "      <td>99724</td>\n",
       "      <td>6986</td>\n",
       "      <td>20724</td>\n",
       "    </tr>\n",
       "    <tr>\n",
       "      <th>4</th>\n",
       "      <td>102110</td>\n",
       "      <td>1</td>\n",
       "      <td>TIGER 200</td>\n",
       "      <td>31495</td>\n",
       "      <td>5</td>\n",
       "      <td>-150</td>\n",
       "      <td>-0.47</td>\n",
       "      <td>31576.0</td>\n",
       "      <td>-10.5467</td>\n",
       "      <td>820110</td>\n",
       "      <td>25811</td>\n",
       "      <td>20362</td>\n",
       "    </tr>\n",
       "  </tbody>\n",
       "</table>\n",
       "</div>"
      ],
      "text/plain": [
       "  itemcode  etfTabCode               itemname  nowVal risefall  changeVal  \\\n",
       "0   069500           1              KODEX 200   31425        5       -155   \n",
       "1   371460           4  TIGER 차이나전기차SOLACTIVE   17125        5       -365   \n",
       "2   122630           3             KODEX 레버리지   14780        5       -150   \n",
       "3   133690           4         TIGER 미국나스닥100   69990        5      -1230   \n",
       "4   102110           1              TIGER 200   31495        5       -150   \n",
       "\n",
       "   changeRate      nav  threeMonthEarnRate     quant  amonut  marketSum  \n",
       "0       -0.49  31510.0            -10.6016   2100418   65964      52118  \n",
       "1       -2.09  17176.0             32.8018   6904743  119235      37908  \n",
       "2       -1.00  14837.0            -21.4418  20353741  300394      24128  \n",
       "3       -1.73  69780.0             -6.4225     99724    6986      20724  \n",
       "4       -0.47  31576.0            -10.5467    820110   25811      20362  "
      ]
     },
     "execution_count": 7,
     "metadata": {},
     "output_type": "execute_result"
    }
   ],
   "source": [
    "df = pd.DataFrame(etfItemList)\n",
    "df.head()"
   ]
  },
  {
   "cell_type": "markdown",
   "id": "1c9c0dd7",
   "metadata": {},
   "source": [
    "## 데이터 저장"
   ]
  },
  {
   "cell_type": "code",
   "execution_count": 8,
   "id": "61fdec71",
   "metadata": {},
   "outputs": [],
   "source": [
    "from datetime import datetime\n",
    "\n",
    "date = datetime.today().strftime('%Y-%m-%d')\n",
    "\n",
    "file_name = f'etf_{date}_row.csv'\n",
    "df.to_csv(file_name, index=False)"
   ]
  },
  {
   "cell_type": "markdown",
   "id": "00549f4b",
   "metadata": {},
   "source": [
    "## 데이터 확인"
   ]
  },
  {
   "cell_type": "code",
   "execution_count": 13,
   "id": "9ec295a6",
   "metadata": {},
   "outputs": [
    {
     "data": {
      "text/html": [
       "<div>\n",
       "<style scoped>\n",
       "    .dataframe tbody tr th:only-of-type {\n",
       "        vertical-align: middle;\n",
       "    }\n",
       "\n",
       "    .dataframe tbody tr th {\n",
       "        vertical-align: top;\n",
       "    }\n",
       "\n",
       "    .dataframe thead th {\n",
       "        text-align: right;\n",
       "    }\n",
       "</style>\n",
       "<table border=\"1\" class=\"dataframe\">\n",
       "  <thead>\n",
       "    <tr style=\"text-align: right;\">\n",
       "      <th></th>\n",
       "      <th>itemcode</th>\n",
       "      <th>etfTabCode</th>\n",
       "      <th>itemname</th>\n",
       "      <th>nowVal</th>\n",
       "      <th>risefall</th>\n",
       "      <th>changeVal</th>\n",
       "      <th>changeRate</th>\n",
       "      <th>nav</th>\n",
       "      <th>threeMonthEarnRate</th>\n",
       "      <th>quant</th>\n",
       "      <th>amonut</th>\n",
       "      <th>marketSum</th>\n",
       "    </tr>\n",
       "  </thead>\n",
       "  <tbody>\n",
       "    <tr>\n",
       "      <th>0</th>\n",
       "      <td>069500</td>\n",
       "      <td>1</td>\n",
       "      <td>KODEX 200</td>\n",
       "      <td>31425</td>\n",
       "      <td>5</td>\n",
       "      <td>-155</td>\n",
       "      <td>-0.49</td>\n",
       "      <td>31510.0</td>\n",
       "      <td>-10.6016</td>\n",
       "      <td>2100418</td>\n",
       "      <td>65964</td>\n",
       "      <td>52118</td>\n",
       "    </tr>\n",
       "    <tr>\n",
       "      <th>1</th>\n",
       "      <td>371460</td>\n",
       "      <td>4</td>\n",
       "      <td>TIGER 차이나전기차SOLACTIVE</td>\n",
       "      <td>17125</td>\n",
       "      <td>5</td>\n",
       "      <td>-365</td>\n",
       "      <td>-2.09</td>\n",
       "      <td>17176.0</td>\n",
       "      <td>32.8018</td>\n",
       "      <td>6904743</td>\n",
       "      <td>119235</td>\n",
       "      <td>37908</td>\n",
       "    </tr>\n",
       "    <tr>\n",
       "      <th>2</th>\n",
       "      <td>122630</td>\n",
       "      <td>3</td>\n",
       "      <td>KODEX 레버리지</td>\n",
       "      <td>14780</td>\n",
       "      <td>5</td>\n",
       "      <td>-150</td>\n",
       "      <td>-1.00</td>\n",
       "      <td>14837.0</td>\n",
       "      <td>-21.4418</td>\n",
       "      <td>20353741</td>\n",
       "      <td>300394</td>\n",
       "      <td>24128</td>\n",
       "    </tr>\n",
       "    <tr>\n",
       "      <th>3</th>\n",
       "      <td>133690</td>\n",
       "      <td>4</td>\n",
       "      <td>TIGER 미국나스닥100</td>\n",
       "      <td>69990</td>\n",
       "      <td>5</td>\n",
       "      <td>-1230</td>\n",
       "      <td>-1.73</td>\n",
       "      <td>69780.0</td>\n",
       "      <td>-6.4225</td>\n",
       "      <td>99724</td>\n",
       "      <td>6986</td>\n",
       "      <td>20724</td>\n",
       "    </tr>\n",
       "    <tr>\n",
       "      <th>4</th>\n",
       "      <td>102110</td>\n",
       "      <td>1</td>\n",
       "      <td>TIGER 200</td>\n",
       "      <td>31495</td>\n",
       "      <td>5</td>\n",
       "      <td>-150</td>\n",
       "      <td>-0.47</td>\n",
       "      <td>31576.0</td>\n",
       "      <td>-10.5467</td>\n",
       "      <td>820110</td>\n",
       "      <td>25811</td>\n",
       "      <td>20362</td>\n",
       "    </tr>\n",
       "  </tbody>\n",
       "</table>\n",
       "</div>"
      ],
      "text/plain": [
       "  itemcode  etfTabCode               itemname  nowVal  risefall  changeVal  \\\n",
       "0   069500           1              KODEX 200   31425         5       -155   \n",
       "1   371460           4  TIGER 차이나전기차SOLACTIVE   17125         5       -365   \n",
       "2   122630           3             KODEX 레버리지   14780         5       -150   \n",
       "3   133690           4         TIGER 미국나스닥100   69990         5      -1230   \n",
       "4   102110           1              TIGER 200   31495         5       -150   \n",
       "\n",
       "   changeRate      nav  threeMonthEarnRate     quant  amonut  marketSum  \n",
       "0       -0.49  31510.0            -10.6016   2100418   65964      52118  \n",
       "1       -2.09  17176.0             32.8018   6904743  119235      37908  \n",
       "2       -1.00  14837.0            -21.4418  20353741  300394      24128  \n",
       "3       -1.73  69780.0             -6.4225     99724    6986      20724  \n",
       "4       -0.47  31576.0            -10.5467    820110   25811      20362  "
      ]
     },
     "execution_count": 13,
     "metadata": {},
     "output_type": "execute_result"
    }
   ],
   "source": [
    "df = pd.read_csv('etf_2022-07-19_row.csv', dtype={'itemcode':object})\n",
    "df.head()"
   ]
  },
  {
   "cell_type": "code",
   "execution_count": 14,
   "id": "1b96a5f5",
   "metadata": {},
   "outputs": [
    {
     "name": "stdout",
     "output_type": "stream",
     "text": [
      "<class 'pandas.core.frame.DataFrame'>\n",
      "RangeIndex: 593 entries, 0 to 592\n",
      "Data columns (total 12 columns):\n",
      " #   Column              Non-Null Count  Dtype  \n",
      "---  ------              --------------  -----  \n",
      " 0   itemcode            593 non-null    object \n",
      " 1   etfTabCode          593 non-null    int64  \n",
      " 2   itemname            593 non-null    object \n",
      " 3   nowVal              593 non-null    int64  \n",
      " 4   risefall            593 non-null    int64  \n",
      " 5   changeVal           593 non-null    int64  \n",
      " 6   changeRate          593 non-null    float64\n",
      " 7   nav                 593 non-null    float64\n",
      " 8   threeMonthEarnRate  551 non-null    float64\n",
      " 9   quant               593 non-null    int64  \n",
      " 10  amonut              593 non-null    int64  \n",
      " 11  marketSum           593 non-null    int64  \n",
      "dtypes: float64(3), int64(7), object(2)\n",
      "memory usage: 55.7+ KB\n"
     ]
    }
   ],
   "source": [
    "df.info()"
   ]
  },
  {
   "cell_type": "markdown",
   "id": "e251e239",
   "metadata": {},
   "source": [
    "#### quant를 기준으로 내림차순 정렬한 후 상위 10개 추출"
   ]
  },
  {
   "cell_type": "code",
   "execution_count": 18,
   "id": "33d5cb53",
   "metadata": {
    "scrolled": true
   },
   "outputs": [
    {
     "data": {
      "text/html": [
       "<div>\n",
       "<style scoped>\n",
       "    .dataframe tbody tr th:only-of-type {\n",
       "        vertical-align: middle;\n",
       "    }\n",
       "\n",
       "    .dataframe tbody tr th {\n",
       "        vertical-align: top;\n",
       "    }\n",
       "\n",
       "    .dataframe thead th {\n",
       "        text-align: right;\n",
       "    }\n",
       "</style>\n",
       "<table border=\"1\" class=\"dataframe\">\n",
       "  <thead>\n",
       "    <tr style=\"text-align: right;\">\n",
       "      <th></th>\n",
       "      <th>itemcode</th>\n",
       "      <th>etfTabCode</th>\n",
       "      <th>itemname</th>\n",
       "      <th>nowVal</th>\n",
       "      <th>risefall</th>\n",
       "      <th>changeVal</th>\n",
       "      <th>changeRate</th>\n",
       "      <th>nav</th>\n",
       "      <th>threeMonthEarnRate</th>\n",
       "      <th>quant</th>\n",
       "      <th>amonut</th>\n",
       "      <th>marketSum</th>\n",
       "    </tr>\n",
       "  </thead>\n",
       "  <tbody>\n",
       "    <tr>\n",
       "      <th>5</th>\n",
       "      <td>252670</td>\n",
       "      <td>3</td>\n",
       "      <td>KODEX 200선물인버스2X</td>\n",
       "      <td>3190</td>\n",
       "      <td>2</td>\n",
       "      <td>30</td>\n",
       "      <td>0.95</td>\n",
       "      <td>3192.0</td>\n",
       "      <td>21.5384</td>\n",
       "      <td>138661549</td>\n",
       "      <td>443280</td>\n",
       "      <td>20272</td>\n",
       "    </tr>\n",
       "    <tr>\n",
       "      <th>39</th>\n",
       "      <td>251340</td>\n",
       "      <td>3</td>\n",
       "      <td>KODEX 코스닥150선물인버스</td>\n",
       "      <td>5025</td>\n",
       "      <td>5</td>\n",
       "      <td>-15</td>\n",
       "      <td>-0.30</td>\n",
       "      <td>5027.0</td>\n",
       "      <td>9.8039</td>\n",
       "      <td>29203379</td>\n",
       "      <td>147557</td>\n",
       "      <td>4166</td>\n",
       "    </tr>\n",
       "    <tr>\n",
       "      <th>22</th>\n",
       "      <td>114800</td>\n",
       "      <td>3</td>\n",
       "      <td>KODEX 인버스</td>\n",
       "      <td>4925</td>\n",
       "      <td>2</td>\n",
       "      <td>25</td>\n",
       "      <td>0.51</td>\n",
       "      <td>4925.0</td>\n",
       "      <td>10.9852</td>\n",
       "      <td>28677568</td>\n",
       "      <td>141280</td>\n",
       "      <td>9264</td>\n",
       "    </tr>\n",
       "    <tr>\n",
       "      <th>2</th>\n",
       "      <td>122630</td>\n",
       "      <td>3</td>\n",
       "      <td>KODEX 레버리지</td>\n",
       "      <td>14780</td>\n",
       "      <td>5</td>\n",
       "      <td>-150</td>\n",
       "      <td>-1.00</td>\n",
       "      <td>14837.0</td>\n",
       "      <td>-21.4418</td>\n",
       "      <td>20353741</td>\n",
       "      <td>300394</td>\n",
       "      <td>24128</td>\n",
       "    </tr>\n",
       "    <tr>\n",
       "      <th>21</th>\n",
       "      <td>233740</td>\n",
       "      <td>3</td>\n",
       "      <td>KODEX 코스닥150레버리지</td>\n",
       "      <td>8545</td>\n",
       "      <td>2</td>\n",
       "      <td>70</td>\n",
       "      <td>0.83</td>\n",
       "      <td>8646.0</td>\n",
       "      <td>-25.3304</td>\n",
       "      <td>14756284</td>\n",
       "      <td>124973</td>\n",
       "      <td>9374</td>\n",
       "    </tr>\n",
       "    <tr>\n",
       "      <th>1</th>\n",
       "      <td>371460</td>\n",
       "      <td>4</td>\n",
       "      <td>TIGER 차이나전기차SOLACTIVE</td>\n",
       "      <td>17125</td>\n",
       "      <td>5</td>\n",
       "      <td>-365</td>\n",
       "      <td>-2.09</td>\n",
       "      <td>17176.0</td>\n",
       "      <td>32.8018</td>\n",
       "      <td>6904743</td>\n",
       "      <td>119235</td>\n",
       "      <td>37908</td>\n",
       "    </tr>\n",
       "    <tr>\n",
       "      <th>74</th>\n",
       "      <td>271050</td>\n",
       "      <td>5</td>\n",
       "      <td>KODEX WTI원유선물인버스(H)</td>\n",
       "      <td>4305</td>\n",
       "      <td>5</td>\n",
       "      <td>-150</td>\n",
       "      <td>-3.37</td>\n",
       "      <td>4304.0</td>\n",
       "      <td>-0.1122</td>\n",
       "      <td>5453353</td>\n",
       "      <td>23497</td>\n",
       "      <td>1761</td>\n",
       "    </tr>\n",
       "    <tr>\n",
       "      <th>65</th>\n",
       "      <td>217770</td>\n",
       "      <td>5</td>\n",
       "      <td>TIGER 원유선물인버스(H)</td>\n",
       "      <td>3000</td>\n",
       "      <td>5</td>\n",
       "      <td>-105</td>\n",
       "      <td>-3.38</td>\n",
       "      <td>2991.0</td>\n",
       "      <td>-0.4808</td>\n",
       "      <td>5307544</td>\n",
       "      <td>15918</td>\n",
       "      <td>2219</td>\n",
       "    </tr>\n",
       "    <tr>\n",
       "      <th>27</th>\n",
       "      <td>229200</td>\n",
       "      <td>1</td>\n",
       "      <td>KODEX 코스닥150</td>\n",
       "      <td>11060</td>\n",
       "      <td>2</td>\n",
       "      <td>50</td>\n",
       "      <td>0.45</td>\n",
       "      <td>11197.0</td>\n",
       "      <td>-12.0116</td>\n",
       "      <td>3862300</td>\n",
       "      <td>42539</td>\n",
       "      <td>6420</td>\n",
       "    </tr>\n",
       "    <tr>\n",
       "      <th>94</th>\n",
       "      <td>252710</td>\n",
       "      <td>3</td>\n",
       "      <td>TIGER 200선물인버스2X</td>\n",
       "      <td>3340</td>\n",
       "      <td>2</td>\n",
       "      <td>30</td>\n",
       "      <td>0.91</td>\n",
       "      <td>3341.0</td>\n",
       "      <td>22.1402</td>\n",
       "      <td>3188865</td>\n",
       "      <td>10673</td>\n",
       "      <td>1313</td>\n",
       "    </tr>\n",
       "  </tbody>\n",
       "</table>\n",
       "</div>"
      ],
      "text/plain": [
       "   itemcode  etfTabCode               itemname  nowVal  risefall  changeVal  \\\n",
       "5    252670           3       KODEX 200선물인버스2X    3190         2         30   \n",
       "39   251340           3      KODEX 코스닥150선물인버스    5025         5        -15   \n",
       "22   114800           3              KODEX 인버스    4925         2         25   \n",
       "2    122630           3             KODEX 레버리지   14780         5       -150   \n",
       "21   233740           3       KODEX 코스닥150레버리지    8545         2         70   \n",
       "1    371460           4  TIGER 차이나전기차SOLACTIVE   17125         5       -365   \n",
       "74   271050           5    KODEX WTI원유선물인버스(H)    4305         5       -150   \n",
       "65   217770           5       TIGER 원유선물인버스(H)    3000         5       -105   \n",
       "27   229200           1           KODEX 코스닥150   11060         2         50   \n",
       "94   252710           3       TIGER 200선물인버스2X    3340         2         30   \n",
       "\n",
       "    changeRate      nav  threeMonthEarnRate      quant  amonut  marketSum  \n",
       "5         0.95   3192.0             21.5384  138661549  443280      20272  \n",
       "39       -0.30   5027.0              9.8039   29203379  147557       4166  \n",
       "22        0.51   4925.0             10.9852   28677568  141280       9264  \n",
       "2        -1.00  14837.0            -21.4418   20353741  300394      24128  \n",
       "21        0.83   8646.0            -25.3304   14756284  124973       9374  \n",
       "1        -2.09  17176.0             32.8018    6904743  119235      37908  \n",
       "74       -3.37   4304.0             -0.1122    5453353   23497       1761  \n",
       "65       -3.38   2991.0             -0.4808    5307544   15918       2219  \n",
       "27        0.45  11197.0            -12.0116    3862300   42539       6420  \n",
       "94        0.91   3341.0             22.1402    3188865   10673       1313  "
      ]
     },
     "execution_count": 18,
     "metadata": {},
     "output_type": "execute_result"
    }
   ],
   "source": [
    "df.sort_values('quant',ascending=False).head(10)"
   ]
  },
  {
   "cell_type": "markdown",
   "id": "20ffe1df",
   "metadata": {},
   "source": [
    "#### etfTabCode를 기준으로 빈도수 확인하기"
   ]
  },
  {
   "cell_type": "code",
   "execution_count": 19,
   "id": "49b4757e",
   "metadata": {},
   "outputs": [
    {
     "data": {
      "text/plain": [
       "1     66\n",
       "2    210\n",
       "3     37\n",
       "4    149\n",
       "5     18\n",
       "6     62\n",
       "7     51\n",
       "Name: etfTabCode, dtype: int64"
      ]
     },
     "execution_count": 19,
     "metadata": {},
     "output_type": "execute_result"
    }
   ],
   "source": [
    "df['etfTabCode'].value_counts().sort_index()"
   ]
  },
  {
   "cell_type": "markdown",
   "id": "a9ef106f",
   "metadata": {},
   "source": [
    "## 데이터 전처리"
   ]
  },
  {
   "cell_type": "markdown",
   "id": "e00d017e",
   "metadata": {},
   "source": [
    "#### etfTabNaem 생성"
   ]
  },
  {
   "cell_type": "code",
   "execution_count": 27,
   "id": "91275f38",
   "metadata": {},
   "outputs": [],
   "source": [
    "etfcode='''전체\n",
    "국내 시장지수\n",
    "국내 업종/테마\n",
    "국내 파생\n",
    "해외 주식\n",
    "원자재\n",
    "채권\n",
    "기타'''"
   ]
  },
  {
   "cell_type": "code",
   "execution_count": 28,
   "id": "5de8d8eb",
   "metadata": {},
   "outputs": [
    {
     "data": {
      "text/plain": [
       "'전체\\n국내 시장지수\\n국내 업종/테마\\n국내 파생\\n해외 주식\\n원자재\\n채권\\n기타'"
      ]
     },
     "execution_count": 28,
     "metadata": {},
     "output_type": "execute_result"
    }
   ],
   "source": [
    "etfcode"
   ]
  },
  {
   "cell_type": "code",
   "execution_count": 29,
   "id": "3a713d33",
   "metadata": {},
   "outputs": [],
   "source": [
    "# etfcode를 \\n 기준으로 나누어 etf_tab_name 리스트로 생성\n",
    "etf_tab_name = etfcode.split('\\n')"
   ]
  },
  {
   "cell_type": "code",
   "execution_count": 30,
   "id": "808dac91",
   "metadata": {},
   "outputs": [
    {
     "data": {
      "text/plain": [
       "['전체', '국내 시장지수', '국내 업종/테마', '국내 파생', '해외 주식', '원자재', '채권', '기타']"
      ]
     },
     "execution_count": 30,
     "metadata": {},
     "output_type": "execute_result"
    }
   ],
   "source": [
    "etf_tab_name"
   ]
  },
  {
   "cell_type": "code",
   "execution_count": 32,
   "id": "9b69b0a5",
   "metadata": {},
   "outputs": [],
   "source": [
    "def find_etf_tab_name(no):\n",
    "    return etf_tab_name[no]"
   ]
  },
  {
   "cell_type": "code",
   "execution_count": 33,
   "id": "ec3b2a00",
   "metadata": {},
   "outputs": [],
   "source": [
    "# etfTabName 컬럼 생성\n",
    "\n",
    "df['etfTabNaem'] = df['etfTabCode'].map(find_etf_tab_name)\n",
    "\n",
    "# df['etfTabNaem'] = df['etfTabCode'].map(lambda no:etf_tab_name[no])"
   ]
  },
  {
   "cell_type": "code",
   "execution_count": 34,
   "id": "2a9e04e9",
   "metadata": {},
   "outputs": [
    {
     "data": {
      "text/html": [
       "<div>\n",
       "<style scoped>\n",
       "    .dataframe tbody tr th:only-of-type {\n",
       "        vertical-align: middle;\n",
       "    }\n",
       "\n",
       "    .dataframe tbody tr th {\n",
       "        vertical-align: top;\n",
       "    }\n",
       "\n",
       "    .dataframe thead th {\n",
       "        text-align: right;\n",
       "    }\n",
       "</style>\n",
       "<table border=\"1\" class=\"dataframe\">\n",
       "  <thead>\n",
       "    <tr style=\"text-align: right;\">\n",
       "      <th></th>\n",
       "      <th>itemcode</th>\n",
       "      <th>etfTabCode</th>\n",
       "      <th>itemname</th>\n",
       "      <th>nowVal</th>\n",
       "      <th>risefall</th>\n",
       "      <th>changeVal</th>\n",
       "      <th>changeRate</th>\n",
       "      <th>nav</th>\n",
       "      <th>threeMonthEarnRate</th>\n",
       "      <th>quant</th>\n",
       "      <th>amonut</th>\n",
       "      <th>marketSum</th>\n",
       "      <th>etfTabNaem</th>\n",
       "    </tr>\n",
       "  </thead>\n",
       "  <tbody>\n",
       "    <tr>\n",
       "      <th>0</th>\n",
       "      <td>069500</td>\n",
       "      <td>1</td>\n",
       "      <td>KODEX 200</td>\n",
       "      <td>31425</td>\n",
       "      <td>5</td>\n",
       "      <td>-155</td>\n",
       "      <td>-0.49</td>\n",
       "      <td>31510.0</td>\n",
       "      <td>-10.6016</td>\n",
       "      <td>2100418</td>\n",
       "      <td>65964</td>\n",
       "      <td>52118</td>\n",
       "      <td>국내 시장지수</td>\n",
       "    </tr>\n",
       "    <tr>\n",
       "      <th>1</th>\n",
       "      <td>371460</td>\n",
       "      <td>4</td>\n",
       "      <td>TIGER 차이나전기차SOLACTIVE</td>\n",
       "      <td>17125</td>\n",
       "      <td>5</td>\n",
       "      <td>-365</td>\n",
       "      <td>-2.09</td>\n",
       "      <td>17176.0</td>\n",
       "      <td>32.8018</td>\n",
       "      <td>6904743</td>\n",
       "      <td>119235</td>\n",
       "      <td>37908</td>\n",
       "      <td>해외 주식</td>\n",
       "    </tr>\n",
       "    <tr>\n",
       "      <th>2</th>\n",
       "      <td>122630</td>\n",
       "      <td>3</td>\n",
       "      <td>KODEX 레버리지</td>\n",
       "      <td>14780</td>\n",
       "      <td>5</td>\n",
       "      <td>-150</td>\n",
       "      <td>-1.00</td>\n",
       "      <td>14837.0</td>\n",
       "      <td>-21.4418</td>\n",
       "      <td>20353741</td>\n",
       "      <td>300394</td>\n",
       "      <td>24128</td>\n",
       "      <td>국내 파생</td>\n",
       "    </tr>\n",
       "    <tr>\n",
       "      <th>3</th>\n",
       "      <td>133690</td>\n",
       "      <td>4</td>\n",
       "      <td>TIGER 미국나스닥100</td>\n",
       "      <td>69990</td>\n",
       "      <td>5</td>\n",
       "      <td>-1230</td>\n",
       "      <td>-1.73</td>\n",
       "      <td>69780.0</td>\n",
       "      <td>-6.4225</td>\n",
       "      <td>99724</td>\n",
       "      <td>6986</td>\n",
       "      <td>20724</td>\n",
       "      <td>해외 주식</td>\n",
       "    </tr>\n",
       "    <tr>\n",
       "      <th>4</th>\n",
       "      <td>102110</td>\n",
       "      <td>1</td>\n",
       "      <td>TIGER 200</td>\n",
       "      <td>31495</td>\n",
       "      <td>5</td>\n",
       "      <td>-150</td>\n",
       "      <td>-0.47</td>\n",
       "      <td>31576.0</td>\n",
       "      <td>-10.5467</td>\n",
       "      <td>820110</td>\n",
       "      <td>25811</td>\n",
       "      <td>20362</td>\n",
       "      <td>국내 시장지수</td>\n",
       "    </tr>\n",
       "  </tbody>\n",
       "</table>\n",
       "</div>"
      ],
      "text/plain": [
       "  itemcode  etfTabCode               itemname  nowVal  risefall  changeVal  \\\n",
       "0   069500           1              KODEX 200   31425         5       -155   \n",
       "1   371460           4  TIGER 차이나전기차SOLACTIVE   17125         5       -365   \n",
       "2   122630           3             KODEX 레버리지   14780         5       -150   \n",
       "3   133690           4         TIGER 미국나스닥100   69990         5      -1230   \n",
       "4   102110           1              TIGER 200   31495         5       -150   \n",
       "\n",
       "   changeRate      nav  threeMonthEarnRate     quant  amonut  marketSum  \\\n",
       "0       -0.49  31510.0            -10.6016   2100418   65964      52118   \n",
       "1       -2.09  17176.0             32.8018   6904743  119235      37908   \n",
       "2       -1.00  14837.0            -21.4418  20353741  300394      24128   \n",
       "3       -1.73  69780.0             -6.4225     99724    6986      20724   \n",
       "4       -0.47  31576.0            -10.5467    820110   25811      20362   \n",
       "\n",
       "  etfTabNaem  \n",
       "0    국내 시장지수  \n",
       "1      해외 주식  \n",
       "2      국내 파생  \n",
       "3      해외 주식  \n",
       "4    국내 시장지수  "
      ]
     },
     "execution_count": 34,
     "metadata": {},
     "output_type": "execute_result"
    }
   ],
   "source": [
    "df.head()"
   ]
  },
  {
   "cell_type": "markdown",
   "id": "0bf393bd",
   "metadata": {},
   "source": [
    "#### 컬렴명 변경"
   ]
  },
  {
   "cell_type": "code",
   "execution_count": 45,
   "id": "e040557c",
   "metadata": {},
   "outputs": [],
   "source": [
    "col_name = '''종목코드\n",
    "탭코드\n",
    "종목명\n",
    "현재가\n",
    "등락구분\n",
    "전일비\n",
    "등락률\n",
    "순자산가치(NAV)\n",
    "3개월수익률\n",
    "거래량\n",
    "거래대금(백만)\n",
    "시가총액(억)\n",
    "유형'''"
   ]
  },
  {
   "cell_type": "code",
   "execution_count": 46,
   "id": "08976cc2",
   "metadata": {},
   "outputs": [],
   "source": [
    "col_name = col_name.split('\\n')"
   ]
  },
  {
   "cell_type": "code",
   "execution_count": 47,
   "id": "29ce63b1",
   "metadata": {
    "scrolled": true
   },
   "outputs": [],
   "source": [
    "df.columns = col_name"
   ]
  },
  {
   "cell_type": "code",
   "execution_count": 48,
   "id": "5df258b1",
   "metadata": {},
   "outputs": [
    {
     "data": {
      "text/html": [
       "<div>\n",
       "<style scoped>\n",
       "    .dataframe tbody tr th:only-of-type {\n",
       "        vertical-align: middle;\n",
       "    }\n",
       "\n",
       "    .dataframe tbody tr th {\n",
       "        vertical-align: top;\n",
       "    }\n",
       "\n",
       "    .dataframe thead th {\n",
       "        text-align: right;\n",
       "    }\n",
       "</style>\n",
       "<table border=\"1\" class=\"dataframe\">\n",
       "  <thead>\n",
       "    <tr style=\"text-align: right;\">\n",
       "      <th></th>\n",
       "      <th>종목코드</th>\n",
       "      <th>탭코드</th>\n",
       "      <th>종목명</th>\n",
       "      <th>현재가</th>\n",
       "      <th>등락구분</th>\n",
       "      <th>전일비</th>\n",
       "      <th>등락률</th>\n",
       "      <th>순자산가치(NAV)</th>\n",
       "      <th>3개월수익률</th>\n",
       "      <th>거래량</th>\n",
       "      <th>거래대금(백만)</th>\n",
       "      <th>시가총액(억)</th>\n",
       "      <th>유형</th>\n",
       "    </tr>\n",
       "  </thead>\n",
       "  <tbody>\n",
       "    <tr>\n",
       "      <th>0</th>\n",
       "      <td>069500</td>\n",
       "      <td>1</td>\n",
       "      <td>KODEX 200</td>\n",
       "      <td>31425</td>\n",
       "      <td>5</td>\n",
       "      <td>-155</td>\n",
       "      <td>-0.49</td>\n",
       "      <td>31510.0</td>\n",
       "      <td>-10.6016</td>\n",
       "      <td>2100418</td>\n",
       "      <td>65964</td>\n",
       "      <td>52118</td>\n",
       "      <td>국내 시장지수</td>\n",
       "    </tr>\n",
       "    <tr>\n",
       "      <th>1</th>\n",
       "      <td>371460</td>\n",
       "      <td>4</td>\n",
       "      <td>TIGER 차이나전기차SOLACTIVE</td>\n",
       "      <td>17125</td>\n",
       "      <td>5</td>\n",
       "      <td>-365</td>\n",
       "      <td>-2.09</td>\n",
       "      <td>17176.0</td>\n",
       "      <td>32.8018</td>\n",
       "      <td>6904743</td>\n",
       "      <td>119235</td>\n",
       "      <td>37908</td>\n",
       "      <td>해외 주식</td>\n",
       "    </tr>\n",
       "  </tbody>\n",
       "</table>\n",
       "</div>"
      ],
      "text/plain": [
       "     종목코드  탭코드                    종목명    현재가  등락구분  전일비   등락률  순자산가치(NAV)  \\\n",
       "0  069500    1              KODEX 200  31425     5 -155 -0.49     31510.0   \n",
       "1  371460    4  TIGER 차이나전기차SOLACTIVE  17125     5 -365 -2.09     17176.0   \n",
       "\n",
       "    3개월수익률      거래량  거래대금(백만)  시가총액(억)       유형  \n",
       "0 -10.6016  2100418     65964    52118  국내 시장지수  \n",
       "1  32.8018  6904743    119235    37908    해외 주식  "
      ]
     },
     "execution_count": 48,
     "metadata": {},
     "output_type": "execute_result"
    }
   ],
   "source": [
    "df.head(2)"
   ]
  },
  {
   "cell_type": "markdown",
   "id": "e1337ef5",
   "metadata": {},
   "source": [
    "#### 브랜드 컬럼 추가"
   ]
  },
  {
   "cell_type": "code",
   "execution_count": 63,
   "id": "39a0dcd6",
   "metadata": {},
   "outputs": [],
   "source": [
    "# 종목명 KODEX200 일 때 -> KODEX 만\n",
    "\n",
    "df['브랜드'] = df['종목명'].str.split(' ', expand=True)[0]"
   ]
  },
  {
   "cell_type": "code",
   "execution_count": 68,
   "id": "39e17924",
   "metadata": {
    "scrolled": true
   },
   "outputs": [
    {
     "data": {
      "text/html": [
       "<div>\n",
       "<style scoped>\n",
       "    .dataframe tbody tr th:only-of-type {\n",
       "        vertical-align: middle;\n",
       "    }\n",
       "\n",
       "    .dataframe tbody tr th {\n",
       "        vertical-align: top;\n",
       "    }\n",
       "\n",
       "    .dataframe thead th {\n",
       "        text-align: right;\n",
       "    }\n",
       "</style>\n",
       "<table border=\"1\" class=\"dataframe\">\n",
       "  <thead>\n",
       "    <tr style=\"text-align: right;\">\n",
       "      <th></th>\n",
       "      <th>종목명</th>\n",
       "      <th>브랜드</th>\n",
       "    </tr>\n",
       "  </thead>\n",
       "  <tbody>\n",
       "    <tr>\n",
       "      <th>0</th>\n",
       "      <td>KODEX 200</td>\n",
       "      <td>KODEX</td>\n",
       "    </tr>\n",
       "    <tr>\n",
       "      <th>1</th>\n",
       "      <td>TIGER 차이나전기차SOLACTIVE</td>\n",
       "      <td>TIGER</td>\n",
       "    </tr>\n",
       "    <tr>\n",
       "      <th>2</th>\n",
       "      <td>KODEX 레버리지</td>\n",
       "      <td>KODEX</td>\n",
       "    </tr>\n",
       "    <tr>\n",
       "      <th>3</th>\n",
       "      <td>TIGER 미국나스닥100</td>\n",
       "      <td>TIGER</td>\n",
       "    </tr>\n",
       "    <tr>\n",
       "      <th>4</th>\n",
       "      <td>TIGER 200</td>\n",
       "      <td>TIGER</td>\n",
       "    </tr>\n",
       "    <tr>\n",
       "      <th>...</th>\n",
       "      <td>...</td>\n",
       "      <td>...</td>\n",
       "    </tr>\n",
       "    <tr>\n",
       "      <th>588</th>\n",
       "      <td>KBSTAR 모멘텀밸류</td>\n",
       "      <td>KBSTAR</td>\n",
       "    </tr>\n",
       "    <tr>\n",
       "      <th>589</th>\n",
       "      <td>KBSTAR 200에너지화학</td>\n",
       "      <td>KBSTAR</td>\n",
       "    </tr>\n",
       "    <tr>\n",
       "      <th>590</th>\n",
       "      <td>KBSTAR 200생활소비재</td>\n",
       "      <td>KBSTAR</td>\n",
       "    </tr>\n",
       "    <tr>\n",
       "      <th>591</th>\n",
       "      <td>KBSTAR 200산업재</td>\n",
       "      <td>KBSTAR</td>\n",
       "    </tr>\n",
       "    <tr>\n",
       "      <th>592</th>\n",
       "      <td>KBSTAR 200경기소비재</td>\n",
       "      <td>KBSTAR</td>\n",
       "    </tr>\n",
       "  </tbody>\n",
       "</table>\n",
       "<p>593 rows × 2 columns</p>\n",
       "</div>"
      ],
      "text/plain": [
       "                       종목명     브랜드\n",
       "0                KODEX 200   KODEX\n",
       "1    TIGER 차이나전기차SOLACTIVE   TIGER\n",
       "2               KODEX 레버리지   KODEX\n",
       "3           TIGER 미국나스닥100   TIGER\n",
       "4                TIGER 200   TIGER\n",
       "..                     ...     ...\n",
       "588           KBSTAR 모멘텀밸류  KBSTAR\n",
       "589        KBSTAR 200에너지화학  KBSTAR\n",
       "590        KBSTAR 200생활소비재  KBSTAR\n",
       "591          KBSTAR 200산업재  KBSTAR\n",
       "592        KBSTAR 200경기소비재  KBSTAR\n",
       "\n",
       "[593 rows x 2 columns]"
      ]
     },
     "execution_count": 68,
     "metadata": {},
     "output_type": "execute_result"
    }
   ],
   "source": [
    "df[['종목명','브랜드']]"
   ]
  },
  {
   "cell_type": "markdown",
   "id": "0c457d2c",
   "metadata": {},
   "source": [
    "#### 인버스 컬럼 생성\n",
    "- 인버스는 지수가 하락하면 수익률이 오르는 상품"
   ]
  },
  {
   "cell_type": "code",
   "execution_count": 69,
   "id": "72803518",
   "metadata": {},
   "outputs": [],
   "source": [
    "# 종목명에 인버스 라는 글자가 들어가면 True\n",
    "\n",
    "df['인버스'] = df['종목명'].str.contains('인버스')"
   ]
  },
  {
   "cell_type": "code",
   "execution_count": 70,
   "id": "3fbce20b",
   "metadata": {},
   "outputs": [
    {
     "data": {
      "text/plain": [
       "False    552\n",
       "True      41\n",
       "Name: 인버스, dtype: int64"
      ]
     },
     "execution_count": 70,
     "metadata": {},
     "output_type": "execute_result"
    }
   ],
   "source": [
    "# df['인버스'] 빈도수 구하기\n",
    "df['인버스'].value_counts()"
   ]
  },
  {
   "cell_type": "code",
   "execution_count": 71,
   "id": "6da85af3",
   "metadata": {},
   "outputs": [
    {
     "data": {
      "text/plain": [
       "False    93.086003\n",
       "True      6.913997\n",
       "Name: 인버스, dtype: float64"
      ]
     },
     "execution_count": 71,
     "metadata": {},
     "output_type": "execute_result"
    }
   ],
   "source": [
    "# 비율\n",
    "df['인버스'].value_counts(normalize=True) * 100"
   ]
  },
  {
   "cell_type": "markdown",
   "id": "a9dd0cb4",
   "metadata": {},
   "source": [
    "#### 레버리지 컬럼 생성\n",
    "- 레버리지는 타인의 자본을 지렛대처럼 이용하여 자기 자본의 이익률 높임"
   ]
  },
  {
   "cell_type": "code",
   "execution_count": 72,
   "id": "c5f3ac04",
   "metadata": {},
   "outputs": [],
   "source": [
    "# 종목명에 레버리지 라는 글자가 들어가면 True\n",
    "\n",
    "df['레버리지'] = df['종목명'].str.contains('레버리지')"
   ]
  },
  {
   "cell_type": "code",
   "execution_count": 73,
   "id": "72da91ea",
   "metadata": {},
   "outputs": [
    {
     "data": {
      "text/plain": [
       "False    555\n",
       "True      38\n",
       "Name: 레버리지, dtype: int64"
      ]
     },
     "execution_count": 73,
     "metadata": {},
     "output_type": "execute_result"
    }
   ],
   "source": [
    "# df['레버리지'] 빈도수 구하기\n",
    "\n",
    "df['레버리지'].value_counts()"
   ]
  },
  {
   "cell_type": "code",
   "execution_count": 74,
   "id": "9d0dbe01",
   "metadata": {},
   "outputs": [
    {
     "data": {
      "text/plain": [
       "False    93.591906\n",
       "True      6.408094\n",
       "Name: 레버리지, dtype: float64"
      ]
     },
     "execution_count": 74,
     "metadata": {},
     "output_type": "execute_result"
    }
   ],
   "source": [
    "# 비율\n",
    "\n",
    "df['레버리지'].value_counts(normalize=True) * 100"
   ]
  },
  {
   "cell_type": "code",
   "execution_count": null,
   "id": "b13b47ee",
   "metadata": {},
   "outputs": [],
   "source": []
  },
  {
   "cell_type": "markdown",
   "id": "6287a54d",
   "metadata": {},
   "source": [
    "#### 환헤지(H) 컬럼 생성"
   ]
  },
  {
   "cell_type": "code",
   "execution_count": 77,
   "id": "b1c94f67",
   "metadata": {},
   "outputs": [],
   "source": [
    "# 종목명 끝 부분에 H) 끝나면 True\n",
    "\n",
    "df['환헤지(H)'] = df['종목명'].str.endswith('H)')"
   ]
  },
  {
   "cell_type": "code",
   "execution_count": 78,
   "id": "30f4f946",
   "metadata": {},
   "outputs": [
    {
     "data": {
      "text/plain": [
       "False    526\n",
       "True      67\n",
       "Name: 환헤지(H), dtype: int64"
      ]
     },
     "execution_count": 78,
     "metadata": {},
     "output_type": "execute_result"
    }
   ],
   "source": [
    "# 빈도수\n",
    "df['환헤지(H)'].value_counts()"
   ]
  },
  {
   "cell_type": "code",
   "execution_count": 79,
   "id": "f1bbb5ae",
   "metadata": {},
   "outputs": [
    {
     "data": {
      "text/plain": [
       "False    88.701518\n",
       "True     11.298482\n",
       "Name: 환헤지(H), dtype: float64"
      ]
     },
     "execution_count": 79,
     "metadata": {},
     "output_type": "execute_result"
    }
   ],
   "source": [
    "df['환헤지(H)'].value_counts(normalize=True) * 100"
   ]
  },
  {
   "cell_type": "markdown",
   "id": "611b1b8f",
   "metadata": {},
   "source": [
    "#### 등락구분 컬럼 빈도수"
   ]
  },
  {
   "cell_type": "code",
   "execution_count": 81,
   "id": "b3801e2a",
   "metadata": {
    "scrolled": true
   },
   "outputs": [
    {
     "data": {
      "text/plain": [
       "5    379\n",
       "2    173\n",
       "3     41\n",
       "Name: 등락구분, dtype: int64"
      ]
     },
     "execution_count": 81,
     "metadata": {},
     "output_type": "execute_result"
    }
   ],
   "source": [
    "df['등락구분'].value_counts() # 5, 2, 3"
   ]
  },
  {
   "cell_type": "code",
   "execution_count": 82,
   "id": "a1052bbe",
   "metadata": {
    "scrolled": true
   },
   "outputs": [
    {
     "data": {
      "text/html": [
       "<div>\n",
       "<style scoped>\n",
       "    .dataframe tbody tr th:only-of-type {\n",
       "        vertical-align: middle;\n",
       "    }\n",
       "\n",
       "    .dataframe tbody tr th {\n",
       "        vertical-align: top;\n",
       "    }\n",
       "\n",
       "    .dataframe thead th {\n",
       "        text-align: right;\n",
       "    }\n",
       "</style>\n",
       "<table border=\"1\" class=\"dataframe\">\n",
       "  <thead>\n",
       "    <tr style=\"text-align: right;\">\n",
       "      <th></th>\n",
       "      <th>종목코드</th>\n",
       "      <th>탭코드</th>\n",
       "      <th>종목명</th>\n",
       "      <th>현재가</th>\n",
       "      <th>등락구분</th>\n",
       "      <th>전일비</th>\n",
       "      <th>등락률</th>\n",
       "      <th>순자산가치(NAV)</th>\n",
       "      <th>3개월수익률</th>\n",
       "      <th>거래량</th>\n",
       "      <th>거래대금(백만)</th>\n",
       "      <th>시가총액(억)</th>\n",
       "      <th>유형</th>\n",
       "      <th>브랜드</th>\n",
       "      <th>인버스</th>\n",
       "      <th>레버리지</th>\n",
       "      <th>환헤지(H)</th>\n",
       "    </tr>\n",
       "  </thead>\n",
       "  <tbody>\n",
       "    <tr>\n",
       "      <th>0</th>\n",
       "      <td>069500</td>\n",
       "      <td>1</td>\n",
       "      <td>KODEX 200</td>\n",
       "      <td>31425</td>\n",
       "      <td>5</td>\n",
       "      <td>-155</td>\n",
       "      <td>-0.49</td>\n",
       "      <td>31510.0</td>\n",
       "      <td>-10.6016</td>\n",
       "      <td>2100418</td>\n",
       "      <td>65964</td>\n",
       "      <td>52118</td>\n",
       "      <td>국내 시장지수</td>\n",
       "      <td>KODEX</td>\n",
       "      <td>False</td>\n",
       "      <td>False</td>\n",
       "      <td>False</td>\n",
       "    </tr>\n",
       "    <tr>\n",
       "      <th>1</th>\n",
       "      <td>371460</td>\n",
       "      <td>4</td>\n",
       "      <td>TIGER 차이나전기차SOLACTIVE</td>\n",
       "      <td>17125</td>\n",
       "      <td>5</td>\n",
       "      <td>-365</td>\n",
       "      <td>-2.09</td>\n",
       "      <td>17176.0</td>\n",
       "      <td>32.8018</td>\n",
       "      <td>6904743</td>\n",
       "      <td>119235</td>\n",
       "      <td>37908</td>\n",
       "      <td>해외 주식</td>\n",
       "      <td>TIGER</td>\n",
       "      <td>False</td>\n",
       "      <td>False</td>\n",
       "      <td>False</td>\n",
       "    </tr>\n",
       "    <tr>\n",
       "      <th>2</th>\n",
       "      <td>122630</td>\n",
       "      <td>3</td>\n",
       "      <td>KODEX 레버리지</td>\n",
       "      <td>14780</td>\n",
       "      <td>5</td>\n",
       "      <td>-150</td>\n",
       "      <td>-1.00</td>\n",
       "      <td>14837.0</td>\n",
       "      <td>-21.4418</td>\n",
       "      <td>20353741</td>\n",
       "      <td>300394</td>\n",
       "      <td>24128</td>\n",
       "      <td>국내 파생</td>\n",
       "      <td>KODEX</td>\n",
       "      <td>False</td>\n",
       "      <td>True</td>\n",
       "      <td>False</td>\n",
       "    </tr>\n",
       "    <tr>\n",
       "      <th>3</th>\n",
       "      <td>133690</td>\n",
       "      <td>4</td>\n",
       "      <td>TIGER 미국나스닥100</td>\n",
       "      <td>69990</td>\n",
       "      <td>5</td>\n",
       "      <td>-1230</td>\n",
       "      <td>-1.73</td>\n",
       "      <td>69780.0</td>\n",
       "      <td>-6.4225</td>\n",
       "      <td>99724</td>\n",
       "      <td>6986</td>\n",
       "      <td>20724</td>\n",
       "      <td>해외 주식</td>\n",
       "      <td>TIGER</td>\n",
       "      <td>False</td>\n",
       "      <td>False</td>\n",
       "      <td>False</td>\n",
       "    </tr>\n",
       "    <tr>\n",
       "      <th>4</th>\n",
       "      <td>102110</td>\n",
       "      <td>1</td>\n",
       "      <td>TIGER 200</td>\n",
       "      <td>31495</td>\n",
       "      <td>5</td>\n",
       "      <td>-150</td>\n",
       "      <td>-0.47</td>\n",
       "      <td>31576.0</td>\n",
       "      <td>-10.5467</td>\n",
       "      <td>820110</td>\n",
       "      <td>25811</td>\n",
       "      <td>20362</td>\n",
       "      <td>국내 시장지수</td>\n",
       "      <td>TIGER</td>\n",
       "      <td>False</td>\n",
       "      <td>False</td>\n",
       "      <td>False</td>\n",
       "    </tr>\n",
       "    <tr>\n",
       "      <th>...</th>\n",
       "      <td>...</td>\n",
       "      <td>...</td>\n",
       "      <td>...</td>\n",
       "      <td>...</td>\n",
       "      <td>...</td>\n",
       "      <td>...</td>\n",
       "      <td>...</td>\n",
       "      <td>...</td>\n",
       "      <td>...</td>\n",
       "      <td>...</td>\n",
       "      <td>...</td>\n",
       "      <td>...</td>\n",
       "      <td>...</td>\n",
       "      <td>...</td>\n",
       "      <td>...</td>\n",
       "      <td>...</td>\n",
       "      <td>...</td>\n",
       "    </tr>\n",
       "    <tr>\n",
       "      <th>588</th>\n",
       "      <td>252720</td>\n",
       "      <td>2</td>\n",
       "      <td>KBSTAR 모멘텀밸류</td>\n",
       "      <td>11900</td>\n",
       "      <td>5</td>\n",
       "      <td>-90</td>\n",
       "      <td>-0.75</td>\n",
       "      <td>11930.0</td>\n",
       "      <td>-13.5732</td>\n",
       "      <td>7</td>\n",
       "      <td>0</td>\n",
       "      <td>12</td>\n",
       "      <td>국내 업종/테마</td>\n",
       "      <td>KBSTAR</td>\n",
       "      <td>False</td>\n",
       "      <td>False</td>\n",
       "      <td>False</td>\n",
       "    </tr>\n",
       "    <tr>\n",
       "      <th>589</th>\n",
       "      <td>284990</td>\n",
       "      <td>2</td>\n",
       "      <td>KBSTAR 200에너지화학</td>\n",
       "      <td>9865</td>\n",
       "      <td>2</td>\n",
       "      <td>65</td>\n",
       "      <td>0.66</td>\n",
       "      <td>9890.0</td>\n",
       "      <td>-11.8706</td>\n",
       "      <td>72</td>\n",
       "      <td>0</td>\n",
       "      <td>10</td>\n",
       "      <td>국내 업종/테마</td>\n",
       "      <td>KBSTAR</td>\n",
       "      <td>False</td>\n",
       "      <td>False</td>\n",
       "      <td>False</td>\n",
       "    </tr>\n",
       "    <tr>\n",
       "      <th>590</th>\n",
       "      <td>287330</td>\n",
       "      <td>2</td>\n",
       "      <td>KBSTAR 200생활소비재</td>\n",
       "      <td>6555</td>\n",
       "      <td>5</td>\n",
       "      <td>-20</td>\n",
       "      <td>-0.30</td>\n",
       "      <td>6589.0</td>\n",
       "      <td>-9.0344</td>\n",
       "      <td>2575</td>\n",
       "      <td>16</td>\n",
       "      <td>9</td>\n",
       "      <td>국내 업종/테마</td>\n",
       "      <td>KBSTAR</td>\n",
       "      <td>False</td>\n",
       "      <td>False</td>\n",
       "      <td>False</td>\n",
       "    </tr>\n",
       "    <tr>\n",
       "      <th>591</th>\n",
       "      <td>287320</td>\n",
       "      <td>2</td>\n",
       "      <td>KBSTAR 200산업재</td>\n",
       "      <td>10795</td>\n",
       "      <td>2</td>\n",
       "      <td>65</td>\n",
       "      <td>0.61</td>\n",
       "      <td>10820.0</td>\n",
       "      <td>-8.6887</td>\n",
       "      <td>8</td>\n",
       "      <td>0</td>\n",
       "      <td>9</td>\n",
       "      <td>국내 업종/테마</td>\n",
       "      <td>KBSTAR</td>\n",
       "      <td>False</td>\n",
       "      <td>False</td>\n",
       "      <td>False</td>\n",
       "    </tr>\n",
       "    <tr>\n",
       "      <th>592</th>\n",
       "      <td>287310</td>\n",
       "      <td>2</td>\n",
       "      <td>KBSTAR 200경기소비재</td>\n",
       "      <td>9560</td>\n",
       "      <td>2</td>\n",
       "      <td>95</td>\n",
       "      <td>1.00</td>\n",
       "      <td>9595.0</td>\n",
       "      <td>-4.0742</td>\n",
       "      <td>17</td>\n",
       "      <td>0</td>\n",
       "      <td>8</td>\n",
       "      <td>국내 업종/테마</td>\n",
       "      <td>KBSTAR</td>\n",
       "      <td>False</td>\n",
       "      <td>False</td>\n",
       "      <td>False</td>\n",
       "    </tr>\n",
       "  </tbody>\n",
       "</table>\n",
       "<p>593 rows × 17 columns</p>\n",
       "</div>"
      ],
      "text/plain": [
       "       종목코드  탭코드                    종목명    현재가  등락구분   전일비   등락률  순자산가치(NAV)  \\\n",
       "0    069500    1              KODEX 200  31425     5  -155 -0.49     31510.0   \n",
       "1    371460    4  TIGER 차이나전기차SOLACTIVE  17125     5  -365 -2.09     17176.0   \n",
       "2    122630    3             KODEX 레버리지  14780     5  -150 -1.00     14837.0   \n",
       "3    133690    4         TIGER 미국나스닥100  69990     5 -1230 -1.73     69780.0   \n",
       "4    102110    1              TIGER 200  31495     5  -150 -0.47     31576.0   \n",
       "..      ...  ...                    ...    ...   ...   ...   ...         ...   \n",
       "588  252720    2           KBSTAR 모멘텀밸류  11900     5   -90 -0.75     11930.0   \n",
       "589  284990    2        KBSTAR 200에너지화학   9865     2    65  0.66      9890.0   \n",
       "590  287330    2        KBSTAR 200생활소비재   6555     5   -20 -0.30      6589.0   \n",
       "591  287320    2          KBSTAR 200산업재  10795     2    65  0.61     10820.0   \n",
       "592  287310    2        KBSTAR 200경기소비재   9560     2    95  1.00      9595.0   \n",
       "\n",
       "      3개월수익률       거래량  거래대금(백만)  시가총액(억)        유형     브랜드    인버스   레버리지  \\\n",
       "0   -10.6016   2100418     65964    52118   국내 시장지수   KODEX  False  False   \n",
       "1    32.8018   6904743    119235    37908     해외 주식   TIGER  False  False   \n",
       "2   -21.4418  20353741    300394    24128     국내 파생   KODEX  False   True   \n",
       "3    -6.4225     99724      6986    20724     해외 주식   TIGER  False  False   \n",
       "4   -10.5467    820110     25811    20362   국내 시장지수   TIGER  False  False   \n",
       "..       ...       ...       ...      ...       ...     ...    ...    ...   \n",
       "588 -13.5732         7         0       12  국내 업종/테마  KBSTAR  False  False   \n",
       "589 -11.8706        72         0       10  국내 업종/테마  KBSTAR  False  False   \n",
       "590  -9.0344      2575        16        9  국내 업종/테마  KBSTAR  False  False   \n",
       "591  -8.6887         8         0        9  국내 업종/테마  KBSTAR  False  False   \n",
       "592  -4.0742        17         0        8  국내 업종/테마  KBSTAR  False  False   \n",
       "\n",
       "     환헤지(H)  \n",
       "0     False  \n",
       "1     False  \n",
       "2     False  \n",
       "3     False  \n",
       "4     False  \n",
       "..      ...  \n",
       "588   False  \n",
       "589   False  \n",
       "590   False  \n",
       "591   False  \n",
       "592   False  \n",
       "\n",
       "[593 rows x 17 columns]"
      ]
     },
     "execution_count": 82,
     "metadata": {},
     "output_type": "execute_result"
    }
   ],
   "source": [
    "df"
   ]
  },
  {
   "cell_type": "code",
   "execution_count": 83,
   "id": "b6a9dd98",
   "metadata": {},
   "outputs": [
    {
     "data": {
      "text/plain": [
       "'etf_2022-07-19_row.csv'"
      ]
     },
     "execution_count": 83,
     "metadata": {},
     "output_type": "execute_result"
    }
   ],
   "source": [
    "file_name"
   ]
  },
  {
   "cell_type": "code",
   "execution_count": 85,
   "id": "41ae3ef6",
   "metadata": {},
   "outputs": [
    {
     "data": {
      "text/plain": [
       "'etf_2022-07-19.csv'"
      ]
     },
     "execution_count": 85,
     "metadata": {},
     "output_type": "execute_result"
    }
   ],
   "source": [
    "save_file_name = file_name.replace('_row','')\n",
    "save_file_name"
   ]
  },
  {
   "cell_type": "code",
   "execution_count": 86,
   "id": "378c3d41",
   "metadata": {},
   "outputs": [],
   "source": [
    "df.to_csv(save_file_name, index=False)"
   ]
  },
  {
   "cell_type": "code",
   "execution_count": null,
   "id": "9877abce",
   "metadata": {},
   "outputs": [],
   "source": []
  },
  {
   "cell_type": "code",
   "execution_count": null,
   "id": "759bb58e",
   "metadata": {},
   "outputs": [],
   "source": []
  },
  {
   "cell_type": "code",
   "execution_count": null,
   "id": "21e3d3dd",
   "metadata": {},
   "outputs": [],
   "source": []
  },
  {
   "cell_type": "code",
   "execution_count": null,
   "id": "9ca5890d",
   "metadata": {},
   "outputs": [],
   "source": []
  },
  {
   "cell_type": "code",
   "execution_count": null,
   "id": "75bc2d10",
   "metadata": {},
   "outputs": [],
   "source": []
  },
  {
   "cell_type": "code",
   "execution_count": null,
   "id": "7514086d",
   "metadata": {},
   "outputs": [],
   "source": []
  },
  {
   "cell_type": "code",
   "execution_count": null,
   "id": "34905116",
   "metadata": {},
   "outputs": [],
   "source": []
  },
  {
   "cell_type": "code",
   "execution_count": null,
   "id": "f15972d7",
   "metadata": {},
   "outputs": [],
   "source": []
  },
  {
   "cell_type": "code",
   "execution_count": null,
   "id": "d1dae131",
   "metadata": {},
   "outputs": [],
   "source": []
  }
 ],
 "metadata": {
  "kernelspec": {
   "display_name": "Python 3 (ipykernel)",
   "language": "python",
   "name": "python3"
  },
  "language_info": {
   "codemirror_mode": {
    "name": "ipython",
    "version": 3
   },
   "file_extension": ".py",
   "mimetype": "text/x-python",
   "name": "python",
   "nbconvert_exporter": "python",
   "pygments_lexer": "ipython3",
   "version": "3.9.12"
  }
 },
 "nbformat": 4,
 "nbformat_minor": 5
}
