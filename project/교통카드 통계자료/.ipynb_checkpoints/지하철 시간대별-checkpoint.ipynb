{
 "cells": [
  {
   "cell_type": "code",
   "execution_count": 2,
   "id": "144ca7eb",
   "metadata": {},
   "outputs": [],
   "source": [
    "import seaborn as sns\n",
    "sns.set(font_scale=1)"
   ]
  },
  {
   "cell_type": "code",
   "execution_count": 293,
   "id": "3b135fd0",
   "metadata": {},
   "outputs": [],
   "source": [
    "import pandas as pd\n",
    "import matplotlib.pyplot as plt\n",
    "import numpy as np\n",
    "\n",
    "plt.style.use('seaborn')\n",
    "\n",
    "plt.rcParams['font.family'] = 'Malgun Gothic'\n",
    "plt.rcParams['axes.unicode_minus'] = False"
   ]
  },
  {
   "cell_type": "code",
   "execution_count": 41,
   "id": "4a6415f6",
   "metadata": {},
   "outputs": [
    {
     "data": {
      "text/html": [
       "<div>\n",
       "<style scoped>\n",
       "    .dataframe tbody tr th:only-of-type {\n",
       "        vertical-align: middle;\n",
       "    }\n",
       "\n",
       "    .dataframe tbody tr th {\n",
       "        vertical-align: top;\n",
       "    }\n",
       "\n",
       "    .dataframe thead th {\n",
       "        text-align: right;\n",
       "    }\n",
       "</style>\n",
       "<table border=\"1\" class=\"dataframe\">\n",
       "  <thead>\n",
       "    <tr style=\"text-align: right;\">\n",
       "      <th></th>\n",
       "      <th>Unnamed: 1</th>\n",
       "      <th>Unnamed: 3</th>\n",
       "      <th>승차</th>\n",
       "      <th>하차</th>\n",
       "      <th>승차.1</th>\n",
       "      <th>하차.1</th>\n",
       "      <th>승차.2</th>\n",
       "      <th>하차.2</th>\n",
       "      <th>승차.3</th>\n",
       "      <th>하차.3</th>\n",
       "      <th>...</th>\n",
       "      <th>승차.17</th>\n",
       "      <th>하차.17</th>\n",
       "      <th>승차.18</th>\n",
       "      <th>하차.18</th>\n",
       "      <th>승차.19</th>\n",
       "      <th>하차.19</th>\n",
       "      <th>승차.20</th>\n",
       "      <th>하차.20</th>\n",
       "      <th>승차.21</th>\n",
       "      <th>하차.21</th>\n",
       "    </tr>\n",
       "  </thead>\n",
       "  <tbody>\n",
       "    <tr>\n",
       "      <th>0</th>\n",
       "      <td>1호선</td>\n",
       "      <td>서울역</td>\n",
       "      <td>646</td>\n",
       "      <td>24</td>\n",
       "      <td>8433</td>\n",
       "      <td>7694</td>\n",
       "      <td>12608</td>\n",
       "      <td>46963</td>\n",
       "      <td>39233</td>\n",
       "      <td>100397</td>\n",
       "      <td>...</td>\n",
       "      <td>76345</td>\n",
       "      <td>35471</td>\n",
       "      <td>51224</td>\n",
       "      <td>26045</td>\n",
       "      <td>20385</td>\n",
       "      <td>15480</td>\n",
       "      <td>158</td>\n",
       "      <td>1332</td>\n",
       "      <td>1</td>\n",
       "      <td>4</td>\n",
       "    </tr>\n",
       "    <tr>\n",
       "      <th>1</th>\n",
       "      <td>1호선</td>\n",
       "      <td>시청</td>\n",
       "      <td>271</td>\n",
       "      <td>7</td>\n",
       "      <td>3133</td>\n",
       "      <td>4802</td>\n",
       "      <td>3321</td>\n",
       "      <td>23621</td>\n",
       "      <td>6647</td>\n",
       "      <td>62427</td>\n",
       "      <td>...</td>\n",
       "      <td>43072</td>\n",
       "      <td>5598</td>\n",
       "      <td>29032</td>\n",
       "      <td>4091</td>\n",
       "      <td>9254</td>\n",
       "      <td>2938</td>\n",
       "      <td>72</td>\n",
       "      <td>422</td>\n",
       "      <td>0</td>\n",
       "      <td>2</td>\n",
       "    </tr>\n",
       "    <tr>\n",
       "      <th>2</th>\n",
       "      <td>1호선</td>\n",
       "      <td>종각</td>\n",
       "      <td>91</td>\n",
       "      <td>9</td>\n",
       "      <td>4007</td>\n",
       "      <td>3960</td>\n",
       "      <td>3682</td>\n",
       "      <td>22533</td>\n",
       "      <td>5814</td>\n",
       "      <td>95376</td>\n",
       "      <td>...</td>\n",
       "      <td>80861</td>\n",
       "      <td>7772</td>\n",
       "      <td>65832</td>\n",
       "      <td>5368</td>\n",
       "      <td>27781</td>\n",
       "      <td>3590</td>\n",
       "      <td>315</td>\n",
       "      <td>394</td>\n",
       "      <td>0</td>\n",
       "      <td>1</td>\n",
       "    </tr>\n",
       "    <tr>\n",
       "      <th>3</th>\n",
       "      <td>1호선</td>\n",
       "      <td>종로3가</td>\n",
       "      <td>190</td>\n",
       "      <td>12</td>\n",
       "      <td>3882</td>\n",
       "      <td>3261</td>\n",
       "      <td>3570</td>\n",
       "      <td>14038</td>\n",
       "      <td>4746</td>\n",
       "      <td>25469</td>\n",
       "      <td>...</td>\n",
       "      <td>51274</td>\n",
       "      <td>7492</td>\n",
       "      <td>42291</td>\n",
       "      <td>5558</td>\n",
       "      <td>17170</td>\n",
       "      <td>4119</td>\n",
       "      <td>310</td>\n",
       "      <td>843</td>\n",
       "      <td>3</td>\n",
       "      <td>3</td>\n",
       "    </tr>\n",
       "    <tr>\n",
       "      <th>4</th>\n",
       "      <td>1호선</td>\n",
       "      <td>종로5가</td>\n",
       "      <td>34</td>\n",
       "      <td>0</td>\n",
       "      <td>1730</td>\n",
       "      <td>3909</td>\n",
       "      <td>2986</td>\n",
       "      <td>16406</td>\n",
       "      <td>5020</td>\n",
       "      <td>41304</td>\n",
       "      <td>...</td>\n",
       "      <td>31369</td>\n",
       "      <td>5271</td>\n",
       "      <td>22016</td>\n",
       "      <td>3862</td>\n",
       "      <td>6208</td>\n",
       "      <td>2628</td>\n",
       "      <td>98</td>\n",
       "      <td>668</td>\n",
       "      <td>0</td>\n",
       "      <td>0</td>\n",
       "    </tr>\n",
       "  </tbody>\n",
       "</table>\n",
       "<p>5 rows × 46 columns</p>\n",
       "</div>"
      ],
      "text/plain": [
       "  Unnamed: 1 Unnamed: 3   승차  하차  승차.1  하차.1   승차.2   하차.2   승차.3    하차.3  \\\n",
       "0        1호선        서울역  646  24  8433  7694  12608  46963  39233  100397   \n",
       "1        1호선         시청  271   7  3133  4802   3321  23621   6647   62427   \n",
       "2        1호선         종각   91   9  4007  3960   3682  22533   5814   95376   \n",
       "3        1호선       종로3가  190  12  3882  3261   3570  14038   4746   25469   \n",
       "4        1호선       종로5가   34   0  1730  3909   2986  16406   5020   41304   \n",
       "\n",
       "   ...  승차.17  하차.17  승차.18  하차.18  승차.19  하차.19  승차.20  하차.20  승차.21  하차.21  \n",
       "0  ...  76345  35471  51224  26045  20385  15480    158   1332      1      4  \n",
       "1  ...  43072   5598  29032   4091   9254   2938     72    422      0      2  \n",
       "2  ...  80861   7772  65832   5368  27781   3590    315    394      0      1  \n",
       "3  ...  51274   7492  42291   5558  17170   4119    310    843      3      3  \n",
       "4  ...  31369   5271  22016   3862   6208   2628     98    668      0      0  \n",
       "\n",
       "[5 rows x 46 columns]"
      ]
     },
     "execution_count": 41,
     "metadata": {},
     "output_type": "execute_result"
    }
   ],
   "source": [
    "# sheet_name = 3\n",
    "df = pd.read_excel('../../data/dataset/2022년 06월  교통카드 통계자료.xls',sheet_name=3,skiprows=1,usecols='B,D:AV', thousands=',')\n",
    "df.head()"
   ]
  },
  {
   "cell_type": "code",
   "execution_count": null,
   "id": "875a8f91",
   "metadata": {},
   "outputs": [],
   "source": []
  },
  {
   "cell_type": "markdown",
   "id": "72b38b17",
   "metadata": {},
   "source": [
    "#### 컬럼명 변경\n",
    "\n",
    "- Unnamed: 1, Unnamed: 3, 승차, 하차 --> 호선명, 지하철역,승차_4, 하차_4 ~ 승차_26, 하차_26"
   ]
  },
  {
   "cell_type": "code",
   "execution_count": 42,
   "id": "8cb13edb",
   "metadata": {},
   "outputs": [],
   "source": [
    "df.rename(columns={'Unnamed: 3':'지하철역'},inplace=True)"
   ]
  },
  {
   "cell_type": "code",
   "execution_count": 49,
   "id": "979d14e1",
   "metadata": {
    "scrolled": true
   },
   "outputs": [
    {
     "data": {
      "text/plain": [
       "['호선명',\n",
       " '지하철역',\n",
       " '승차_4',\n",
       " '하차_4',\n",
       " '승차_5',\n",
       " '하차_5',\n",
       " '승차_6',\n",
       " '하차_6',\n",
       " '승차_7',\n",
       " '하차_7',\n",
       " '승차_8',\n",
       " '하차_8',\n",
       " '승차_9',\n",
       " '하차_9',\n",
       " '승차_10',\n",
       " '하차_10',\n",
       " '승차_11',\n",
       " '하차_11',\n",
       " '승차_12',\n",
       " '하차_12',\n",
       " '승차_13',\n",
       " '하차_13',\n",
       " '승차_14',\n",
       " '하차_14',\n",
       " '승차_15',\n",
       " '하차_15',\n",
       " '승차_16',\n",
       " '하차_16',\n",
       " '승차_17',\n",
       " '하차_17',\n",
       " '승차_18',\n",
       " '하차_18',\n",
       " '승차_19',\n",
       " '하차_19',\n",
       " '승차_20',\n",
       " '하차_20',\n",
       " '승차_21',\n",
       " '하차_21',\n",
       " '승차_22',\n",
       " '하차_22',\n",
       " '승차_23',\n",
       " '하차_23',\n",
       " '승차_24',\n",
       " '하차_24',\n",
       " '승차_25',\n",
       " '하차_25']"
      ]
     },
     "execution_count": 49,
     "metadata": {},
     "output_type": "execute_result"
    }
   ],
   "source": [
    "columns = ['호선명','지하철역']\n",
    "for i in range(4,26):\n",
    "    columns.append('승차_'+str(i))\n",
    "    columns.append('하차_'+str(i))\n",
    "columns"
   ]
  },
  {
   "cell_type": "code",
   "execution_count": 50,
   "id": "38088ff2",
   "metadata": {
    "scrolled": true
   },
   "outputs": [
    {
     "data": {
      "text/plain": [
       "46"
      ]
     },
     "execution_count": 50,
     "metadata": {},
     "output_type": "execute_result"
    }
   ],
   "source": [
    "len(columns)"
   ]
  },
  {
   "cell_type": "code",
   "execution_count": 51,
   "id": "3f072598",
   "metadata": {},
   "outputs": [
    {
     "data": {
      "text/plain": [
       "46"
      ]
     },
     "execution_count": 51,
     "metadata": {},
     "output_type": "execute_result"
    }
   ],
   "source": [
    "len(df.columns)"
   ]
  },
  {
   "cell_type": "code",
   "execution_count": 52,
   "id": "c59efa25",
   "metadata": {},
   "outputs": [],
   "source": [
    "df.columns = columns"
   ]
  },
  {
   "cell_type": "code",
   "execution_count": 53,
   "id": "3b5f29ba",
   "metadata": {},
   "outputs": [
    {
     "data": {
      "text/html": [
       "<div>\n",
       "<style scoped>\n",
       "    .dataframe tbody tr th:only-of-type {\n",
       "        vertical-align: middle;\n",
       "    }\n",
       "\n",
       "    .dataframe tbody tr th {\n",
       "        vertical-align: top;\n",
       "    }\n",
       "\n",
       "    .dataframe thead th {\n",
       "        text-align: right;\n",
       "    }\n",
       "</style>\n",
       "<table border=\"1\" class=\"dataframe\">\n",
       "  <thead>\n",
       "    <tr style=\"text-align: right;\">\n",
       "      <th></th>\n",
       "      <th>호선명</th>\n",
       "      <th>지하철역</th>\n",
       "      <th>승차_4</th>\n",
       "      <th>하차_4</th>\n",
       "      <th>승차_5</th>\n",
       "      <th>하차_5</th>\n",
       "      <th>승차_6</th>\n",
       "      <th>하차_6</th>\n",
       "      <th>승차_7</th>\n",
       "      <th>하차_7</th>\n",
       "      <th>...</th>\n",
       "      <th>승차_21</th>\n",
       "      <th>하차_21</th>\n",
       "      <th>승차_22</th>\n",
       "      <th>하차_22</th>\n",
       "      <th>승차_23</th>\n",
       "      <th>하차_23</th>\n",
       "      <th>승차_24</th>\n",
       "      <th>하차_24</th>\n",
       "      <th>승차_25</th>\n",
       "      <th>하차_25</th>\n",
       "    </tr>\n",
       "  </thead>\n",
       "  <tbody>\n",
       "    <tr>\n",
       "      <th>0</th>\n",
       "      <td>1호선</td>\n",
       "      <td>서울역</td>\n",
       "      <td>646</td>\n",
       "      <td>24</td>\n",
       "      <td>8433</td>\n",
       "      <td>7694</td>\n",
       "      <td>12608</td>\n",
       "      <td>46963</td>\n",
       "      <td>39233</td>\n",
       "      <td>100397</td>\n",
       "      <td>...</td>\n",
       "      <td>76345</td>\n",
       "      <td>35471</td>\n",
       "      <td>51224</td>\n",
       "      <td>26045</td>\n",
       "      <td>20385</td>\n",
       "      <td>15480</td>\n",
       "      <td>158</td>\n",
       "      <td>1332</td>\n",
       "      <td>1</td>\n",
       "      <td>4</td>\n",
       "    </tr>\n",
       "    <tr>\n",
       "      <th>1</th>\n",
       "      <td>1호선</td>\n",
       "      <td>시청</td>\n",
       "      <td>271</td>\n",
       "      <td>7</td>\n",
       "      <td>3133</td>\n",
       "      <td>4802</td>\n",
       "      <td>3321</td>\n",
       "      <td>23621</td>\n",
       "      <td>6647</td>\n",
       "      <td>62427</td>\n",
       "      <td>...</td>\n",
       "      <td>43072</td>\n",
       "      <td>5598</td>\n",
       "      <td>29032</td>\n",
       "      <td>4091</td>\n",
       "      <td>9254</td>\n",
       "      <td>2938</td>\n",
       "      <td>72</td>\n",
       "      <td>422</td>\n",
       "      <td>0</td>\n",
       "      <td>2</td>\n",
       "    </tr>\n",
       "    <tr>\n",
       "      <th>2</th>\n",
       "      <td>1호선</td>\n",
       "      <td>종각</td>\n",
       "      <td>91</td>\n",
       "      <td>9</td>\n",
       "      <td>4007</td>\n",
       "      <td>3960</td>\n",
       "      <td>3682</td>\n",
       "      <td>22533</td>\n",
       "      <td>5814</td>\n",
       "      <td>95376</td>\n",
       "      <td>...</td>\n",
       "      <td>80861</td>\n",
       "      <td>7772</td>\n",
       "      <td>65832</td>\n",
       "      <td>5368</td>\n",
       "      <td>27781</td>\n",
       "      <td>3590</td>\n",
       "      <td>315</td>\n",
       "      <td>394</td>\n",
       "      <td>0</td>\n",
       "      <td>1</td>\n",
       "    </tr>\n",
       "    <tr>\n",
       "      <th>3</th>\n",
       "      <td>1호선</td>\n",
       "      <td>종로3가</td>\n",
       "      <td>190</td>\n",
       "      <td>12</td>\n",
       "      <td>3882</td>\n",
       "      <td>3261</td>\n",
       "      <td>3570</td>\n",
       "      <td>14038</td>\n",
       "      <td>4746</td>\n",
       "      <td>25469</td>\n",
       "      <td>...</td>\n",
       "      <td>51274</td>\n",
       "      <td>7492</td>\n",
       "      <td>42291</td>\n",
       "      <td>5558</td>\n",
       "      <td>17170</td>\n",
       "      <td>4119</td>\n",
       "      <td>310</td>\n",
       "      <td>843</td>\n",
       "      <td>3</td>\n",
       "      <td>3</td>\n",
       "    </tr>\n",
       "    <tr>\n",
       "      <th>4</th>\n",
       "      <td>1호선</td>\n",
       "      <td>종로5가</td>\n",
       "      <td>34</td>\n",
       "      <td>0</td>\n",
       "      <td>1730</td>\n",
       "      <td>3909</td>\n",
       "      <td>2986</td>\n",
       "      <td>16406</td>\n",
       "      <td>5020</td>\n",
       "      <td>41304</td>\n",
       "      <td>...</td>\n",
       "      <td>31369</td>\n",
       "      <td>5271</td>\n",
       "      <td>22016</td>\n",
       "      <td>3862</td>\n",
       "      <td>6208</td>\n",
       "      <td>2628</td>\n",
       "      <td>98</td>\n",
       "      <td>668</td>\n",
       "      <td>0</td>\n",
       "      <td>0</td>\n",
       "    </tr>\n",
       "  </tbody>\n",
       "</table>\n",
       "<p>5 rows × 46 columns</p>\n",
       "</div>"
      ],
      "text/plain": [
       "   호선명  지하철역  승차_4  하차_4  승차_5  하차_5   승차_6   하차_6   승차_7    하차_7  ...  승차_21  \\\n",
       "0  1호선   서울역   646    24  8433  7694  12608  46963  39233  100397  ...  76345   \n",
       "1  1호선    시청   271     7  3133  4802   3321  23621   6647   62427  ...  43072   \n",
       "2  1호선    종각    91     9  4007  3960   3682  22533   5814   95376  ...  80861   \n",
       "3  1호선  종로3가   190    12  3882  3261   3570  14038   4746   25469  ...  51274   \n",
       "4  1호선  종로5가    34     0  1730  3909   2986  16406   5020   41304  ...  31369   \n",
       "\n",
       "   하차_21  승차_22  하차_22  승차_23  하차_23  승차_24  하차_24  승차_25  하차_25  \n",
       "0  35471  51224  26045  20385  15480    158   1332      1      4  \n",
       "1   5598  29032   4091   9254   2938     72    422      0      2  \n",
       "2   7772  65832   5368  27781   3590    315    394      0      1  \n",
       "3   7492  42291   5558  17170   4119    310    843      3      3  \n",
       "4   5271  22016   3862   6208   2628     98    668      0      0  \n",
       "\n",
       "[5 rows x 46 columns]"
      ]
     },
     "execution_count": 53,
     "metadata": {},
     "output_type": "execute_result"
    }
   ],
   "source": [
    "df.head()"
   ]
  },
  {
   "cell_type": "code",
   "execution_count": null,
   "id": "21647474",
   "metadata": {},
   "outputs": [],
   "source": []
  },
  {
   "cell_type": "markdown",
   "id": "c55f1f69",
   "metadata": {},
   "source": [
    "### 출근 시간대 사람들이 가장 많이 타는 역\n",
    "- 승차_7 + 승차_8 + 승차_9 = 출근 계\n",
    "- 하차_7 + 하차_8 + 하차_9 = 하차 계"
   ]
  },
  {
   "cell_type": "code",
   "execution_count": 54,
   "id": "dc734023",
   "metadata": {},
   "outputs": [],
   "source": [
    "df['출근 계'] = df['승차_7'] + df['승차_8'] + df['승차_9']\n",
    "df['하차 계'] = df['하차_7'] + df['하차_8'] + df['하차_9']"
   ]
  },
  {
   "cell_type": "code",
   "execution_count": 58,
   "id": "b4459ccd",
   "metadata": {},
   "outputs": [
    {
     "data": {
      "text/html": [
       "<div>\n",
       "<style scoped>\n",
       "    .dataframe tbody tr th:only-of-type {\n",
       "        vertical-align: middle;\n",
       "    }\n",
       "\n",
       "    .dataframe tbody tr th {\n",
       "        vertical-align: top;\n",
       "    }\n",
       "\n",
       "    .dataframe thead th {\n",
       "        text-align: right;\n",
       "    }\n",
       "</style>\n",
       "<table border=\"1\" class=\"dataframe\">\n",
       "  <thead>\n",
       "    <tr style=\"text-align: right;\">\n",
       "      <th></th>\n",
       "      <th>호선명</th>\n",
       "      <th>지하철역</th>\n",
       "      <th>승차_4</th>\n",
       "      <th>하차_4</th>\n",
       "      <th>승차_5</th>\n",
       "      <th>하차_5</th>\n",
       "      <th>승차_6</th>\n",
       "      <th>하차_6</th>\n",
       "      <th>승차_7</th>\n",
       "      <th>하차_7</th>\n",
       "      <th>...</th>\n",
       "      <th>승차_22</th>\n",
       "      <th>하차_22</th>\n",
       "      <th>승차_23</th>\n",
       "      <th>하차_23</th>\n",
       "      <th>승차_24</th>\n",
       "      <th>하차_24</th>\n",
       "      <th>승차_25</th>\n",
       "      <th>하차_25</th>\n",
       "      <th>출근 계</th>\n",
       "      <th>하차 계</th>\n",
       "    </tr>\n",
       "  </thead>\n",
       "  <tbody>\n",
       "    <tr>\n",
       "      <th>39</th>\n",
       "      <td>2호선</td>\n",
       "      <td>신림</td>\n",
       "      <td>253</td>\n",
       "      <td>10</td>\n",
       "      <td>38809</td>\n",
       "      <td>4518</td>\n",
       "      <td>73523</td>\n",
       "      <td>20593</td>\n",
       "      <td>188110</td>\n",
       "      <td>30954</td>\n",
       "      <td>...</td>\n",
       "      <td>40123</td>\n",
       "      <td>113573</td>\n",
       "      <td>20492</td>\n",
       "      <td>75909</td>\n",
       "      <td>3087</td>\n",
       "      <td>17134</td>\n",
       "      <td>6</td>\n",
       "      <td>188</td>\n",
       "      <td>638753</td>\n",
       "      <td>126731</td>\n",
       "    </tr>\n",
       "  </tbody>\n",
       "</table>\n",
       "<p>1 rows × 48 columns</p>\n",
       "</div>"
      ],
      "text/plain": [
       "    호선명 지하철역  승차_4  하차_4   승차_5  하차_5   승차_6   하차_6    승차_7   하차_7  ...  \\\n",
       "39  2호선   신림   253    10  38809  4518  73523  20593  188110  30954  ...   \n",
       "\n",
       "    승차_22   하차_22  승차_23  하차_23  승차_24  하차_24  승차_25  하차_25    출근 계    하차 계  \n",
       "39  40123  113573  20492  75909   3087  17134      6    188  638753  126731  \n",
       "\n",
       "[1 rows x 48 columns]"
      ]
     },
     "execution_count": 58,
     "metadata": {},
     "output_type": "execute_result"
    }
   ],
   "source": [
    "df.sort_values('출근 계', ascending=False).head(1)\n"
   ]
  },
  {
   "cell_type": "code",
   "execution_count": 59,
   "id": "7e100945",
   "metadata": {},
   "outputs": [
    {
     "data": {
      "text/html": [
       "<div>\n",
       "<style scoped>\n",
       "    .dataframe tbody tr th:only-of-type {\n",
       "        vertical-align: middle;\n",
       "    }\n",
       "\n",
       "    .dataframe tbody tr th {\n",
       "        vertical-align: top;\n",
       "    }\n",
       "\n",
       "    .dataframe thead th {\n",
       "        text-align: right;\n",
       "    }\n",
       "</style>\n",
       "<table border=\"1\" class=\"dataframe\">\n",
       "  <thead>\n",
       "    <tr style=\"text-align: right;\">\n",
       "      <th></th>\n",
       "      <th>호선명</th>\n",
       "      <th>지하철역</th>\n",
       "      <th>승차_4</th>\n",
       "      <th>하차_4</th>\n",
       "      <th>승차_5</th>\n",
       "      <th>하차_5</th>\n",
       "      <th>승차_6</th>\n",
       "      <th>하차_6</th>\n",
       "      <th>승차_7</th>\n",
       "      <th>하차_7</th>\n",
       "      <th>...</th>\n",
       "      <th>승차_22</th>\n",
       "      <th>하차_22</th>\n",
       "      <th>승차_23</th>\n",
       "      <th>하차_23</th>\n",
       "      <th>승차_24</th>\n",
       "      <th>하차_24</th>\n",
       "      <th>승차_25</th>\n",
       "      <th>하차_25</th>\n",
       "      <th>출근 계</th>\n",
       "      <th>하차 계</th>\n",
       "    </tr>\n",
       "  </thead>\n",
       "  <tbody>\n",
       "    <tr>\n",
       "      <th>39</th>\n",
       "      <td>2호선</td>\n",
       "      <td>신림</td>\n",
       "      <td>253</td>\n",
       "      <td>10</td>\n",
       "      <td>38809</td>\n",
       "      <td>4518</td>\n",
       "      <td>73523</td>\n",
       "      <td>20593</td>\n",
       "      <td>188110</td>\n",
       "      <td>30954</td>\n",
       "      <td>...</td>\n",
       "      <td>40123</td>\n",
       "      <td>113573</td>\n",
       "      <td>20492</td>\n",
       "      <td>75909</td>\n",
       "      <td>3087</td>\n",
       "      <td>17134</td>\n",
       "      <td>6</td>\n",
       "      <td>188</td>\n",
       "      <td>638753</td>\n",
       "      <td>126731</td>\n",
       "    </tr>\n",
       "  </tbody>\n",
       "</table>\n",
       "<p>1 rows × 48 columns</p>\n",
       "</div>"
      ],
      "text/plain": [
       "    호선명 지하철역  승차_4  하차_4   승차_5  하차_5   승차_6   하차_6    승차_7   하차_7  ...  \\\n",
       "39  2호선   신림   253    10  38809  4518  73523  20593  188110  30954  ...   \n",
       "\n",
       "    승차_22   하차_22  승차_23  하차_23  승차_24  하차_24  승차_25  하차_25    출근 계    하차 계  \n",
       "39  40123  113573  20492  75909   3087  17134      6    188  638753  126731  \n",
       "\n",
       "[1 rows x 48 columns]"
      ]
     },
     "execution_count": 59,
     "metadata": {},
     "output_type": "execute_result"
    }
   ],
   "source": [
    "df[df['출근 계'] == df['출근 계'].max()]"
   ]
  },
  {
   "cell_type": "code",
   "execution_count": null,
   "id": "4d794144",
   "metadata": {},
   "outputs": [],
   "source": []
  },
  {
   "cell_type": "markdown",
   "id": "5aaff0c9",
   "metadata": {},
   "source": [
    "### 출근 시간대 사람들이 가장 많이 내리는 역"
   ]
  },
  {
   "cell_type": "code",
   "execution_count": 60,
   "id": "e925c8ad",
   "metadata": {},
   "outputs": [
    {
     "data": {
      "text/html": [
       "<div>\n",
       "<style scoped>\n",
       "    .dataframe tbody tr th:only-of-type {\n",
       "        vertical-align: middle;\n",
       "    }\n",
       "\n",
       "    .dataframe tbody tr th {\n",
       "        vertical-align: top;\n",
       "    }\n",
       "\n",
       "    .dataframe thead th {\n",
       "        text-align: right;\n",
       "    }\n",
       "</style>\n",
       "<table border=\"1\" class=\"dataframe\">\n",
       "  <thead>\n",
       "    <tr style=\"text-align: right;\">\n",
       "      <th></th>\n",
       "      <th>호선명</th>\n",
       "      <th>지하철역</th>\n",
       "      <th>승차_4</th>\n",
       "      <th>하차_4</th>\n",
       "      <th>승차_5</th>\n",
       "      <th>하차_5</th>\n",
       "      <th>승차_6</th>\n",
       "      <th>하차_6</th>\n",
       "      <th>승차_7</th>\n",
       "      <th>하차_7</th>\n",
       "      <th>...</th>\n",
       "      <th>승차_22</th>\n",
       "      <th>하차_22</th>\n",
       "      <th>승차_23</th>\n",
       "      <th>하차_23</th>\n",
       "      <th>승차_24</th>\n",
       "      <th>하차_24</th>\n",
       "      <th>승차_25</th>\n",
       "      <th>하차_25</th>\n",
       "      <th>출근 계</th>\n",
       "      <th>하차 계</th>\n",
       "    </tr>\n",
       "  </thead>\n",
       "  <tbody>\n",
       "    <tr>\n",
       "      <th>30</th>\n",
       "      <td>2호선</td>\n",
       "      <td>역삼</td>\n",
       "      <td>32</td>\n",
       "      <td>0</td>\n",
       "      <td>4342</td>\n",
       "      <td>6889</td>\n",
       "      <td>8419</td>\n",
       "      <td>38605</td>\n",
       "      <td>14518</td>\n",
       "      <td>138583</td>\n",
       "      <td>...</td>\n",
       "      <td>59777</td>\n",
       "      <td>14805</td>\n",
       "      <td>22742</td>\n",
       "      <td>9700</td>\n",
       "      <td>3222</td>\n",
       "      <td>2294</td>\n",
       "      <td>2</td>\n",
       "      <td>21</td>\n",
       "      <td>61350</td>\n",
       "      <td>775247</td>\n",
       "    </tr>\n",
       "  </tbody>\n",
       "</table>\n",
       "<p>1 rows × 48 columns</p>\n",
       "</div>"
      ],
      "text/plain": [
       "    호선명 지하철역  승차_4  하차_4  승차_5  하차_5  승차_6   하차_6   승차_7    하차_7  ...  승차_22  \\\n",
       "30  2호선   역삼    32     0  4342  6889  8419  38605  14518  138583  ...  59777   \n",
       "\n",
       "    하차_22  승차_23  하차_23  승차_24  하차_24  승차_25  하차_25   출근 계    하차 계  \n",
       "30  14805  22742   9700   3222   2294      2     21  61350  775247  \n",
       "\n",
       "[1 rows x 48 columns]"
      ]
     },
     "execution_count": 60,
     "metadata": {},
     "output_type": "execute_result"
    }
   ],
   "source": [
    "df[df['하차 계'] == df['하차 계'].max()]"
   ]
  },
  {
   "cell_type": "code",
   "execution_count": null,
   "id": "9de32aac",
   "metadata": {},
   "outputs": [],
   "source": []
  },
  {
   "cell_type": "markdown",
   "id": "f068a723",
   "metadata": {},
   "source": [
    "### 밤 11시에 사람들이 가장 많이 타는 역"
   ]
  },
  {
   "cell_type": "code",
   "execution_count": 63,
   "id": "3447d6cb",
   "metadata": {},
   "outputs": [
    {
     "data": {
      "text/html": [
       "<div>\n",
       "<style scoped>\n",
       "    .dataframe tbody tr th:only-of-type {\n",
       "        vertical-align: middle;\n",
       "    }\n",
       "\n",
       "    .dataframe tbody tr th {\n",
       "        vertical-align: top;\n",
       "    }\n",
       "\n",
       "    .dataframe thead th {\n",
       "        text-align: right;\n",
       "    }\n",
       "</style>\n",
       "<table border=\"1\" class=\"dataframe\">\n",
       "  <thead>\n",
       "    <tr style=\"text-align: right;\">\n",
       "      <th></th>\n",
       "      <th>호선명</th>\n",
       "      <th>지하철역</th>\n",
       "      <th>승차_4</th>\n",
       "      <th>하차_4</th>\n",
       "      <th>승차_5</th>\n",
       "      <th>하차_5</th>\n",
       "      <th>승차_6</th>\n",
       "      <th>하차_6</th>\n",
       "      <th>승차_7</th>\n",
       "      <th>하차_7</th>\n",
       "      <th>...</th>\n",
       "      <th>승차_22</th>\n",
       "      <th>하차_22</th>\n",
       "      <th>승차_23</th>\n",
       "      <th>하차_23</th>\n",
       "      <th>승차_24</th>\n",
       "      <th>하차_24</th>\n",
       "      <th>승차_25</th>\n",
       "      <th>하차_25</th>\n",
       "      <th>출근 계</th>\n",
       "      <th>하차 계</th>\n",
       "    </tr>\n",
       "  </thead>\n",
       "  <tbody>\n",
       "    <tr>\n",
       "      <th>31</th>\n",
       "      <td>2호선</td>\n",
       "      <td>강남</td>\n",
       "      <td>231</td>\n",
       "      <td>8</td>\n",
       "      <td>11812</td>\n",
       "      <td>10667</td>\n",
       "      <td>19128</td>\n",
       "      <td>49306</td>\n",
       "      <td>37334</td>\n",
       "      <td>147542</td>\n",
       "      <td>...</td>\n",
       "      <td>176473</td>\n",
       "      <td>40499</td>\n",
       "      <td>81016</td>\n",
       "      <td>26765</td>\n",
       "      <td>12407</td>\n",
       "      <td>5773</td>\n",
       "      <td>2</td>\n",
       "      <td>35</td>\n",
       "      <td>148582</td>\n",
       "      <td>760050</td>\n",
       "    </tr>\n",
       "  </tbody>\n",
       "</table>\n",
       "<p>1 rows × 48 columns</p>\n",
       "</div>"
      ],
      "text/plain": [
       "    호선명 지하철역  승차_4  하차_4   승차_5   하차_5   승차_6   하차_6   승차_7    하차_7  ...  \\\n",
       "31  2호선   강남   231     8  11812  10667  19128  49306  37334  147542  ...   \n",
       "\n",
       "     승차_22  하차_22  승차_23  하차_23  승차_24  하차_24  승차_25  하차_25    출근 계    하차 계  \n",
       "31  176473  40499  81016  26765  12407   5773      2     35  148582  760050  \n",
       "\n",
       "[1 rows x 48 columns]"
      ]
     },
     "execution_count": 63,
     "metadata": {},
     "output_type": "execute_result"
    }
   ],
   "source": [
    "df[df['승차_23'] == df['승차_23'].max()]"
   ]
  },
  {
   "cell_type": "markdown",
   "id": "1abfd76b",
   "metadata": {},
   "source": [
    "### 사용자한테 입력 받은 시간대에 사람들이 가장 많이 타는 역\n",
    "\n",
    "| 승차시각(t) | 인덱스(i) | 패턴 |\n",
    "|-------------|-----------|------|\n",
    "| 4 | 2 | i = 2 + (승차시각 - 4) * 2\n",
    "| 5 | 4 |\n",
    "| 6 | 6 |\n",
    "| 7 | 8 |"
   ]
  },
  {
   "cell_type": "code",
   "execution_count": 110,
   "id": "0648ef24",
   "metadata": {},
   "outputs": [
    {
     "name": "stdout",
     "output_type": "stream",
     "text": [
      "몇 시의 승차 인원이 가장 많은 역이 궁금하세요? 입력은 24시간 제로 해주세요 10\n"
     ]
    }
   ],
   "source": [
    "hour = int(input('몇 시의 승차 인원이 가장 많은 역이 궁금하세요? 입력은 24시간 제로 해주세요 '))"
   ]
  },
  {
   "cell_type": "code",
   "execution_count": 111,
   "id": "7e6dc664",
   "metadata": {},
   "outputs": [
    {
     "name": "stdout",
     "output_type": "stream",
     "text": [
      "10\n"
     ]
    },
    {
     "data": {
      "text/html": [
       "<div>\n",
       "<style scoped>\n",
       "    .dataframe tbody tr th:only-of-type {\n",
       "        vertical-align: middle;\n",
       "    }\n",
       "\n",
       "    .dataframe tbody tr th {\n",
       "        vertical-align: top;\n",
       "    }\n",
       "\n",
       "    .dataframe thead th {\n",
       "        text-align: right;\n",
       "    }\n",
       "</style>\n",
       "<table border=\"1\" class=\"dataframe\">\n",
       "  <thead>\n",
       "    <tr style=\"text-align: right;\">\n",
       "      <th></th>\n",
       "      <th>호선명</th>\n",
       "      <th>지하철역</th>\n",
       "      <th>승차_4</th>\n",
       "      <th>하차_4</th>\n",
       "      <th>승차_5</th>\n",
       "      <th>하차_5</th>\n",
       "      <th>승차_6</th>\n",
       "      <th>하차_6</th>\n",
       "      <th>승차_7</th>\n",
       "      <th>하차_7</th>\n",
       "      <th>...</th>\n",
       "      <th>승차_22</th>\n",
       "      <th>하차_22</th>\n",
       "      <th>승차_23</th>\n",
       "      <th>하차_23</th>\n",
       "      <th>승차_24</th>\n",
       "      <th>하차_24</th>\n",
       "      <th>승차_25</th>\n",
       "      <th>하차_25</th>\n",
       "      <th>출근 계</th>\n",
       "      <th>하차 계</th>\n",
       "    </tr>\n",
       "  </thead>\n",
       "  <tbody>\n",
       "    <tr>\n",
       "      <th>39</th>\n",
       "      <td>2호선</td>\n",
       "      <td>신림</td>\n",
       "      <td>253</td>\n",
       "      <td>10</td>\n",
       "      <td>38809</td>\n",
       "      <td>4518</td>\n",
       "      <td>73523</td>\n",
       "      <td>20593</td>\n",
       "      <td>188110</td>\n",
       "      <td>30954</td>\n",
       "      <td>...</td>\n",
       "      <td>40123</td>\n",
       "      <td>113573</td>\n",
       "      <td>20492</td>\n",
       "      <td>75909</td>\n",
       "      <td>3087</td>\n",
       "      <td>17134</td>\n",
       "      <td>6</td>\n",
       "      <td>188</td>\n",
       "      <td>638753</td>\n",
       "      <td>126731</td>\n",
       "    </tr>\n",
       "  </tbody>\n",
       "</table>\n",
       "<p>1 rows × 48 columns</p>\n",
       "</div>"
      ],
      "text/plain": [
       "    호선명 지하철역  승차_4  하차_4   승차_5  하차_5   승차_6   하차_6    승차_7   하차_7  ...  \\\n",
       "39  2호선   신림   253    10  38809  4518  73523  20593  188110  30954  ...   \n",
       "\n",
       "    승차_22   하차_22  승차_23  하차_23  승차_24  하차_24  승차_25  하차_25    출근 계    하차 계  \n",
       "39  40123  113573  20492  75909   3087  17134      6    188  638753  126731  \n",
       "\n",
       "[1 rows x 48 columns]"
      ]
     },
     "execution_count": 111,
     "metadata": {},
     "output_type": "execute_result"
    }
   ],
   "source": [
    "print(hour)\n",
    "str1 = '승차_' + str(hour)\n",
    "\n",
    "df[df[str1] == df[str1].max()]"
   ]
  },
  {
   "cell_type": "markdown",
   "id": "48f03ebf",
   "metadata": {},
   "source": [
    "### 강사님 풀이"
   ]
  },
  {
   "cell_type": "code",
   "execution_count": 112,
   "id": "9b4a89de",
   "metadata": {},
   "outputs": [
    {
     "data": {
      "text/plain": [
       "14"
      ]
     },
     "execution_count": 112,
     "metadata": {},
     "output_type": "execute_result"
    }
   ],
   "source": [
    "idx = 2 + (hour - 4) * 2\n",
    "idx"
   ]
  },
  {
   "cell_type": "code",
   "execution_count": 113,
   "id": "f5f1c4bb",
   "metadata": {},
   "outputs": [
    {
     "data": {
      "text/html": [
       "<div>\n",
       "<style scoped>\n",
       "    .dataframe tbody tr th:only-of-type {\n",
       "        vertical-align: middle;\n",
       "    }\n",
       "\n",
       "    .dataframe tbody tr th {\n",
       "        vertical-align: top;\n",
       "    }\n",
       "\n",
       "    .dataframe thead th {\n",
       "        text-align: right;\n",
       "    }\n",
       "</style>\n",
       "<table border=\"1\" class=\"dataframe\">\n",
       "  <thead>\n",
       "    <tr style=\"text-align: right;\">\n",
       "      <th></th>\n",
       "      <th>호선명</th>\n",
       "      <th>지하철역</th>\n",
       "      <th>승차_4</th>\n",
       "      <th>하차_4</th>\n",
       "      <th>승차_5</th>\n",
       "      <th>하차_5</th>\n",
       "      <th>승차_6</th>\n",
       "      <th>하차_6</th>\n",
       "      <th>승차_7</th>\n",
       "      <th>하차_7</th>\n",
       "      <th>...</th>\n",
       "      <th>승차_22</th>\n",
       "      <th>하차_22</th>\n",
       "      <th>승차_23</th>\n",
       "      <th>하차_23</th>\n",
       "      <th>승차_24</th>\n",
       "      <th>하차_24</th>\n",
       "      <th>승차_25</th>\n",
       "      <th>하차_25</th>\n",
       "      <th>출근 계</th>\n",
       "      <th>하차 계</th>\n",
       "    </tr>\n",
       "  </thead>\n",
       "  <tbody>\n",
       "    <tr>\n",
       "      <th>39</th>\n",
       "      <td>2호선</td>\n",
       "      <td>신림</td>\n",
       "      <td>253</td>\n",
       "      <td>10</td>\n",
       "      <td>38809</td>\n",
       "      <td>4518</td>\n",
       "      <td>73523</td>\n",
       "      <td>20593</td>\n",
       "      <td>188110</td>\n",
       "      <td>30954</td>\n",
       "      <td>...</td>\n",
       "      <td>40123</td>\n",
       "      <td>113573</td>\n",
       "      <td>20492</td>\n",
       "      <td>75909</td>\n",
       "      <td>3087</td>\n",
       "      <td>17134</td>\n",
       "      <td>6</td>\n",
       "      <td>188</td>\n",
       "      <td>638753</td>\n",
       "      <td>126731</td>\n",
       "    </tr>\n",
       "  </tbody>\n",
       "</table>\n",
       "<p>1 rows × 48 columns</p>\n",
       "</div>"
      ],
      "text/plain": [
       "    호선명 지하철역  승차_4  하차_4   승차_5  하차_5   승차_6   하차_6    승차_7   하차_7  ...  \\\n",
       "39  2호선   신림   253    10  38809  4518  73523  20593  188110  30954  ...   \n",
       "\n",
       "    승차_22   하차_22  승차_23  하차_23  승차_24  하차_24  승차_25  하차_25    출근 계    하차 계  \n",
       "39  40123  113573  20492  75909   3087  17134      6    188  638753  126731  \n",
       "\n",
       "[1 rows x 48 columns]"
      ]
     },
     "execution_count": 113,
     "metadata": {},
     "output_type": "execute_result"
    }
   ],
   "source": [
    "df[df.iloc[:,idx] == df.iloc[:, idx].max()]"
   ]
  },
  {
   "cell_type": "markdown",
   "id": "f63fe271",
   "metadata": {},
   "source": [
    "### 시간대별로 승객이 가장 많이 타고 내리는 역"
   ]
  },
  {
   "cell_type": "code",
   "execution_count": 114,
   "id": "141c014c",
   "metadata": {},
   "outputs": [
    {
     "data": {
      "text/plain": [
       "73523"
      ]
     },
     "execution_count": 114,
     "metadata": {},
     "output_type": "execute_result"
    }
   ],
   "source": [
    "df['승차_6'].max()"
   ]
  },
  {
   "cell_type": "markdown",
   "id": "02d7b1f6",
   "metadata": {},
   "source": [
    "#### 1) 4 ~ 24시 컬럼 추출"
   ]
  },
  {
   "cell_type": "code",
   "execution_count": 125,
   "id": "976de04f",
   "metadata": {},
   "outputs": [],
   "source": [
    "groups_col = df.columns.difference(['호선명','지하철역','승차_25','하차_25','출근 계','하차 계'], sort=False) \n",
    "# sort가 자동으로 걸려있음(컬럼 그대로 보고 싶다면 sort = False)"
   ]
  },
  {
   "cell_type": "code",
   "execution_count": 126,
   "id": "36ae5bd5",
   "metadata": {},
   "outputs": [
    {
     "data": {
      "text/plain": [
       "Index(['승차_4', '하차_4', '승차_5', '하차_5', '승차_6', '하차_6', '승차_7', '하차_7', '승차_8',\n",
       "       '하차_8', '승차_9', '하차_9', '승차_10', '하차_10', '승차_11', '하차_11', '승차_12',\n",
       "       '하차_12', '승차_13', '하차_13', '승차_14', '하차_14', '승차_15', '하차_15', '승차_16',\n",
       "       '하차_16', '승차_17', '하차_17', '승차_18', '하차_18', '승차_19', '하차_19', '승차_20',\n",
       "       '하차_20', '승차_21', '하차_21', '승차_22', '하차_22', '승차_23', '하차_23', '승차_24',\n",
       "       '하차_24'],\n",
       "      dtype='object')"
      ]
     },
     "execution_count": 126,
     "metadata": {},
     "output_type": "execute_result"
    }
   ],
   "source": [
    "groups_col"
   ]
  },
  {
   "cell_type": "code",
   "execution_count": 127,
   "id": "a4222c34",
   "metadata": {
    "scrolled": true
   },
   "outputs": [
    {
     "data": {
      "text/plain": [
       "승차_4      11784\n",
       "하차_4         63\n",
       "승차_5      38809\n",
       "하차_5      10667\n",
       "승차_6      73523\n",
       "하차_6      49306\n",
       "승차_7     188110\n",
       "하차_7     147542\n",
       "승차_8     281017\n",
       "하차_8     368521\n",
       "승차_9     169626\n",
       "하차_9     306893\n",
       "승차_10     91989\n",
       "하차_10    144675\n",
       "승차_11     77496\n",
       "하차_11    109164\n",
       "승차_12     84383\n",
       "하차_12    121850\n",
       "승차_13     95697\n",
       "하차_13    132667\n",
       "승차_14    106394\n",
       "하차_14    126803\n",
       "승차_15    131625\n",
       "하차_15    128713\n",
       "승차_16    154526\n",
       "하차_16    135392\n",
       "승차_17    231839\n",
       "하차_17    162215\n",
       "승차_18    314775\n",
       "하차_18    224968\n",
       "승차_19    196425\n",
       "하차_19    199987\n",
       "승차_20    155347\n",
       "하차_20    122279\n",
       "승차_21    180108\n",
       "하차_21    120509\n",
       "승차_22    176473\n",
       "하차_22    113573\n",
       "승차_23     81016\n",
       "하차_23     75909\n",
       "승차_24     12407\n",
       "하차_24     20253\n",
       "dtype: int64"
      ]
     },
     "execution_count": 127,
     "metadata": {},
     "output_type": "execute_result"
    }
   ],
   "source": [
    "df[groups_col].max()"
   ]
  },
  {
   "cell_type": "markdown",
   "id": "a085b648",
   "metadata": {},
   "source": [
    "#### 2) 각 시간대별 최대인원 추출"
   ]
  },
  {
   "cell_type": "code",
   "execution_count": 130,
   "id": "cbb210e5",
   "metadata": {},
   "outputs": [
    {
     "data": {
      "text/plain": [
       "[11784, 63, 38809, 10667, 73523, 49306, 188110, 147542, 281017, 368521]"
      ]
     },
     "execution_count": 130,
     "metadata": {},
     "output_type": "execute_result"
    }
   ],
   "source": [
    "passenger_max = df[groups_col].max().to_list()\n",
    "passenger_max[:10]"
   ]
  },
  {
   "cell_type": "markdown",
   "id": "ef7d1fc7",
   "metadata": {},
   "source": [
    "#### 3) 각 시간대별 최대인원의 인덱스 번호 추출"
   ]
  },
  {
   "cell_type": "code",
   "execution_count": 131,
   "id": "3934de63",
   "metadata": {},
   "outputs": [
    {
     "data": {
      "text/plain": [
       "128"
      ]
     },
     "execution_count": 131,
     "metadata": {},
     "output_type": "execute_result"
    }
   ],
   "source": [
    "df['승차_4'].idxmax()\n",
    "# idxmax : 인덱스 번호 추출"
   ]
  },
  {
   "cell_type": "code",
   "execution_count": 133,
   "id": "c9291a18",
   "metadata": {
    "scrolled": true
   },
   "outputs": [
    {
     "data": {
      "text/plain": [
       "호선명       경부선\n",
       "지하철역       구로\n",
       "승차_4    11784\n",
       "하차_4       48\n",
       "승차_5    23203\n",
       "Name: 128, dtype: object"
      ]
     },
     "execution_count": 133,
     "metadata": {},
     "output_type": "execute_result"
    }
   ],
   "source": [
    "df.iloc[128].head()"
   ]
  },
  {
   "cell_type": "code",
   "execution_count": 137,
   "id": "ebec8ffa",
   "metadata": {
    "scrolled": true
   },
   "outputs": [
    {
     "data": {
      "text/plain": [
       "[128, 125, 39, 31, 39, 31, 39, 31, 39, 512]"
      ]
     },
     "execution_count": 137,
     "metadata": {},
     "output_type": "execute_result"
    }
   ],
   "source": [
    "idxmax_list = df[groups_col].idxmax().to_list()\n",
    "idxmax_list[:10]"
   ]
  },
  {
   "cell_type": "markdown",
   "id": "6df59136",
   "metadata": {},
   "source": [
    "#### 4) passenger_max 와 idxmax_list 이용해서 새로운 데이터프레임 생성(time_df)"
   ]
  },
  {
   "cell_type": "code",
   "execution_count": 144,
   "id": "23c14a45",
   "metadata": {},
   "outputs": [
    {
     "data": {
      "text/html": [
       "<div>\n",
       "<style scoped>\n",
       "    .dataframe tbody tr th:only-of-type {\n",
       "        vertical-align: middle;\n",
       "    }\n",
       "\n",
       "    .dataframe tbody tr th {\n",
       "        vertical-align: top;\n",
       "    }\n",
       "\n",
       "    .dataframe thead th {\n",
       "        text-align: right;\n",
       "    }\n",
       "</style>\n",
       "<table border=\"1\" class=\"dataframe\">\n",
       "  <thead>\n",
       "    <tr style=\"text-align: right;\">\n",
       "      <th></th>\n",
       "      <th>승하차</th>\n",
       "      <th>idx_max</th>\n",
       "      <th>승객수</th>\n",
       "    </tr>\n",
       "  </thead>\n",
       "  <tbody>\n",
       "    <tr>\n",
       "      <th>0</th>\n",
       "      <td>승차_4</td>\n",
       "      <td>128</td>\n",
       "      <td>11784</td>\n",
       "    </tr>\n",
       "    <tr>\n",
       "      <th>1</th>\n",
       "      <td>하차_4</td>\n",
       "      <td>125</td>\n",
       "      <td>63</td>\n",
       "    </tr>\n",
       "    <tr>\n",
       "      <th>2</th>\n",
       "      <td>승차_5</td>\n",
       "      <td>39</td>\n",
       "      <td>38809</td>\n",
       "    </tr>\n",
       "  </tbody>\n",
       "</table>\n",
       "</div>"
      ],
      "text/plain": [
       "    승하차  idx_max    승객수\n",
       "0  승차_4      128  11784\n",
       "1  하차_4      125     63\n",
       "2  승차_5       39  38809"
      ]
     },
     "execution_count": 144,
     "metadata": {},
     "output_type": "execute_result"
    }
   ],
   "source": [
    "# time_df['idx_max'] = idxmax_list\n",
    "time_df = pd.DataFrame(\n",
    "    {\n",
    "        '승하차' : groups_col,\n",
    "        'idx_max' : idxmax_list,\n",
    "        '승객수' : passenger_max\n",
    "    }\n",
    ")\n",
    "time_df.head(3)"
   ]
  },
  {
   "cell_type": "markdown",
   "id": "c1858521",
   "metadata": {},
   "source": [
    "#### 5) idx_max 값을 이용해서 지하철역 명 찾기"
   ]
  },
  {
   "cell_type": "code",
   "execution_count": 190,
   "id": "ada13944",
   "metadata": {},
   "outputs": [
    {
     "name": "stderr",
     "output_type": "stream",
     "text": [
      "C:\\Users\\MDR\\AppData\\Local\\Temp\\ipykernel_5552\\3431796170.py:2: SettingWithCopyWarning: \n",
      "A value is trying to be set on a copy of a slice from a DataFrame\n",
      "\n",
      "See the caveats in the documentation: https://pandas.pydata.org/pandas-docs/stable/user_guide/indexing.html#returning-a-view-versus-a-copy\n",
      "  time_df['지하철역'][i] = df.iloc[time_df['idx_max'][i]].iloc[1]\n"
     ]
    }
   ],
   "source": [
    "for i in range(0,42):\n",
    "    time_df['지하철역'][i] = df.iloc[time_df['idx_max'][i]].iloc[1]"
   ]
  },
  {
   "cell_type": "code",
   "execution_count": 191,
   "id": "04233bb4",
   "metadata": {},
   "outputs": [
    {
     "data": {
      "text/html": [
       "<div>\n",
       "<style scoped>\n",
       "    .dataframe tbody tr th:only-of-type {\n",
       "        vertical-align: middle;\n",
       "    }\n",
       "\n",
       "    .dataframe tbody tr th {\n",
       "        vertical-align: top;\n",
       "    }\n",
       "\n",
       "    .dataframe thead th {\n",
       "        text-align: right;\n",
       "    }\n",
       "</style>\n",
       "<table border=\"1\" class=\"dataframe\">\n",
       "  <thead>\n",
       "    <tr style=\"text-align: right;\">\n",
       "      <th></th>\n",
       "      <th>승하차</th>\n",
       "      <th>idx_max</th>\n",
       "      <th>승객수</th>\n",
       "      <th>지하철역</th>\n",
       "    </tr>\n",
       "  </thead>\n",
       "  <tbody>\n",
       "    <tr>\n",
       "      <th>0</th>\n",
       "      <td>승차_4</td>\n",
       "      <td>128</td>\n",
       "      <td>11784</td>\n",
       "      <td>구로</td>\n",
       "    </tr>\n",
       "    <tr>\n",
       "      <th>1</th>\n",
       "      <td>하차_4</td>\n",
       "      <td>125</td>\n",
       "      <td>63</td>\n",
       "      <td>영등포</td>\n",
       "    </tr>\n",
       "    <tr>\n",
       "      <th>2</th>\n",
       "      <td>승차_5</td>\n",
       "      <td>39</td>\n",
       "      <td>38809</td>\n",
       "      <td>신림</td>\n",
       "    </tr>\n",
       "  </tbody>\n",
       "</table>\n",
       "</div>"
      ],
      "text/plain": [
       "    승하차  idx_max    승객수 지하철역\n",
       "0  승차_4      128  11784   구로\n",
       "1  하차_4      125     63  영등포\n",
       "2  승차_5       39  38809   신림"
      ]
     },
     "execution_count": 191,
     "metadata": {},
     "output_type": "execute_result"
    }
   ],
   "source": [
    "time_df.head(3)"
   ]
  },
  {
   "cell_type": "code",
   "execution_count": 189,
   "id": "bd4fe760",
   "metadata": {},
   "outputs": [
    {
     "data": {
      "text/plain": [
       "'구로'"
      ]
     },
     "execution_count": 189,
     "metadata": {},
     "output_type": "execute_result"
    }
   ],
   "source": [
    "df.iloc[time_df['idx_max'][0]].iloc[1]"
   ]
  },
  {
   "cell_type": "code",
   "execution_count": 188,
   "id": "d7a0097d",
   "metadata": {},
   "outputs": [
    {
     "data": {
      "text/plain": [
       "128"
      ]
     },
     "execution_count": 188,
     "metadata": {},
     "output_type": "execute_result"
    }
   ],
   "source": [
    "time_df['idx_max'][0]"
   ]
  },
  {
   "cell_type": "markdown",
   "id": "ca373922",
   "metadata": {},
   "source": [
    "#### 강사님 풀이"
   ]
  },
  {
   "cell_type": "code",
   "execution_count": 183,
   "id": "b97ca89b",
   "metadata": {
    "scrolled": true
   },
   "outputs": [
    {
     "data": {
      "text/plain": [
       "['구로',\n",
       " '영등포',\n",
       " '신림',\n",
       " '강남',\n",
       " '신림',\n",
       " '강남',\n",
       " '신림',\n",
       " '강남',\n",
       " '신림',\n",
       " '가산디지털단지',\n",
       " '신림',\n",
       " '강남',\n",
       " '신림',\n",
       " '강남',\n",
       " '신림',\n",
       " '잠실(송파구청)',\n",
       " '잠실(송파구청)',\n",
       " '홍대입구',\n",
       " '강남',\n",
       " '홍대입구',\n",
       " '강남',\n",
       " '홍대입구',\n",
       " '강남',\n",
       " '홍대입구',\n",
       " '강남',\n",
       " '홍대입구',\n",
       " '강남',\n",
       " '홍대입구',\n",
       " '강남',\n",
       " '신림',\n",
       " '강남',\n",
       " '신림',\n",
       " '강남',\n",
       " '신림',\n",
       " '강남',\n",
       " '신림',\n",
       " '강남',\n",
       " '신림',\n",
       " '강남',\n",
       " '신림',\n",
       " '강남',\n",
       " '신도림']"
      ]
     },
     "execution_count": 183,
     "metadata": {},
     "output_type": "execute_result"
    }
   ],
   "source": [
    "df.loc[idxmax_list, '지하철역'].to_list()"
   ]
  },
  {
   "cell_type": "markdown",
   "id": "641c28c7",
   "metadata": {},
   "source": [
    "#### 6) time_df 에 지하철역 컬럼 생성 후  5) 번 내용 추가"
   ]
  },
  {
   "cell_type": "code",
   "execution_count": 193,
   "id": "0ff0f680",
   "metadata": {},
   "outputs": [],
   "source": [
    "time_df['지하철역'] = df.loc[idxmax_list, '지하철역'].to_list()"
   ]
  },
  {
   "cell_type": "code",
   "execution_count": 194,
   "id": "43de46d3",
   "metadata": {},
   "outputs": [
    {
     "data": {
      "text/html": [
       "<div>\n",
       "<style scoped>\n",
       "    .dataframe tbody tr th:only-of-type {\n",
       "        vertical-align: middle;\n",
       "    }\n",
       "\n",
       "    .dataframe tbody tr th {\n",
       "        vertical-align: top;\n",
       "    }\n",
       "\n",
       "    .dataframe thead th {\n",
       "        text-align: right;\n",
       "    }\n",
       "</style>\n",
       "<table border=\"1\" class=\"dataframe\">\n",
       "  <thead>\n",
       "    <tr style=\"text-align: right;\">\n",
       "      <th></th>\n",
       "      <th>승하차</th>\n",
       "      <th>idx_max</th>\n",
       "      <th>승객수</th>\n",
       "      <th>지하철역</th>\n",
       "    </tr>\n",
       "  </thead>\n",
       "  <tbody>\n",
       "    <tr>\n",
       "      <th>0</th>\n",
       "      <td>승차_4</td>\n",
       "      <td>128</td>\n",
       "      <td>11784</td>\n",
       "      <td>구로</td>\n",
       "    </tr>\n",
       "    <tr>\n",
       "      <th>1</th>\n",
       "      <td>하차_4</td>\n",
       "      <td>125</td>\n",
       "      <td>63</td>\n",
       "      <td>영등포</td>\n",
       "    </tr>\n",
       "    <tr>\n",
       "      <th>2</th>\n",
       "      <td>승차_5</td>\n",
       "      <td>39</td>\n",
       "      <td>38809</td>\n",
       "      <td>신림</td>\n",
       "    </tr>\n",
       "  </tbody>\n",
       "</table>\n",
       "</div>"
      ],
      "text/plain": [
       "    승하차  idx_max    승객수 지하철역\n",
       "0  승차_4      128  11784   구로\n",
       "1  하차_4      125     63  영등포\n",
       "2  승차_5       39  38809   신림"
      ]
     },
     "execution_count": 194,
     "metadata": {},
     "output_type": "execute_result"
    }
   ],
   "source": [
    "time_df.head(3)"
   ]
  },
  {
   "cell_type": "markdown",
   "id": "111503fc",
   "metadata": {},
   "source": [
    "#### 7) 승하차 컬럼에서 시간 잘라낸 후 hour 컬럼에 담기 "
   ]
  },
  {
   "cell_type": "code",
   "execution_count": 223,
   "id": "7894b817",
   "metadata": {
    "scrolled": true
   },
   "outputs": [
    {
     "name": "stderr",
     "output_type": "stream",
     "text": [
      "C:\\Users\\MDR\\AppData\\Local\\Temp\\ipykernel_5552\\884882976.py:2: SettingWithCopyWarning: \n",
      "A value is trying to be set on a copy of a slice from a DataFrame\n",
      "\n",
      "See the caveats in the documentation: https://pandas.pydata.org/pandas-docs/stable/user_guide/indexing.html#returning-a-view-versus-a-copy\n",
      "  time_df['hour'][i] = time_df['승하차'][i][3:]\n"
     ]
    }
   ],
   "source": [
    "for i in range(0,41):\n",
    "    time_df['hour'][i] = time_df['승하차'][i][3:]\n",
    "#     time_df['hour'][i+1] = time_df['승하차'][i][3:]"
   ]
  },
  {
   "cell_type": "code",
   "execution_count": 229,
   "id": "0d10ddc8",
   "metadata": {},
   "outputs": [
    {
     "data": {
      "text/html": [
       "<div>\n",
       "<style scoped>\n",
       "    .dataframe tbody tr th:only-of-type {\n",
       "        vertical-align: middle;\n",
       "    }\n",
       "\n",
       "    .dataframe tbody tr th {\n",
       "        vertical-align: top;\n",
       "    }\n",
       "\n",
       "    .dataframe thead th {\n",
       "        text-align: right;\n",
       "    }\n",
       "</style>\n",
       "<table border=\"1\" class=\"dataframe\">\n",
       "  <thead>\n",
       "    <tr style=\"text-align: right;\">\n",
       "      <th></th>\n",
       "      <th>승하차</th>\n",
       "      <th>idx_max</th>\n",
       "      <th>승객수</th>\n",
       "      <th>지하철역</th>\n",
       "      <th>hour</th>\n",
       "    </tr>\n",
       "  </thead>\n",
       "  <tbody>\n",
       "    <tr>\n",
       "      <th>0</th>\n",
       "      <td>승차_4</td>\n",
       "      <td>128</td>\n",
       "      <td>11784</td>\n",
       "      <td>구로</td>\n",
       "      <td>4</td>\n",
       "    </tr>\n",
       "    <tr>\n",
       "      <th>1</th>\n",
       "      <td>하차_4</td>\n",
       "      <td>125</td>\n",
       "      <td>63</td>\n",
       "      <td>영등포</td>\n",
       "      <td>4</td>\n",
       "    </tr>\n",
       "    <tr>\n",
       "      <th>2</th>\n",
       "      <td>승차_5</td>\n",
       "      <td>39</td>\n",
       "      <td>38809</td>\n",
       "      <td>신림</td>\n",
       "      <td>5</td>\n",
       "    </tr>\n",
       "    <tr>\n",
       "      <th>3</th>\n",
       "      <td>하차_5</td>\n",
       "      <td>31</td>\n",
       "      <td>10667</td>\n",
       "      <td>강남</td>\n",
       "      <td>5</td>\n",
       "    </tr>\n",
       "    <tr>\n",
       "      <th>4</th>\n",
       "      <td>승차_6</td>\n",
       "      <td>39</td>\n",
       "      <td>73523</td>\n",
       "      <td>신림</td>\n",
       "      <td>6</td>\n",
       "    </tr>\n",
       "  </tbody>\n",
       "</table>\n",
       "</div>"
      ],
      "text/plain": [
       "    승하차  idx_max    승객수 지하철역 hour\n",
       "0  승차_4      128  11784   구로    4\n",
       "1  하차_4      125     63  영등포    4\n",
       "2  승차_5       39  38809   신림    5\n",
       "3  하차_5       31  10667   강남    5\n",
       "4  승차_6       39  73523   신림    6"
      ]
     },
     "execution_count": 229,
     "metadata": {},
     "output_type": "execute_result"
    }
   ],
   "source": [
    "time_df.head()"
   ]
  },
  {
   "cell_type": "markdown",
   "id": "8d1fa022",
   "metadata": {},
   "source": [
    "#### 강사님풀이"
   ]
  },
  {
   "cell_type": "code",
   "execution_count": 227,
   "id": "4dc74f7f",
   "metadata": {
    "scrolled": true
   },
   "outputs": [],
   "source": [
    "time_df['hour'] = time_df['승하차'].str.split('_',expand=True)[1]"
   ]
  },
  {
   "cell_type": "code",
   "execution_count": 228,
   "id": "273e064a",
   "metadata": {},
   "outputs": [
    {
     "data": {
      "text/html": [
       "<div>\n",
       "<style scoped>\n",
       "    .dataframe tbody tr th:only-of-type {\n",
       "        vertical-align: middle;\n",
       "    }\n",
       "\n",
       "    .dataframe tbody tr th {\n",
       "        vertical-align: top;\n",
       "    }\n",
       "\n",
       "    .dataframe thead th {\n",
       "        text-align: right;\n",
       "    }\n",
       "</style>\n",
       "<table border=\"1\" class=\"dataframe\">\n",
       "  <thead>\n",
       "    <tr style=\"text-align: right;\">\n",
       "      <th></th>\n",
       "      <th>승하차</th>\n",
       "      <th>idx_max</th>\n",
       "      <th>승객수</th>\n",
       "      <th>지하철역</th>\n",
       "      <th>hour</th>\n",
       "    </tr>\n",
       "  </thead>\n",
       "  <tbody>\n",
       "    <tr>\n",
       "      <th>0</th>\n",
       "      <td>승차_4</td>\n",
       "      <td>128</td>\n",
       "      <td>11784</td>\n",
       "      <td>구로</td>\n",
       "      <td>4</td>\n",
       "    </tr>\n",
       "    <tr>\n",
       "      <th>1</th>\n",
       "      <td>하차_4</td>\n",
       "      <td>125</td>\n",
       "      <td>63</td>\n",
       "      <td>영등포</td>\n",
       "      <td>4</td>\n",
       "    </tr>\n",
       "    <tr>\n",
       "      <th>2</th>\n",
       "      <td>승차_5</td>\n",
       "      <td>39</td>\n",
       "      <td>38809</td>\n",
       "      <td>신림</td>\n",
       "      <td>5</td>\n",
       "    </tr>\n",
       "    <tr>\n",
       "      <th>3</th>\n",
       "      <td>하차_5</td>\n",
       "      <td>31</td>\n",
       "      <td>10667</td>\n",
       "      <td>강남</td>\n",
       "      <td>5</td>\n",
       "    </tr>\n",
       "    <tr>\n",
       "      <th>4</th>\n",
       "      <td>승차_6</td>\n",
       "      <td>39</td>\n",
       "      <td>73523</td>\n",
       "      <td>신림</td>\n",
       "      <td>6</td>\n",
       "    </tr>\n",
       "  </tbody>\n",
       "</table>\n",
       "</div>"
      ],
      "text/plain": [
       "    승하차  idx_max    승객수 지하철역 hour\n",
       "0  승차_4      128  11784   구로    4\n",
       "1  하차_4      125     63  영등포    4\n",
       "2  승차_5       39  38809   신림    5\n",
       "3  하차_5       31  10667   강남    5\n",
       "4  승차_6       39  73523   신림    6"
      ]
     },
     "execution_count": 228,
     "metadata": {},
     "output_type": "execute_result"
    }
   ],
   "source": [
    "time_df.head(5)"
   ]
  },
  {
   "cell_type": "code",
   "execution_count": 230,
   "id": "f1590b1e",
   "metadata": {},
   "outputs": [
    {
     "name": "stdout",
     "output_type": "stream",
     "text": [
      "<class 'pandas.core.frame.DataFrame'>\n",
      "RangeIndex: 42 entries, 0 to 41\n",
      "Data columns (total 5 columns):\n",
      " #   Column   Non-Null Count  Dtype \n",
      "---  ------   --------------  ----- \n",
      " 0   승하차      42 non-null     object\n",
      " 1   idx_max  42 non-null     int64 \n",
      " 2   승객수      42 non-null     int64 \n",
      " 3   지하철역     42 non-null     object\n",
      " 4   hour     42 non-null     object\n",
      "dtypes: int64(2), object(3)\n",
      "memory usage: 1.8+ KB\n"
     ]
    }
   ],
   "source": [
    "time_df.info()"
   ]
  },
  {
   "cell_type": "markdown",
   "id": "c1dea66a",
   "metadata": {},
   "source": [
    "#### hour의 타입을 int64로변경"
   ]
  },
  {
   "cell_type": "code",
   "execution_count": 235,
   "id": "c33ef669",
   "metadata": {
    "scrolled": true
   },
   "outputs": [],
   "source": [
    "time_df['hour'] = time_df['hour'].astype('int64')"
   ]
  },
  {
   "cell_type": "code",
   "execution_count": 236,
   "id": "f2a617ce",
   "metadata": {},
   "outputs": [
    {
     "name": "stdout",
     "output_type": "stream",
     "text": [
      "<class 'pandas.core.frame.DataFrame'>\n",
      "RangeIndex: 42 entries, 0 to 41\n",
      "Data columns (total 5 columns):\n",
      " #   Column   Non-Null Count  Dtype \n",
      "---  ------   --------------  ----- \n",
      " 0   승하차      42 non-null     object\n",
      " 1   idx_max  42 non-null     int64 \n",
      " 2   승객수      42 non-null     int64 \n",
      " 3   지하철역     42 non-null     object\n",
      " 4   hour     42 non-null     int64 \n",
      "dtypes: int64(3), object(2)\n",
      "memory usage: 1.8+ KB\n"
     ]
    }
   ],
   "source": [
    "time_df.info()"
   ]
  },
  {
   "cell_type": "code",
   "execution_count": 249,
   "id": "68c317f7",
   "metadata": {},
   "outputs": [
    {
     "data": {
      "text/plain": [
       "['0',\n",
       " '',\n",
       " '',\n",
       " '',\n",
       " '',\n",
       " '',\n",
       " '4\\n1',\n",
       " '',\n",
       " '',\n",
       " '',\n",
       " '',\n",
       " '',\n",
       " '4\\n2',\n",
       " '',\n",
       " '',\n",
       " '',\n",
       " '',\n",
       " '',\n",
       " '5\\n3',\n",
       " '',\n",
       " '',\n",
       " '',\n",
       " '',\n",
       " '',\n",
       " '5\\n4',\n",
       " '',\n",
       " '',\n",
       " '',\n",
       " '',\n",
       " '',\n",
       " '6\\n5',\n",
       " '',\n",
       " '',\n",
       " '',\n",
       " '',\n",
       " '',\n",
       " '6\\n6',\n",
       " '',\n",
       " '',\n",
       " '',\n",
       " '',\n",
       " '',\n",
       " '7\\n7',\n",
       " '',\n",
       " '',\n",
       " '',\n",
       " '',\n",
       " '',\n",
       " '7\\n8',\n",
       " '',\n",
       " '',\n",
       " '',\n",
       " '',\n",
       " '',\n",
       " '8\\n9',\n",
       " '',\n",
       " '',\n",
       " '',\n",
       " '',\n",
       " '',\n",
       " '8\\n10',\n",
       " '',\n",
       " '',\n",
       " '',\n",
       " '',\n",
       " '9\\n11',\n",
       " '',\n",
       " '',\n",
       " '',\n",
       " '',\n",
       " '9\\n12',\n",
       " '',\n",
       " '',\n",
       " '',\n",
       " '10\\n13',\n",
       " '',\n",
       " '',\n",
       " '',\n",
       " '10\\n14',\n",
       " '',\n",
       " '',\n",
       " '',\n",
       " '11\\n15',\n",
       " '',\n",
       " '',\n",
       " '',\n",
       " '11\\n16',\n",
       " '',\n",
       " '',\n",
       " '',\n",
       " '12\\n17',\n",
       " '',\n",
       " '',\n",
       " '',\n",
       " '12\\n18',\n",
       " '',\n",
       " '',\n",
       " '',\n",
       " '13\\n19',\n",
       " '',\n",
       " '',\n",
       " '',\n",
       " '13\\n20',\n",
       " '',\n",
       " '',\n",
       " '',\n",
       " '14\\n21',\n",
       " '',\n",
       " '',\n",
       " '',\n",
       " '14\\n22',\n",
       " '',\n",
       " '',\n",
       " '',\n",
       " '15\\n23',\n",
       " '',\n",
       " '',\n",
       " '',\n",
       " '15\\n24',\n",
       " '',\n",
       " '',\n",
       " '',\n",
       " '16\\n25',\n",
       " '',\n",
       " '',\n",
       " '',\n",
       " '16\\n26',\n",
       " '',\n",
       " '',\n",
       " '',\n",
       " '17\\n27',\n",
       " '',\n",
       " '',\n",
       " '',\n",
       " '17\\n28',\n",
       " '',\n",
       " '',\n",
       " '',\n",
       " '18\\n29',\n",
       " '',\n",
       " '',\n",
       " '',\n",
       " '18\\n30',\n",
       " '',\n",
       " '',\n",
       " '',\n",
       " '19\\n31',\n",
       " '',\n",
       " '',\n",
       " '',\n",
       " '19\\n32',\n",
       " '',\n",
       " '',\n",
       " '',\n",
       " '20\\n33',\n",
       " '',\n",
       " '',\n",
       " '',\n",
       " '20\\n34',\n",
       " '',\n",
       " '',\n",
       " '',\n",
       " '21\\n35',\n",
       " '',\n",
       " '',\n",
       " '',\n",
       " '21\\n36',\n",
       " '',\n",
       " '',\n",
       " '',\n",
       " '22\\n37',\n",
       " '',\n",
       " '',\n",
       " '',\n",
       " '22\\n38',\n",
       " '',\n",
       " '',\n",
       " '',\n",
       " '23\\n39',\n",
       " '',\n",
       " '',\n",
       " '',\n",
       " '23\\n40',\n",
       " '',\n",
       " '',\n",
       " '',\n",
       " '24\\n41',\n",
       " '',\n",
       " '',\n",
       " '',\n",
       " '24\\nName:',\n",
       " 'hour,',\n",
       " 'dtype:',\n",
       " 'int64']"
      ]
     },
     "execution_count": 249,
     "metadata": {},
     "output_type": "execute_result"
    }
   ],
   "source": [
    "str(time_df['hour']).split(' ')"
   ]
  },
  {
   "cell_type": "markdown",
   "id": "dc6b01b4",
   "metadata": {},
   "source": [
    "#### 혼잡역 컬럼 생성 : 지하철역_hour(ex 구로_4)"
   ]
  },
  {
   "cell_type": "code",
   "execution_count": 251,
   "id": "1ea0612b",
   "metadata": {
    "scrolled": true
   },
   "outputs": [],
   "source": [
    "time_df['혼잡역'] = time_df['지하철역'] + '_' + time_df['hour'].astype(str)"
   ]
  },
  {
   "cell_type": "code",
   "execution_count": 257,
   "id": "60ac3fa7",
   "metadata": {},
   "outputs": [
    {
     "data": {
      "text/html": [
       "<div>\n",
       "<style scoped>\n",
       "    .dataframe tbody tr th:only-of-type {\n",
       "        vertical-align: middle;\n",
       "    }\n",
       "\n",
       "    .dataframe tbody tr th {\n",
       "        vertical-align: top;\n",
       "    }\n",
       "\n",
       "    .dataframe thead th {\n",
       "        text-align: right;\n",
       "    }\n",
       "</style>\n",
       "<table border=\"1\" class=\"dataframe\">\n",
       "  <thead>\n",
       "    <tr style=\"text-align: right;\">\n",
       "      <th></th>\n",
       "      <th>승하차</th>\n",
       "      <th>idx_max</th>\n",
       "      <th>승객수</th>\n",
       "      <th>지하철역</th>\n",
       "      <th>hour</th>\n",
       "      <th>혼잡역</th>\n",
       "    </tr>\n",
       "  </thead>\n",
       "  <tbody>\n",
       "    <tr>\n",
       "      <th>37</th>\n",
       "      <td>하차_22</td>\n",
       "      <td>39</td>\n",
       "      <td>113573</td>\n",
       "      <td>신림</td>\n",
       "      <td>22</td>\n",
       "      <td>신림_22</td>\n",
       "    </tr>\n",
       "    <tr>\n",
       "      <th>38</th>\n",
       "      <td>승차_23</td>\n",
       "      <td>31</td>\n",
       "      <td>81016</td>\n",
       "      <td>강남</td>\n",
       "      <td>23</td>\n",
       "      <td>강남_23</td>\n",
       "    </tr>\n",
       "    <tr>\n",
       "      <th>39</th>\n",
       "      <td>하차_23</td>\n",
       "      <td>39</td>\n",
       "      <td>75909</td>\n",
       "      <td>신림</td>\n",
       "      <td>23</td>\n",
       "      <td>신림_23</td>\n",
       "    </tr>\n",
       "    <tr>\n",
       "      <th>40</th>\n",
       "      <td>승차_24</td>\n",
       "      <td>31</td>\n",
       "      <td>12407</td>\n",
       "      <td>강남</td>\n",
       "      <td>24</td>\n",
       "      <td>강남_24</td>\n",
       "    </tr>\n",
       "    <tr>\n",
       "      <th>41</th>\n",
       "      <td>하차_24</td>\n",
       "      <td>43</td>\n",
       "      <td>20253</td>\n",
       "      <td>신도림</td>\n",
       "      <td>24</td>\n",
       "      <td>신도림_24</td>\n",
       "    </tr>\n",
       "  </tbody>\n",
       "</table>\n",
       "</div>"
      ],
      "text/plain": [
       "      승하차  idx_max     승객수 지하철역  hour     혼잡역\n",
       "37  하차_22       39  113573   신림    22   신림_22\n",
       "38  승차_23       31   81016   강남    23   강남_23\n",
       "39  하차_23       39   75909   신림    23   신림_23\n",
       "40  승차_24       31   12407   강남    24   강남_24\n",
       "41  하차_24       43   20253  신도림    24  신도림_24"
      ]
     },
     "execution_count": 257,
     "metadata": {},
     "output_type": "execute_result"
    }
   ],
   "source": [
    "time_df.tail()"
   ]
  },
  {
   "cell_type": "code",
   "execution_count": null,
   "id": "cd10f70b",
   "metadata": {},
   "outputs": [],
   "source": []
  },
  {
   "cell_type": "markdown",
   "id": "21d5363d",
   "metadata": {},
   "source": [
    "#### 시각화"
   ]
  },
  {
   "cell_type": "code",
   "execution_count": 279,
   "id": "c9aef4d4",
   "metadata": {},
   "outputs": [
    {
     "data": {
      "text/plain": [
       "Text(0.5, 0, '지하철역')"
      ]
     },
     "execution_count": 279,
     "metadata": {},
     "output_type": "execute_result"
    },
    {
     "data": {
      "image/png": "[encoded data removed]",
      "text/plain": [
       "<Figure size 1296x432 with 1 Axes>"
      ]
     },
     "metadata": {},
     "output_type": "display_data"
    }
   ],
   "source": [
    "plt.figure(figsize=(18,6))\n",
    "for i in range(0,42,2):\n",
    "    plt.bar(time_df['혼잡역'][i],time_df['승객수'][i],color='b')\n",
    "plt.title('승차 시 혼잡역')\n",
    "plt.xlabel('지하철역',fontsize=16)"
   ]
  },
  {
   "cell_type": "markdown",
   "id": "b5fda472",
   "metadata": {},
   "source": [
    "### 강사님 풀이"
   ]
  },
  {
   "cell_type": "code",
   "execution_count": 281,
   "id": "d5c8e47e",
   "metadata": {
    "scrolled": false
   },
   "outputs": [
    {
     "data": {
      "text/plain": [
       "<AxesSubplot:>"
      ]
     },
     "execution_count": 281,
     "metadata": {},
     "output_type": "execute_result"
    },
    {
     "data": {
      "image/png": "[encoded data removed]",
      "text/plain": [
       "<Figure size 576x396 with 1 Axes>"
      ]
     },
     "metadata": {},
     "output_type": "display_data"
    }
   ],
   "source": [
    "time_df[time_df['승하차'].str.contains('승차')].plot.bar()"
   ]
  },
  {
   "cell_type": "code",
   "execution_count": 302,
   "id": "86a97287",
   "metadata": {},
   "outputs": [],
   "source": [
    "time_df_in = time_df[time_df['승하차'].str.contains('승차')]\n",
    "time_df_out = time_df[time_df['승하차'].str.contains('하차')]"
   ]
  },
  {
   "cell_type": "code",
   "execution_count": 301,
   "id": "08b5503f",
   "metadata": {},
   "outputs": [
    {
     "data": {
      "text/plain": [
       "Text(0.5, 1.0, '승차 시 혼잡역')"
      ]
     },
     "execution_count": 301,
     "metadata": {},
     "output_type": "execute_result"
    },
    {
     "data": {
      "image/png": "[encoded data removed]",
      "text/plain": [
       "<Figure size 1080x432 with 1 Axes>"
      ]
     },
     "metadata": {},
     "output_type": "display_data"
    }
   ],
   "source": [
    "ax = time_df_in.plot.bar(x='혼잡역',y='승객수',figsize=(15,6), rot=45)\n",
    "ax.set_title('승차 시 혼잡역')"
   ]
  },
  {
   "cell_type": "code",
   "execution_count": 303,
   "id": "b25b763b",
   "metadata": {},
   "outputs": [
    {
     "data": {
      "text/plain": [
       "Text(0.5, 1.0, '하차 시 혼잡역')"
      ]
     },
     "execution_count": 303,
     "metadata": {},
     "output_type": "execute_result"
    },
    {
     "data": {
      "image/png": "[encoded data removed]",
      "text/plain": [
       "<Figure size 1080x432 with 1 Axes>"
      ]
     },
     "metadata": {},
     "output_type": "display_data"
    }
   ],
   "source": [
    "ax = time_df_out.plot.bar(x='혼잡역',y='승객수',figsize=(15,6), rot=45)\n",
    "ax.set_title('하차 시 혼잡역')"
   ]
  },
  {
   "cell_type": "code",
   "execution_count": null,
   "id": "1ac1c629",
   "metadata": {},
   "outputs": [],
   "source": []
  },
  {
   "cell_type": "code",
   "execution_count": 299,
   "id": "0d7de605",
   "metadata": {},
   "outputs": [
    {
     "data": {
      "image/png": "[encoded data removed]",
      "text/plain": [
       "<Figure size 1080x432 with 1 Axes>"
      ]
     },
     "metadata": {},
     "output_type": "display_data"
    }
   ],
   "source": [
    "plt.figure(figsize=(15,6))\n",
    "ax = sns.barplot(x='혼잡역',y='승객수',data = time_df)\n",
    "ax.set_xticklabels(time_df['혼잡역'], rotation=45);"
   ]
  },
  {
   "cell_type": "code",
   "execution_count": null,
   "id": "18edbfe9",
   "metadata": {},
   "outputs": [],
   "source": []
  },
  {
   "cell_type": "markdown",
   "id": "67be42ba",
   "metadata": {},
   "source": [
    "### 원차트 작성"
   ]
  },
  {
   "cell_type": "code",
   "execution_count": 309,
   "id": "595132bc",
   "metadata": {
    "scrolled": true
   },
   "outputs": [
    {
     "data": {
      "text/plain": [
       "<AxesSubplot:ylabel='승차시 혼잡도 비율'>"
      ]
     },
     "execution_count": 309,
     "metadata": {},
     "output_type": "execute_result"
    },
    {
     "data": {
      "image/png": "[encoded data removed]",
      "text/plain": [
       "<Figure size 720x432 with 1 Axes>"
      ]
     },
     "metadata": {},
     "output_type": "display_data"
    }
   ],
   "source": [
    "time_df_in.value_counts('지하철역').plot.pie(autopct='%.1f%%',figsize=(10,6), ylabel='승차시 혼잡도 비율')"
   ]
  },
  {
   "cell_type": "code",
   "execution_count": 310,
   "id": "a8011d36",
   "metadata": {},
   "outputs": [
    {
     "data": {
      "text/plain": [
       "<AxesSubplot:ylabel='하차시 혼잡도 비율'>"
      ]
     },
     "execution_count": 310,
     "metadata": {},
     "output_type": "execute_result"
    },
    {
     "data": {
      "image/png": "[encoded data removed]",
      "text/plain": [
       "<Figure size 720x432 with 1 Axes>"
      ]
     },
     "metadata": {},
     "output_type": "display_data"
    }
   ],
   "source": [
    "time_df_out.value_counts('지하철역').plot.pie(autopct='%.1f%%',figsize=(10,6), ylabel='하차시 혼잡도 비율')"
   ]
  },
  {
   "cell_type": "code",
   "execution_count": null,
   "id": "0a8ea4ec",
   "metadata": {},
   "outputs": [],
   "source": []
  },
  {
   "cell_type": "markdown",
   "id": "da1f9f91",
   "metadata": {},
   "source": [
    "#### seaborn countplot()"
   ]
  },
  {
   "cell_type": "code",
   "execution_count": 311,
   "id": "fb46da32",
   "metadata": {},
   "outputs": [
    {
     "data": {
      "text/plain": [
       "<AxesSubplot:xlabel='지하철역', ylabel='count'>"
      ]
     },
     "execution_count": 311,
     "metadata": {},
     "output_type": "execute_result"
    },
    {
     "data": {
      "image/png": "[encoded data removed]",
      "text/plain": [
       "<Figure size 576x396 with 1 Axes>"
      ]
     },
     "metadata": {},
     "output_type": "display_data"
    }
   ],
   "source": [
    "sns.countplot(data=time_df_out, x='지하철역')"
   ]
  },
  {
   "cell_type": "code",
   "execution_count": null,
   "id": "b286c134",
   "metadata": {},
   "outputs": [],
   "source": []
  },
  {
   "cell_type": "code",
   "execution_count": null,
   "id": "3c7998fd",
   "metadata": {},
   "outputs": [],
   "source": []
  },
  {
   "cell_type": "code",
   "execution_count": null,
   "id": "1572119b",
   "metadata": {},
   "outputs": [],
   "source": []
  },
  {
   "cell_type": "code",
   "execution_count": null,
   "id": "732cd5f0",
   "metadata": {},
   "outputs": [],
   "source": []
  },
  {
   "cell_type": "code",
   "execution_count": null,
   "id": "9ed309da",
   "metadata": {},
   "outputs": [],
   "source": []
  }
 ],
 "metadata": {
  "kernelspec": {
   "display_name": "Python 3 (ipykernel)",
   "language": "python",
   "name": "python3"
  },
  "language_info": {
   "codemirror_mode": {
    "name": "ipython",
    "version": 3
   },
   "file_extension": ".py",
   "mimetype": "text/x-python",
   "name": "python",
   "nbconvert_exporter": "python",
   "pygments_lexer": "ipython3",
   "version": "3.9.12"
  }
 },
 "nbformat": 4,
 "nbformat_minor": 5
}
