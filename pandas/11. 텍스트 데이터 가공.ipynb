{
 "cells": [
  {
   "cell_type": "markdown",
   "id": "3ca20a3b",
   "metadata": {},
   "source": [
    "### [참고] <a href=\"https://pandas.pydata.org/Pandas_Cheat_Sheet.pdf\">Pandas Cheat Sheet</a>\n",
    "\n",
    "#### https://pandas.pydata.org/docs/user_guide/text.html"
   ]
  },
  {
   "cell_type": "markdown",
   "id": "860888c6",
   "metadata": {},
   "source": [
    "**str 메소드**\n",
    "- pandas.core.strings.StringMethods 의 별칭\n",
    "- 호출할 수 없기 때문에 괄호를 사용하지 않음"
   ]
  },
  {
   "cell_type": "code",
   "execution_count": 1,
   "id": "161fc435",
   "metadata": {},
   "outputs": [],
   "source": [
    "import pandas as pd\n",
    "import numpy as np"
   ]
  },
  {
   "cell_type": "code",
   "execution_count": 2,
   "id": "99fd1b63",
   "metadata": {},
   "outputs": [
    {
     "data": {
      "text/plain": [
       "0      Suho\n",
       "1        AA\n",
       "2       NaN\n",
       "3    Rabbit\n",
       "dtype: object"
      ]
     },
     "execution_count": 2,
     "metadata": {},
     "output_type": "execute_result"
    }
   ],
   "source": [
    "ser = pd.Series(['Suho','AA',np.nan,'Rabbit'])\n",
    "ser"
   ]
  },
  {
   "cell_type": "markdown",
   "id": "cefdaed3",
   "metadata": {},
   "source": [
    "#### 1) lower() / upper() / len()"
   ]
  },
  {
   "cell_type": "code",
   "execution_count": 3,
   "id": "f57b4828",
   "metadata": {},
   "outputs": [
    {
     "data": {
      "text/plain": [
       "0      suho\n",
       "1        aa\n",
       "2       NaN\n",
       "3    rabbit\n",
       "dtype: object"
      ]
     },
     "execution_count": 3,
     "metadata": {},
     "output_type": "execute_result"
    }
   ],
   "source": [
    "ser.str.lower()"
   ]
  },
  {
   "cell_type": "code",
   "execution_count": 4,
   "id": "99227444",
   "metadata": {},
   "outputs": [
    {
     "data": {
      "text/plain": [
       "0      SUHO\n",
       "1        AA\n",
       "2       NaN\n",
       "3    RABBIT\n",
       "dtype: object"
      ]
     },
     "execution_count": 4,
     "metadata": {},
     "output_type": "execute_result"
    }
   ],
   "source": [
    "ser.str.upper()"
   ]
  },
  {
   "cell_type": "code",
   "execution_count": 5,
   "id": "067d1e56",
   "metadata": {},
   "outputs": [
    {
     "data": {
      "text/plain": [
       "0    4.0\n",
       "1    2.0\n",
       "2    NaN\n",
       "3    6.0\n",
       "dtype: float64"
      ]
     },
     "execution_count": 5,
     "metadata": {},
     "output_type": "execute_result"
    }
   ],
   "source": [
    "ser.str.len()"
   ]
  },
  {
   "cell_type": "markdown",
   "id": "62d969d8",
   "metadata": {},
   "source": [
    "#### 2) strip()"
   ]
  },
  {
   "cell_type": "code",
   "execution_count": 6,
   "id": "947d5009",
   "metadata": {},
   "outputs": [
    {
     "data": {
      "text/plain": [
       "0       Suho       \n",
       "1                AA\n",
       "2               NaN\n",
       "3            Rabbit\n",
       "dtype: object"
      ]
     },
     "execution_count": 6,
     "metadata": {},
     "output_type": "execute_result"
    }
   ],
   "source": [
    "ser = pd.Series(['Suho       ','AA',np.nan,'        Rabbit'])\n",
    "ser"
   ]
  },
  {
   "cell_type": "code",
   "execution_count": 7,
   "id": "d3477ef3",
   "metadata": {},
   "outputs": [
    {
     "data": {
      "text/plain": [
       "0      Suho\n",
       "1        AA\n",
       "2       NaN\n",
       "3    Rabbit\n",
       "dtype: object"
      ]
     },
     "execution_count": 7,
     "metadata": {},
     "output_type": "execute_result"
    }
   ],
   "source": [
    "ser.str.strip()"
   ]
  },
  {
   "cell_type": "code",
   "execution_count": 8,
   "id": "60b6b2ae",
   "metadata": {},
   "outputs": [
    {
     "data": {
      "text/html": [
       "<div>\n",
       "<style scoped>\n",
       "    .dataframe tbody tr th:only-of-type {\n",
       "        vertical-align: middle;\n",
       "    }\n",
       "\n",
       "    .dataframe tbody tr th {\n",
       "        vertical-align: top;\n",
       "    }\n",
       "\n",
       "    .dataframe thead th {\n",
       "        text-align: right;\n",
       "    }\n",
       "</style>\n",
       "<table border=\"1\" class=\"dataframe\">\n",
       "  <thead>\n",
       "    <tr style=\"text-align: right;\">\n",
       "      <th></th>\n",
       "      <th>Column A</th>\n",
       "      <th>Column B</th>\n",
       "    </tr>\n",
       "  </thead>\n",
       "  <tbody>\n",
       "    <tr>\n",
       "      <th>0</th>\n",
       "      <td>0.835923</td>\n",
       "      <td>0.335094</td>\n",
       "    </tr>\n",
       "    <tr>\n",
       "      <th>1</th>\n",
       "      <td>-1.219189</td>\n",
       "      <td>0.980892</td>\n",
       "    </tr>\n",
       "  </tbody>\n",
       "</table>\n",
       "</div>"
      ],
      "text/plain": [
       "     Column A    Column B \n",
       "0     0.835923    0.335094\n",
       "1    -1.219189    0.980892"
      ]
     },
     "execution_count": 8,
     "metadata": {},
     "output_type": "execute_result"
    }
   ],
   "source": [
    "df = pd.DataFrame(np.random.randn(2,2), columns=['  Column A ',' Column B '])\n",
    "df"
   ]
  },
  {
   "cell_type": "code",
   "execution_count": 9,
   "id": "13c22054",
   "metadata": {},
   "outputs": [
    {
     "data": {
      "text/plain": [
       "Index(['  Column A ', ' Column B '], dtype='object')"
      ]
     },
     "execution_count": 9,
     "metadata": {},
     "output_type": "execute_result"
    }
   ],
   "source": [
    "df.columns"
   ]
  },
  {
   "cell_type": "code",
   "execution_count": 10,
   "id": "afd565fa",
   "metadata": {},
   "outputs": [
    {
     "data": {
      "text/plain": [
       "0    0.835923\n",
       "1   -1.219189\n",
       "Name:   Column A , dtype: float64"
      ]
     },
     "execution_count": 10,
     "metadata": {},
     "output_type": "execute_result"
    }
   ],
   "source": [
    "df['  Column A ']"
   ]
  },
  {
   "cell_type": "code",
   "execution_count": 11,
   "id": "06ddf7b0",
   "metadata": {},
   "outputs": [
    {
     "data": {
      "text/plain": [
       "Index(['Column A', 'Column B'], dtype='object')"
      ]
     },
     "execution_count": 11,
     "metadata": {},
     "output_type": "execute_result"
    }
   ],
   "source": [
    "df.columns.str.strip()"
   ]
  },
  {
   "cell_type": "code",
   "execution_count": 12,
   "id": "f3eb6e25",
   "metadata": {},
   "outputs": [
    {
     "data": {
      "text/plain": [
       "Index(['  column a ', ' column b '], dtype='object')"
      ]
     },
     "execution_count": 12,
     "metadata": {},
     "output_type": "execute_result"
    }
   ],
   "source": [
    "df.columns.str.lower()"
   ]
  },
  {
   "cell_type": "code",
   "execution_count": 13,
   "id": "fe8b54cb",
   "metadata": {},
   "outputs": [
    {
     "data": {
      "text/plain": [
       "Index(['column_a', 'column_b'], dtype='object')"
      ]
     },
     "execution_count": 13,
     "metadata": {},
     "output_type": "execute_result"
    }
   ],
   "source": [
    "# 컬렴명 양쪽 공백 제거, 전체 소문자, 컬럼명 사이의 공백은 _대체\n",
    "df.columns = df.columns.str.strip().str.lower().str.replace(' ','_')\n",
    "df.columns"
   ]
  },
  {
   "cell_type": "markdown",
   "id": "2cb7eb51",
   "metadata": {},
   "source": [
    "#### 3) split()"
   ]
  },
  {
   "cell_type": "code",
   "execution_count": 14,
   "id": "7345597a",
   "metadata": {},
   "outputs": [
    {
     "data": {
      "text/plain": [
       "0     ha_a_b\n",
       "1     hi_c_d\n",
       "2        NaN\n",
       "3     ho_e_f\n",
       "dtype: object"
      ]
     },
     "execution_count": 14,
     "metadata": {},
     "output_type": "execute_result"
    }
   ],
   "source": [
    "ser = pd.Series(['ha_a_b','hi_c_d',np.nan, ' ho_e_f'])\n",
    "ser"
   ]
  },
  {
   "cell_type": "code",
   "execution_count": 15,
   "id": "a8e2bd68",
   "metadata": {},
   "outputs": [
    {
     "data": {
      "text/plain": [
       "0     [ha, a, b]\n",
       "1     [hi, c, d]\n",
       "2            NaN\n",
       "3    [ ho, e, f]\n",
       "dtype: object"
      ]
     },
     "execution_count": 15,
     "metadata": {},
     "output_type": "execute_result"
    }
   ],
   "source": [
    "ser.str.split('_')"
   ]
  },
  {
   "cell_type": "code",
   "execution_count": null,
   "id": "7222e7b0",
   "metadata": {},
   "outputs": [],
   "source": []
  },
  {
   "cell_type": "markdown",
   "id": "bdc563d1",
   "metadata": {},
   "source": [
    "* **expand=True** 결과를 데이터 프레임으로 돌려줌"
   ]
  },
  {
   "cell_type": "code",
   "execution_count": 16,
   "id": "604a6dbf",
   "metadata": {
    "scrolled": true
   },
   "outputs": [
    {
     "data": {
      "text/html": [
       "<div>\n",
       "<style scoped>\n",
       "    .dataframe tbody tr th:only-of-type {\n",
       "        vertical-align: middle;\n",
       "    }\n",
       "\n",
       "    .dataframe tbody tr th {\n",
       "        vertical-align: top;\n",
       "    }\n",
       "\n",
       "    .dataframe thead th {\n",
       "        text-align: right;\n",
       "    }\n",
       "</style>\n",
       "<table border=\"1\" class=\"dataframe\">\n",
       "  <thead>\n",
       "    <tr style=\"text-align: right;\">\n",
       "      <th></th>\n",
       "      <th>0</th>\n",
       "      <th>1</th>\n",
       "      <th>2</th>\n",
       "    </tr>\n",
       "  </thead>\n",
       "  <tbody>\n",
       "    <tr>\n",
       "      <th>0</th>\n",
       "      <td>ha</td>\n",
       "      <td>a</td>\n",
       "      <td>b</td>\n",
       "    </tr>\n",
       "    <tr>\n",
       "      <th>1</th>\n",
       "      <td>hi</td>\n",
       "      <td>c</td>\n",
       "      <td>d</td>\n",
       "    </tr>\n",
       "    <tr>\n",
       "      <th>2</th>\n",
       "      <td>NaN</td>\n",
       "      <td>NaN</td>\n",
       "      <td>NaN</td>\n",
       "    </tr>\n",
       "    <tr>\n",
       "      <th>3</th>\n",
       "      <td>ho</td>\n",
       "      <td>e</td>\n",
       "      <td>f</td>\n",
       "    </tr>\n",
       "  </tbody>\n",
       "</table>\n",
       "</div>"
      ],
      "text/plain": [
       "     0    1    2\n",
       "0   ha    a    b\n",
       "1   hi    c    d\n",
       "2  NaN  NaN  NaN\n",
       "3   ho    e    f"
      ]
     },
     "execution_count": 16,
     "metadata": {},
     "output_type": "execute_result"
    }
   ],
   "source": [
    "ser.str.split(\"_\",expand=True)"
   ]
  },
  {
   "cell_type": "markdown",
   "id": "cdc0af3b",
   "metadata": {},
   "source": [
    "#### 4) replace()"
   ]
  },
  {
   "cell_type": "code",
   "execution_count": 17,
   "id": "367e4379",
   "metadata": {},
   "outputs": [
    {
     "data": {
      "text/plain": [
       "0        Suho\n",
       "1        bAAa\n",
       "2         NaN\n",
       "3    cute_dog\n",
       "dtype: object"
      ]
     },
     "execution_count": 17,
     "metadata": {},
     "output_type": "execute_result"
    }
   ],
   "source": [
    "ser = pd.Series(['Suho','bAAa',np.nan,'cute_dog'])\n",
    "ser"
   ]
  },
  {
   "cell_type": "code",
   "execution_count": 18,
   "id": "f387433f",
   "metadata": {},
   "outputs": [
    {
     "data": {
      "text/plain": [
       "0        Suho\n",
       "1       ***Aa\n",
       "2         NaN\n",
       "3    cute_***\n",
       "dtype: object"
      ]
     },
     "execution_count": 18,
     "metadata": {},
     "output_type": "execute_result"
    }
   ],
   "source": [
    "ser.str.replace('^.a|dog','***',case=False,regex=True)"
   ]
  },
  {
   "cell_type": "markdown",
   "id": "25b10e19",
   "metadata": {},
   "source": [
    "- ^는 입력라인의 시작\n",
    "- .a 는 맨 첫 문자를 포함하고 a로 끝나는 부분을 매칭\n",
    "- | or 의 의미\n",
    "- dog에 해당하는 부분 매칭\n",
    "- case=False 대소문자 구분 안함\n",
    "- regex=True 전달된 패턴이 정규식"
   ]
  },
  {
   "cell_type": "markdown",
   "id": "2261148b",
   "metadata": {},
   "source": [
    "#### 5) cat : 텍스트 이어 붙이기 "
   ]
  },
  {
   "cell_type": "code",
   "execution_count": 20,
   "id": "0809d870",
   "metadata": {},
   "outputs": [
    {
     "data": {
      "text/plain": [
       "0    ha\n",
       "1    hi\n",
       "2    ho\n",
       "dtype: object"
      ]
     },
     "execution_count": 20,
     "metadata": {},
     "output_type": "execute_result"
    }
   ],
   "source": [
    "ser = pd.Series(['ha','hi','ho'])\n",
    "ser"
   ]
  },
  {
   "cell_type": "code",
   "execution_count": 22,
   "id": "cc196bc4",
   "metadata": {},
   "outputs": [
    {
     "data": {
      "text/plain": [
       "'ha,hi,ho'"
      ]
     },
     "execution_count": 22,
     "metadata": {},
     "output_type": "execute_result"
    }
   ],
   "source": [
    "ser.str.cat(sep=',')"
   ]
  },
  {
   "cell_type": "code",
   "execution_count": 23,
   "id": "6c73d913",
   "metadata": {},
   "outputs": [
    {
     "data": {
      "text/plain": [
       "'hahiho'"
      ]
     },
     "execution_count": 23,
     "metadata": {},
     "output_type": "execute_result"
    }
   ],
   "source": [
    "ser.str.cat()"
   ]
  },
  {
   "cell_type": "markdown",
   "id": "ce489df6",
   "metadata": {},
   "source": [
    "* **손실값이 있다면 연결 안함**"
   ]
  },
  {
   "cell_type": "code",
   "execution_count": 24,
   "id": "76f2f8a1",
   "metadata": {},
   "outputs": [
    {
     "data": {
      "text/plain": [
       "0     ha\n",
       "1    NaN\n",
       "2     ho\n",
       "dtype: object"
      ]
     },
     "execution_count": 24,
     "metadata": {},
     "output_type": "execute_result"
    }
   ],
   "source": [
    "ser = pd.Series(['ha',np.nan,'ho'])\n",
    "ser"
   ]
  },
  {
   "cell_type": "code",
   "execution_count": 25,
   "id": "f38bfba3",
   "metadata": {},
   "outputs": [
    {
     "data": {
      "text/plain": [
       "'ha,ho'"
      ]
     },
     "execution_count": 25,
     "metadata": {},
     "output_type": "execute_result"
    }
   ],
   "source": [
    "ser.str.cat(sep=',')"
   ]
  },
  {
   "cell_type": "code",
   "execution_count": 26,
   "id": "80c0a52c",
   "metadata": {},
   "outputs": [
    {
     "data": {
      "text/plain": [
       "'ha,*,ho'"
      ]
     },
     "execution_count": 26,
     "metadata": {},
     "output_type": "execute_result"
    }
   ],
   "source": [
    "ser.str.cat(sep=',',na_rep='*')"
   ]
  },
  {
   "cell_type": "code",
   "execution_count": null,
   "id": "843fd25e",
   "metadata": {},
   "outputs": [],
   "source": []
  },
  {
   "cell_type": "markdown",
   "id": "ac2f319a",
   "metadata": {},
   "source": [
    "### [실습2] 일기 형식의 데이터 가공"
   ]
  },
  {
   "cell_type": "code",
   "execution_count": 34,
   "id": "e714ec90",
   "metadata": {},
   "outputs": [
    {
     "data": {
      "text/html": [
       "<div>\n",
       "<style scoped>\n",
       "    .dataframe tbody tr th:only-of-type {\n",
       "        vertical-align: middle;\n",
       "    }\n",
       "\n",
       "    .dataframe tbody tr th {\n",
       "        vertical-align: top;\n",
       "    }\n",
       "\n",
       "    .dataframe thead th {\n",
       "        text-align: right;\n",
       "    }\n",
       "</style>\n",
       "<table border=\"1\" class=\"dataframe\">\n",
       "  <thead>\n",
       "    <tr style=\"text-align: right;\">\n",
       "      <th></th>\n",
       "      <th>schedule</th>\n",
       "    </tr>\n",
       "  </thead>\n",
       "  <tbody>\n",
       "    <tr>\n",
       "      <th>0</th>\n",
       "      <td>6th_seq : Fun with friends enjoy beer till 09:...</td>\n",
       "    </tr>\n",
       "    <tr>\n",
       "      <th>1</th>\n",
       "      <td>7th_seq : My house at 10:30pm and sleeping by ...</td>\n",
       "    </tr>\n",
       "    <tr>\n",
       "      <th>2</th>\n",
       "      <td>1st_seq : getting up at 05:45am</td>\n",
       "    </tr>\n",
       "    <tr>\n",
       "      <th>3</th>\n",
       "      <td>2st_seq : swimming from 06:00 to 07:00</td>\n",
       "    </tr>\n",
       "    <tr>\n",
       "      <th>4</th>\n",
       "      <td>5th_seq : Arriving at JongGak at 07:00pm</td>\n",
       "    </tr>\n",
       "    <tr>\n",
       "      <th>5</th>\n",
       "      <td>4th_seq : Writing some proposal from 02:00pm t...</td>\n",
       "    </tr>\n",
       "    <tr>\n",
       "      <th>6</th>\n",
       "      <td>3rd_seq : My morning food is American style</td>\n",
       "    </tr>\n",
       "  </tbody>\n",
       "</table>\n",
       "</div>"
      ],
      "text/plain": [
       "                                            schedule\n",
       "0  6th_seq : Fun with friends enjoy beer till 09:...\n",
       "1  7th_seq : My house at 10:30pm and sleeping by ...\n",
       "2                    1st_seq : getting up at 05:45am\n",
       "3             2st_seq : swimming from 06:00 to 07:00\n",
       "4           5th_seq : Arriving at JongGak at 07:00pm\n",
       "5  4th_seq : Writing some proposal from 02:00pm t...\n",
       "6        3rd_seq : My morning food is American style"
      ]
     },
     "execution_count": 34,
     "metadata": {},
     "output_type": "execute_result"
    }
   ],
   "source": [
    "day_plan = {\n",
    "    '1st_seq : getting up at 05:45am',\n",
    "    '2st_seq : swimming from 06:00 to 07:00',\n",
    "    '3rd_seq : My morning food is American style',\n",
    "    '4th_seq : Writing some proposal from 02:00pm to 06:00pm',\n",
    "    '5th_seq : Arriving at JongGak at 07:00pm',\n",
    "    '6th_seq : Fun with friends enjoy beer till 09:30pm',\n",
    "    '7th_seq : My house at 10:30pm and sleeping by 12:00pm'\n",
    "}\n",
    "df = pd.DataFrame(day_plan, columns=['schedule'])\n",
    "df"
   ]
  },
  {
   "cell_type": "code",
   "execution_count": 35,
   "id": "f26b381e",
   "metadata": {},
   "outputs": [
    {
     "data": {
      "text/plain": [
       "0    [6th_seq, :, Fun, with, friends, enjoy, beer, ...\n",
       "1    [7th_seq, :, My, house, at, 10:30pm, and, slee...\n",
       "2               [1st_seq, :, getting, up, at, 05:45am]\n",
       "3       [2st_seq, :, swimming, from, 06:00, to, 07:00]\n",
       "4     [5th_seq, :, Arriving, at, JongGak, at, 07:00pm]\n",
       "5    [4th_seq, :, Writing, some, proposal, from, 02...\n",
       "6    [3rd_seq, :, My, morning, food, is, American, ...\n",
       "Name: schedule, dtype: object"
      ]
     },
     "execution_count": 35,
     "metadata": {},
     "output_type": "execute_result"
    }
   ],
   "source": [
    "# split() : 공백 기준 \n",
    "\n",
    "df['schedule'].str.split()"
   ]
  },
  {
   "cell_type": "code",
   "execution_count": 36,
   "id": "8c01ac4c",
   "metadata": {},
   "outputs": [
    {
     "data": {
      "text/plain": [
       "0     9\n",
       "1    10\n",
       "2     6\n",
       "3     7\n",
       "4     7\n",
       "5     9\n",
       "6     8\n",
       "Name: schedule, dtype: int64"
      ]
     },
     "execution_count": 36,
     "metadata": {},
     "output_type": "execute_result"
    }
   ],
   "source": [
    "# 공백기준으로 분할된 문자열의 수 파악\n",
    "\n",
    "df['schedule'].str.split().str.len()"
   ]
  },
  {
   "cell_type": "markdown",
   "id": "212d829a",
   "metadata": {},
   "source": [
    "#### contains() : 특정 문자열을 가지고 있는지 확인"
   ]
  },
  {
   "cell_type": "code",
   "execution_count": 37,
   "id": "99214eba",
   "metadata": {},
   "outputs": [
    {
     "data": {
      "text/plain": [
       "0    False\n",
       "1     True\n",
       "2    False\n",
       "3    False\n",
       "4    False\n",
       "5    False\n",
       "6     True\n",
       "Name: schedule, dtype: bool"
      ]
     },
     "execution_count": 37,
     "metadata": {},
     "output_type": "execute_result"
    }
   ],
   "source": [
    "df['schedule'].str.contains('My')"
   ]
  },
  {
   "cell_type": "markdown",
   "id": "d8fba906",
   "metadata": {},
   "source": [
    "#### count()"
   ]
  },
  {
   "cell_type": "code",
   "execution_count": 39,
   "id": "35db6d7b",
   "metadata": {},
   "outputs": [
    {
     "data": {
      "text/plain": [
       "0    5\n",
       "1    9\n",
       "2    5\n",
       "3    9\n",
       "4    5\n",
       "5    9\n",
       "6    1\n",
       "Name: schedule, dtype: int64"
      ]
     },
     "execution_count": 39,
     "metadata": {},
     "output_type": "execute_result"
    }
   ],
   "source": [
    "# 숫자가 몇 개 있는지 확인\n",
    "\n",
    "df['schedule'].str.count('\\d') # [0-9]"
   ]
  },
  {
   "cell_type": "markdown",
   "id": "6e1c6794",
   "metadata": {},
   "source": [
    "#### findall()"
   ]
  },
  {
   "cell_type": "code",
   "execution_count": 41,
   "id": "de1f637a",
   "metadata": {},
   "outputs": [
    {
     "data": {
      "text/plain": [
       "0              [(09, 30)]\n",
       "1    [(10, 30), (12, 00)]\n",
       "2              [(05, 45)]\n",
       "3    [(06, 00), (07, 00)]\n",
       "4              [(07, 00)]\n",
       "5    [(02, 00), (06, 00)]\n",
       "6                      []\n",
       "Name: schedule, dtype: object"
      ]
     },
     "execution_count": 41,
     "metadata": {},
     "output_type": "execute_result"
    }
   ],
   "source": [
    "df['schedule'].str.findall('(\\d\\d):(\\d\\d)')"
   ]
  },
  {
   "cell_type": "code",
   "execution_count": null,
   "id": "78468ae2",
   "metadata": {},
   "outputs": [],
   "source": [
    "df['schedule'].str.findall('\\d')"
   ]
  },
  {
   "cell_type": "code",
   "execution_count": null,
   "id": "a17ee5ac",
   "metadata": {},
   "outputs": [],
   "source": []
  },
  {
   "cell_type": "code",
   "execution_count": null,
   "id": "b64fbede",
   "metadata": {},
   "outputs": [],
   "source": []
  },
  {
   "cell_type": "code",
   "execution_count": null,
   "id": "cea29dc4",
   "metadata": {},
   "outputs": [],
   "source": []
  }
 ],
 "metadata": {
  "kernelspec": {
   "display_name": "Python 3 (ipykernel)",
   "language": "python",
   "name": "python3"
  },
  "language_info": {
   "codemirror_mode": {
    "name": "ipython",
    "version": 3
   },
   "file_extension": ".py",
   "mimetype": "text/x-python",
   "name": "python",
   "nbconvert_exporter": "python",
   "pygments_lexer": "ipython3",
   "version": "3.9.12"
  }
 },
 "nbformat": 4,
 "nbformat_minor": 5
}
