{
 "cells": [
  {
   "cell_type": "markdown",
   "id": "1a594385",
   "metadata": {},
   "source": [
    "### 시계열\n",
    "- 시간상 여러 지점을 관측하거나 측정할 수 있도록 목록 또는 그래프로 표시한 일련의 데이터 저\n",
    "- 일정한 간격의 연속적이고 동등한 점들로 이루어진 시퀀스\n",
    "- 빅데이터에서 일반적으로 동등한 시간 간격으로 배치된 연속적 사건으로 나타남\n",
    "- ex) 금융 시장의 주가 예측, 일기 예보, 전력 에너지 소비 추세, 웹 사이트 방문자 수 트렌드 등"
   ]
  },
  {
   "cell_type": "markdown",
   "id": "7c4f2469",
   "metadata": {},
   "source": [
    "### pandas 로 날짜 데이터 다루기\n",
    "\n",
    "### 1. 시계열 자료와 pandas\n",
    "- 년도별, 월별, 일별, 시별, 분별, 초별 등 시간의 흐름에 따라 관측된 자료\n",
    "- pandas에서 시계열 자료를 손쉽게 다룰 수 있도록 <b>datatime(datetime64)</b> 자료형 제고\n",
    "    - pd.to_datetime() 함수를 사용해서, 날짜와 시간을 나타내는 문자열을 datetime(datetime64)자료형으로 변경"
   ]
  },
  {
   "cell_type": "code",
   "execution_count": 1,
   "id": "070accfe",
   "metadata": {},
   "outputs": [],
   "source": [
    "import pandas as pd"
   ]
  },
  {
   "cell_type": "markdown",
   "id": "3d8e0e50",
   "metadata": {},
   "source": [
    "#### 1) 날짜 인덱스 지정"
   ]
  },
  {
   "cell_type": "code",
   "execution_count": 2,
   "id": "e1eb767e",
   "metadata": {},
   "outputs": [
    {
     "data": {
      "text/plain": [
       "2022-01-01    0\n",
       "2022-01-02    1\n",
       "2022-01-03    2\n",
       "Freq: D, dtype: int64"
      ]
     },
     "execution_count": 2,
     "metadata": {},
     "output_type": "execute_result"
    }
   ],
   "source": [
    "pd.Series(range(3), index = pd.date_range('2022', freq='D', periods=3))"
   ]
  },
  {
   "cell_type": "markdown",
   "id": "edb06de7",
   "metadata": {},
   "source": [
    "#### 2) 날짜 value 지정"
   ]
  },
  {
   "cell_type": "code",
   "execution_count": 3,
   "id": "f13631c5",
   "metadata": {},
   "outputs": [
    {
     "data": {
      "text/plain": [
       "0   2022-01-01\n",
       "1   2022-01-02\n",
       "2   2022-01-03\n",
       "dtype: datetime64[ns]"
      ]
     },
     "execution_count": 3,
     "metadata": {},
     "output_type": "execute_result"
    }
   ],
   "source": [
    "pd.Series(pd.date_range('2022', freq='D', periods=3))"
   ]
  },
  {
   "cell_type": "code",
   "execution_count": 5,
   "id": "8e86637e",
   "metadata": {},
   "outputs": [
    {
     "data": {
      "text/plain": [
       "0   2022-07-01\n",
       "1   2022-07-02\n",
       "2   2022-07-03\n",
       "dtype: datetime64[ns]"
      ]
     },
     "execution_count": 5,
     "metadata": {},
     "output_type": "execute_result"
    }
   ],
   "source": [
    "pd.Series(pd.date_range('20220701', freq='D', periods=3))"
   ]
  },
  {
   "cell_type": "markdown",
   "id": "d6a61346",
   "metadata": {},
   "source": [
    "#### 3) 날짜 + 시간 values"
   ]
  },
  {
   "cell_type": "code",
   "execution_count": 19,
   "id": "d920cf64",
   "metadata": {},
   "outputs": [
    {
     "data": {
      "text/plain": [
       "0   2022-07-01 09:10:12\n",
       "1   2022-07-01 10:10:12\n",
       "2   2022-07-01 11:10:12\n",
       "dtype: datetime64[ns]"
      ]
     },
     "execution_count": 19,
     "metadata": {},
     "output_type": "execute_result"
    }
   ],
   "source": [
    "ser1 = pd.Series(pd.date_range('20220701 09:10:12', freq='h', periods=3))\n",
    "ser1"
   ]
  },
  {
   "cell_type": "markdown",
   "id": "3ed6c8e5",
   "metadata": {},
   "source": [
    "#### 4) dt"
   ]
  },
  {
   "cell_type": "code",
   "execution_count": 21,
   "id": "442cd557",
   "metadata": {},
   "outputs": [
    {
     "data": {
      "text/plain": [
       "0     9\n",
       "1    10\n",
       "2    11\n",
       "dtype: int64"
      ]
     },
     "execution_count": 21,
     "metadata": {},
     "output_type": "execute_result"
    }
   ],
   "source": [
    "ser1.dt.hour"
   ]
  },
  {
   "cell_type": "code",
   "execution_count": 22,
   "id": "2fad20ef",
   "metadata": {},
   "outputs": [
    {
     "data": {
      "text/plain": [
       "0    7\n",
       "1    7\n",
       "2    7\n",
       "dtype: int64"
      ]
     },
     "execution_count": 22,
     "metadata": {},
     "output_type": "execute_result"
    }
   ],
   "source": [
    "ser1.dt.month"
   ]
  },
  {
   "cell_type": "code",
   "execution_count": 23,
   "id": "a86c904e",
   "metadata": {},
   "outputs": [
    {
     "data": {
      "text/plain": [
       "0    2022\n",
       "1    2022\n",
       "2    2022\n",
       "dtype: int64"
      ]
     },
     "execution_count": 23,
     "metadata": {},
     "output_type": "execute_result"
    }
   ],
   "source": [
    "ser1.dt.year"
   ]
  },
  {
   "cell_type": "code",
   "execution_count": null,
   "id": "10b6c436",
   "metadata": {},
   "outputs": [],
   "source": []
  },
  {
   "cell_type": "code",
   "execution_count": 24,
   "id": "79785823",
   "metadata": {},
   "outputs": [
    {
     "data": {
      "text/plain": [
       "0   2022-07-01 09:10:12\n",
       "1   2022-07-02 09:10:12\n",
       "2   2022-07-03 09:10:12\n",
       "dtype: datetime64[ns]"
      ]
     },
     "execution_count": 24,
     "metadata": {},
     "output_type": "execute_result"
    }
   ],
   "source": [
    "ser1 = pd.Series(pd.date_range('20220701 09:10:12', periods=3))\n",
    "ser1"
   ]
  },
  {
   "cell_type": "code",
   "execution_count": 25,
   "id": "df976554",
   "metadata": {},
   "outputs": [
    {
     "data": {
      "text/plain": [
       "1   2022-07-02 09:10:12\n",
       "dtype: datetime64[ns]"
      ]
     },
     "execution_count": 25,
     "metadata": {},
     "output_type": "execute_result"
    }
   ],
   "source": [
    "# 2일 날짜 추출\n",
    "\n",
    "ser1[ser1.dt.day == 2]"
   ]
  },
  {
   "cell_type": "code",
   "execution_count": 26,
   "id": "83b96870",
   "metadata": {},
   "outputs": [
    {
     "data": {
      "text/html": [
       "<div>\n",
       "<style scoped>\n",
       "    .dataframe tbody tr th:only-of-type {\n",
       "        vertical-align: middle;\n",
       "    }\n",
       "\n",
       "    .dataframe tbody tr th {\n",
       "        vertical-align: top;\n",
       "    }\n",
       "\n",
       "    .dataframe thead th {\n",
       "        text-align: right;\n",
       "    }\n",
       "</style>\n",
       "<table border=\"1\" class=\"dataframe\">\n",
       "  <thead>\n",
       "    <tr style=\"text-align: right;\">\n",
       "      <th></th>\n",
       "      <th>order</th>\n",
       "    </tr>\n",
       "  </thead>\n",
       "  <tbody>\n",
       "    <tr>\n",
       "      <th>0</th>\n",
       "      <td>2020-01-01 07:10:00</td>\n",
       "    </tr>\n",
       "    <tr>\n",
       "      <th>1</th>\n",
       "      <td>2020-01-08 07:20:30</td>\n",
       "    </tr>\n",
       "    <tr>\n",
       "      <th>2</th>\n",
       "      <td>2020-02-20 11:20:00</td>\n",
       "    </tr>\n",
       "    <tr>\n",
       "      <th>3</th>\n",
       "      <td>2020-02-20 14:12:10</td>\n",
       "    </tr>\n",
       "    <tr>\n",
       "      <th>4</th>\n",
       "      <td>2020-03-01 06:19:30</td>\n",
       "    </tr>\n",
       "    <tr>\n",
       "      <th>5</th>\n",
       "      <td>2020-07-08 12:54:15</td>\n",
       "    </tr>\n",
       "  </tbody>\n",
       "</table>\n",
       "</div>"
      ],
      "text/plain": [
       "                 order\n",
       "0  2020-01-01 07:10:00\n",
       "1  2020-01-08 07:20:30\n",
       "2  2020-02-20 11:20:00\n",
       "3  2020-02-20 14:12:10\n",
       "4  2020-03-01 06:19:30\n",
       "5  2020-07-08 12:54:15"
      ]
     },
     "execution_count": 26,
     "metadata": {},
     "output_type": "execute_result"
    }
   ],
   "source": [
    "df = pd.DataFrame({\n",
    "    'order':['2020-01-01 07:10:00','2020-01-08 07:20:30','2020-02-20 11:20:00',\n",
    "             '2020-02-20 14:12:10','2020-03-01 06:19:30','2020-07-08 12:54:15']\n",
    "})\n",
    "df"
   ]
  },
  {
   "cell_type": "code",
   "execution_count": 27,
   "id": "829c127a",
   "metadata": {},
   "outputs": [
    {
     "name": "stdout",
     "output_type": "stream",
     "text": [
      "<class 'pandas.core.frame.DataFrame'>\n",
      "RangeIndex: 6 entries, 0 to 5\n",
      "Data columns (total 1 columns):\n",
      " #   Column  Non-Null Count  Dtype \n",
      "---  ------  --------------  ----- \n",
      " 0   order   6 non-null      object\n",
      "dtypes: object(1)\n",
      "memory usage: 176.0+ bytes\n"
     ]
    }
   ],
   "source": [
    "df.info()"
   ]
  },
  {
   "cell_type": "code",
   "execution_count": 28,
   "id": "bbdc2ff2",
   "metadata": {},
   "outputs": [
    {
     "data": {
      "text/plain": [
       "0   2020-01-01 07:10:00\n",
       "1   2020-01-08 07:20:30\n",
       "2   2020-02-20 11:20:00\n",
       "3   2020-02-20 14:12:10\n",
       "4   2020-03-01 06:19:30\n",
       "5   2020-07-08 12:54:15\n",
       "Name: order, dtype: datetime64[ns]"
      ]
     },
     "execution_count": 28,
     "metadata": {},
     "output_type": "execute_result"
    }
   ],
   "source": [
    "pd.to_datetime(df['order'])"
   ]
  },
  {
   "cell_type": "code",
   "execution_count": 29,
   "id": "e22d438f",
   "metadata": {
    "scrolled": true
   },
   "outputs": [
    {
     "data": {
      "text/html": [
       "<div>\n",
       "<style scoped>\n",
       "    .dataframe tbody tr th:only-of-type {\n",
       "        vertical-align: middle;\n",
       "    }\n",
       "\n",
       "    .dataframe tbody tr th {\n",
       "        vertical-align: top;\n",
       "    }\n",
       "\n",
       "    .dataframe thead th {\n",
       "        text-align: right;\n",
       "    }\n",
       "</style>\n",
       "<table border=\"1\" class=\"dataframe\">\n",
       "  <thead>\n",
       "    <tr style=\"text-align: right;\">\n",
       "      <th></th>\n",
       "      <th>order</th>\n",
       "    </tr>\n",
       "  </thead>\n",
       "  <tbody>\n",
       "    <tr>\n",
       "      <th>0</th>\n",
       "      <td>2020-01-01 07:10:00</td>\n",
       "    </tr>\n",
       "    <tr>\n",
       "      <th>1</th>\n",
       "      <td>2020-01-08 07:20:30</td>\n",
       "    </tr>\n",
       "    <tr>\n",
       "      <th>2</th>\n",
       "      <td>2020-02-20 11:20:00</td>\n",
       "    </tr>\n",
       "    <tr>\n",
       "      <th>3</th>\n",
       "      <td>2020-02-20 14:12:10</td>\n",
       "    </tr>\n",
       "    <tr>\n",
       "      <th>4</th>\n",
       "      <td>2020-03-01 06:19:30</td>\n",
       "    </tr>\n",
       "    <tr>\n",
       "      <th>5</th>\n",
       "      <td>2020-07-08 12:54:15</td>\n",
       "    </tr>\n",
       "  </tbody>\n",
       "</table>\n",
       "</div>"
      ],
      "text/plain": [
       "                order\n",
       "0 2020-01-01 07:10:00\n",
       "1 2020-01-08 07:20:30\n",
       "2 2020-02-20 11:20:00\n",
       "3 2020-02-20 14:12:10\n",
       "4 2020-03-01 06:19:30\n",
       "5 2020-07-08 12:54:15"
      ]
     },
     "execution_count": 29,
     "metadata": {},
     "output_type": "execute_result"
    }
   ],
   "source": [
    "df['order'] = pd.to_datetime(df['order'], format='%Y-%m-%d %H:%M:%S', errors)\n",
    "df"
   ]
  },
  {
   "cell_type": "markdown",
   "id": "22fbf59a",
   "metadata": {},
   "source": [
    "```\n",
    "errors : {'ignore', 'raise', 'coerce'}, default 'raise'\n",
    "    - If :const:`'raise'`, then invalid parsing will raise an exception.\n",
    "    - If :const:`'coerce'`, then invalid parsing will be set as :const:`NaT`.\n",
    "    - If :const:`'ignore'`, then invalid parsing will return the input.\n",
    "```"
   ]
  },
  {
   "cell_type": "code",
   "execution_count": 30,
   "id": "1c513cc8",
   "metadata": {},
   "outputs": [
    {
     "name": "stdout",
     "output_type": "stream",
     "text": [
      "<class 'pandas.core.frame.DataFrame'>\n",
      "RangeIndex: 6 entries, 0 to 5\n",
      "Data columns (total 1 columns):\n",
      " #   Column  Non-Null Count  Dtype         \n",
      "---  ------  --------------  -----         \n",
      " 0   order   6 non-null      datetime64[ns]\n",
      "dtypes: datetime64[ns](1)\n",
      "memory usage: 176.0 bytes\n"
     ]
    }
   ],
   "source": [
    "df.info()"
   ]
  },
  {
   "cell_type": "code",
   "execution_count": null,
   "id": "c1396993",
   "metadata": {},
   "outputs": [],
   "source": []
  },
  {
   "cell_type": "code",
   "execution_count": null,
   "id": "ffda70c4",
   "metadata": {},
   "outputs": [],
   "source": []
  },
  {
   "cell_type": "code",
   "execution_count": null,
   "id": "0ebb10df",
   "metadata": {},
   "outputs": [],
   "source": []
  }
 ],
 "metadata": {
  "kernelspec": {
   "display_name": "Python 3 (ipykernel)",
   "language": "python",
   "name": "python3"
  },
  "language_info": {
   "codemirror_mode": {
    "name": "ipython",
    "version": 3
   },
   "file_extension": ".py",
   "mimetype": "text/x-python",
   "name": "python",
   "nbconvert_exporter": "python",
   "pygments_lexer": "ipython3",
   "version": "3.9.12"
  }
 },
 "nbformat": 4,
 "nbformat_minor": 5
}
